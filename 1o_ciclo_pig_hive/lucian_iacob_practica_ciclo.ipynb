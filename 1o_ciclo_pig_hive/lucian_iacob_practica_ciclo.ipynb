{
 "cells": [
  {
   "cell_type": "code",
   "execution_count": 1,
   "metadata": {},
   "outputs": [],
   "source": [
    "import pandas as pd\n",
    "import numpy as np\n",
    "df = pd.read_csv('multas_semaforos.txt')"
   ]
  },
  {
   "cell_type": "code",
   "execution_count": 2,
   "metadata": {
    "scrolled": false
   },
   "outputs": [
    {
     "data": {
      "text/plain": [
       "0"
      ]
     },
     "execution_count": 2,
     "metadata": {},
     "output_type": "execute_result"
    }
   ],
   "source": [
    "\"\"\" Comprobación de haya filas duplicadas (tenía que comprobarlo aunque dijeras que no había, Juanjo)\"\"\"\n",
    "\n",
    "df.duplicated().sum() "
   ]
  },
  {
   "cell_type": "code",
   "execution_count": 3,
   "metadata": {
    "scrolled": true
   },
   "outputs": [
    {
     "data": {
      "text/plain": [
       "' Creamos un dataframe con las direcciones separándolas por espacios dando lugar hasta 5 columnas'"
      ]
     },
     "execution_count": 3,
     "metadata": {},
     "output_type": "execute_result"
    }
   ],
   "source": [
    "\"\"\" Como en algun query nos pide agrupar por calle, y nosotros tenemos en la direccion tanto la calle como\n",
    "la posicion dentro de esta para indicar una por una cada camara vamos a tener que tratar en detalle esta\n",
    "parte\"\"\"\n",
    "\n",
    "\"\"\" Creamos un dataframe con las direcciones separándolas por espacios dando lugar hasta 5 columnas\"\"\"\n"
   ]
  },
  {
   "cell_type": "code",
   "execution_count": 4,
   "metadata": {},
   "outputs": [
    {
     "data": {
      "text/html": [
       "<div>\n",
       "<style scoped>\n",
       "    .dataframe tbody tr th:only-of-type {\n",
       "        vertical-align: middle;\n",
       "    }\n",
       "\n",
       "    .dataframe tbody tr th {\n",
       "        vertical-align: top;\n",
       "    }\n",
       "\n",
       "    .dataframe thead th {\n",
       "        text-align: right;\n",
       "    }\n",
       "</style>\n",
       "<table border=\"1\" class=\"dataframe\">\n",
       "  <thead>\n",
       "    <tr style=\"text-align: right;\">\n",
       "      <th></th>\n",
       "      <th>0</th>\n",
       "      <th>1</th>\n",
       "      <th>2</th>\n",
       "      <th>3</th>\n",
       "      <th>4</th>\n",
       "      <th>5</th>\n",
       "    </tr>\n",
       "  </thead>\n",
       "  <tbody>\n",
       "    <tr>\n",
       "      <th>0</th>\n",
       "      <td>1900</td>\n",
       "      <td>N</td>\n",
       "      <td>ASHLAND</td>\n",
       "      <td>AVE</td>\n",
       "      <td>None</td>\n",
       "      <td>None</td>\n",
       "    </tr>\n",
       "    <tr>\n",
       "      <th>1</th>\n",
       "      <td>1600</td>\n",
       "      <td>W</td>\n",
       "      <td>CORTLAND</td>\n",
       "      <td>ST</td>\n",
       "      <td>None</td>\n",
       "      <td>None</td>\n",
       "    </tr>\n",
       "    <tr>\n",
       "      <th>2</th>\n",
       "      <td>1900</td>\n",
       "      <td>N</td>\n",
       "      <td>ASHLAND</td>\n",
       "      <td>AVE</td>\n",
       "      <td>None</td>\n",
       "      <td>None</td>\n",
       "    </tr>\n",
       "    <tr>\n",
       "      <th>3</th>\n",
       "      <td>2400</td>\n",
       "      <td>N</td>\n",
       "      <td>KEDZIE</td>\n",
       "      <td>AVE</td>\n",
       "      <td>None</td>\n",
       "      <td>None</td>\n",
       "    </tr>\n",
       "    <tr>\n",
       "      <th>4</th>\n",
       "      <td>848</td>\n",
       "      <td>W</td>\n",
       "      <td>87TH</td>\n",
       "      <td>STREET</td>\n",
       "      <td>None</td>\n",
       "      <td>None</td>\n",
       "    </tr>\n",
       "  </tbody>\n",
       "</table>\n",
       "</div>"
      ],
      "text/plain": [
       "      0  1         2       3     4     5\n",
       "0  1900  N   ASHLAND     AVE  None  None\n",
       "1  1600  W  CORTLAND      ST  None  None\n",
       "2  1900  N   ASHLAND     AVE  None  None\n",
       "3  2400  N    KEDZIE     AVE  None  None\n",
       "4   848  W      87TH  STREET  None  None"
      ]
     },
     "execution_count": 4,
     "metadata": {},
     "output_type": "execute_result"
    }
   ],
   "source": [
    "direcciones = df['direccion_camara'].str.split(expand=True)\n",
    "#direcciones.fillna(value=np.nan,inplace=True)\n",
    "direcciones.head()"
   ]
  },
  {
   "cell_type": "code",
   "execution_count": 5,
   "metadata": {},
   "outputs": [
    {
     "data": {
      "text/plain": [
       "' La idea sería juntar las columnas 0 y 1 para hacer una columna llamada posicion y juntar las columnas \\n2 y 3 para hacer una columna llamada calle, pero tendremos que ver más en detalle esto porque trae problems\\n'"
      ]
     },
     "execution_count": 5,
     "metadata": {},
     "output_type": "execute_result"
    }
   ],
   "source": [
    "\"\"\" La idea sería juntar las columnas 0 y 1 para hacer una columna llamada posicion y juntar las columnas \n",
    "2 y 3 para hacer una columna llamada calle, pero tendremos que ver más en detalle esto porque trae problems\n",
    "\"\"\""
   ]
  },
  {
   "cell_type": "code",
   "execution_count": 6,
   "metadata": {},
   "outputs": [
    {
     "data": {
      "text/html": [
       "<div>\n",
       "<style scoped>\n",
       "    .dataframe tbody tr th:only-of-type {\n",
       "        vertical-align: middle;\n",
       "    }\n",
       "\n",
       "    .dataframe tbody tr th {\n",
       "        vertical-align: top;\n",
       "    }\n",
       "\n",
       "    .dataframe thead th {\n",
       "        text-align: right;\n",
       "    }\n",
       "</style>\n",
       "<table border=\"1\" class=\"dataframe\">\n",
       "  <thead>\n",
       "    <tr style=\"text-align: right;\">\n",
       "      <th></th>\n",
       "      <th>0</th>\n",
       "      <th>1</th>\n",
       "      <th>2</th>\n",
       "      <th>3</th>\n",
       "      <th>4</th>\n",
       "      <th>5</th>\n",
       "    </tr>\n",
       "  </thead>\n",
       "  <tbody>\n",
       "  </tbody>\n",
       "</table>\n",
       "</div>"
      ],
      "text/plain": [
       "Empty DataFrame\n",
       "Columns: [0, 1, 2, 3, 4, 5]\n",
       "Index: []"
      ]
     },
     "execution_count": 6,
     "metadata": {},
     "output_type": "execute_result"
    }
   ],
   "source": [
    "\"\"\" Primero comprobamos si algun valor problemático en las columnas 0 y 1, parece que no\"\"\"\n",
    "direcciones[(direcciones[1].isna()) | (direcciones[0].isna())] "
   ]
  },
  {
   "cell_type": "code",
   "execution_count": 7,
   "metadata": {},
   "outputs": [
    {
     "data": {
      "text/plain": [
       "' Las columnas 2 y 3 nos dan dos problemas, por un lado vemos que hay terminaciones muy parecidas como ST\\ny STREET que seguramente darán situaciones en las que nos referimos a la misma calle pero el programa lo \\ntrataría como calles diferentes.\\n\\nPor otro lado vemos que tenemos muchos None, o sea que no tiene nada. Esto se soluciona más difícil porque habrá\\nque comprobar si se refiere a algo que son dos palabras y le falta la última o si solo es una palabra,\\npara ello tendremos que usar la columna 2'"
      ]
     },
     "execution_count": 7,
     "metadata": {},
     "output_type": "execute_result"
    }
   ],
   "source": [
    "\"\"\" Las columnas 2 y 3 nos dan dos problemas, por un lado vemos que hay terminaciones muy parecidas como ST\n",
    "y STREET que seguramente darán situaciones en las que nos referimos a la misma calle pero el programa lo \n",
    "trataría como calles diferentes.\n",
    "\n",
    "Por otro lado vemos que tenemos muchos None, o sea que no tiene nada. Esto se soluciona más difícil porque\n",
    "habrá que comprobar si se refiere a algo que solo son dos palabras o si está incompleto y le faltan las \n",
    "últimas columna o si solo es una palabra, para ello tendremos que usar la columna 2\"\"\""
   ]
  },
  {
   "cell_type": "code",
   "execution_count": 8,
   "metadata": {},
   "outputs": [
    {
     "data": {
      "text/plain": [
       "' Solución del primer problema, este casi prefiero ir a mano ya que no es tan largo '"
      ]
     },
     "execution_count": 8,
     "metadata": {},
     "output_type": "execute_result"
    }
   ],
   "source": [
    "\"\"\" Solución del primer problema, este casi prefiero ir a mano ya que no es tan largo \"\"\""
   ]
  },
  {
   "cell_type": "code",
   "execution_count": 10,
   "metadata": {
    "scrolled": true
   },
   "outputs": [
    {
     "name": "stdout",
     "output_type": "stream",
     "text": [
      "['AVE' 'ST' 'STREET' None 'AVENUE' 'RD' 'PK' 'GROVE' 'BLVD' 'CHICAGO'\n",
      " 'ISLAND' 'AVENU' 'ROAD' 'DRIVE' 'AVEN' 'BUREN' 'STREE' 'MARTIN' 'DRIV'\n",
      " 'PARKWAY' 'PARK' 'BOULEVARD' 'BOUL' 'BOULEV' 'PARKWA']\n",
      "['AVENUE' 'STREET' None 'ROAD' 'PARKWAY' 'GROVE' 'BOULEVARD' 'CHICAGO'\n",
      " 'ISLAND' 'DRIVE' 'BUREN' 'MARTIN']\n"
     ]
    }
   ],
   "source": [
    "print(pd.unique(direcciones[3]))\n",
    "direcciones.loc[direcciones[3] == 'ST',3] = 'STREET'\n",
    "direcciones.loc[direcciones[3] == 'STREE',3] = 'STREET'\n",
    "direcciones.loc[direcciones[3] == 'AVE',3] = 'AVENUE'\n",
    "direcciones.loc[direcciones[3] == 'AVEN',3] = 'AVENUE'\n",
    "direcciones.loc[direcciones[3] == 'AVENU',3] = 'AVENUE'\n",
    "direcciones.loc[direcciones[3] == 'AVENUE',3] = 'AVENUE'\n",
    "direcciones.loc[direcciones[3] == 'BLVD',3] = 'BOULEVARD'\n",
    "direcciones.loc[direcciones[3] == 'BOUL',3] = 'BOULEVARD'\n",
    "direcciones.loc[direcciones[3] == 'BOULEV',3] = 'BOULEVARD'\n",
    "direcciones.loc[direcciones[3] == 'RD',3] = 'ROAD'\n",
    "direcciones.loc[direcciones[3] == 'PK',3] = 'PARKWAY'\n",
    "direcciones.loc[direcciones[3] == 'PARK',3] = 'PARKWAY'\n",
    "direcciones.loc[direcciones[3] == 'PARKWA',3] = 'PARKWAY'\n",
    "direcciones.loc[direcciones[3] == 'DRIV',3] = 'DRIVE'\n",
    "print(pd.unique(direcciones[3]))"
   ]
  },
  {
   "cell_type": "code",
   "execution_count": 12,
   "metadata": {},
   "outputs": [
    {
     "name": "stdout",
     "output_type": "stream",
     "text": [
      "[None 'AVE' 'A' 'STREE' 'L' 'ROAD' 'ROA' 'AV' 'RD']\n",
      "[None 'AVENUE' 'STREET' 'L' 'ROAD']\n"
     ]
    }
   ],
   "source": [
    "print(pd.unique(direcciones[4]))\n",
    "direcciones.loc[direcciones[4] == 'STREE',4] = 'STREET'\n",
    "direcciones.loc[direcciones[4] == 'AVE',4] = 'AVENUE'\n",
    "direcciones.loc[direcciones[4] == 'AV',4] = 'AVENUE'\n",
    "direcciones.loc[direcciones[4] == 'A',4] = 'AVENUE'\n",
    "direcciones.loc[direcciones[4] == 'ROA',4] = 'ROAD'\n",
    "direcciones.loc[direcciones[4] == 'RD',4] = 'ROAD'\n",
    "print(pd.unique(direcciones[4]))"
   ]
  },
  {
   "cell_type": "code",
   "execution_count": 13,
   "metadata": {
    "scrolled": true
   },
   "outputs": [
    {
     "data": {
      "text/plain": [
       "' Solucionado en la columna 4, nos queda ver la 5, que podemos ver que está decente '"
      ]
     },
     "execution_count": 13,
     "metadata": {},
     "output_type": "execute_result"
    }
   ],
   "source": [
    "\"\"\" Solucionado en la columna 4, nos queda ver la 5, que podemos ver que está decente \"\"\""
   ]
  },
  {
   "cell_type": "code",
   "execution_count": 14,
   "metadata": {},
   "outputs": [
    {
     "data": {
      "text/plain": [
       "array([None, 'KING'], dtype=object)"
      ]
     },
     "execution_count": 14,
     "metadata": {},
     "output_type": "execute_result"
    }
   ],
   "source": [
    "pd.unique(direcciones[5])"
   ]
  },
  {
   "cell_type": "code",
   "execution_count": 15,
   "metadata": {},
   "outputs": [
    {
     "data": {
      "text/plain": [
       "' Ahora toca solucionar problemas de falta de palabras. Primero miro aquellas filas en las que la calle\\nestá formada por una sola palabra (e.g. MADISON EN VEZ DE MADISON STREET) para comparar con filas en las \\nque sí está completo y poder rellenar correctamente'"
      ]
     },
     "execution_count": 15,
     "metadata": {},
     "output_type": "execute_result"
    }
   ],
   "source": [
    "\"\"\" Ahora toca solucionar problemas de falta de palabras. Primero miro aquellas filas en las que la calle\n",
    "está formada por una sola palabra (e.g. MADISON EN VEZ DE MADISON STREET) para comparar con filas en las \n",
    "que sí está completo y poder rellenar correctamente\"\"\""
   ]
  },
  {
   "cell_type": "code",
   "execution_count": 16,
   "metadata": {
    "scrolled": false
   },
   "outputs": [
    {
     "data": {
      "text/plain": [
       "array(['DIVISION', 'HALSTED', 'MADISON', 'CALIFORNIA', '35TH', 'NORTH',\n",
       "       'PULASKI', '71ST', 'BELMONT', 'VINCENNES', 'PETERSON', 'ASHLAND',\n",
       "       'DIVERSEY', 'LASALLE', 'KOSTNER', 'NAGLE', 'CERMAK', '31ST',\n",
       "       'NARRAGANSETT', 'ROOSEVELT', 'WESTERN', 'KINZIE', 'FOSTER',\n",
       "       'ADDISON'], dtype=object)"
      ]
     },
     "execution_count": 16,
     "metadata": {},
     "output_type": "execute_result"
    }
   ],
   "source": [
    "incompleto = pd.unique(direcciones[direcciones[3].isna()][2])\n",
    "incompleto"
   ]
  },
  {
   "cell_type": "code",
   "execution_count": 18,
   "metadata": {},
   "outputs": [
    {
     "data": {
      "text/plain": [
       "' Bueno pues se ve en la lista que muchas se rellenan fácil con avenue, road o street y otras con nada.\\nPero hay una que se puede rellenar con 2, WESTERN AVENUE o WESTERN BOULEVARD (bieeeen). He buscado en maps\\n(menos mal que leí que el artículo era de Chicago) y son dos calles paralelas igual de largas más o menos,\\nasí que creo que lo más justo sería rellenar la mitad de los WESTERN con WESTERN AVENUE y la otra mitad con\\nWESTERN BOULEVARD ya solo por rizar el rizo. Con DIVERSEY ocurre algo parecido así que haré lo mismo.\\n\\nCon PULASKI también pero de las 113000 no vacías 109000 van con ROAD así  que las añado a ROAD'"
      ]
     },
     "execution_count": 18,
     "metadata": {},
     "output_type": "execute_result"
    }
   ],
   "source": [
    "\"\"\" Bueno pues se ve en la lista que muchas se rellenan fácil con avenue, road o street y otras con nada.\n",
    "Pero hay una que se puede rellenar con 2, WESTERN AVENUE o WESTERN BOULEVARD (bieeeen). He buscado en maps\n",
    "(menos mal que leí que el artículo era de Chicago) y son dos calles paralelas igual de largas más o menos,\n",
    "así que creo que lo más justo sería rellenar la mitad de los WESTERN con WESTERN AVENUE y la otra mitad con\n",
    "WESTERN BOULEVARD ya solo por rizar el rizo. Con DIVERSEY ocurre algo parecido así que haré lo mismo.\n",
    "\n",
    "Con PULASKI también pero de las 113000 no vacías 109000 van con ROAD así que las añado a ROAD\"\"\""
   ]
  },
  {
   "cell_type": "code",
   "execution_count": 19,
   "metadata": {},
   "outputs": [
    {
     "data": {
      "text/plain": [
       "' Sé que es muy cutre pero lo voy a hacer a mano una a una porque da bastantes fallos raros y estoy \\nhaciendo cambios directos al dataframe. Además, hay algunas localizaciones formadas por una palabra que\\nvoy a rellenar a mano buscando en maps los que son como Nagle, o 35TH que esa pide claramente STREET y no\\nlo tiene'"
      ]
     },
     "execution_count": 19,
     "metadata": {},
     "output_type": "execute_result"
    }
   ],
   "source": [
    "\"\"\" Sé que es muy cutre pero lo voy a hacer a mano una a una porque da bastantes fallos raros y estoy \n",
    "haciendo cambios directos al dataframe. Además, hay algunas localizaciones formadas por una palabra que\n",
    "voy a rellenar a mano buscando en maps los que son como Nagle, o 35TH que esa pide claramente STREET y no\n",
    "lo tiene\"\"\""
   ]
  },
  {
   "cell_type": "code",
   "execution_count": 20,
   "metadata": {},
   "outputs": [],
   "source": [
    "direcciones.loc[(direcciones[2]=='DIVISION') & (direcciones[3].isna()),3] = 'STREET'\n",
    "direcciones.loc[(direcciones[2]=='HALSTED') & (direcciones[3].isna()),3] = 'STREET'\n",
    "direcciones.loc[(direcciones[2]=='MADISON') & (direcciones[3].isna()),3] = 'STREET'\n",
    "direcciones.loc[(direcciones[2]=='CALIFORNIA') & (direcciones[3].isna()),3] = 'AVENUE'\n",
    "direcciones.loc[(direcciones[2]=='35TH') & (direcciones[3].isna()),3] = 'STREET'\n",
    "direcciones.loc[(direcciones[2]=='NORTH') & (direcciones[3].isna()),3] = 'AVENUE'\n",
    "direcciones.loc[(direcciones[2]=='PULASKI') & (direcciones[3].isna()),3] = 'ROAD'\n",
    "direcciones.loc[(direcciones[2]=='71ST') & (direcciones[3].isna()),3] = 'STREET'\n",
    "direcciones.loc[(direcciones[2]=='BELMONT') & (direcciones[3].isna()),3] = 'AVENUE'\n",
    "direcciones.loc[(direcciones[2]=='VINCENNES') & (direcciones[3].isna()),3] = 'AVENUE'\n",
    "direcciones.loc[(direcciones[2]=='PETERSON') & (direcciones[3].isna()),3] ='AVENUE'\n",
    "direcciones.loc[(direcciones[2]=='ASHLAND') & (direcciones[3].isna()),3] = 'AVENUE'\n",
    "direcciones.loc[(direcciones[2]=='LASALLE') & (direcciones[3].isna()),3] = 'STREET'\n",
    "direcciones.loc[(direcciones[2]=='KOSTNER') & (direcciones[3].isna()),3] = 'AVENUE'\n",
    "direcciones.loc[(direcciones[2]=='NAGLE') & (direcciones[3].isna()),3] = 'AVENUE'\n",
    "direcciones.loc[(direcciones[2]=='CERMAK') & (direcciones[3].isna()),3] = 'ROAD'\n",
    "direcciones.loc[(direcciones[2]=='31ST') & (direcciones[3].isna()),3] = 'STREET'\n",
    "direcciones.loc[(direcciones[2]=='NARRAGANSETT') & (direcciones[3].isna()),3] = 'AVENUE'\n",
    "direcciones.loc[(direcciones[2]=='ROOSEVELT') & (direcciones[3].isna()),3] = 'ROAD'\n",
    "direcciones.loc[(direcciones[2]=='KINZIE') & (direcciones[3].isna()),3] = 'STREET'\n",
    "direcciones.loc[(direcciones[2]=='FOSTER') & (direcciones[3].isna()),3] = 'AVENUE'\n",
    "direcciones.loc[(direcciones[2]=='ADDISON') & (direcciones[3].isna()),3] = 'STREET'"
   ]
  },
  {
   "cell_type": "code",
   "execution_count": 21,
   "metadata": {},
   "outputs": [
    {
     "data": {
      "text/plain": [
       "' Veamos que hacer con las dos especiales qe hay que repartir a la mitad. Primero encuentro sus posiciones\\nen la dataframe'"
      ]
     },
     "execution_count": 21,
     "metadata": {},
     "output_type": "execute_result"
    }
   ],
   "source": [
    "\"\"\" Veamos que hacer con las dos especiales qe hay que repartir a la mitad. Primero encuentro sus posiciones\n",
    "en la dataframe\"\"\""
   ]
  },
  {
   "cell_type": "code",
   "execution_count": 22,
   "metadata": {},
   "outputs": [],
   "source": [
    "indice_div = direcciones.loc[(direcciones[2]=='DIVERSEY') & (direcciones[3].isna()),3].index\n",
    "indice_wes = direcciones.loc[(direcciones[2]=='WESTERN') & (direcciones[3].isna()),3].index"
   ]
  },
  {
   "cell_type": "code",
   "execution_count": 23,
   "metadata": {},
   "outputs": [],
   "source": [
    "direcciones.iloc[indice_div[:int(len(indice_div)/2)],3] = 'PARKWAY'\n",
    "direcciones.iloc[indice_div[int(len(indice_div)/2):],3] = 'AVENUE'\n",
    "direcciones.iloc[indice_wes[int(len(indice_wes)/2):],3] = 'AVENUE'\n",
    "direcciones.iloc[indice_wes[:int(len(indice_wes)/2)],3] = 'BOULEVARD'"
   ]
  },
  {
   "cell_type": "code",
   "execution_count": 24,
   "metadata": {},
   "outputs": [
    {
     "data": {
      "text/plain": [
       "' Todo este relleno se ha hecho sabiendo lo que toca por líneas de código que he borrado, no considero \\nnecesario mostrar esa parte pero aseguro que no se ha rellenado al azar. Podemos ver que ya no hay valores\\nvacíos en la columna 2, hemos completado bien los nombres (al menos eso creo)'"
      ]
     },
     "execution_count": 24,
     "metadata": {},
     "output_type": "execute_result"
    }
   ],
   "source": [
    "\"\"\" Todo este relleno se ha hecho sabiendo lo que toca por líneas de código que he borrado, no considero \n",
    "necesario mostrar esa parte pero aseguro que no se ha rellenado al azar. Podemos ver que ya no hay valores\n",
    "vacíos en la columna 2, hemos completado bien los nombres (al menos eso creo)\"\"\""
   ]
  },
  {
   "cell_type": "code",
   "execution_count": 25,
   "metadata": {
    "scrolled": true
   },
   "outputs": [
    {
     "data": {
      "text/plain": [
       "array([], dtype=object)"
      ]
     },
     "execution_count": 25,
     "metadata": {},
     "output_type": "execute_result"
    }
   ],
   "source": [
    "pd.unique(direcciones[direcciones[3].isna()][2])"
   ]
  },
  {
   "cell_type": "code",
   "execution_count": 26,
   "metadata": {},
   "outputs": [
    {
     "data": {
      "text/plain": [
       "' Ahora toca crear las columnas bien a partir de los datos correctos. Creamos un dataframe aparte para \\ntenerlo todo bien localizado. Primero creamos una columna que es la posición en la calle a partir de las\\ncolumnas 0 y 1 y luego una segunda columna que será la calle a partir de las columnas 2, 3, 4 y 5'"
      ]
     },
     "execution_count": 26,
     "metadata": {},
     "output_type": "execute_result"
    }
   ],
   "source": [
    "\"\"\" Ahora toca crear las columnas bien a partir de los datos correctos. Creamos un dataframe aparte para \n",
    "tenerlo todo bien localizado. Primero creamos una columna que es la posición en la calle a partir de las\n",
    "columnas 0 y 1 y luego una segunda columna que será la calle a partir de las columnas 2, 3, 4 y 5\"\"\""
   ]
  },
  {
   "cell_type": "code",
   "execution_count": 27,
   "metadata": {},
   "outputs": [],
   "source": [
    "direcciones_bien = pd.DataFrame()"
   ]
  },
  {
   "cell_type": "code",
   "execution_count": 28,
   "metadata": {
    "scrolled": true
   },
   "outputs": [],
   "source": [
    "direcciones_bien[\"posicion\"] = direcciones[0]+ \" \" + direcciones[1]"
   ]
  },
  {
   "cell_type": "code",
   "execution_count": 29,
   "metadata": {},
   "outputs": [
    {
     "data": {
      "text/plain": [
       "' Ahora toca crear una segunda columna con el nombre de la calle'"
      ]
     },
     "execution_count": 29,
     "metadata": {},
     "output_type": "execute_result"
    }
   ],
   "source": [
    "\"\"\" Ahora toca crear una segunda columna con el nombre de la calle\"\"\""
   ]
  },
  {
   "cell_type": "code",
   "execution_count": 30,
   "metadata": {},
   "outputs": [],
   "source": [
    "direcciones_bien[\"calle\"] = direcciones[2] + (' ' + direcciones[3]).fillna('') + \\\n",
    "                            (' ' + direcciones[4]).fillna('') + (' ' + direcciones[5]).fillna('') "
   ]
  },
  {
   "cell_type": "code",
   "execution_count": 31,
   "metadata": {
    "scrolled": true
   },
   "outputs": [
    {
     "data": {
      "text/html": [
       "<div>\n",
       "<style scoped>\n",
       "    .dataframe tbody tr th:only-of-type {\n",
       "        vertical-align: middle;\n",
       "    }\n",
       "\n",
       "    .dataframe tbody tr th {\n",
       "        vertical-align: top;\n",
       "    }\n",
       "\n",
       "    .dataframe thead th {\n",
       "        text-align: right;\n",
       "    }\n",
       "</style>\n",
       "<table border=\"1\" class=\"dataframe\">\n",
       "  <thead>\n",
       "    <tr style=\"text-align: right;\">\n",
       "      <th></th>\n",
       "      <th>posicion</th>\n",
       "      <th>calle</th>\n",
       "    </tr>\n",
       "  </thead>\n",
       "  <tbody>\n",
       "    <tr>\n",
       "      <th>0</th>\n",
       "      <td>1900 N</td>\n",
       "      <td>ASHLAND AVENUE</td>\n",
       "    </tr>\n",
       "    <tr>\n",
       "      <th>1</th>\n",
       "      <td>1600 W</td>\n",
       "      <td>CORTLAND STREET</td>\n",
       "    </tr>\n",
       "    <tr>\n",
       "      <th>2</th>\n",
       "      <td>1900 N</td>\n",
       "      <td>ASHLAND AVENUE</td>\n",
       "    </tr>\n",
       "    <tr>\n",
       "      <th>3</th>\n",
       "      <td>2400 N</td>\n",
       "      <td>KEDZIE AVENUE</td>\n",
       "    </tr>\n",
       "    <tr>\n",
       "      <th>4</th>\n",
       "      <td>848 W</td>\n",
       "      <td>87TH STREET</td>\n",
       "    </tr>\n",
       "    <tr>\n",
       "      <th>...</th>\n",
       "      <td>...</td>\n",
       "      <td>...</td>\n",
       "    </tr>\n",
       "    <tr>\n",
       "      <th>4174765</th>\n",
       "      <td>2000 W</td>\n",
       "      <td>DIVISION STREET</td>\n",
       "    </tr>\n",
       "    <tr>\n",
       "      <th>4174766</th>\n",
       "      <td>9900 S</td>\n",
       "      <td>HALSTED STREET</td>\n",
       "    </tr>\n",
       "    <tr>\n",
       "      <th>4174767</th>\n",
       "      <td>5500 S</td>\n",
       "      <td>PULASKI ROAD</td>\n",
       "    </tr>\n",
       "    <tr>\n",
       "      <th>4174768</th>\n",
       "      <td>2400 N</td>\n",
       "      <td>ASHLAND AVENUE</td>\n",
       "    </tr>\n",
       "    <tr>\n",
       "      <th>4174769</th>\n",
       "      <td>6400 W</td>\n",
       "      <td>IRVING PARKWAY</td>\n",
       "    </tr>\n",
       "  </tbody>\n",
       "</table>\n",
       "<p>4174770 rows × 2 columns</p>\n",
       "</div>"
      ],
      "text/plain": [
       "        posicion            calle\n",
       "0         1900 N   ASHLAND AVENUE\n",
       "1         1600 W  CORTLAND STREET\n",
       "2         1900 N   ASHLAND AVENUE\n",
       "3         2400 N    KEDZIE AVENUE\n",
       "4          848 W      87TH STREET\n",
       "...          ...              ...\n",
       "4174765   2000 W  DIVISION STREET\n",
       "4174766   9900 S   HALSTED STREET\n",
       "4174767   5500 S     PULASKI ROAD\n",
       "4174768   2400 N   ASHLAND AVENUE\n",
       "4174769   6400 W   IRVING PARKWAY\n",
       "\n",
       "[4174770 rows x 2 columns]"
      ]
     },
     "execution_count": 31,
     "metadata": {},
     "output_type": "execute_result"
    }
   ],
   "source": [
    "direcciones_bien"
   ]
  },
  {
   "cell_type": "code",
   "execution_count": 32,
   "metadata": {},
   "outputs": [
    {
     "data": {
      "text/html": [
       "<div>\n",
       "<style scoped>\n",
       "    .dataframe tbody tr th:only-of-type {\n",
       "        vertical-align: middle;\n",
       "    }\n",
       "\n",
       "    .dataframe tbody tr th {\n",
       "        vertical-align: top;\n",
       "    }\n",
       "\n",
       "    .dataframe thead th {\n",
       "        text-align: right;\n",
       "    }\n",
       "</style>\n",
       "<table border=\"1\" class=\"dataframe\">\n",
       "  <thead>\n",
       "    <tr style=\"text-align: right;\">\n",
       "      <th></th>\n",
       "      <th>multa_id</th>\n",
       "      <th>fecha_hora</th>\n",
       "      <th>matricula</th>\n",
       "      <th>tipo_placa</th>\n",
       "      <th>estado_placa</th>\n",
       "      <th>direccion_camara</th>\n",
       "    </tr>\n",
       "  </thead>\n",
       "  <tbody>\n",
       "    <tr>\n",
       "      <th>0</th>\n",
       "      <td>7000634986</td>\n",
       "      <td>2007-01-01 00:02:00</td>\n",
       "      <td>Y301669</td>\n",
       "      <td>PAS</td>\n",
       "      <td>IL</td>\n",
       "      <td>1900 N ASHLAND AVE</td>\n",
       "    </tr>\n",
       "    <tr>\n",
       "      <th>1</th>\n",
       "      <td>7000634946</td>\n",
       "      <td>2007-01-01 00:03:00</td>\n",
       "      <td>4703TX</td>\n",
       "      <td>TXI</td>\n",
       "      <td>IL</td>\n",
       "      <td>1600 W CORTLAND ST</td>\n",
       "    </tr>\n",
       "    <tr>\n",
       "      <th>2</th>\n",
       "      <td>7000634987</td>\n",
       "      <td>2007-01-01 00:14:00</td>\n",
       "      <td>9125630</td>\n",
       "      <td>PAS</td>\n",
       "      <td>IL</td>\n",
       "      <td>1900 N ASHLAND AVE</td>\n",
       "    </tr>\n",
       "    <tr>\n",
       "      <th>3</th>\n",
       "      <td>7000634926</td>\n",
       "      <td>2007-01-01 00:30:00</td>\n",
       "      <td>220H070</td>\n",
       "      <td>TMP</td>\n",
       "      <td>IL</td>\n",
       "      <td>2400 N KEDZIE AVE</td>\n",
       "    </tr>\n",
       "    <tr>\n",
       "      <th>4</th>\n",
       "      <td>7000635682</td>\n",
       "      <td>2007-01-01 00:43:00</td>\n",
       "      <td>4875778</td>\n",
       "      <td>PAS</td>\n",
       "      <td>IL</td>\n",
       "      <td>848 W 87TH STREET</td>\n",
       "    </tr>\n",
       "  </tbody>\n",
       "</table>\n",
       "</div>"
      ],
      "text/plain": [
       "     multa_id           fecha_hora matricula tipo_placa estado_placa  \\\n",
       "0  7000634986  2007-01-01 00:02:00   Y301669        PAS           IL   \n",
       "1  7000634946  2007-01-01 00:03:00    4703TX        TXI           IL   \n",
       "2  7000634987  2007-01-01 00:14:00   9125630        PAS           IL   \n",
       "3  7000634926  2007-01-01 00:30:00   220H070        TMP           IL   \n",
       "4  7000635682  2007-01-01 00:43:00   4875778        PAS           IL   \n",
       "\n",
       "     direccion_camara  \n",
       "0  1900 N ASHLAND AVE  \n",
       "1  1600 W CORTLAND ST  \n",
       "2  1900 N ASHLAND AVE  \n",
       "3   2400 N KEDZIE AVE  \n",
       "4   848 W 87TH STREET  "
      ]
     },
     "execution_count": 32,
     "metadata": {},
     "output_type": "execute_result"
    }
   ],
   "source": [
    "df.head()"
   ]
  },
  {
   "cell_type": "code",
   "execution_count": 33,
   "metadata": {},
   "outputs": [
    {
     "data": {
      "text/plain": [
       "' Pues ya parece estar todo medio solucionado con las direcciones, pasemos a mirar otras cosas'"
      ]
     },
     "execution_count": 33,
     "metadata": {},
     "output_type": "execute_result"
    }
   ],
   "source": [
    "\"\"\" Pues ya parece estar todo medio solucionado con las direcciones, pasemos a mirar otras cosas\"\"\""
   ]
  },
  {
   "cell_type": "code",
   "execution_count": 34,
   "metadata": {},
   "outputs": [],
   "source": [
    "\"\"\" La columna de fecha_hora la cambio al formato datetime para trabajar con ella mejor\"\"\"\n",
    "\n",
    "df['fecha_hora'] = pd.to_datetime(df['fecha_hora'])"
   ]
  },
  {
   "cell_type": "code",
   "execution_count": 35,
   "metadata": {},
   "outputs": [],
   "source": [
    "\"\"\" Creo dos nuevas columnas, fecha y hora por separado ya que toca hacer alguna clasificación\n",
    "    por días y es mejor tenerlo separado\"\"\"\n",
    "\n",
    "df['fecha'] = [d.date() for d in df['fecha_hora']]\n",
    "df['hora'] = [d.time() for d in df['fecha_hora']]"
   ]
  },
  {
   "cell_type": "code",
   "execution_count": 36,
   "metadata": {},
   "outputs": [
    {
     "data": {
      "text/html": [
       "<div>\n",
       "<style scoped>\n",
       "    .dataframe tbody tr th:only-of-type {\n",
       "        vertical-align: middle;\n",
       "    }\n",
       "\n",
       "    .dataframe tbody tr th {\n",
       "        vertical-align: top;\n",
       "    }\n",
       "\n",
       "    .dataframe thead th {\n",
       "        text-align: right;\n",
       "    }\n",
       "</style>\n",
       "<table border=\"1\" class=\"dataframe\">\n",
       "  <thead>\n",
       "    <tr style=\"text-align: right;\">\n",
       "      <th></th>\n",
       "      <th>multa_id</th>\n",
       "      <th>fecha_hora</th>\n",
       "      <th>matricula</th>\n",
       "      <th>tipo_placa</th>\n",
       "      <th>estado_placa</th>\n",
       "      <th>direccion_camara</th>\n",
       "      <th>fecha</th>\n",
       "      <th>hora</th>\n",
       "      <th>posicion</th>\n",
       "      <th>calle</th>\n",
       "    </tr>\n",
       "  </thead>\n",
       "  <tbody>\n",
       "    <tr>\n",
       "      <th>0</th>\n",
       "      <td>7000634986</td>\n",
       "      <td>2007-01-01 00:02:00</td>\n",
       "      <td>Y301669</td>\n",
       "      <td>PAS</td>\n",
       "      <td>IL</td>\n",
       "      <td>1900 N ASHLAND AVE</td>\n",
       "      <td>2007-01-01</td>\n",
       "      <td>00:02:00</td>\n",
       "      <td>1900 N</td>\n",
       "      <td>ASHLAND AVENUE</td>\n",
       "    </tr>\n",
       "    <tr>\n",
       "      <th>1</th>\n",
       "      <td>7000634946</td>\n",
       "      <td>2007-01-01 00:03:00</td>\n",
       "      <td>4703TX</td>\n",
       "      <td>TXI</td>\n",
       "      <td>IL</td>\n",
       "      <td>1600 W CORTLAND ST</td>\n",
       "      <td>2007-01-01</td>\n",
       "      <td>00:03:00</td>\n",
       "      <td>1600 W</td>\n",
       "      <td>CORTLAND STREET</td>\n",
       "    </tr>\n",
       "    <tr>\n",
       "      <th>2</th>\n",
       "      <td>7000634987</td>\n",
       "      <td>2007-01-01 00:14:00</td>\n",
       "      <td>9125630</td>\n",
       "      <td>PAS</td>\n",
       "      <td>IL</td>\n",
       "      <td>1900 N ASHLAND AVE</td>\n",
       "      <td>2007-01-01</td>\n",
       "      <td>00:14:00</td>\n",
       "      <td>1900 N</td>\n",
       "      <td>ASHLAND AVENUE</td>\n",
       "    </tr>\n",
       "    <tr>\n",
       "      <th>3</th>\n",
       "      <td>7000634926</td>\n",
       "      <td>2007-01-01 00:30:00</td>\n",
       "      <td>220H070</td>\n",
       "      <td>TMP</td>\n",
       "      <td>IL</td>\n",
       "      <td>2400 N KEDZIE AVE</td>\n",
       "      <td>2007-01-01</td>\n",
       "      <td>00:30:00</td>\n",
       "      <td>2400 N</td>\n",
       "      <td>KEDZIE AVENUE</td>\n",
       "    </tr>\n",
       "    <tr>\n",
       "      <th>4</th>\n",
       "      <td>7000635682</td>\n",
       "      <td>2007-01-01 00:43:00</td>\n",
       "      <td>4875778</td>\n",
       "      <td>PAS</td>\n",
       "      <td>IL</td>\n",
       "      <td>848 W 87TH STREET</td>\n",
       "      <td>2007-01-01</td>\n",
       "      <td>00:43:00</td>\n",
       "      <td>848 W</td>\n",
       "      <td>87TH STREET</td>\n",
       "    </tr>\n",
       "  </tbody>\n",
       "</table>\n",
       "</div>"
      ],
      "text/plain": [
       "     multa_id          fecha_hora matricula tipo_placa estado_placa  \\\n",
       "0  7000634986 2007-01-01 00:02:00   Y301669        PAS           IL   \n",
       "1  7000634946 2007-01-01 00:03:00    4703TX        TXI           IL   \n",
       "2  7000634987 2007-01-01 00:14:00   9125630        PAS           IL   \n",
       "3  7000634926 2007-01-01 00:30:00   220H070        TMP           IL   \n",
       "4  7000635682 2007-01-01 00:43:00   4875778        PAS           IL   \n",
       "\n",
       "     direccion_camara       fecha      hora posicion            calle  \n",
       "0  1900 N ASHLAND AVE  2007-01-01  00:02:00   1900 N   ASHLAND AVENUE  \n",
       "1  1600 W CORTLAND ST  2007-01-01  00:03:00   1600 W  CORTLAND STREET  \n",
       "2  1900 N ASHLAND AVE  2007-01-01  00:14:00   1900 N   ASHLAND AVENUE  \n",
       "3   2400 N KEDZIE AVE  2007-01-01  00:30:00   2400 N    KEDZIE AVENUE  \n",
       "4   848 W 87TH STREET  2007-01-01  00:43:00    848 W      87TH STREET  "
      ]
     },
     "execution_count": 36,
     "metadata": {},
     "output_type": "execute_result"
    }
   ],
   "source": [
    "df[\"posicion\"] = direcciones_bien[\"posicion\"]\n",
    "df[\"calle\"] = direcciones_bien[\"calle\"]\n",
    "df.head()"
   ]
  },
  {
   "cell_type": "code",
   "execution_count": 37,
   "metadata": {},
   "outputs": [
    {
     "data": {
      "text/html": [
       "<div>\n",
       "<style scoped>\n",
       "    .dataframe tbody tr th:only-of-type {\n",
       "        vertical-align: middle;\n",
       "    }\n",
       "\n",
       "    .dataframe tbody tr th {\n",
       "        vertical-align: top;\n",
       "    }\n",
       "\n",
       "    .dataframe thead th {\n",
       "        text-align: right;\n",
       "    }\n",
       "</style>\n",
       "<table border=\"1\" class=\"dataframe\">\n",
       "  <thead>\n",
       "    <tr style=\"text-align: right;\">\n",
       "      <th></th>\n",
       "      <th>matricula</th>\n",
       "      <th>fecha</th>\n",
       "      <th>hora</th>\n",
       "      <th>posicion</th>\n",
       "      <th>calle</th>\n",
       "    </tr>\n",
       "  </thead>\n",
       "  <tbody>\n",
       "    <tr>\n",
       "      <th>0</th>\n",
       "      <td>Y301669</td>\n",
       "      <td>2007-01-01</td>\n",
       "      <td>00:02:00</td>\n",
       "      <td>1900 N</td>\n",
       "      <td>ASHLAND AVENUE</td>\n",
       "    </tr>\n",
       "    <tr>\n",
       "      <th>1</th>\n",
       "      <td>4703TX</td>\n",
       "      <td>2007-01-01</td>\n",
       "      <td>00:03:00</td>\n",
       "      <td>1600 W</td>\n",
       "      <td>CORTLAND STREET</td>\n",
       "    </tr>\n",
       "    <tr>\n",
       "      <th>2</th>\n",
       "      <td>9125630</td>\n",
       "      <td>2007-01-01</td>\n",
       "      <td>00:14:00</td>\n",
       "      <td>1900 N</td>\n",
       "      <td>ASHLAND AVENUE</td>\n",
       "    </tr>\n",
       "    <tr>\n",
       "      <th>3</th>\n",
       "      <td>220H070</td>\n",
       "      <td>2007-01-01</td>\n",
       "      <td>00:30:00</td>\n",
       "      <td>2400 N</td>\n",
       "      <td>KEDZIE AVENUE</td>\n",
       "    </tr>\n",
       "    <tr>\n",
       "      <th>4</th>\n",
       "      <td>4875778</td>\n",
       "      <td>2007-01-01</td>\n",
       "      <td>00:43:00</td>\n",
       "      <td>848 W</td>\n",
       "      <td>87TH STREET</td>\n",
       "    </tr>\n",
       "  </tbody>\n",
       "</table>\n",
       "</div>"
      ],
      "text/plain": [
       "  matricula       fecha      hora posicion            calle\n",
       "0   Y301669  2007-01-01  00:02:00   1900 N   ASHLAND AVENUE\n",
       "1    4703TX  2007-01-01  00:03:00   1600 W  CORTLAND STREET\n",
       "2   9125630  2007-01-01  00:14:00   1900 N   ASHLAND AVENUE\n",
       "3   220H070  2007-01-01  00:30:00   2400 N    KEDZIE AVENUE\n",
       "4   4875778  2007-01-01  00:43:00    848 W      87TH STREET"
      ]
     },
     "execution_count": 37,
     "metadata": {},
     "output_type": "execute_result"
    }
   ],
   "source": [
    "\"\"\" Selecciono solo las columnas útiles para hacer más fácil la query. He quitado también\n",
    "    la ID de las multas porque ya nos hemos cerciorado que no hay duplicados y porque no se nos \n",
    "    pide identificar una multa determinada en ningún momento\"\"\"\n",
    "\n",
    "final_df = df[['matricula','fecha','hora','posicion','calle',]]\n",
    "final_df.head()"
   ]
  },
  {
   "cell_type": "code",
   "execution_count": null,
   "metadata": {},
   "outputs": [],
   "source": [
    "\"\"\" Ya tenemos unos datos decentes y con las columnas que vamos a utilizar, sin información de más y la que\n",
    "hay nos hemos asegurados de que sea la correcta\"\"\""
   ]
  },
  {
   "cell_type": "code",
   "execution_count": 70,
   "metadata": {},
   "outputs": [],
   "source": [
    "\"\"\" Por último nos queda pasar el dataframe a otro csv que será con el que trabajemos en Pig y Hive\"\"\"\n",
    "final_df.to_csv('multas_semaforos_mod.txt',index=False)"
   ]
  }
 ],
 "metadata": {
  "kernelspec": {
   "display_name": "Python 3",
   "language": "python",
   "name": "python3"
  },
  "language_info": {
   "codemirror_mode": {
    "name": "ipython",
    "version": 3
   },
   "file_extension": ".py",
   "mimetype": "text/x-python",
   "name": "python",
   "nbconvert_exporter": "python",
   "pygments_lexer": "ipython3",
   "version": "3.7.6"
  }
 },
 "nbformat": 4,
 "nbformat_minor": 2
}

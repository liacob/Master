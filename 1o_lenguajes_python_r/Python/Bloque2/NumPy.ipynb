{
 "cells": [
  {
   "cell_type": "markdown",
   "metadata": {},
   "source": [
    "<div align=\"center\" style=\"font-size: xx-large; color:#279D9F\">Máster en Big Data y Data Science</div><br>\n",
    "<div align=\"center\" style=\"font-size: x-large; color:#6E6E6E\">Librerías básicas de Python: NumPy</div><br>\n",
    "<div align=\"center\" style=\"font-size: large; color:#279D9F\">Carlos María Alaíz Gudín - Universidad Autónoma de Madrid</div><br>"
   ]
  },
  {
   "cell_type": "markdown",
   "metadata": {},
   "source": [
    "# Introducción"
   ]
  },
  {
   "cell_type": "markdown",
   "metadata": {},
   "source": [
    "Este Notebook incluye el contenido correspondiente al bloque de NumPy, tanto los ejemplos mostrados en los distintos vídeos como los ejercicios propuestos."
   ]
  },
  {
   "cell_type": "markdown",
   "metadata": {},
   "source": [
    "## Preliminares"
   ]
  },
  {
   "cell_type": "code",
   "execution_count": 1,
   "metadata": {},
   "outputs": [],
   "source": [
    "# La librearía numpy se suele importar como np.\n",
    "import numpy as np"
   ]
  },
  {
   "cell_type": "markdown",
   "metadata": {},
   "source": [
    "# La clase `ndarray`"
   ]
  },
  {
   "cell_type": "markdown",
   "metadata": {},
   "source": [
    "## El objeto `ndarray`"
   ]
  },
  {
   "cell_type": "markdown",
   "metadata": {},
   "source": [
    "### `ndarray`"
   ]
  },
  {
   "cell_type": "code",
   "execution_count": 3,
   "metadata": {},
   "outputs": [
    {
     "name": "stdout",
     "output_type": "stream",
     "text": [
      "[1 2 3 4]\n"
     ]
    }
   ],
   "source": [
    "# Array 1-dimensional (vector).\n",
    "vector = np.array([1, 2, 3, 4])\n",
    "print(vector)"
   ]
  },
  {
   "cell_type": "code",
   "execution_count": 4,
   "metadata": {},
   "outputs": [
    {
     "name": "stdout",
     "output_type": "stream",
     "text": [
      "[[1 2 3 4]\n",
      " [5 6 7 8]]\n"
     ]
    }
   ],
   "source": [
    "# Array 2-dimensional (matriz).\n",
    "matriz = np.array([[1, 2, 3, 4], [5, 6, 7, 8]])\n",
    "print(matriz)"
   ]
  },
  {
   "cell_type": "code",
   "execution_count": 5,
   "metadata": {},
   "outputs": [
    {
     "name": "stdout",
     "output_type": "stream",
     "text": [
      "[[[ 1  2]\n",
      "  [ 3  4]\n",
      "  [ 5  6]]\n",
      "\n",
      " [[ 7  8]\n",
      "  [ 9 10]\n",
      "  [11 12]]]\n"
     ]
    }
   ],
   "source": [
    "# Array 3-dimensional (tensor).\n",
    "tensor = np.array([[[1, 2], [3, 4], [5, 6]],[[7, 8], [9, 10], [11, 12]]])\n",
    "print(tensor)"
   ]
  },
  {
   "cell_type": "markdown",
   "metadata": {},
   "source": [
    "### `shape`"
   ]
  },
  {
   "cell_type": "code",
   "execution_count": 6,
   "metadata": {},
   "outputs": [
    {
     "name": "stdout",
     "output_type": "stream",
     "text": [
      "(4,)\n"
     ]
    }
   ],
   "source": [
    "# Vector de 4 elementos.\n",
    "print(vector.shape)"
   ]
  },
  {
   "cell_type": "code",
   "execution_count": 7,
   "metadata": {},
   "outputs": [
    {
     "name": "stdout",
     "output_type": "stream",
     "text": [
      "(2, 4)\n"
     ]
    }
   ],
   "source": [
    "# Matriz 2x4.\n",
    "print(matriz.shape)"
   ]
  },
  {
   "cell_type": "code",
   "execution_count": 8,
   "metadata": {},
   "outputs": [
    {
     "name": "stdout",
     "output_type": "stream",
     "text": [
      "(2, 3, 2)\n"
     ]
    }
   ],
   "source": [
    "#Tensor 2x3x2.\n",
    "print(tensor.shape)"
   ]
  },
  {
   "cell_type": "markdown",
   "metadata": {},
   "source": [
    "### `dtype`"
   ]
  },
  {
   "cell_type": "code",
   "execution_count": 9,
   "metadata": {},
   "outputs": [
    {
     "name": "stdout",
     "output_type": "stream",
     "text": [
      "int32\n"
     ]
    }
   ],
   "source": [
    "# Matriz de enteros.\n",
    "print(matriz.dtype)"
   ]
  },
  {
   "cell_type": "markdown",
   "metadata": {},
   "source": [
    "## Creación de arrays"
   ]
  },
  {
   "cell_type": "markdown",
   "metadata": {},
   "source": [
    "### Creación"
   ]
  },
  {
   "cell_type": "code",
   "execution_count": 10,
   "metadata": {},
   "outputs": [
    {
     "name": "stdout",
     "output_type": "stream",
     "text": [
      "[1 2 3 4]\n"
     ]
    }
   ],
   "source": [
    "# Creación de un ndarray a partir de una lista.\n",
    "vector = np.array([1, 2, 3, 4])\n",
    "print(vector)"
   ]
  },
  {
   "cell_type": "code",
   "execution_count": 11,
   "metadata": {},
   "outputs": [
    {
     "name": "stdout",
     "output_type": "stream",
     "text": [
      "[[1 2 3 4]\n",
      " [5 6 7 8]]\n"
     ]
    }
   ],
   "source": [
    "# Creación de un ndarray a partir de una lista anidada.\n",
    "matriz = np.array([[1, 2, 3, 4], [5, 6, 7, 8]])\n",
    "print(matriz)"
   ]
  },
  {
   "cell_type": "code",
   "execution_count": 12,
   "metadata": {},
   "outputs": [
    {
     "name": "stdout",
     "output_type": "stream",
     "text": [
      "[1 2 3 4]\n"
     ]
    }
   ],
   "source": [
    "# Creación de un ndarray a partir de otro.\n",
    "vector_new = np.array(vector)\n",
    "print(vector_new)"
   ]
  },
  {
   "cell_type": "markdown",
   "metadata": {},
   "source": [
    "### `dtype`"
   ]
  },
  {
   "cell_type": "code",
   "execution_count": 13,
   "metadata": {},
   "outputs": [
    {
     "name": "stdout",
     "output_type": "stream",
     "text": [
      "[1 2 3] \t=>\t int32\n",
      "[1. 2. 3.] \t=>\t float64\n"
     ]
    }
   ],
   "source": [
    "# El tipo se ajusta al mínimo válido para todos los elementos del array.\n",
    "vector_i = np.array([1, 2, 3])\n",
    "print(vector_i, \"\\t=>\\t\", vector_i.dtype)\n",
    "\n",
    "vector_f = np.array([1, 2, 3.0])\n",
    "print(vector_f, \"\\t=>\\t\", vector_f.dtype)"
   ]
  },
  {
   "cell_type": "code",
   "execution_count": 14,
   "metadata": {},
   "outputs": [
    {
     "name": "stdout",
     "output_type": "stream",
     "text": [
      "[1. 2. 3.] \t=>\t float64\n"
     ]
    }
   ],
   "source": [
    "# También se puede espeficiar el tipo del array.\n",
    "vector_i = np.array([1, 2, 3], dtype=float)\n",
    "print(vector_i, \"\\t=>\\t\", vector_i.dtype)"
   ]
  },
  {
   "cell_type": "markdown",
   "metadata": {},
   "source": [
    "### `ndmin`"
   ]
  },
  {
   "cell_type": "code",
   "execution_count": 15,
   "metadata": {},
   "outputs": [
    {
     "name": "stdout",
     "output_type": "stream",
     "text": [
      "[[1 2 3 4]]\n"
     ]
    }
   ],
   "source": [
    "# Se puede especificar el mínimo número de dimensiones.\n",
    "matriz = np.array([1, 2, 3, 4], ndmin = 2)\n",
    "print(matriz)"
   ]
  },
  {
   "cell_type": "markdown",
   "metadata": {},
   "source": [
    "## Ejercicios: Creación de arrays"
   ]
  },
  {
   "cell_type": "markdown",
   "metadata": {},
   "source": [
    "### Enunciado"
   ]
  },
  {
   "cell_type": "markdown",
   "metadata": {},
   "source": [
    "1. Crea una matriz de ceros de dimensiones $2 \\times 3$.\n",
    "1. Crea una matriz de unos con el mismo y dimensiones que la matriz anterior.\n",
    "1. Crea un tensor vacío de dimensiones $3 \\times 2 \\times 4$.\n",
    "1. Crea un vector con números del $1$ al $30$.\n",
    "1. Crea un array que contenga los nombres de los días de la semana. ¿Qué tipo tiene?"
   ]
  },
  {
   "cell_type": "markdown",
   "metadata": {},
   "source": [
    "### Respuesta"
   ]
  },
  {
   "cell_type": "code",
   "execution_count": 12,
   "metadata": {},
   "outputs": [
    {
     "ename": "TypeError",
     "evalue": "object of type 'int' has no len()",
     "output_type": "error",
     "traceback": [
      "\u001b[1;31m---------------------------------------------------------------------------\u001b[0m",
      "\u001b[1;31mTypeError\u001b[0m                                 Traceback (most recent call last)",
      "\u001b[1;32m<ipython-input-12-ff971ee83222>\u001b[0m in \u001b[0;36m<module>\u001b[1;34m\u001b[0m\n\u001b[0;32m      4\u001b[0m \u001b[0mmatrizd\u001b[0m \u001b[1;33m=\u001b[0m \u001b[0mnp\u001b[0m\u001b[1;33m.\u001b[0m\u001b[0marange\u001b[0m\u001b[1;33m(\u001b[0m\u001b[1;36m1\u001b[0m\u001b[1;33m,\u001b[0m\u001b[1;36m31\u001b[0m\u001b[1;33m)\u001b[0m\u001b[1;33m\u001b[0m\u001b[1;33m\u001b[0m\u001b[0m\n\u001b[0;32m      5\u001b[0m \u001b[0mmatrizf\u001b[0m \u001b[1;33m=\u001b[0m \u001b[0mnp\u001b[0m\u001b[1;33m.\u001b[0m\u001b[0marray\u001b[0m\u001b[1;33m(\u001b[0m\u001b[1;33m[\u001b[0m\u001b[1;34m'Lunes'\u001b[0m\u001b[1;33m,\u001b[0m\u001b[1;34m'Martes'\u001b[0m\u001b[1;33m,\u001b[0m\u001b[1;34m'Miercoles'\u001b[0m\u001b[1;33m,\u001b[0m\u001b[1;34m'Jueves'\u001b[0m\u001b[1;33m]\u001b[0m\u001b[1;33m)\u001b[0m\u001b[1;33m\u001b[0m\u001b[1;33m\u001b[0m\u001b[0m\n\u001b[1;32m----> 6\u001b[1;33m \u001b[0mprint\u001b[0m\u001b[1;33m(\u001b[0m\u001b[0mlen\u001b[0m\u001b[1;33m(\u001b[0m\u001b[1;36m2\u001b[0m\u001b[1;33m)\u001b[0m\u001b[1;33m)\u001b[0m\u001b[1;33m\u001b[0m\u001b[1;33m\u001b[0m\u001b[0m\n\u001b[0m",
      "\u001b[1;31mTypeError\u001b[0m: object of type 'int' has no len()"
     ]
    }
   ],
   "source": [
    "matriza = np.zeros([2,2])\n",
    "matrizb = np.ones_like(matriza)\n",
    "matrizc = np.empty([3,2,4])\n",
    "matrizd = np.arange(1,31)\n",
    "matrizf = np.array(['Lunes','Martes','Miercoles','Jueves'])\n"
   ]
  },
  {
   "cell_type": "markdown",
   "metadata": {},
   "source": [
    "## Operaciones básicas con arrays"
   ]
  },
  {
   "cell_type": "markdown",
   "metadata": {},
   "source": [
    "### Operaciones con escalares"
   ]
  },
  {
   "cell_type": "code",
   "execution_count": null,
   "metadata": {},
   "outputs": [],
   "source": [
    "matriz = np.array([[1, 2, 3], [4, 5, 6]])"
   ]
  },
  {
   "cell_type": "code",
   "execution_count": 37,
   "metadata": {
    "scrolled": true
   },
   "outputs": [
    {
     "name": "stdout",
     "output_type": "stream",
     "text": [
      "[[1 2 3 4]]\n",
      "+   2\n",
      "-------\n",
      "[[3 4 5 6]]\n"
     ]
    }
   ],
   "source": [
    "# Suma de matriz y escalar.\n",
    "print(matriz)\n",
    "print(\"+   2\")\n",
    "print(\"-------\")\n",
    "print(matriz + 2)"
   ]
  },
  {
   "cell_type": "code",
   "execution_count": 38,
   "metadata": {},
   "outputs": [
    {
     "name": "stdout",
     "output_type": "stream",
     "text": [
      "[[1 2 3 4]]\n",
      "x   4\n",
      "---------\n",
      "[[ 4  8 12 16]]\n"
     ]
    }
   ],
   "source": [
    "# Producto de matriz y escalar.\n",
    "print(matriz)\n",
    "print(\"x   4\")\n",
    "print(\"---------\")\n",
    "print(matriz * 4)"
   ]
  },
  {
   "cell_type": "markdown",
   "metadata": {},
   "source": [
    "### Operaciones entre arrays de la misma dimensión"
   ]
  },
  {
   "cell_type": "code",
   "execution_count": 39,
   "metadata": {},
   "outputs": [],
   "source": [
    "vector_1 = np.array([3, 4, 5])\n",
    "vector_2 = np.array([1, 2, 3])\n",
    "matriz_1 = np.array([[2, 4], [6, 8]])\n",
    "matriz_2 = np.array([[1, 2], [3, 4]])"
   ]
  },
  {
   "cell_type": "code",
   "execution_count": 40,
   "metadata": {},
   "outputs": [
    {
     "name": "stdout",
     "output_type": "stream",
     "text": [
      "[3 4 5]\n",
      "-\n",
      "[1 2 3]\n",
      "-------\n",
      "[2 2 2]\n"
     ]
    }
   ],
   "source": [
    "# Resta de vectores.\n",
    "print(vector_1)\n",
    "print(\"-\")\n",
    "print(vector_2)\n",
    "print(\"-------\")\n",
    "print(vector_1 - vector_2)"
   ]
  },
  {
   "cell_type": "code",
   "execution_count": 41,
   "metadata": {},
   "outputs": [
    {
     "name": "stdout",
     "output_type": "stream",
     "text": [
      "[[2 4]\n",
      " [6 8]]\n",
      "/\n",
      "[[1 2]\n",
      " [3 4]]\n",
      "-------\n",
      "[[2. 2.]\n",
      " [2. 2.]]\n"
     ]
    }
   ],
   "source": [
    "# División de matrices.\n",
    "print(matriz_1)\n",
    "print(\"/\")\n",
    "print(matriz_2)\n",
    "print(\"-------\")\n",
    "print(matriz_1 / matriz_2)"
   ]
  },
  {
   "cell_type": "markdown",
   "metadata": {},
   "source": [
    "## Ejercicios: Operaciones básicas con arrays"
   ]
  },
  {
   "cell_type": "markdown",
   "metadata": {},
   "source": [
    "### Enunciado"
   ]
  },
  {
   "cell_type": "markdown",
   "metadata": {},
   "source": [
    "1. Crea una matriz cuadrada $5 \\times 5$ tal que:\n",
    "    - Los elementos de la diagonal son todos $10$.\n",
    "    - Los elementos fuera de la diagonal son todos $5$."
   ]
  },
  {
   "cell_type": "markdown",
   "metadata": {},
   "source": [
    "### Respuesta"
   ]
  },
  {
   "cell_type": "code",
   "execution_count": 52,
   "metadata": {},
   "outputs": [
    {
     "name": "stdout",
     "output_type": "stream",
     "text": [
      "[[10.  5.  5.  5.  5.]\n",
      " [ 5. 10.  5.  5.  5.]\n",
      " [ 5.  5. 10.  5.  5.]\n",
      " [ 5.  5.  5. 10.  5.]\n",
      " [ 5.  5.  5.  5. 10.]]\n"
     ]
    }
   ],
   "source": [
    "matrize = np.identity(5)*10\n",
    "\n",
    "for i in [-4,-3,-2,-1,1,2,3,4]:\n",
    "    matrize = matrize + np.eye(5,k=i)*5\n",
    "    \n",
    "print(matrize)"
   ]
  },
  {
   "cell_type": "markdown",
   "metadata": {},
   "source": [
    "# Indexación y *slicing*"
   ]
  },
  {
   "cell_type": "markdown",
   "metadata": {},
   "source": [
    "## Indexación de arrays unidimensionales y multidimensionales"
   ]
  },
  {
   "cell_type": "markdown",
   "metadata": {},
   "source": [
    "### Arrays unidimensionales"
   ]
  },
  {
   "cell_type": "code",
   "execution_count": 53,
   "metadata": {},
   "outputs": [
    {
     "name": "stdout",
     "output_type": "stream",
     "text": [
      "[0 1 2 3 4 5 6 7 8 9]\n"
     ]
    }
   ],
   "source": [
    "# Array unidimensional con números del 0 al 9.\n",
    "vector = np.arange(10)\n",
    "print(vector)"
   ]
  },
  {
   "cell_type": "code",
   "execution_count": 54,
   "metadata": {},
   "outputs": [
    {
     "name": "stdout",
     "output_type": "stream",
     "text": [
      "[0 1 2 3 4 5 6 7 8 9]\n",
      "4\n"
     ]
    }
   ],
   "source": [
    "# Acceso al elemento en la posición 4.\n",
    "print(vector)\n",
    "print(vector[4])"
   ]
  },
  {
   "cell_type": "code",
   "execution_count": 55,
   "metadata": {},
   "outputs": [
    {
     "name": "stdout",
     "output_type": "stream",
     "text": [
      "[0 1 2 3 4 5 6 7 8 9]\n",
      "[2 3 4 5 6]\n"
     ]
    }
   ],
   "source": [
    "# Acceso a los elementos entre las posiciones 2 (incluida) y 7 (excluida).\n",
    "print(vector)\n",
    "print(vector[2:7])"
   ]
  },
  {
   "cell_type": "code",
   "execution_count": 56,
   "metadata": {},
   "outputs": [
    {
     "name": "stdout",
     "output_type": "stream",
     "text": [
      "[0 1 2 3 4 5 6 7 8 9]\n",
      "[7 8 9]\n"
     ]
    }
   ],
   "source": [
    "# Acceso a los 3 últimos elementos.\n",
    "print(vector)\n",
    "print(vector[-3:])"
   ]
  },
  {
   "cell_type": "markdown",
   "metadata": {},
   "source": [
    "### Modificación de arrays"
   ]
  },
  {
   "cell_type": "code",
   "execution_count": 57,
   "metadata": {},
   "outputs": [],
   "source": [
    "# Array unidimensional con números del 0 al 9.\n",
    "vector = np.arange(10)"
   ]
  },
  {
   "cell_type": "code",
   "execution_count": 58,
   "metadata": {},
   "outputs": [
    {
     "name": "stdout",
     "output_type": "stream",
     "text": [
      "[0 1 2 3 4 5 6 7 8 9]\n",
      "[0 1 0 3 4 5 6 7 8 9]\n"
     ]
    }
   ],
   "source": [
    "# Modificación del elemento de la posición 2.\n",
    "print(vector)\n",
    "vector[2] = 0\n",
    "print(vector)"
   ]
  },
  {
   "cell_type": "code",
   "execution_count": 59,
   "metadata": {},
   "outputs": [
    {
     "name": "stdout",
     "output_type": "stream",
     "text": [
      "[0 1 0 3 4 5 6 7 8 9]\n",
      "[0 0 0 0 0 5 6 7 8 9]\n"
     ]
    }
   ],
   "source": [
    "# Modificación de los elementos de la slice vector[1:5].\n",
    "print(vector)\n",
    "vector[1:5] = 0\n",
    "print(vector)"
   ]
  },
  {
   "cell_type": "code",
   "execution_count": 60,
   "metadata": {},
   "outputs": [
    {
     "name": "stdout",
     "output_type": "stream",
     "text": [
      "[0 0 0 0 0 5 6 7 8 9]\n",
      "[   0    0    0 9999    0    5    6    7    8    9]\n"
     ]
    }
   ],
   "source": [
    "# Modificación a través de una referencia.\n",
    "print(vector)\n",
    "subvector = vector[1:5]\n",
    "subvector[2] = 9999\n",
    "print(vector)"
   ]
  },
  {
   "cell_type": "code",
   "execution_count": 61,
   "metadata": {},
   "outputs": [
    {
     "name": "stdout",
     "output_type": "stream",
     "text": [
      "[0 1 2 3 4 5 6 7 8 9]\n",
      "[0 1 2 3 4 5 6 7 8 9]\n"
     ]
    }
   ],
   "source": [
    "# Modificación de una copia.\n",
    "vector = np.arange(10)\n",
    "print(vector)\n",
    "subvector = vector[1:5].copy()\n",
    "subvector[2] = 9999\n",
    "print(vector)"
   ]
  },
  {
   "cell_type": "markdown",
   "metadata": {},
   "source": [
    "### Arrays multidimensionales"
   ]
  },
  {
   "cell_type": "code",
   "execution_count": 62,
   "metadata": {},
   "outputs": [],
   "source": [
    "# Matriz con elementos del 1 al 16.\n",
    "matriz = np.array([[1, 2, 3, 4], [5, 6, 7, 8], [9, 10, 11, 12], [13, 14, 15, 16]])"
   ]
  },
  {
   "cell_type": "code",
   "execution_count": 63,
   "metadata": {},
   "outputs": [
    {
     "name": "stdout",
     "output_type": "stream",
     "text": [
      "[[ 1  2  3  4]\n",
      " [ 5  6  7  8]\n",
      " [ 9 10 11 12]\n",
      " [13 14 15 16]]\n",
      "7\n"
     ]
    }
   ],
   "source": [
    "# Acceso al elemento de la posición (1, 2).\n",
    "print(matriz)\n",
    "print(matriz[1, 2])"
   ]
  },
  {
   "cell_type": "code",
   "execution_count": 64,
   "metadata": {},
   "outputs": [
    {
     "name": "stdout",
     "output_type": "stream",
     "text": [
      "[[ 1  2  3  4]\n",
      " [ 5  6  7  8]\n",
      " [ 9 10 11 12]\n",
      " [13 14 15 16]]\n",
      "[[ 6  7  8]\n",
      " [10 11 12]]\n"
     ]
    }
   ],
   "source": [
    "# Acceso a los elementos de las filas 1 y 2 y tres últimas columnas.\n",
    "print(matriz)\n",
    "print(matriz[1:3, -3:])"
   ]
  },
  {
   "cell_type": "markdown",
   "metadata": {},
   "source": [
    "## Ejercicios: Indexación de arrays unidimensionales y multidimensionales 1"
   ]
  },
  {
   "cell_type": "markdown",
   "metadata": {},
   "source": [
    "### Enunciado"
   ]
  },
  {
   "cell_type": "markdown",
   "metadata": {},
   "source": [
    "Dada la matriz generada más abajo:\n",
    "1. Cambia el elemento de la posición $(3, 2)$ para que tenga un $3$.\n",
    "1. Realiza una copia independiente de las dos primeras filas en otra variable.\n",
    "1. Accede a los elementos de las dos últimas filas y dos últimas columnas."
   ]
  },
  {
   "cell_type": "code",
   "execution_count": 66,
   "metadata": {},
   "outputs": [
    {
     "name": "stdout",
     "output_type": "stream",
     "text": [
      "[[ 1  2  3  4]\n",
      " [ 5  6  7  8]\n",
      " [ 9 10 11 12]\n",
      " [13 14 15 16]\n",
      " [17 18 19 20]]\n"
     ]
    }
   ],
   "source": [
    "matriz = np.array([[1, 2, 3, 4], [5, 6, 7, 8], [9, 10, 11, 12], [13, 14, 15, 16], [17, 18, 19, 20]])\n",
    "print(matriz)"
   ]
  },
  {
   "cell_type": "markdown",
   "metadata": {},
   "source": [
    "### Respuesta"
   ]
  },
  {
   "cell_type": "code",
   "execution_count": 74,
   "metadata": {},
   "outputs": [
    {
     "data": {
      "text/plain": [
       "array([[ 3, 16],\n",
       "       [19, 20]])"
      ]
     },
     "execution_count": 74,
     "metadata": {},
     "output_type": "execute_result"
    }
   ],
   "source": [
    "matriz[2,1]=3\n",
    "matrizb = matriz[:2,:].copy()\n",
    "matriz[-2:,-2:]\n"
   ]
  },
  {
   "cell_type": "markdown",
   "metadata": {},
   "source": [
    "## Ejercicios: Indexación de arrays unidimensionales y multidimensionales 2"
   ]
  },
  {
   "cell_type": "markdown",
   "metadata": {},
   "source": [
    "### Enunciado"
   ]
  },
  {
   "cell_type": "markdown",
   "metadata": {},
   "source": [
    "Dado el código de más abajo:\n",
    "1. ¿Cuál es el contenido de `y`? ¿Por qué?\n",
    "1. ¿Cuál es el contenido de `x`? ¿Por qué?"
   ]
  },
  {
   "cell_type": "code",
   "execution_count": 3,
   "metadata": {},
   "outputs": [],
   "source": [
    "x = np.array([1, 2, 3, 4, 5])\n",
    "y = x[:3]\n",
    "y[:] = 100 * y[:]"
   ]
  },
  {
   "cell_type": "markdown",
   "metadata": {},
   "source": [
    "### Respuesta"
   ]
  },
  {
   "cell_type": "code",
   "execution_count": 5,
   "metadata": {},
   "outputs": [
    {
     "data": {
      "text/plain": [
       "array([100, 200, 300])"
      ]
     },
     "execution_count": 5,
     "metadata": {},
     "output_type": "execute_result"
    }
   ],
   "source": [
    "y"
   ]
  },
  {
   "cell_type": "markdown",
   "metadata": {},
   "source": [
    "## Indexación booleana"
   ]
  },
  {
   "cell_type": "code",
   "execution_count": 6,
   "metadata": {},
   "outputs": [],
   "source": [
    "# Matriz de números aleatorios.\n",
    "matriz = np.random.randn(10, 3)"
   ]
  },
  {
   "cell_type": "markdown",
   "metadata": {},
   "source": [
    "### Selección de filas"
   ]
  },
  {
   "cell_type": "code",
   "execution_count": 7,
   "metadata": {},
   "outputs": [
    {
     "name": "stdout",
     "output_type": "stream",
     "text": [
      "[[-1.18840326  2.04429777  0.82204503]\n",
      " [-0.17814287 -2.91553686 -0.7191218 ]\n",
      " [ 1.48721609  1.31768094 -0.09296558]\n",
      " [-0.80226358  0.86421648 -0.64503063]\n",
      " [ 0.07573402  0.16064333  1.0223467 ]\n",
      " [-0.88225433  1.99921255  1.46042681]\n",
      " [ 1.99655644 -0.08497719 -1.80999362]\n",
      " [-0.74911213  0.35895399  0.24510652]\n",
      " [-0.56929731 -0.16656755  0.83270853]\n",
      " [-0.22070151  0.03805925  1.10840539]]\n",
      "[False False  True False  True False  True False False False]\n"
     ]
    }
   ],
   "source": [
    "# Índice booleano, marca la posición de las filas cuyo primer elemento es positivo.\n",
    "print(matriz)\n",
    "ix = matriz[:, 0] > 0\n",
    "print(ix)"
   ]
  },
  {
   "cell_type": "code",
   "execution_count": 8,
   "metadata": {},
   "outputs": [
    {
     "name": "stdout",
     "output_type": "stream",
     "text": [
      "[[ 1.48721609  1.31768094 -0.09296558]\n",
      " [ 0.07573402  0.16064333  1.0223467 ]\n",
      " [ 1.99655644 -0.08497719 -1.80999362]]\n"
     ]
    }
   ],
   "source": [
    "# Selección con el índice booleano.\n",
    "submatriz = matriz[ix, :]\n",
    "print(submatriz)"
   ]
  },
  {
   "cell_type": "code",
   "execution_count": 9,
   "metadata": {},
   "outputs": [
    {
     "name": "stdout",
     "output_type": "stream",
     "text": [
      "[[0.07573402 0.16064333 1.0223467 ]]\n"
     ]
    }
   ],
   "source": [
    "# Selección de las filas cuyo primer y último elemento es positivo.\n",
    "submatriz = matriz[(matriz[:, 0] > 0) & (matriz[:, -1] > 0)]\n",
    "print(submatriz)"
   ]
  },
  {
   "cell_type": "code",
   "execution_count": 10,
   "metadata": {},
   "outputs": [
    {
     "name": "stdout",
     "output_type": "stream",
     "text": [
      "[[-1.18840326  2.04429777  0.82204503]\n",
      " [-0.17814287 -2.91553686 -0.7191218 ]\n",
      " [-0.80226358  0.86421648 -0.64503063]\n",
      " [ 0.07573402  0.16064333  1.0223467 ]\n",
      " [-0.88225433  1.99921255  1.46042681]\n",
      " [-0.74911213  0.35895399  0.24510652]\n",
      " [-0.56929731 -0.16656755  0.83270853]\n",
      " [-0.22070151  0.03805925  1.10840539]]\n"
     ]
    }
   ],
   "source": [
    "# Selección de las filas cuyo primer elemento no es positivo o cuyo último elemento sí lo es.\n",
    "submatriz = matriz[~(matriz[:, 0] > 0) | (matriz[:, -1] > 0)]\n",
    "print(submatriz)"
   ]
  },
  {
   "cell_type": "markdown",
   "metadata": {},
   "source": [
    "### Selección de componentes"
   ]
  },
  {
   "cell_type": "code",
   "execution_count": 13,
   "metadata": {},
   "outputs": [
    {
     "name": "stdout",
     "output_type": "stream",
     "text": [
      "[[0.         2.04429777 0.82204503]\n",
      " [0.         0.         0.        ]\n",
      " [1.48721609 1.31768094 0.        ]\n",
      " [0.         0.86421648 0.        ]\n",
      " [0.07573402 0.16064333 1.0223467 ]\n",
      " [0.         1.99921255 1.46042681]\n",
      " [1.99655644 0.         0.        ]\n",
      " [0.         0.35895399 0.24510652]\n",
      " [0.         0.         0.83270853]\n",
      " [0.         0.03805925 1.10840539]]\n"
     ]
    }
   ],
   "source": [
    "# Modificación de las entradas negativas.\n",
    "matriz[matriz < 0] = 0\n",
    "print(matriz)"
   ]
  },
  {
   "cell_type": "markdown",
   "metadata": {},
   "source": [
    "### Cambios en la selección"
   ]
  },
  {
   "cell_type": "code",
   "execution_count": null,
   "metadata": {},
   "outputs": [],
   "source": [
    "# Modificación a través de una referencia.\n",
    "submatriz = matriz[matriz[:,0] > 0, :]\n",
    "print(submatriz)\n",
    "submatriz[:] = 2\n",
    "print(matriz)"
   ]
  },
  {
   "cell_type": "markdown",
   "metadata": {},
   "source": [
    "## Ejercicios: Indexación booleana"
   ]
  },
  {
   "cell_type": "markdown",
   "metadata": {},
   "source": [
    "### Enunciado"
   ]
  },
  {
   "cell_type": "markdown",
   "metadata": {},
   "source": [
    "Dado el array generado a continuación, que contiene una lista con $100$ notas aleatorias entre $0$ y $10$, construye un array que contenga, para cada nota numérica, su nota cualitativa de acuerdo al siguiente esquema:\n",
    "* $[0, 5)$: `\"SUSPENSO\"`.\n",
    "* $[5, 7)$: `\"APROBADO\"`.\n",
    "* $[7, 9)$: `\"NOTABLE\"`.\n",
    "* $[9, 10]$: `\"SOBRESALIENTE\"`.\n",
    "\n",
    "**Nota**: Hay que poner como tipo `'S13'`, la longitud de la cadena más larga que se quiere almacenar, al crear el array de notas."
   ]
  },
  {
   "cell_type": "code",
   "execution_count": 2,
   "metadata": {},
   "outputs": [],
   "source": [
    "n = 100\n",
    "np.random.seed(13)\n",
    "notas_n = np.random.rand(n) * 10\n",
    "notas_c = np.empty_like(notas_n, dtype='<U13')    "
   ]
  },
  {
   "cell_type": "markdown",
   "metadata": {},
   "source": [
    "### Respuesta"
   ]
  },
  {
   "cell_type": "code",
   "execution_count": 9,
   "metadata": {},
   "outputs": [],
   "source": [
    "notas_c[notas_n < 5] = 'SUSPENSO'\n",
    "notas_c[(notas_n > 5) & (notas_n < 7)] = 'APROBADO'\n",
    "notas_c[(notas_n > 7) & (notas_n < 9)] = 'NOTABLE'\n",
    "notas_c[notas_n > 9] = 'SOBRESALIENTE'\n"
   ]
  },
  {
   "cell_type": "markdown",
   "metadata": {},
   "source": [
    "## Indexación *fancy*"
   ]
  },
  {
   "cell_type": "code",
   "execution_count": 10,
   "metadata": {},
   "outputs": [],
   "source": [
    "# Creación de la matriz.\n",
    "nfil = 5\n",
    "ncol = 3\n",
    "p = 1\n",
    "\n",
    "matriz = np.empty((nfil, ncol))\n",
    "for i in range(ncol):\n",
    "    matriz[:, i] = np.arange(nfil) * p\n",
    "    p *= 10"
   ]
  },
  {
   "cell_type": "markdown",
   "metadata": {},
   "source": [
    "### Selección por filas"
   ]
  },
  {
   "cell_type": "code",
   "execution_count": 13,
   "metadata": {},
   "outputs": [
    {
     "name": "stdout",
     "output_type": "stream",
     "text": [
      "[[  0.   0.   0.]\n",
      " [  1.  10. 100.]\n",
      " [  2.  20. 200.]\n",
      " [  3.  30. 300.]\n",
      " [  4.  40. 400.]]\n",
      "[[  3.  30. 300.]\n",
      " [  2.  20. 200.]]\n"
     ]
    }
   ],
   "source": [
    "# Selección de las filas 3 y 2, en este orden.\n",
    "print(matriz)\n",
    "print(matriz[[3, 2]])"
   ]
  },
  {
   "cell_type": "markdown",
   "metadata": {},
   "source": [
    "### Selección por columnas"
   ]
  },
  {
   "cell_type": "code",
   "execution_count": 14,
   "metadata": {},
   "outputs": [
    {
     "name": "stdout",
     "output_type": "stream",
     "text": [
      "[[  0.   0.   0.]\n",
      " [  1.  10. 100.]\n",
      " [  2.  20. 200.]\n",
      " [  3.  30. 300.]\n",
      " [  4.  40. 400.]]\n",
      "[[  0.   0.]\n",
      " [100.   1.]\n",
      " [200.   2.]\n",
      " [300.   3.]\n",
      " [400.   4.]]\n"
     ]
    }
   ],
   "source": [
    "# Selección de las columnas 2 y 0, en este orden.\n",
    "print(matriz)\n",
    "print(matriz[:, [2, 0]])\n"
   ]
  },
  {
   "cell_type": "markdown",
   "metadata": {},
   "source": [
    "### Selección entrada a entrada"
   ]
  },
  {
   "cell_type": "code",
   "execution_count": 15,
   "metadata": {},
   "outputs": [
    {
     "name": "stdout",
     "output_type": "stream",
     "text": [
      "[[  0.   0.   0.]\n",
      " [  1.  10. 100.]\n",
      " [  2.  20. 200.]\n",
      " [  3.  30. 300.]\n",
      " [  4.  40. 400.]]\n",
      "[300.   2.]\n"
     ]
    }
   ],
   "source": [
    "# Selección de las entradas (3, 2) y (2, 0).\n",
    "print(matriz)\n",
    "print(matriz[[3, 2], [2, 0]])"
   ]
  },
  {
   "cell_type": "markdown",
   "metadata": {},
   "source": [
    "### Cambios en la selección"
   ]
  },
  {
   "cell_type": "code",
   "execution_count": 16,
   "metadata": {},
   "outputs": [
    {
     "name": "stdout",
     "output_type": "stream",
     "text": [
      "Submatriz fancy:\n",
      " [[  0.   0.   0.]\n",
      " [  1.  10. 100.]]\n",
      "Submatriz slice:\n",
      " [[  0.   0.   0.]\n",
      " [  1.  10. 100.]]\n",
      "Submatriz fancy:\n",
      " [[999. 999. 999.]\n",
      " [999. 999. 999.]]\n",
      "Submatriz slice:\n",
      " [[999. 999. 999.]\n",
      " [999. 999. 999.]]\n",
      "Matriz fancy:\n",
      " [[  0.   0.   0.]\n",
      " [  1.  10. 100.]\n",
      " [  2.  20. 200.]\n",
      " [  3.  30. 300.]\n",
      " [  4.  40. 400.]]\n",
      "Matriz slice:\n",
      " [[999. 999. 999.]\n",
      " [999. 999. 999.]\n",
      " [  2.  20. 200.]\n",
      " [  3.  30. 300.]\n",
      " [  4.  40. 400.]]\n"
     ]
    }
   ],
   "source": [
    "# Modificación a través de una referencia usando indexación fancy o por slices.\n",
    "matriz_1 = matriz.copy()\n",
    "matriz_2 = matriz.copy()\n",
    "\n",
    "submatriz_1 = matriz_1[[0,1]]\n",
    "submatriz_2 = matriz_2[:2]\n",
    "\n",
    "print('Submatriz fancy:\\n', submatriz_1)\n",
    "print('Submatriz slice:\\n', submatriz_2)\n",
    "\n",
    "submatriz_1[:] = 999\n",
    "submatriz_2[:] = 999\n",
    "\n",
    "print('Submatriz fancy:\\n', submatriz_1)\n",
    "print('Submatriz slice:\\n', submatriz_2)\n",
    "\n",
    "print('Matriz fancy:\\n', matriz_1)\n",
    "print('Matriz slice:\\n', matriz_2)"
   ]
  },
  {
   "cell_type": "markdown",
   "metadata": {},
   "source": [
    "## Ejercicios: Indexación *fancy*"
   ]
  },
  {
   "cell_type": "markdown",
   "metadata": {},
   "source": [
    "### Enunciado"
   ]
  },
  {
   "cell_type": "markdown",
   "metadata": {},
   "source": [
    "Dado el array generado a continuación:\n",
    "1. Selecciona solo las entradas $2$, $1$ y $4$, en ese orden.\n",
    "1. Invierte el array, recorriéndolo en orden contrario."
   ]
  },
  {
   "cell_type": "code",
   "execution_count": 17,
   "metadata": {},
   "outputs": [],
   "source": [
    "vector = np.array(['a', 'b', 'c', 'd', 'e'])"
   ]
  },
  {
   "cell_type": "markdown",
   "metadata": {},
   "source": [
    "### Respuesta"
   ]
  },
  {
   "cell_type": "code",
   "execution_count": 35,
   "metadata": {},
   "outputs": [
    {
     "name": "stdout",
     "output_type": "stream",
     "text": [
      "['c' 'b' 'e']\n",
      "['e' 'd' 'c' 'b' 'a']\n"
     ]
    },
    {
     "name": "stderr",
     "output_type": "stream",
     "text": [
      "C:\\Users\\Lucian\\anaconda3\\lib\\site-packages\\ipykernel_launcher.py:2: FutureWarning: Using a non-tuple sequence for multidimensional indexing is deprecated; use `arr[tuple(seq)]` instead of `arr[seq]`. In the future this will be interpreted as an array index, `arr[np.array(seq)]`, which will result either in an error or a different result.\n",
      "  \n"
     ]
    }
   ],
   "source": [
    "subvectora = vector[[2,1,4]]\n",
    "subvectorb = vector[[np.arange(4,-1,-1)]]\n",
    "print(subvectora)\n",
    "print(subvectorb)"
   ]
  },
  {
   "cell_type": "markdown",
   "metadata": {},
   "source": [
    "# Otras operaciones con arrays"
   ]
  },
  {
   "cell_type": "markdown",
   "metadata": {},
   "source": [
    "## Transposición"
   ]
  },
  {
   "cell_type": "markdown",
   "metadata": {},
   "source": [
    "### Matrices"
   ]
  },
  {
   "cell_type": "code",
   "execution_count": 36,
   "metadata": {},
   "outputs": [],
   "source": [
    "# Creación de la matriz.\n",
    "matriz = np.array([[1, 2, 3, 4], [5, 6, 7, 8], [9, 10, 11, 12]])"
   ]
  },
  {
   "cell_type": "code",
   "execution_count": 37,
   "metadata": {},
   "outputs": [
    {
     "name": "stdout",
     "output_type": "stream",
     "text": [
      "[[ 1  2  3  4]\n",
      " [ 5  6  7  8]\n",
      " [ 9 10 11 12]]\n",
      "[[ 1  5  9]\n",
      " [ 2  6 10]\n",
      " [ 3  7 11]\n",
      " [ 4  8 12]]\n"
     ]
    }
   ],
   "source": [
    "# Transposición con el atributo .T.\n",
    "print(matriz)\n",
    "print(matriz.T)"
   ]
  },
  {
   "cell_type": "code",
   "execution_count": 38,
   "metadata": {},
   "outputs": [
    {
     "name": "stdout",
     "output_type": "stream",
     "text": [
      "[[ 1  2  3  4]\n",
      " [ 5  6  7  8]\n",
      " [ 9 10 11 12]]\n",
      "[[ 1  5  9]\n",
      " [ 2  6 10]\n",
      " [ 3  7 11]\n",
      " [ 4  8 12]]\n"
     ]
    }
   ],
   "source": [
    "# Transposición con la función transpose.\n",
    "print(matriz)\n",
    "print(matriz.transpose())"
   ]
  },
  {
   "cell_type": "markdown",
   "metadata": {},
   "source": [
    "### Vectores"
   ]
  },
  {
   "cell_type": "code",
   "execution_count": 39,
   "metadata": {},
   "outputs": [
    {
     "name": "stdout",
     "output_type": "stream",
     "text": [
      "[0 1 2 3 4 5 6 7 8 9]\n",
      "[0 1 2 3 4 5 6 7 8 9]\n"
     ]
    }
   ],
   "source": [
    "# Transposición de un vector.\n",
    "vector = np.arange(10)\n",
    "print(vector)\n",
    "print(vector.T)"
   ]
  },
  {
   "cell_type": "markdown",
   "metadata": {},
   "source": [
    "### Tensores"
   ]
  },
  {
   "cell_type": "code",
   "execution_count": 40,
   "metadata": {},
   "outputs": [
    {
     "name": "stdout",
     "output_type": "stream",
     "text": [
      "[[[ 1  2  3]\n",
      "  [ 4  5  6]]\n",
      "\n",
      " [[ 7  8  9]\n",
      "  [10 11 12]]]\n",
      "[[[ 1  7]\n",
      "  [ 4 10]]\n",
      "\n",
      " [[ 2  8]\n",
      "  [ 5 11]]\n",
      "\n",
      " [[ 3  9]\n",
      "  [ 6 12]]]\n"
     ]
    }
   ],
   "source": [
    "# Transposición de un tensor.\n",
    "tensor = np.array([[[1, 2, 3], [4, 5, 6]], [[7, 8, 9], [10, 11, 12]]])\n",
    "print(tensor)\n",
    "print(tensor.T)"
   ]
  },
  {
   "cell_type": "markdown",
   "metadata": {},
   "source": [
    "## Ejercicios: Transposición"
   ]
  },
  {
   "cell_type": "markdown",
   "metadata": {},
   "source": [
    "### Enunciado"
   ]
  },
  {
   "cell_type": "markdown",
   "metadata": {},
   "source": [
    "\n",
    "Crea un vector columna con números del $0$ al $9$ usando las funciones `arange`, `array` (con el argumento `ndmin`) y `transpose`."
   ]
  },
  {
   "cell_type": "markdown",
   "metadata": {},
   "source": [
    "### Respuesta"
   ]
  },
  {
   "cell_type": "code",
   "execution_count": 46,
   "metadata": {},
   "outputs": [
    {
     "data": {
      "text/plain": [
       "array([[[[[[[[[[0, 1, 2, 3, 4, 5, 6, 7, 8, 9]]]]]]]]]])"
      ]
     },
     "execution_count": 46,
     "metadata": {},
     "output_type": "execute_result"
    }
   ],
   "source": [
    "vector = np.array(np.arange(10),ndmin=10).transpose()\n"
   ]
  },
  {
   "cell_type": "markdown",
   "metadata": {},
   "source": [
    "## Cambio de forma de un array y concatenación"
   ]
  },
  {
   "cell_type": "code",
   "execution_count": 3,
   "metadata": {},
   "outputs": [],
   "source": [
    "# Array unidimensional con los elementos 1-12.\n",
    "vector = np.arange(1, 13)"
   ]
  },
  {
   "cell_type": "markdown",
   "metadata": {},
   "source": [
    "### `reshape`"
   ]
  },
  {
   "cell_type": "code",
   "execution_count": 4,
   "metadata": {},
   "outputs": [
    {
     "name": "stdout",
     "output_type": "stream",
     "text": [
      "[ 1  2  3  4  5  6  7  8  9 10 11 12]\n",
      "[[ 1  2  3  4]\n",
      " [ 5  6  7  8]\n",
      " [ 9 10 11 12]]\n"
     ]
    }
   ],
   "source": [
    "# De vector 12 a matriz 3x4.\n",
    "print(vector)\n",
    "matriz_1 = vector.reshape(3, 4)\n",
    "print(matriz_1)"
   ]
  },
  {
   "cell_type": "code",
   "execution_count": 5,
   "metadata": {},
   "outputs": [
    {
     "name": "stdout",
     "output_type": "stream",
     "text": [
      "[ 1  2  3  4  5  6  7  8  9 10 11 12]\n",
      "[[ 1  2  3  4  5  6]\n",
      " [ 7  8  9 10 11 12]]\n"
     ]
    }
   ],
   "source": [
    "# De vector 12 a matriz 2x6.\n",
    "print(vector)\n",
    "matriz_2 = vector.reshape(2, 6)\n",
    "print(matriz_2)"
   ]
  },
  {
   "cell_type": "code",
   "execution_count": 6,
   "metadata": {},
   "outputs": [
    {
     "name": "stdout",
     "output_type": "stream",
     "text": [
      "[ 1  2  3  4  5  6  7  8  9 10 11 12]\n",
      "[[[ 1  2]\n",
      "  [ 3  4]\n",
      "  [ 5  6]]\n",
      "\n",
      " [[ 7  8]\n",
      "  [ 9 10]\n",
      "  [11 12]]]\n"
     ]
    }
   ],
   "source": [
    "# De vector 12 a tensor 2x3x2.\n",
    "print(vector)\n",
    "tensor = vector.reshape(2, 3, 2)\n",
    "print(tensor)"
   ]
  },
  {
   "cell_type": "code",
   "execution_count": 7,
   "metadata": {},
   "outputs": [
    {
     "name": "stdout",
     "output_type": "stream",
     "text": [
      "(12,) (3, 4) (2, 6) (2, 3, 2)\n"
     ]
    }
   ],
   "source": [
    "# Comprobación de la coherencia de las dimensiones.\n",
    "print(vector.shape, matriz_1.shape, matriz_2.shape, tensor.shape)"
   ]
  },
  {
   "cell_type": "markdown",
   "metadata": {},
   "source": [
    "### `ravel`"
   ]
  },
  {
   "cell_type": "code",
   "execution_count": 8,
   "metadata": {},
   "outputs": [
    {
     "name": "stdout",
     "output_type": "stream",
     "text": [
      "[ 1  2  3  4  5  6  7  8  9 10 11 12]\n",
      "[ 1  2  3  4  5  6  7  8  9 10 11 12]\n",
      "[ 1  2  3  4  5  6  7  8  9 10 11 12]\n"
     ]
    }
   ],
   "source": [
    "# Desenrollado de las matrices y el tensor.\n",
    "print(matriz_1.ravel())\n",
    "print(matriz_2.ravel())\n",
    "print(tensor.ravel())"
   ]
  },
  {
   "cell_type": "markdown",
   "metadata": {},
   "source": [
    "### `newaxis`"
   ]
  },
  {
   "cell_type": "code",
   "execution_count": 9,
   "metadata": {},
   "outputs": [
    {
     "name": "stdout",
     "output_type": "stream",
     "text": [
      "[[[ 1  2  3  4]]\n",
      "\n",
      " [[ 5  6  7  8]]\n",
      "\n",
      " [[ 9 10 11 12]]]\n",
      "(3, 1, 4)\n"
     ]
    }
   ],
   "source": [
    "# Creación de un tensor añadiendo un eje en medio.\n",
    "tensor = matriz_1[:, np.newaxis, :]\n",
    "print(tensor)\n",
    "print(tensor.shape)"
   ]
  },
  {
   "cell_type": "code",
   "execution_count": 10,
   "metadata": {},
   "outputs": [
    {
     "name": "stdout",
     "output_type": "stream",
     "text": [
      "[[ 1  2  3  4]\n",
      " [ 5  6  7  8]\n",
      " [ 9 10 11 12]]\n",
      "(3, 4)\n"
     ]
    }
   ],
   "source": [
    "# Recuperación de la matriz original.\n",
    "matriz_3 = tensor[:, 0, :]\n",
    "print(matriz_3)\n",
    "print(matriz_3.shape)"
   ]
  },
  {
   "cell_type": "markdown",
   "metadata": {},
   "source": [
    "### `concatenate`"
   ]
  },
  {
   "cell_type": "code",
   "execution_count": 11,
   "metadata": {},
   "outputs": [],
   "source": [
    "# Creación de matrices de ceros, unos y doses.\n",
    "matriz_0 = np.zeros((2, 3))\n",
    "matriz_1 = np.ones((3, 3))\n",
    "matriz_2 = np.ones((2, 3)) * 2"
   ]
  },
  {
   "cell_type": "code",
   "execution_count": 12,
   "metadata": {},
   "outputs": [
    {
     "name": "stdout",
     "output_type": "stream",
     "text": [
      "[[0. 0. 0.]\n",
      " [0. 0. 0.]\n",
      " [1. 1. 1.]\n",
      " [1. 1. 1.]\n",
      " [1. 1. 1.]\n",
      " [2. 2. 2.]\n",
      " [2. 2. 2.]]\n"
     ]
    }
   ],
   "source": [
    "# Concatenación a lo largo del eje 0.\n",
    "print(np.concatenate((matriz_0, matriz_1, matriz_2), axis = 0))"
   ]
  },
  {
   "cell_type": "code",
   "execution_count": 13,
   "metadata": {},
   "outputs": [],
   "source": [
    "# Creación de matrices de ceros y unos.\n",
    "matriz_0 = np.zeros((3, 4))\n",
    "matriz_1 = np.ones((3, 2))"
   ]
  },
  {
   "cell_type": "code",
   "execution_count": 14,
   "metadata": {},
   "outputs": [
    {
     "name": "stdout",
     "output_type": "stream",
     "text": [
      "[[0. 0. 0. 0. 1. 1.]\n",
      " [0. 0. 0. 0. 1. 1.]\n",
      " [0. 0. 0. 0. 1. 1.]]\n"
     ]
    }
   ],
   "source": [
    "# Concatenación a lo largo del eje 1.\n",
    "print(np.concatenate((matriz_0, matriz_1), axis = 1))"
   ]
  },
  {
   "cell_type": "markdown",
   "metadata": {},
   "source": [
    "## Ejercicios: Cambio de forma de un array y concatenación"
   ]
  },
  {
   "cell_type": "markdown",
   "metadata": {},
   "source": [
    "### Enunciado"
   ]
  },
  {
   "cell_type": "markdown",
   "metadata": {},
   "source": [
    "A continuación se genera un array de $20$ notas aleatorias, entre $0$ y $10$.\n",
    "Suponiendo que el array representa la nota de $5$ alumnos, listados en el array `alumnos`, en las $4$ asignaturas del array `asignaturas`, y que en el array están primero las notas del primer alumno, luego las del segundo, etc., y que para cada alumno aparecen en el orden indicado en el array `asignaturas`, transforma el array para que se muestren las notas en forma de matriz, donde cada fila corresponda a un alumno, y cada columna a una asignatura."
   ]
  },
  {
   "cell_type": "code",
   "execution_count": 15,
   "metadata": {},
   "outputs": [
    {
     "name": "stdout",
     "output_type": "stream",
     "text": [
      "[7.77702411 2.3754122  8.24278533 9.65749198 9.72601114 4.53449247\n",
      " 6.09042463 7.75526515 6.41613345 7.2201823  0.35036524 2.98449471\n",
      " 0.58512492 8.57060943 3.72854028 6.79847952 2.56279949 3.47581215\n",
      " 0.0941277  3.58333783]\n"
     ]
    }
   ],
   "source": [
    "alumnos = np.array(['Juan', 'Mónica', 'Ana', 'Raúl', 'Carmen'])\n",
    "asignaturas = np.array(['Matemáticas', 'Inglés', 'Literatura', 'Historia'])\n",
    "\n",
    "np.random.seed(13)\n",
    "notas = np.random.rand(len(alumnos) * len(asignaturas)) * 10\n",
    "print(notas)"
   ]
  },
  {
   "cell_type": "markdown",
   "metadata": {},
   "source": [
    "### Respuesta"
   ]
  },
  {
   "cell_type": "code",
   "execution_count": 16,
   "metadata": {},
   "outputs": [
    {
     "name": "stdout",
     "output_type": "stream",
     "text": [
      "[[7.77702411 2.3754122  8.24278533 9.65749198]\n",
      " [9.72601114 4.53449247 6.09042463 7.75526515]\n",
      " [6.41613345 7.2201823  0.35036524 2.98449471]\n",
      " [0.58512492 8.57060943 3.72854028 6.79847952]\n",
      " [2.56279949 3.47581215 0.0941277  3.58333783]]\n"
     ]
    }
   ],
   "source": [
    "notas_bien = notas.reshape(5,4)\n",
    "print(notas_bien)"
   ]
  },
  {
   "cell_type": "markdown",
   "metadata": {},
   "source": [
    "### Enunciado"
   ]
  },
  {
   "cell_type": "markdown",
   "metadata": {},
   "source": [
    "En la siguiente celda se define el array `x`, que tiene el siguiente aspecto:\n",
    "$$ x = \\begin{pmatrix} 1 & 1 & 1 \\\\ 1 & 0 & 0 \\\\ 1 & 0 & 0 \\end{pmatrix} . $$\n",
    "A partir de `x`, definir un array con el siguiente contenido:\n",
    "$$ \\begin{pmatrix} 1 & 1 & 1 & 1 & 1 & 1 \\\\ 1 & 0 & 0 & 0 & 0 & 1 \\\\ 1 & 0 & 0 & 0 & 0 & 1 \\\\ 1 & 0 & 0 & 0 & 0 & 1 \\\\ 1 & 0 & 0 & 0 & 0 & 1 \\\\ 1 & 1 & 1 & 1 & 1 & 1 \\end{pmatrix} . $$\n",
    "**Nota**: Debería bastar con dos líneas de código."
   ]
  },
  {
   "cell_type": "code",
   "execution_count": 17,
   "metadata": {},
   "outputs": [
    {
     "name": "stdout",
     "output_type": "stream",
     "text": [
      "[[1 1 1]\n",
      " [1 0 0]\n",
      " [1 0 0]]\n"
     ]
    }
   ],
   "source": [
    "x = np.array([[1, 1, 1], [1, 0, 0], [1, 0, 0]])\n",
    "\n",
    "print(x)"
   ]
  },
  {
   "cell_type": "markdown",
   "metadata": {},
   "source": [
    "### Respuesta"
   ]
  },
  {
   "cell_type": "code",
   "execution_count": 47,
   "metadata": {},
   "outputs": [
    {
     "data": {
      "text/plain": [
       "array([[1, 1, 1, 1, 1, 1],\n",
       "       [1, 0, 0, 0, 0, 1],\n",
       "       [1, 0, 0, 0, 0, 1],\n",
       "       [1, 0, 0, 0, 0, 1],\n",
       "       [1, 0, 0, 0, 0, 1],\n",
       "       [1, 1, 1, 1, 1, 1]])"
      ]
     },
     "execution_count": 47,
     "metadata": {},
     "output_type": "execute_result"
    }
   ],
   "source": [
    "a = np.concatenate((x,x[::-1]),axis=0)\n",
    "b = np.concatenate((x[0][::-1],x[1][::-1],x[2][::-1],x[1][::-1],x[1][::-1],x[0][::-1])).reshape(6,3)\n",
    "c = np.concatenate((a,b),axis=1)\n",
    "c"
   ]
  },
  {
   "cell_type": "markdown",
   "metadata": {
    "collapsed": true
   },
   "source": [
    "## Funciones universales"
   ]
  },
  {
   "cell_type": "code",
   "execution_count": 48,
   "metadata": {},
   "outputs": [],
   "source": [
    "# Creación de la matriz.\n",
    "matriz = np.array([[1, 4, 9], [16, 25, 36], [49, 64, 81]])"
   ]
  },
  {
   "cell_type": "markdown",
   "metadata": {},
   "source": [
    "### sqrt"
   ]
  },
  {
   "cell_type": "code",
   "execution_count": 49,
   "metadata": {},
   "outputs": [
    {
     "name": "stdout",
     "output_type": "stream",
     "text": [
      "[[ 1  4  9]\n",
      " [16 25 36]\n",
      " [49 64 81]]\n",
      "[[1. 2. 3.]\n",
      " [4. 5. 6.]\n",
      " [7. 8. 9.]]\n"
     ]
    }
   ],
   "source": [
    "# Cálculo de la raíz cuadrada (elemento a elemento).\n",
    "print(matriz)\n",
    "print(np.sqrt(matriz))"
   ]
  },
  {
   "cell_type": "markdown",
   "metadata": {},
   "source": [
    "### Tiempo de ejecución"
   ]
  },
  {
   "cell_type": "code",
   "execution_count": 56,
   "metadata": {},
   "outputs": [],
   "source": [
    "# Creación del array, 10000 puntos entre 0 y 2 pi.\n",
    "x = np.linspace(0, 2 * np.pi, 10000)"
   ]
  },
  {
   "cell_type": "code",
   "execution_count": 57,
   "metadata": {},
   "outputs": [
    {
     "name": "stdout",
     "output_type": "stream",
     "text": [
      "Wall time: 0 ns\n"
     ]
    }
   ],
   "source": [
    "# Tiempo de cálculo del seno directamente.\n",
    "%time y = np.sin(x)"
   ]
  },
  {
   "cell_type": "code",
   "execution_count": 58,
   "metadata": {},
   "outputs": [
    {
     "name": "stdout",
     "output_type": "stream",
     "text": [
      "Wall time: 28.9 ms\n"
     ]
    }
   ],
   "source": [
    "# Tiempo de cálculo del seno con un bucle.\n",
    "%time y = np.array([np.sin(elem) for elem in x])"
   ]
  },
  {
   "cell_type": "markdown",
   "metadata": {},
   "source": [
    "## Ejercicios: Funciones universales"
   ]
  },
  {
   "cell_type": "markdown",
   "metadata": {},
   "source": [
    "### Enunciado"
   ]
  },
  {
   "cell_type": "markdown",
   "metadata": {},
   "source": [
    "A continuación se generan $2$ vectores conteniendo $5$ notas aleatorias, entre $0$ y $10$, correspondientes a las notas de $5$ alumnos en dos exámenes.\n",
    "Suponiendo que se retenga la nota más alta entre ambos exámenes:\n",
    "1. Calcula un vector que contenga, para cada alumno, su nota máxima, usando la función de NumPy `maximum`.\n",
    "1. Convierte el vector anterior de notas al rango $[1, 4]$."
   ]
  },
  {
   "cell_type": "code",
   "execution_count": 59,
   "metadata": {},
   "outputs": [
    {
     "name": "stdout",
     "output_type": "stream",
     "text": [
      "[6.96469186 2.86139335 2.26851454 5.51314769 7.1946897 ]\n",
      "[4.2310646  9.80764198 6.84829739 4.80931901 3.92117518]\n"
     ]
    }
   ],
   "source": [
    "n = 5\n",
    "np.random.seed(123)\n",
    "\n",
    "notas_1 = 10 * np.random.rand(n)\n",
    "notas_2 = 10 * np.random.rand(n)\n",
    "\n",
    "print(notas_1)\n",
    "print(notas_2)"
   ]
  },
  {
   "cell_type": "markdown",
   "metadata": {},
   "source": [
    "### Respuesta"
   ]
  },
  {
   "cell_type": "code",
   "execution_count": 61,
   "metadata": {},
   "outputs": [
    {
     "data": {
      "text/plain": [
       "array([6.96469186, 9.80764198, 6.84829739, 5.51314769, 7.1946897 ])"
      ]
     },
     "execution_count": 61,
     "metadata": {},
     "output_type": "execute_result"
    }
   ],
   "source": [
    "np.maximum(notas_1,notas_2)"
   ]
  },
  {
   "cell_type": "markdown",
   "metadata": {},
   "source": [
    "# Álgebra lineal"
   ]
  },
  {
   "cell_type": "markdown",
   "metadata": {},
   "source": [
    "## Módulo `linalg`"
   ]
  },
  {
   "cell_type": "markdown",
   "metadata": {},
   "source": [
    "### Producto escalar"
   ]
  },
  {
   "cell_type": "code",
   "execution_count": 62,
   "metadata": {
    "scrolled": true
   },
   "outputs": [],
   "source": [
    "# Creación de los dos vectores.\n",
    "vector_1 = np.array([1, 2, 3])\n",
    "vector_2 = np.array([2, 3, 4])"
   ]
  },
  {
   "cell_type": "code",
   "execution_count": 63,
   "metadata": {},
   "outputs": [
    {
     "name": "stdout",
     "output_type": "stream",
     "text": [
      "[1 2 3] x [2 3 4] = 20\n",
      "[1 2 3] x [2 3 4] = 20\n"
     ]
    }
   ],
   "source": [
    "# Producto escalar (con ambas sintáxis, aunque la segunda suele ser más cómoda).\n",
    "print(vector_1, \"x\", vector_2, \"=\", np.dot(vector_1, vector_2))\n",
    "print(vector_1, \"x\", vector_2, \"=\", vector_1 @ vector_2)"
   ]
  },
  {
   "cell_type": "markdown",
   "metadata": {},
   "source": [
    "### Producto matricial"
   ]
  },
  {
   "cell_type": "code",
   "execution_count": 64,
   "metadata": {},
   "outputs": [],
   "source": [
    "# Creación de dos matrices.\n",
    "matriz_1 = np.array([[1, 1, 0], [2, 1, 0]])\n",
    "matriz_2 = np.array([[1, 1], [1, 1], [0, 2]])"
   ]
  },
  {
   "cell_type": "code",
   "execution_count": 65,
   "metadata": {},
   "outputs": [
    {
     "name": "stdout",
     "output_type": "stream",
     "text": [
      "[[1 1 0]\n",
      " [2 1 0]] \n",
      " x \n",
      " [[1 1]\n",
      " [1 1]\n",
      " [0 2]] \n",
      "---------\n",
      " [[2 2]\n",
      " [3 3]]\n"
     ]
    }
   ],
   "source": [
    "# Producto matricial.\n",
    "print(matriz_1, \"\\n x \\n\", matriz_2, \"\\n---------\\n\", matriz_1 @ matriz_2)"
   ]
  },
  {
   "cell_type": "markdown",
   "metadata": {},
   "source": [
    "### Traza"
   ]
  },
  {
   "cell_type": "code",
   "execution_count": 66,
   "metadata": {},
   "outputs": [],
   "source": [
    "# Creación de una matriz cuadrada simétrica.\n",
    "matriz = np.random.randint(0, 5, size = (3, 3))\n",
    "matriz = matriz + matriz.T"
   ]
  },
  {
   "cell_type": "code",
   "execution_count": 67,
   "metadata": {},
   "outputs": [
    {
     "name": "stdout",
     "output_type": "stream",
     "text": [
      "[[0 5 7]\n",
      " [5 0 1]\n",
      " [7 1 6]]\n",
      "6\n"
     ]
    }
   ],
   "source": [
    "# Traza.\n",
    "print(matriz)\n",
    "print(matriz.trace())"
   ]
  },
  {
   "cell_type": "markdown",
   "metadata": {},
   "source": [
    "### Determinante"
   ]
  },
  {
   "cell_type": "code",
   "execution_count": 73,
   "metadata": {},
   "outputs": [
    {
     "name": "stdout",
     "output_type": "stream",
     "text": [
      "[[0 5 7]\n",
      " [5 0 1]\n",
      " [7 1 6]]\n",
      "-79.99999999999997\n"
     ]
    }
   ],
   "source": [
    "# Determinante.\n",
    "print(matriz)\n",
    "print(np.linalg.det(matriz))"
   ]
  },
  {
   "cell_type": "markdown",
   "metadata": {},
   "source": [
    "### Inversa"
   ]
  },
  {
   "cell_type": "code",
   "execution_count": 71,
   "metadata": {},
   "outputs": [
    {
     "name": "stdout",
     "output_type": "stream",
     "text": [
      "[[ 0.0125  0.2875 -0.0625]\n",
      " [ 0.2875  0.6125 -0.4375]\n",
      " [-0.0625 -0.4375  0.3125]]\n"
     ]
    }
   ],
   "source": [
    "# Inversa.\n",
    "matriz_inv = np.linalg.inv(matriz)\n",
    "print(matriz_inv)"
   ]
  },
  {
   "cell_type": "code",
   "execution_count": 72,
   "metadata": {},
   "outputs": [
    {
     "name": "stdout",
     "output_type": "stream",
     "text": [
      "[[ 1.00000000e+00  6.93889390e-17  5.55111512e-17]\n",
      " [ 1.11022302e-16  1.00000000e+00 -6.66133815e-16]\n",
      " [-5.55111512e-17  0.00000000e+00  1.00000000e+00]]\n"
     ]
    }
   ],
   "source": [
    "# El producto debería dar la identidad.\n",
    "print(matriz_inv @ matriz)"
   ]
  },
  {
   "cell_type": "markdown",
   "metadata": {},
   "source": [
    "### Autovalores y autovectores"
   ]
  },
  {
   "cell_type": "code",
   "execution_count": null,
   "metadata": {},
   "outputs": [],
   "source": [
    "# Cálculo de autovalores y autovectores.\n",
    "v, w = np.linalg.eig(matriz)\n",
    "print(\"Autovalores:\\n\", v)\n",
    "print(\"\\nAutovectores:\\n\", w)"
   ]
  },
  {
   "cell_type": "markdown",
   "metadata": {},
   "source": [
    "## Ejercicios: Módulo `linalg`"
   ]
  },
  {
   "cell_type": "markdown",
   "metadata": {},
   "source": [
    "### Enunciado"
   ]
  },
  {
   "cell_type": "markdown",
   "metadata": {},
   "source": [
    "Dado el siguiente sistema lineal de ecuaciones:\n",
    "$$ \\left \\{\n",
    "\\begin{matrix}\n",
    "3x & + & y & + & 2z & = & 10\\\\\n",
    "4x & + & 3y & + & 4z & = & 21\\\\\n",
    "2x & + & y & + & 2z & = & 9\\\\\n",
    "\\end{matrix}\n",
    "\\right .\n",
    "$$\n",
    "1. Resuélvelo con NumPy usando la inversa.\n",
    "1. Resuélvelo con NumPy usando la función `solve` del módulo `linalg`. Este método es, en general, más eficiente y estable numéricamente."
   ]
  },
  {
   "cell_type": "markdown",
   "metadata": {},
   "source": [
    "### Respuesta"
   ]
  },
  {
   "cell_type": "code",
   "execution_count": 81,
   "metadata": {},
   "outputs": [
    {
     "name": "stdout",
     "output_type": "stream",
     "text": [
      "[[1.]\n",
      " [3.]\n",
      " [2.]]\n",
      "[[1.]\n",
      " [3.]\n",
      " [2.]]\n"
     ]
    }
   ],
   "source": [
    "matriz = [[3,1,2],[4,3,4],[2,1,2]]\n",
    "coefs = [[10],[21],[9]]\n",
    "soluciona = np.linalg.inv(matriz) @ coefs\n",
    "solucionb = np.linalg.solve(matriz,coefs)\n",
    "print(soluciona)\n",
    "print(solucionb)"
   ]
  },
  {
   "cell_type": "markdown",
   "metadata": {},
   "source": [
    "# Análisis de datos con NumPy"
   ]
  },
  {
   "cell_type": "markdown",
   "metadata": {},
   "source": [
    "## Funciones estadísticas"
   ]
  },
  {
   "cell_type": "code",
   "execution_count": 82,
   "metadata": {},
   "outputs": [
    {
     "name": "stdout",
     "output_type": "stream",
     "text": [
      "[ 1  2  3  4  5  6  7  8  9 10]\n"
     ]
    }
   ],
   "source": [
    "# Creación de los datos.\n",
    "datos = np.arange(1,11)\n",
    "print(datos)"
   ]
  },
  {
   "cell_type": "markdown",
   "metadata": {},
   "source": [
    "### Media, desviación, mínimo y máximo"
   ]
  },
  {
   "cell_type": "code",
   "execution_count": 83,
   "metadata": {},
   "outputs": [
    {
     "name": "stdout",
     "output_type": "stream",
     "text": [
      "Media = 5.50\n"
     ]
    }
   ],
   "source": [
    "print(\"Media = %.2f\" % datos.mean())"
   ]
  },
  {
   "cell_type": "code",
   "execution_count": 84,
   "metadata": {},
   "outputs": [
    {
     "name": "stdout",
     "output_type": "stream",
     "text": [
      "Desviación = 2.87\n"
     ]
    }
   ],
   "source": [
    "print(\"Desviación = %.2f\" % datos.std())"
   ]
  },
  {
   "cell_type": "code",
   "execution_count": 85,
   "metadata": {},
   "outputs": [
    {
     "name": "stdout",
     "output_type": "stream",
     "text": [
      "Minimo = 1\n"
     ]
    }
   ],
   "source": [
    "print(\"Minimo = %d\" % datos.min())"
   ]
  },
  {
   "cell_type": "code",
   "execution_count": 86,
   "metadata": {},
   "outputs": [
    {
     "name": "stdout",
     "output_type": "stream",
     "text": [
      "Maximo = 10\n"
     ]
    }
   ],
   "source": [
    "print(\"Maximo = %d\" % datos.max())"
   ]
  },
  {
   "cell_type": "code",
   "execution_count": 87,
   "metadata": {},
   "outputs": [
    {
     "name": "stdout",
     "output_type": "stream",
     "text": [
      "Posición mínimo = 0\n"
     ]
    }
   ],
   "source": [
    "print(\"Posición mínimo = %d\" % datos.argmin())"
   ]
  },
  {
   "cell_type": "code",
   "execution_count": 88,
   "metadata": {},
   "outputs": [
    {
     "name": "stdout",
     "output_type": "stream",
     "text": [
      "Posición máximo = 9\n"
     ]
    }
   ],
   "source": [
    "print(\"Posición máximo = %d\" % datos.argmax())"
   ]
  },
  {
   "cell_type": "markdown",
   "metadata": {},
   "source": [
    "### Suma, producto"
   ]
  },
  {
   "cell_type": "code",
   "execution_count": 89,
   "metadata": {},
   "outputs": [
    {
     "name": "stdout",
     "output_type": "stream",
     "text": [
      "Suma = 55\n"
     ]
    }
   ],
   "source": [
    "print(\"Suma = %d\" % datos.sum())"
   ]
  },
  {
   "cell_type": "code",
   "execution_count": 90,
   "metadata": {},
   "outputs": [
    {
     "name": "stdout",
     "output_type": "stream",
     "text": [
      "Producto = 3628800\n"
     ]
    }
   ],
   "source": [
    "print(\"Producto = %d\" % datos.prod())"
   ]
  },
  {
   "cell_type": "code",
   "execution_count": 91,
   "metadata": {},
   "outputs": [
    {
     "name": "stdout",
     "output_type": "stream",
     "text": [
      "Suma acumulada = [ 1  3  6 10 15 21 28 36 45 55]\n"
     ]
    }
   ],
   "source": [
    "print(\"Suma acumulada =\", datos.cumsum())"
   ]
  },
  {
   "cell_type": "code",
   "execution_count": 92,
   "metadata": {},
   "outputs": [
    {
     "name": "stdout",
     "output_type": "stream",
     "text": [
      "Producto acumulado = [      1       2       6      24     120     720    5040   40320  362880\n",
      " 3628800]\n"
     ]
    }
   ],
   "source": [
    "print(\"Producto acumulado =\", datos.cumprod())"
   ]
  },
  {
   "cell_type": "markdown",
   "metadata": {},
   "source": [
    "### Estadísticas sobre matrices"
   ]
  },
  {
   "cell_type": "code",
   "execution_count": 93,
   "metadata": {},
   "outputs": [
    {
     "name": "stdout",
     "output_type": "stream",
     "text": [
      "[[1 2 3 4]\n",
      " [5 6 7 8]]\n"
     ]
    }
   ],
   "source": [
    "# Creación de los datos.\n",
    "datos = np.array([[1, 2, 3, 4], [5, 6, 7, 8]])\n",
    "print(datos)"
   ]
  },
  {
   "cell_type": "code",
   "execution_count": 94,
   "metadata": {},
   "outputs": [
    {
     "name": "stdout",
     "output_type": "stream",
     "text": [
      "Media = 4.50\n"
     ]
    }
   ],
   "source": [
    "# Cálculo de la media (sin argumentos, media de todos los elementos del array).\n",
    "print(\"Media = %.2f\" % datos.mean())"
   ]
  },
  {
   "cell_type": "code",
   "execution_count": 95,
   "metadata": {},
   "outputs": [
    {
     "name": "stdout",
     "output_type": "stream",
     "text": [
      "Media = [3. 4. 5. 6.]\n"
     ]
    }
   ],
   "source": [
    "# Cálculo de la media de cada columna (eje 0).\n",
    "print(\"Media =\", datos.mean(axis = 0))"
   ]
  },
  {
   "cell_type": "code",
   "execution_count": 96,
   "metadata": {},
   "outputs": [
    {
     "name": "stdout",
     "output_type": "stream",
     "text": [
      "Media = [2.5 6.5]\n"
     ]
    }
   ],
   "source": [
    "# Cálculo de la media de cada columna (eje 1).\n",
    "print(\"Media =\", datos.mean(axis = 1))"
   ]
  },
  {
   "cell_type": "markdown",
   "metadata": {},
   "source": [
    "## Ejercicios: Funciones estadísticas"
   ]
  },
  {
   "cell_type": "markdown",
   "metadata": {},
   "source": [
    "### Enunciado"
   ]
  },
  {
   "cell_type": "markdown",
   "metadata": {},
   "source": [
    "Dado el array `notas` que contiene las notas de los alumnos listados en el array `alumnos`:\n",
    "1. Calcular la nota media.\n",
    "1. Imprimir el nombre de los alumnos cuya nota sea más de una desviación típica la nota media, y las respectivas notas."
   ]
  },
  {
   "cell_type": "code",
   "execution_count": 119,
   "metadata": {},
   "outputs": [
    {
     "name": "stdout",
     "output_type": "stream",
     "text": [
      "(40,)\n"
     ]
    }
   ],
   "source": [
    "np.random.seed(123)\n",
    "alumnos = np.array([\"JOSE\", \"ANTONIO\", \"JUAN\", \"MANUEL\", \"FRANCISCO\", \"LUIS\", \"JAVIER\", \"MIGUEL\", \"ANGEL\", \"CARLOS\", \"JESUS\", \"DAVID\", \"PEDRO\", \"DANIEL\", \"ALEJANDRO\", \"MARIA\", \"RAFAEL\", \"ALBERTO\", \"FERNANDO\", \"PABLO\", \"MARIA\", \"CARMEN\", \"ANA\", \"ISABEL\", \"DOLORES\", \"PILAR\", \"TERESA\", \"JOSEFA\", \"ROSA\", \"CRISTINA\", \"ANGELES\", \"ANTONIA\", \"LAURA\", \"ELENA\", \"FRANCISCA\", \"MARTA\", \"LUCIA\", \"MERCEDES\", \"LUISA\", \"CONCEPCION\"])\n",
    "notas = 10 * np.random.rand(len(alumnos))"
   ]
  },
  {
   "cell_type": "markdown",
   "metadata": {},
   "source": [
    "### Respuesta"
   ]
  },
  {
   "cell_type": "code",
   "execution_count": 133,
   "metadata": {},
   "outputs": [
    {
     "name": "stdout",
     "output_type": "stream",
     "text": [
      "4.975868023888985\n",
      "[['JAVIER' '9.807641983846155']\n",
      " ['DAVID' '7.290497073840417']\n",
      " ['MARIA' '7.379954057320357']\n",
      " ['CARMEN' '8.494317940777895']\n",
      " ['ANA' '7.244553248606352']\n",
      " ['MERCEDES' '8.933891631171347']\n",
      " ['LUISA' '9.441600182038796']]\n"
     ]
    }
   ],
   "source": [
    "print(notas.mean())\n",
    "a = np.array(alumnos[notas > notas.mean() + notas.std()]).reshape(7,1)\n",
    "b = np.array(notas[notas > notas.mean() + notas.std()]).reshape(7,1)\n",
    "\n",
    "print(np.concatenate((a,b),axis=1))"
   ]
  },
  {
   "cell_type": "markdown",
   "metadata": {},
   "source": [
    "## La función `where`"
   ]
  },
  {
   "cell_type": "code",
   "execution_count": 134,
   "metadata": {},
   "outputs": [
    {
     "name": "stdout",
     "output_type": "stream",
     "text": [
      "2017-07-13 0.62 2017-08-10 0.87\n",
      "2016-01-13 0.12 2015-04-23 0.25\n",
      "2018-08-13 0.32 2016-03-10 0.48\n",
      "2020-01-03 0.41 2010-11-03 0.99\n"
     ]
    }
   ],
   "source": [
    "# Creación de las lecturas y sus fechas.\n",
    "fecha_1 = np.array(['2017-07-13', '2016-01-13', '2018-08-13', '2020-01-03'], dtype='datetime64')\n",
    "lectura_1 = np.around(np.random.rand(len(fecha_1)), 2)\n",
    "fecha_2 = np.array(['2017-08-10', '2015-04-23', '2016-03-10', '2010-11-03'], dtype='datetime64')\n",
    "lectura_2 = np.around(np.random.rand(len(fecha_2)), 2)\n",
    "\n",
    "for f1, l1, f2, l2 in zip(fecha_1, lectura_1, fecha_2, lectura_2):\n",
    "    print(f1, l1, f2, l2)"
   ]
  },
  {
   "cell_type": "code",
   "execution_count": 135,
   "metadata": {},
   "outputs": [
    {
     "name": "stdout",
     "output_type": "stream",
     "text": [
      "[False  True  True  True]\n"
     ]
    }
   ],
   "source": [
    "# Creación de la condición.\n",
    "condicion = fecha_1 >= fecha_2\n",
    "print(condicion)"
   ]
  },
  {
   "cell_type": "markdown",
   "metadata": {},
   "source": [
    "### Implementación con `where`"
   ]
  },
  {
   "cell_type": "code",
   "execution_count": 136,
   "metadata": {},
   "outputs": [
    {
     "name": "stdout",
     "output_type": "stream",
     "text": [
      "[0.87 0.12 0.32 0.41]\n"
     ]
    }
   ],
   "source": [
    "# La funcion where devolverá las lecturas de lectura_1 o lectura_2 según qué fecha sea más reciente.\n",
    "print(np.where(condicion, lectura_1, lectura_2))"
   ]
  },
  {
   "cell_type": "markdown",
   "metadata": {},
   "source": [
    "### Implementación con bucles"
   ]
  },
  {
   "cell_type": "code",
   "execution_count": 137,
   "metadata": {},
   "outputs": [
    {
     "name": "stdout",
     "output_type": "stream",
     "text": [
      "[0.87 0.12 0.32 0.41]\n"
     ]
    }
   ],
   "source": [
    "print(np.array([(l1 if c else l2) for l1, l2, c in zip(lectura_1, lectura_2, condicion)]))"
   ]
  },
  {
   "cell_type": "markdown",
   "metadata": {},
   "source": [
    "## Ejercicios: La función `where`"
   ]
  },
  {
   "cell_type": "markdown",
   "metadata": {},
   "source": [
    "### Enunciado"
   ]
  },
  {
   "cell_type": "markdown",
   "metadata": {},
   "source": [
    "Dados los arrays `examen` y `recuperacion`, que contienen, para cada alumno, su nota en un primer examen y en el examen de recuperación, respectivamente:\n",
    "1. Obtener las notas finales, asumiento que la nota de recuperación solo se tiene en cuenta si se ha suspendido el primer examen."
   ]
  },
  {
   "cell_type": "code",
   "execution_count": 138,
   "metadata": {},
   "outputs": [
    {
     "name": "stdout",
     "output_type": "stream",
     "text": [
      "[7.  2.9 2.3 5.5 7.2 4.2 9.8 6.8 4.8 3.9]\n",
      "[3.4 7.3 4.4 0.6 4.  7.4 1.8 1.8 5.3 5.3]\n"
     ]
    }
   ],
   "source": [
    "np.random.seed(123)\n",
    "examen = np.around(10 * np.random.rand(10), 1)\n",
    "recuperacion = np.around(10 * np.random.rand(len(examen)), 1)\n",
    "\n",
    "print(examen)\n",
    "print(recuperacion)"
   ]
  },
  {
   "cell_type": "markdown",
   "metadata": {},
   "source": [
    "### Respuesta"
   ]
  },
  {
   "cell_type": "code",
   "execution_count": 141,
   "metadata": {},
   "outputs": [
    {
     "name": "stdout",
     "output_type": "stream",
     "text": [
      "[7.  7.3 4.4 5.5 7.2 7.4 9.8 6.8 5.3 5.3]\n"
     ]
    }
   ],
   "source": [
    "condicion = examen > 5\n",
    "print(np.where(condicion,examen,recuperacion))"
   ]
  },
  {
   "cell_type": "markdown",
   "metadata": {},
   "source": [
    "## La función `unique`"
   ]
  },
  {
   "cell_type": "code",
   "execution_count": 142,
   "metadata": {},
   "outputs": [],
   "source": [
    "# Creación delos datos.\n",
    "datos = np.random.randint(0, 4, 10)"
   ]
  },
  {
   "cell_type": "code",
   "execution_count": 143,
   "metadata": {},
   "outputs": [
    {
     "name": "stdout",
     "output_type": "stream",
     "text": [
      "[0 1 0 3 1 3 0 0 0 2]\n",
      "[0 1 2 3]\n"
     ]
    }
   ],
   "source": [
    "# Elementos únicos del array.\n",
    "print(datos)\n",
    "print(np.unique(datos))"
   ]
  },
  {
   "cell_type": "markdown",
   "metadata": {},
   "source": [
    "## Ejercicios: La función `unique`"
   ]
  },
  {
   "cell_type": "markdown",
   "metadata": {},
   "source": [
    "### Enunciado"
   ]
  },
  {
   "cell_type": "markdown",
   "metadata": {},
   "source": [
    "El siguiente array representa los temas elegidos por cada uno de los alumnos para realizar una presentación al final del curso.\n",
    "1. Saca la lista de temas sin repeticiones.\n",
    "1. ¿Cuántos temas diferentes se van a tratar en total?"
   ]
  },
  {
   "cell_type": "code",
   "execution_count": 144,
   "metadata": {},
   "outputs": [
    {
     "name": "stdout",
     "output_type": "stream",
     "text": [
      "['Matplotlib' 'Matplotlib' 'Matplotlib' 'Pandas' 'Matplotlib' 'NumPy'\n",
      " 'Sklearn' 'Sklearn' 'Sklearn' 'Pandas' 'NumPy' 'Matplotlib' 'NumPy'\n",
      " 'Matplotlib' 'Pandas']\n"
     ]
    }
   ],
   "source": [
    "temas = np.array(['Matplotlib', 'Matplotlib', 'Matplotlib', 'Pandas', 'Matplotlib', 'NumPy', 'Sklearn', 'Sklearn', 'Sklearn', 'Pandas', 'NumPy', 'Matplotlib', 'NumPy', 'Matplotlib', 'Pandas'])\n",
    "print(temas)"
   ]
  },
  {
   "cell_type": "markdown",
   "metadata": {},
   "source": [
    "### Respuesta"
   ]
  },
  {
   "cell_type": "code",
   "execution_count": 147,
   "metadata": {},
   "outputs": [
    {
     "name": "stdout",
     "output_type": "stream",
     "text": [
      "['Matplotlib' 'NumPy' 'Pandas' 'Sklearn']\n",
      "4\n"
     ]
    }
   ],
   "source": [
    "print(np.unique(temas))\n",
    "print(len(np.unique(temas)))"
   ]
  },
  {
   "cell_type": "markdown",
   "metadata": {},
   "source": [
    "## Arrays booleanos"
   ]
  },
  {
   "cell_type": "code",
   "execution_count": 148,
   "metadata": {},
   "outputs": [],
   "source": [
    "# Creación de la condición (aleatoria).\n",
    "condicion = np.random.randn(10) > 0"
   ]
  },
  {
   "cell_type": "markdown",
   "metadata": {},
   "source": [
    "### Any"
   ]
  },
  {
   "cell_type": "code",
   "execution_count": 149,
   "metadata": {},
   "outputs": [
    {
     "name": "stdout",
     "output_type": "stream",
     "text": [
      "[False False False False False  True False False False False]\n",
      "True\n"
     ]
    }
   ],
   "source": [
    "print(condicion)\n",
    "print(condicion.any())"
   ]
  },
  {
   "cell_type": "markdown",
   "metadata": {},
   "source": [
    "### All"
   ]
  },
  {
   "cell_type": "code",
   "execution_count": 150,
   "metadata": {},
   "outputs": [
    {
     "name": "stdout",
     "output_type": "stream",
     "text": [
      "[False False False False False  True False False False False]\n",
      "False\n"
     ]
    }
   ],
   "source": [
    "print(condicion)\n",
    "print(condicion.all())"
   ]
  },
  {
   "cell_type": "markdown",
   "metadata": {},
   "source": [
    "## Ejercicios: Arrays booleanos"
   ]
  },
  {
   "cell_type": "markdown",
   "metadata": {},
   "source": [
    "### Enunciado"
   ]
  },
  {
   "cell_type": "markdown",
   "metadata": {},
   "source": [
    "Dado el siguiente array de calificaciones, comprueba:\n",
    "1. Si ha aprobado algún alumno.\n",
    "1. Si todos los alumnos han aprobado.\n",
    "1. Si algún alumno tiene más de 9."
   ]
  },
  {
   "cell_type": "code",
   "execution_count": 151,
   "metadata": {},
   "outputs": [
    {
     "name": "stdout",
     "output_type": "stream",
     "text": [
      "[7.  2.9 2.3 5.5 7.2 4.2 9.8 6.8 4.8 3.9]\n"
     ]
    }
   ],
   "source": [
    "np.random.seed(123)\n",
    "calificaciones = np.around(10 * np.random.rand(10), 1)\n",
    "print(calificaciones)"
   ]
  },
  {
   "cell_type": "markdown",
   "metadata": {},
   "source": [
    "### Respuesta"
   ]
  },
  {
   "cell_type": "code",
   "execution_count": 154,
   "metadata": {},
   "outputs": [
    {
     "name": "stdout",
     "output_type": "stream",
     "text": [
      "True\n",
      "False\n",
      "True\n"
     ]
    }
   ],
   "source": [
    "aprobado = calificaciones > 5\n",
    "sobresaliente = calificaciones > 9 \n",
    "print(aprobado.any())\n",
    "print(aprobado.all())\n",
    "print(aprobado.any())"
   ]
  },
  {
   "cell_type": "markdown",
   "metadata": {},
   "source": [
    "\n",
    "## Ordenación"
   ]
  },
  {
   "cell_type": "code",
   "execution_count": 155,
   "metadata": {},
   "outputs": [],
   "source": [
    "# Permutación aleatoria de los números 0-9.\n",
    "datos = np.random.permutation(10)"
   ]
  },
  {
   "cell_type": "markdown",
   "metadata": {},
   "source": [
    "### Vectores"
   ]
  },
  {
   "cell_type": "code",
   "execution_count": 156,
   "metadata": {},
   "outputs": [
    {
     "name": "stdout",
     "output_type": "stream",
     "text": [
      "[2 1 8 7 9 4 5 6 3 0]\n",
      "[0 1 2 3 4 5 6 7 8 9]\n"
     ]
    }
   ],
   "source": [
    "print(datos)\n",
    "datos.sort()\n",
    "print(datos)"
   ]
  },
  {
   "cell_type": "code",
   "execution_count": 157,
   "metadata": {},
   "outputs": [],
   "source": [
    "# Permutación aleatoria de los números 0-9 (en dos filas).\n",
    "datos_0 = np.random.permutation(10).reshape(2, 5)\n",
    "datos_1 = datos_0.copy()"
   ]
  },
  {
   "cell_type": "markdown",
   "metadata": {},
   "source": [
    "### Matrices por filas"
   ]
  },
  {
   "cell_type": "code",
   "execution_count": 158,
   "metadata": {},
   "outputs": [
    {
     "name": "stdout",
     "output_type": "stream",
     "text": [
      "[[5 1 0 8 6]\n",
      " [9 4 2 3 7]]\n",
      "[[0 1 5 6 8]\n",
      " [2 3 4 7 9]]\n"
     ]
    }
   ],
   "source": [
    "# Ordenación de matrices por filas.\n",
    "print(datos_0)\n",
    "datos_0.sort()\n",
    "print(datos_0)"
   ]
  },
  {
   "cell_type": "markdown",
   "metadata": {},
   "source": [
    "### Matrices por columnas"
   ]
  },
  {
   "cell_type": "code",
   "execution_count": 159,
   "metadata": {},
   "outputs": [
    {
     "name": "stdout",
     "output_type": "stream",
     "text": [
      "[[5 1 0 8 6]\n",
      " [9 4 2 3 7]]\n",
      "[[5 1 0 3 6]\n",
      " [9 4 2 8 7]]\n"
     ]
    }
   ],
   "source": [
    "# Ordenación de matrices por columnas.\n",
    "print(datos_1)\n",
    "datos_1.sort(axis = 0)\n",
    "print(datos_1)"
   ]
  },
  {
   "cell_type": "markdown",
   "metadata": {},
   "source": [
    "### Ordenación sobre copia"
   ]
  },
  {
   "cell_type": "code",
   "execution_count": 160,
   "metadata": {},
   "outputs": [],
   "source": [
    "datos = np.random.permutation(10)\n",
    "datos_aux = np.copy(datos)"
   ]
  },
  {
   "cell_type": "code",
   "execution_count": 161,
   "metadata": {},
   "outputs": [
    {
     "name": "stdout",
     "output_type": "stream",
     "text": [
      "[6 8 2 9 5 4 3 1 7 0]\n",
      "[0 1 2 3 4 5 6 7 8 9]\n",
      "[0 1 2 3 4 5 6 7 8 9]\n"
     ]
    }
   ],
   "source": [
    "# Ordenación con ndarray.sort.\n",
    "print(datos)\n",
    "datos_ord = datos\n",
    "datos_ord.sort()\n",
    "print(datos_ord)\n",
    "print(datos)"
   ]
  },
  {
   "cell_type": "code",
   "execution_count": 162,
   "metadata": {},
   "outputs": [],
   "source": [
    "datos = np.copy(datos_aux)"
   ]
  },
  {
   "cell_type": "code",
   "execution_count": 163,
   "metadata": {},
   "outputs": [
    {
     "name": "stdout",
     "output_type": "stream",
     "text": [
      "[6 8 2 9 5 4 3 1 7 0]\n",
      "[0 1 2 3 4 5 6 7 8 9]\n",
      "[6 8 2 9 5 4 3 1 7 0]\n"
     ]
    }
   ],
   "source": [
    "# Ordenación con numpy.sort.\n",
    "print(datos)\n",
    "datos_ord = np.sort(datos)\n",
    "print(datos_ord)\n",
    "print(datos)"
   ]
  },
  {
   "cell_type": "markdown",
   "metadata": {},
   "source": [
    "### `argsort`"
   ]
  },
  {
   "cell_type": "code",
   "execution_count": 164,
   "metadata": {},
   "outputs": [],
   "source": [
    "productos = np.array(['leche', 'huevos', 'carne', 'agua'])\n",
    "cantidades = np.array([3, 4, 10, 1, 5])"
   ]
  },
  {
   "cell_type": "code",
   "execution_count": 165,
   "metadata": {},
   "outputs": [
    {
     "name": "stdout",
     "output_type": "stream",
     "text": [
      "Datos:\n",
      "     leche\t 3\n",
      "    huevos\t 4\n",
      "     carne\t10\n",
      "      agua\t 1\n",
      "Orden: [3 2 1 0]\n",
      "Datos ordenados:\n",
      "      agua\t 1\n",
      "     carne\t10\n",
      "    huevos\t 4\n",
      "     leche\t 3\n"
     ]
    }
   ],
   "source": [
    "# Ordenación usando los índices de argsort.\n",
    "print(\"Datos:\")\n",
    "for p, c in zip(productos, cantidades):\n",
    "    print(\"%10s\\t%2d\" % (p, c))\n",
    "\n",
    "orden = np.argsort(productos)\n",
    "print(\"Orden:\", orden)\n",
    "\n",
    "print(\"Datos ordenados:\")\n",
    "for p, c in zip(productos[orden], cantidades[orden]):\n",
    "    print(\"%10s\\t%2d\" % (p, c))"
   ]
  },
  {
   "cell_type": "markdown",
   "metadata": {},
   "source": [
    "## Ejercicios: Ordenación"
   ]
  },
  {
   "cell_type": "markdown",
   "metadata": {},
   "source": [
    "### Enunciado"
   ]
  },
  {
   "cell_type": "markdown",
   "metadata": {},
   "source": [
    "El siguiente código carga unos ficheros que contienen las notas de un grupo de estudiantes en varias asignaturas. La información está organizada de forma tal que `notas[i]` es la nota del estudiante `estudiantes[i]` en la asignatura `asignaturas[i]`.\n",
    "1. Crea un array con los nombres de todos los estudiantes y otro con los nombres de todas las asignaturas, sin repeticiones.\n",
    "1. Para cada estudiante, imprime el número de asignaturas que ha cursado y su nota media. La lista debe estar ordenada según la nota media.\n",
    "1. Muestra (si los hay) los nombres de todos los estudiantes que hayan cursado todas las asignaturas.\n",
    "1. Muestra (si los hay) los nombres de todos los estudiantes que hayan aprobado todas las asignaturas que han cursado.\n",
    "1. Crea un array que contenga, para cada estudiante, su nota en matemáticas en caso de que las haya cursado, y $-1$ en caso contrario."
   ]
  },
  {
   "cell_type": "code",
   "execution_count": 4,
   "metadata": {},
   "outputs": [],
   "source": [
    "estudiantes = np.loadtxt(\"./datos/estudiantes.txt\", dtype = str)\n",
    "asignaturas = np.loadtxt(\"./datos/asignaturas.txt\", dtype = str)\n",
    "notas = np.loadtxt(\"./datos/notas.txt\")"
   ]
  },
  {
   "cell_type": "markdown",
   "metadata": {},
   "source": [
    "### Respuesta"
   ]
  },
  {
   "cell_type": "code",
   "execution_count": 8,
   "metadata": {},
   "outputs": [
    {
     "name": "stdout",
     "output_type": "stream",
     "text": [
      "Carlos ha estudiado 6 asignaturas y su media es: 7.60\n",
      "AndrÃ©s ha estudiado 5 asignaturas y su media es: 6.76\n",
      "Alberto ha estudiado 3 asignaturas y su media es: 6.60\n",
      "Yago ha estudiado 4 asignaturas y su media es: 6.43\n",
      "Pilar ha estudiado 6 asignaturas y su media es: 5.90\n",
      "Rosa ha estudiado 5 asignaturas y su media es: 5.84\n",
      "Juan ha estudiado 3 asignaturas y su media es: 5.53\n",
      "Ana ha estudiado 6 asignaturas y su media es: 5.35\n",
      "Manuel ha estudiado 4 asignaturas y su media es: 5.22\n",
      "Eva ha estudiado 5 asignaturas y su media es: 5.10\n",
      "Luis ha estudiado 6 asignaturas y su media es: 4.78\n",
      "Alicia ha estudiado 4 asignaturas y su media es: 4.65\n",
      "Marta ha estudiado 6 asignaturas y su media es: 4.63\n",
      "Silvia ha estudiado 5 asignaturas y su media es: 4.48\n",
      "Daniel ha estudiado 5 asignaturas y su media es: 4.18\n",
      "Maite ha estudiado 5 asignaturas y su media es: 4.18\n",
      "Diego ha estudiado 5 asignaturas y su media es: 3.86\n",
      "Pedro ha estudiado 5 asignaturas y su media es: 3.82\n",
      "Sonia ha estudiado 6 asignaturas y su media es: 1.97\n",
      "JesÃºs ha estudiado 6 asignaturas y su media es: 1.73\n",
      "\n",
      "\n",
      "['Ana' 'Carlos' 'JesÃºs' 'Luis' 'Marta' 'Pilar' 'Sonia']\n",
      "\n",
      "\n",
      "['Carlos']\n"
     ]
    }
   ],
   "source": [
    "nombre_unico = np.unique(estudiantes)\n",
    "asigna_unico = np.unique(asignaturas)\n",
    "\n",
    "media = np.array([notas[estudiantes == nombre].mean() for nombre in nombre_unico])\n",
    "orden = np.argsort(media)\n",
    "\n",
    "for nombre,nota in zip(nombre_unico[orden[::-1]],media[orden[::-1]]):\n",
    "    print(nombre,'ha estudiado',len(asignaturas[estudiantes == nombre]),'asignaturas y su media es:',\n",
    "        '%.2f' % nota)\n",
    "\n",
    "print('\\n')\n",
    "\n",
    "todas_asig = np.array([len(asignaturas[estudiantes==nombre]) == len(asigna_unico) for nombre in nombre_unico])\n",
    "print(nombre_unico[todas_asig])\n",
    "\n",
    "print('\\n')\n",
    "\n",
    "todo_aprob = np.array([(notas[estudiantes==nombre] >= 5).all() for nombre in nombre_unico])\n",
    "print(nombre_unico[todo_aprob])"
   ]
  },
  {
   "cell_type": "markdown",
   "metadata": {},
   "source": [
    "# Generación de números aleatorios"
   ]
  },
  {
   "cell_type": "markdown",
   "metadata": {},
   "source": [
    "## Módulo `random`"
   ]
  },
  {
   "cell_type": "markdown",
   "metadata": {},
   "source": [
    "### `seed`"
   ]
  },
  {
   "cell_type": "code",
   "execution_count": 9,
   "metadata": {},
   "outputs": [],
   "source": [
    "# Inicialización de la semilla aleatoria a 123.\n",
    "np.random.seed(123)"
   ]
  },
  {
   "cell_type": "markdown",
   "metadata": {},
   "source": [
    "### `rand`"
   ]
  },
  {
   "cell_type": "code",
   "execution_count": 10,
   "metadata": {},
   "outputs": [
    {
     "name": "stdout",
     "output_type": "stream",
     "text": [
      "[0.69646919 0.28613933 0.22685145 0.55131477 0.71946897 0.42310646\n",
      " 0.9807642  0.68482974 0.4809319  0.39211752]\n"
     ]
    }
   ],
   "source": [
    "# Generación de 10 números según una uniforme.\n",
    "print(np.random.rand(10))"
   ]
  },
  {
   "cell_type": "markdown",
   "metadata": {},
   "source": [
    "### `randint`"
   ]
  },
  {
   "cell_type": "code",
   "execution_count": 12,
   "metadata": {},
   "outputs": [
    {
     "name": "stdout",
     "output_type": "stream",
     "text": [
      "[4 2 4 0 0 1 3 4 4 4]\n"
     ]
    }
   ],
   "source": [
    "# Generación de 10 enteros aleatorios entre 0 y 4.\n",
    "print(np.random.randint(0, 5, 10))"
   ]
  },
  {
   "cell_type": "markdown",
   "metadata": {},
   "source": [
    "### `randn`"
   ]
  },
  {
   "cell_type": "code",
   "execution_count": 88,
   "metadata": {},
   "outputs": [
    {
     "name": "stdout",
     "output_type": "stream",
     "text": [
      "Media: 0.02\n",
      "Std:   1.06\n"
     ]
    }
   ],
   "source": [
    "# Generación de 1000 números aleatorios según una normal (0, 1).\n",
    "datos = np.random.randn(1000)\n",
    "print(\"Media: %.2f\" % datos.mean())\n",
    "print(\"Std:   %.2f\" % datos.std())"
   ]
  },
  {
   "cell_type": "markdown",
   "metadata": {},
   "source": [
    "### `permutation`"
   ]
  },
  {
   "cell_type": "code",
   "execution_count": 89,
   "metadata": {},
   "outputs": [
    {
     "name": "stdout",
     "output_type": "stream",
     "text": [
      "[4 5 0 1 3 2 7 6 8 9]\n"
     ]
    }
   ],
   "source": [
    "# Generación de una permutación aleatoria de los números 0-9.\n",
    "print(np.random.permutation(10))"
   ]
  },
  {
   "cell_type": "code",
   "execution_count": 90,
   "metadata": {},
   "outputs": [
    {
     "name": "stdout",
     "output_type": "stream",
     "text": [
      "[ 0 10 20 30 40 50 60 70 80 90]\n",
      "[70 30 90 80 20 40 50  0 10 60]\n"
     ]
    }
   ],
   "source": [
    "# Generación de una permutación aleatoria de los elementos de un array.\n",
    "datos = np.arange(0, 100, 10)\n",
    "print(datos)\n",
    "print(np.random.permutation(datos))"
   ]
  },
  {
   "cell_type": "markdown",
   "metadata": {},
   "source": [
    "## Ejercicios: Módulo `random`"
   ]
  },
  {
   "cell_type": "markdown",
   "metadata": {},
   "source": [
    "### Enunciado"
   ]
  },
  {
   "cell_type": "markdown",
   "metadata": {},
   "source": [
    "Con la lista de estudiantes del ejercicio anterior, que se carga a continuación:\n",
    "1. Forma $5$ grupos de $4$ estudiantes cada uno. Los miembros de cada grupo deben ser escogidos al azar."
   ]
  },
  {
   "cell_type": "code",
   "execution_count": 13,
   "metadata": {},
   "outputs": [],
   "source": [
    "nombres = np.unique(np.loadtxt('./datos/estudiantes.txt', dtype = str))"
   ]
  },
  {
   "cell_type": "markdown",
   "metadata": {},
   "source": [
    "### Respuesta"
   ]
  },
  {
   "cell_type": "code",
   "execution_count": 25,
   "metadata": {},
   "outputs": [
    {
     "name": "stdout",
     "output_type": "stream",
     "text": [
      "['Carlos' 'Yago' 'Sonia' 'Pedro'] ['Pilar' 'Manuel' 'Diego' 'Eva'] ['Alicia' 'Rosa' 'Maite' 'AndrÃ©s'] ['Juan' 'Alberto' 'Daniel' 'JesÃºs'] ['Luis' 'Marta' 'Ana' 'Silvia']\n"
     ]
    }
   ],
   "source": [
    "perm = np.random.permutation(np.unique(nombres))\n",
    "grupoa = perm[:4]\n",
    "grupob = perm[4:8]\n",
    "grupoc = perm[8:12]\n",
    "grupod = perm[12:16]\n",
    "grupoe = perm[16:20]\n",
    "print(grupoa,grupob,grupoc,grupod,grupoe)\n"
   ]
  },
  {
   "cell_type": "markdown",
   "metadata": {},
   "source": [
    "# Lectura y escritura de ficheros"
   ]
  },
  {
   "cell_type": "markdown",
   "metadata": {},
   "source": [
    "## Lectura y escritura de ficheros"
   ]
  },
  {
   "cell_type": "markdown",
   "metadata": {},
   "source": [
    "### `save` y `load`"
   ]
  },
  {
   "cell_type": "code",
   "execution_count": 26,
   "metadata": {},
   "outputs": [
    {
     "name": "stderr",
     "output_type": "stream",
     "text": [
      "\"ls\" no se reconoce como un comando interno o externo,\n",
      "programa o archivo por lotes ejecutable.\n"
     ]
    }
   ],
   "source": [
    "# Creación de una matriz y almacenamiento en disco.\n",
    "datos = np.array([[1, 2, 3, 4], [5, 6, 7, 8]])\n",
    "np.save(\"mis_datos\", datos)\n",
    "\n",
    "# Comprobación de que existe el fichero.\n",
    "!ls -lrt *.npy"
   ]
  },
  {
   "cell_type": "code",
   "execution_count": 27,
   "metadata": {},
   "outputs": [
    {
     "name": "stdout",
     "output_type": "stream",
     "text": [
      "Variable       Type       Data/Info\n",
      "-----------------------------------\n",
      "a              ndarray    4: 4 elems, type `int32`, 16 bytes\n",
      "asigna_unico   ndarray    6: 6 elems, type `<U12`, 288 bytes\n",
      "asignaturas    ndarray    100: 100 elems, type `<U12`, 4800 bytes\n",
      "estudiantes    ndarray    100: 100 elems, type `<U7`, 2800 bytes\n",
      "grupoa         ndarray    4: 4 elems, type `<U7`, 112 bytes\n",
      "grupob         ndarray    4: 4 elems, type `<U7`, 112 bytes\n",
      "grupoc         ndarray    4: 4 elems, type `<U7`, 112 bytes\n",
      "grupod         ndarray    4: 4 elems, type `<U7`, 112 bytes\n",
      "grupoe         ndarray    4: 4 elems, type `<U7`, 112 bytes\n",
      "media          ndarray    20: 20 elems, type `float64`, 160 bytes\n",
      "nombre_unico   ndarray    20: 20 elems, type `<U7`, 560 bytes\n",
      "nombres        ndarray    20: 20 elems, type `<U7`, 560 bytes\n",
      "notas          ndarray    100: 100 elems, type `float64`, 800 bytes\n",
      "orden          ndarray    20: 20 elems, type `int64`, 160 bytes\n",
      "perm           ndarray    20: 20 elems, type `<U7`, 560 bytes\n",
      "todas_asig     ndarray    20: 20 elems, type `bool`, 20 bytes\n",
      "todo_aprob     ndarray    20: 20 elems, type `bool`, 20 bytes\n"
     ]
    }
   ],
   "source": [
    "# Borrado de la variable datos y comprobación de que ya no existe.\n",
    "%xdel datos\n",
    "%whos ndarray"
   ]
  },
  {
   "cell_type": "code",
   "execution_count": 28,
   "metadata": {},
   "outputs": [
    {
     "name": "stdout",
     "output_type": "stream",
     "text": [
      "[[1 2 3 4]\n",
      " [5 6 7 8]]\n"
     ]
    }
   ],
   "source": [
    "# Carga del array desde el fichero.\n",
    "datos = np.load(\"mis_datos.npy\")\n",
    "print(datos)"
   ]
  },
  {
   "cell_type": "markdown",
   "metadata": {},
   "source": [
    "### `savetxt` y `loadtxt`"
   ]
  },
  {
   "cell_type": "code",
   "execution_count": 29,
   "metadata": {},
   "outputs": [
    {
     "name": "stdout",
     "output_type": "stream",
     "text": [
      "[[-1.28966766 -0.08849259 -0.71327372]\n",
      " [-1.93927983 -1.02559597  0.64104262]\n",
      " [ 0.68867632  0.18890576 -0.0288693 ]\n",
      " [-0.83104099 -0.49990905  0.2372282 ]\n",
      " [-0.19119611  1.05496154 -2.47815242]]\n"
     ]
    },
    {
     "name": "stderr",
     "output_type": "stream",
     "text": [
      "\"cat\" no se reconoce como un comando interno o externo,\n",
      "programa o archivo por lotes ejecutable.\n"
     ]
    }
   ],
   "source": [
    "# Creación del array de datos aleatorio y almacenamiento en disco como texto separado por comas.\n",
    "datos = np.random.randn(5,3)\n",
    "print(datos)\n",
    "np.savetxt(\"mis_datos.txt\", datos, delimiter = \",\", fmt = \"%8.4f\")\n",
    "# Contenido del fichero.\n",
    "!cat mis_datos.txt"
   ]
  },
  {
   "cell_type": "code",
   "execution_count": 30,
   "metadata": {},
   "outputs": [
    {
     "name": "stdout",
     "output_type": "stream",
     "text": [
      "[[-1.2897 -0.0885 -0.7133]\n",
      " [-1.9393 -1.0256  0.641 ]\n",
      " [ 0.6887  0.1889 -0.0289]\n",
      " [-0.831  -0.4999  0.2372]\n",
      " [-0.1912  1.055  -2.4782]]\n"
     ]
    }
   ],
   "source": [
    "# Carga del contenido del fichero en la variable new_datos.\n",
    "new_datos = np.loadtxt(\"mis_datos.txt\", delimiter = \",\")\n",
    "print(new_datos)"
   ]
  },
  {
   "cell_type": "markdown",
   "metadata": {},
   "source": [
    "## Ejercicios: Lectura y escritura de ficheros"
   ]
  },
  {
   "cell_type": "markdown",
   "metadata": {},
   "source": [
    "### Enunciado"
   ]
  },
  {
   "cell_type": "markdown",
   "metadata": {},
   "source": [
    "Crea un vector de $10000$ números aleatorios, siguiendo una Gaussiana estándar. A continuación:\n",
    "1. Almacena el vector en formato binario.\n",
    "1. Almacena el vector en formato texto, separando los campos con `;`.\n",
    "1. Compara el tamaño de ambos ficheros."
   ]
  },
  {
   "cell_type": "markdown",
   "metadata": {},
   "source": [
    "### Respuesta"
   ]
  },
  {
   "cell_type": "code",
   "execution_count": 32,
   "metadata": {},
   "outputs": [],
   "source": [
    "vector = np.random.randn(1000)\n",
    "np.save('mi_normal',vector)\n",
    "np.savetxt('mi_normal2.txt',vector,delimiter=';',fmt='%8.4f')"
   ]
  },
  {
   "cell_type": "markdown",
   "metadata": {},
   "source": [
    "# *Broadcasting*"
   ]
  },
  {
   "cell_type": "markdown",
   "metadata": {},
   "source": [
    "## *Broadcasting*"
   ]
  },
  {
   "cell_type": "markdown",
   "metadata": {},
   "source": [
    "### Escalar"
   ]
  },
  {
   "cell_type": "code",
   "execution_count": 2,
   "metadata": {},
   "outputs": [
    {
     "name": "stdout",
     "output_type": "stream",
     "text": [
      "[1 2 3]\n",
      "+\n",
      "1\n",
      "-------\n",
      "[2 3 4]\n"
     ]
    }
   ],
   "source": [
    "# Operación de un array con un escalar.\n",
    "a = np.array([1, 2, 3])\n",
    "b = 1\n",
    "\n",
    "print(a)\n",
    "print(\"+\")\n",
    "print(b)\n",
    "print(\"-------\")\n",
    "print(a + b)"
   ]
  },
  {
   "cell_type": "markdown",
   "metadata": {},
   "source": [
    "### Vector"
   ]
  },
  {
   "cell_type": "code",
   "execution_count": 3,
   "metadata": {},
   "outputs": [
    {
     "name": "stdout",
     "output_type": "stream",
     "text": [
      "[[1 2 3]]\n",
      "x\n",
      "[[1]\n",
      " [2]]\n",
      "---------\n",
      "[[1 2 3]\n",
      " [2 4 6]]\n"
     ]
    }
   ],
   "source": [
    "# Operación entre dos arrays, fila y columna.\n",
    "a = np.array([[1, 2, 3]])\n",
    "b = np.array([[1], [2]])\n",
    "print(a)\n",
    "print(\"x\")\n",
    "print(b)\n",
    "print(\"---------\")\n",
    "print(a * b)"
   ]
  },
  {
   "cell_type": "markdown",
   "metadata": {},
   "source": [
    "### Matriz"
   ]
  },
  {
   "cell_type": "code",
   "execution_count": 4,
   "metadata": {},
   "outputs": [
    {
     "name": "stdout",
     "output_type": "stream",
     "text": [
      "[[5 6]\n",
      " [5 8]\n",
      " [7 6]\n",
      " [4 6]\n",
      " [7 1]]\n",
      "+\n",
      "[[4 7 6]\n",
      " [4 5 7]\n",
      " [5 2 3]\n",
      " [6 4 1]\n",
      " [7 6 4]]\n",
      "--------------\n",
      "[[[ 9 12 11]\n",
      "  [10 13 12]]\n",
      "\n",
      " [[ 9 10 12]\n",
      "  [12 13 15]]\n",
      "\n",
      " [[12  9 10]\n",
      "  [11  8  9]]\n",
      "\n",
      " [[10  8  5]\n",
      "  [12 10  7]]\n",
      "\n",
      " [[14 13 11]\n",
      "  [ 8  7  5]]]\n"
     ]
    }
   ],
   "source": [
    "# Para sumar dos arrays, uno (5x2) y otro (5x3) para obtener un array 5x2x3, primero se transforman en 5x2x1 y en 5x1x3, usandonp.newaxis.\n",
    "a = np.random.randint(10, size = (5, 2))\n",
    "b = np.random.randint(10, size = (5, 3))\n",
    "\n",
    "a = a[:,:,np.newaxis]\n",
    "b = b[:,np.newaxis,:]\n",
    "\n",
    "print(a[:, :, 0])\n",
    "print(\"+\")\n",
    "print(b[:, 0, :])\n",
    "print(\"--------------\")\n",
    "print(a + b)"
   ]
  },
  {
   "cell_type": "markdown",
   "metadata": {},
   "source": [
    "## Ejercicios: *Broadcasting*"
   ]
  },
  {
   "cell_type": "markdown",
   "metadata": {},
   "source": [
    "### Enunciado"
   ]
  },
  {
   "cell_type": "markdown",
   "metadata": {},
   "source": [
    "El siguiente código carga unos ficheros que contienen las notas de un grupo de estudiantes en varias asignaturas. La información está organizada de forma tal que `notas[i]` es la nota del estudiante `estudiantes[i]` en la asignatura `asignaturas[i]`.\n",
    "1. Repite el ejericicio de imprimir, para cada estudiante, el número de asignaturas que ha cursado y su nota media. Esta vez, no utilices bucles salvo para imprimir los resultados.\n",
    "1. Compara el tiempo de ejecución con el método con bucles usado antes."
   ]
  },
  {
   "cell_type": "code",
   "execution_count": null,
   "metadata": {},
   "outputs": [],
   "source": [
    "estudiantes = np.loadtxt(\"./datos/estudiantes.txt\", dtype = str)\n",
    "asignaturas = np.loadtxt(\"./datos/asignaturas.txt\", dtype = str)\n",
    "notas = np.loadtxt(\"./datos/notas.txt\")"
   ]
  },
  {
   "cell_type": "markdown",
   "metadata": {},
   "source": [
    "### Respuesta"
   ]
  },
  {
   "cell_type": "code",
   "execution_count": null,
   "metadata": {},
   "outputs": [],
   "source": []
  }
 ],
 "metadata": {
  "kernelspec": {
   "display_name": "Python 3",
   "language": "python",
   "name": "python3"
  },
  "language_info": {
   "codemirror_mode": {
    "name": "ipython",
    "version": 3
   },
   "file_extension": ".py",
   "mimetype": "text/x-python",
   "name": "python",
   "nbconvert_exporter": "python",
   "pygments_lexer": "ipython3",
   "version": "3.7.6"
  },
  "toc": {
   "base_numbering": 1,
   "nav_menu": {},
   "number_sections": true,
   "sideBar": true,
   "skip_h1_title": false,
   "title_cell": "Table of Contents",
   "title_sidebar": "Contents",
   "toc_cell": false,
   "toc_position": {
    "height": "calc(100% - 180px)",
    "left": "10px",
    "top": "150px",
    "width": "473px"
   },
   "toc_section_display": true,
   "toc_window_display": true
  }
 },
 "nbformat": 4,
 "nbformat_minor": 1
}

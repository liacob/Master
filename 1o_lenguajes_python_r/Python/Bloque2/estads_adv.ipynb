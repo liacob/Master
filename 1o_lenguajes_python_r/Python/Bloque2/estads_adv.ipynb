{
 "cells": [
  {
   "cell_type": "markdown",
   "metadata": {},
   "source": [
    "### Lectura del fichero y sustitución de las ?"
   ]
  },
  {
   "cell_type": "code",
   "execution_count": 1,
   "metadata": {},
   "outputs": [],
   "source": [
    "import pandas as pd\n",
    "import numpy as np\n",
    "import matplotlib.pyplot as plt\n",
    "import sys"
   ]
  },
  {
   "cell_type": "markdown",
   "metadata": {},
   "source": [
    "### Lectura del fichero y sustitución de las ?"
   ]
  },
  {
   "cell_type": "code",
   "execution_count": 2,
   "metadata": {},
   "outputs": [],
   "source": [
    "df = pd.read_csv(sys.argv[1],header=None) # Leemos el archivo csv deseado sin cabecera\n",
    "df.replace('?',np.nan,inplace=True)       # Transformamos los ? en NaN de numpy para las cuentas"
   ]
  },
  {
   "cell_type": "markdown",
   "metadata": {},
   "source": [
    "### Obtención columnas que son object y posible transformación si lo necesita"
   ]
  },
  {
   "cell_type": "code",
   "execution_count": 3,
   "metadata": {},
   "outputs": [],
   "source": [
    "# Las columnas que empezaban por ? son consideradas como object de momento así que necesitamos\n",
    "# ir una por una para ver si contienen números o de verdad son strings\n",
    "\n",
    "col_obj = df.select_dtypes(include='object').columns # Cogemos las columnas \"problemáticas\""
   ]
  },
  {
   "cell_type": "code",
   "execution_count": 4,
   "metadata": {},
   "outputs": [],
   "source": [
    "# En este bucle vamos columna por columna comprobando si podemos transformarlas a float ya que los \n",
    "# NaN sí admiten este cambio. Si la columna en cuestión no admite el cambio es por contener strings.\n",
    "# Es cierto que si una columna de ints empieza por NaN será cambiada a float, pero para las cuentas\n",
    "# que hacemos no lo veo un problema. Si nuestra intención es que muestre esos números en pantalla \n",
    "# como ints se podrían hacer transformaciones a la hora de printear sin problema\n",
    "for col in col_obj:\n",
    "    try:\n",
    "        df[col] = df[col].astype('float64')\n",
    "    except ValueError: # Si no admite el cambio la dejamos como está y ya\n",
    "        df[col] = df[col]"
   ]
  },
  {
   "cell_type": "markdown",
   "metadata": {},
   "source": [
    "### Función media y moda"
   ]
  },
  {
   "cell_type": "code",
   "execution_count": 5,
   "metadata": {},
   "outputs": [],
   "source": [
    "def media_moda(df):\n",
    "    # Función que calculará la media/moda de todo el DataFrame y lo almacenará en una lista que \n",
    "    # luego imprimiremos en pantalla de la manera adecuada\n",
    "    valores = []\n",
    "    for col in df.columns: # Vamos columna a columna para tenerlo en orden\n",
    "        if ~df[col].isna().all(): # Comprobación de que no sea un columna vacía\n",
    "        \n",
    "            if df[col].dtype != 'object': # Si es numérico \n",
    "                valores.append(float(\"{:.2f}\".format(df[col].mean())))\n",
    "            else:\n",
    "                valores.append(df[col].mode()[0]) # Nos excluye por defecto los NaN, y si son todos NaN no entraría en el condicional así que no hay problema\n",
    "        else:\n",
    "             valores.append('?') # Si es una columna vacía mostramos ? simplemente\n",
    "    return valores"
   ]
  },
  {
   "cell_type": "markdown",
   "metadata": {},
   "source": [
    "### Función desviación estándar y número de valores distintos"
   ]
  },
  {
   "cell_type": "code",
   "execution_count": 6,
   "metadata": {},
   "outputs": [],
   "source": [
    "def std_uniq(df):\n",
    "    # Misma idea que la anterior pero ahora con la desviación estándar y el número de valores válidos\n",
    "    # del DataFrame\n",
    "    valores = []\n",
    "    for col in df.columns: # Vamos columna a columna para tenerlo en orden\n",
    "        if ~df[col].isna().all(): # Comprobación de que no sea un columna vacía\n",
    "        \n",
    "            if df[col].dtype != 'object': # Si es numérica \n",
    "                valores.append(float(\"{:.2f}\".format(df[col].std())))\n",
    "            else: # Si es categórica sacamos la \n",
    "                valores.append(len(df[col].dropna().unique())) # Importante eliminar los NaN al contar\n",
    "        else:\n",
    "            valores.append('?')\n",
    "    return valores"
   ]
  },
  {
   "cell_type": "markdown",
   "metadata": {},
   "source": [
    "### Función número de valores válidos"
   ]
  },
  {
   "cell_type": "code",
   "execution_count": 7,
   "metadata": {},
   "outputs": [],
   "source": [
    "def valid(df):\n",
    "    # El método count() directamente nos da el número de valores válidos en una columna\n",
    "    valores = []\n",
    "    for col in df.columns:\n",
    "        valores.append(df[col].count())\n",
    "    return valores\n",
    "    "
   ]
  },
  {
   "cell_type": "markdown",
   "metadata": {},
   "source": [
    "### Función mínimo o valor que menos aparece"
   ]
  },
  {
   "cell_type": "code",
   "execution_count": 8,
   "metadata": {},
   "outputs": [],
   "source": [
    "def minim(df):\n",
    "    valores = []\n",
    "    for col in df.columns:\n",
    "        if ~df[col].isna().all(): # Comprobación de que no sea un columna vacía\n",
    "        \n",
    "            if df[col].dtype != 'object': # Si es numérico \n",
    "                valores.append(df[col].min())\n",
    "            else:\n",
    "                # Se me han ocurrido dos formas de sacar este valor, la primera, aunque es más \n",
    "                # clara tarda en ejecutarse un 50% más así que nos quedamos con la segunda\n",
    "                \n",
    "#               valores.append(min(df[col], key = lambda x: df[col].value_counts()[x]))\n",
    "                valores.append(df[col].value_counts().index[len(df[col].value_counts())-1])\n",
    "                # Value counts nos crea otro DataFrame en el que el índice son los valores \n",
    "                # y los datos es el número de veces que aparecen, por eso nos quedamos el\n",
    "                # último elemento del índice ya que viene ordenado de mayor a menor\n",
    "        else:\n",
    "            valores.append('?') # Como siempre, si la columna está vacía añadimos ?\n",
    "    return valores"
   ]
  },
  {
   "cell_type": "markdown",
   "metadata": {},
   "source": [
    "### Función máximo o valor que más veces aparece"
   ]
  },
  {
   "cell_type": "code",
   "execution_count": 9,
   "metadata": {},
   "outputs": [],
   "source": [
    "def maxim(df):\n",
    "    # Igual que la función anterior pero ahora buscando el máximo y ya\n",
    "    valores = []\n",
    "    for col in df.columns:\n",
    "        if ~df[col].isna().all(): # Comprobación de que no sea un columna vacía\n",
    "        \n",
    "            if df[col].dtype != 'object': # Si es numérico \n",
    "                valores.append(df[col].max())\n",
    "            else:\n",
    "#               valores.append(max(df[col], key = lambda x: df[col].value_counts()[x]))\n",
    "                valores.append(df[col].value_counts().index[0])\n",
    "                # Ahora nos quedamos con el primer valor del índice\n",
    "        else:\n",
    "            valores.append('?')\n",
    "    return valores"
   ]
  },
  {
   "cell_type": "markdown",
   "metadata": {},
   "source": [
    "### Gráficas"
   ]
  },
  {
   "cell_type": "code",
   "execution_count": 16,
   "metadata": {},
   "outputs": [],
   "source": [
    "def graficas(df):\n",
    "    for col in df.columns:\n",
    "        if ~df[col].isna().all(): # Comprobación de que no sea un columna vacía\n",
    "            if df[col].dtype != 'object': # Si es numérico \n",
    "                    plt.figure() # Hacemos una figura para cada columna\n",
    "                    plt.title('Columna '+ str(col))\n",
    "                    try:\n",
    "                        df[col].hist(bins=int(df[col].count()/20)) # Si tenemos menos de 20 datos nos va fallar\n",
    "                    except ValueError:\n",
    "                        df[col].hist() # En caso de tener menos de 20 lo dejo con los bins por defecto\n",
    "            else: # Si es categórico\n",
    "                plt.figure()\n",
    "                plt.title('Columna '+ str(col))\n",
    "                df[col].value_counts().plot.pie()\n",
    "        else:\n",
    "            print('La columna',col,'no tiene ningún valor válido para hacer una gráfica')\n",
    "            \n",
    "# Ejecutando la llamada a esta función en jupyter notebook me funciona sin problemas, al llamarla desde el\n",
    "# anaconda prompt solo me printea el último mensaje, supongo que porque el shell no puede mostrar las\n",
    "# gráficas. Aunque sí supongo que podríamos guardar las gráficas con comandos de la forma:\n",
    "# fig, ax = plt.subplots() y ya hacer ax.plot() lo que sea para tenerlos guardados al menos"
   ]
  },
  {
   "cell_type": "markdown",
   "metadata": {},
   "source": [
    "### Diccionario para mapear"
   ]
  },
  {
   "cell_type": "code",
   "execution_count": 17,
   "metadata": {
    "scrolled": true
   },
   "outputs": [
    {
     "name": "stdout",
     "output_type": "stream",
     "text": [
      "1.67,2.83,2.75,?,none,38.5\n",
      "1,2.0,2.5,?,tc,38.0\n",
      "2,4.0,3.0,?,none,39.0\n",
      "La columna 3 no tiene ningún valor válido para hacer una gráfica\n"
     ]
    },
    {
     "data": {
      "image/png": "[encoded data removed]",
      "text/plain": [
       "<Figure size 432x288 with 1 Axes>"
      ]
     },
     "metadata": {
      "needs_background": "light"
     },
     "output_type": "display_data"
    },
    {
     "data": {
      "image/png": "[encoded data removed]",
      "text/plain": [
       "<Figure size 432x288 with 1 Axes>"
      ]
     },
     "metadata": {
      "needs_background": "light"
     },
     "output_type": "display_data"
    },
    {
     "data": {
      "image/png": "[encoded data removed]",
      "text/plain": [
       "<Figure size 432x288 with 1 Axes>"
      ]
     },
     "metadata": {
      "needs_background": "light"
     },
     "output_type": "display_data"
    },
    {
     "data": {
      "image/png": "[encoded data removed]",
      "text/plain": [
       "<Figure size 432x288 with 1 Axes>"
      ]
     },
     "metadata": {},
     "output_type": "display_data"
    },
    {
     "data": {
      "image/png": "[encoded data removed]",
      "text/plain": [
       "<Figure size 432x288 with 1 Axes>"
      ]
     },
     "metadata": {
      "needs_background": "light"
     },
     "output_type": "display_data"
    }
   ],
   "source": [
    "dc = {'p':media_moda,'s':std_uniq,'n':valid,'m':minim,'M':maxim,'P':graficas}\n",
    "cd = sys.argv[2]\n",
    "\n",
    "for i in cd:\n",
    "    try:\n",
    "        if i != 'P':\n",
    "            a = dc.get(i)(df)\n",
    "            for i in range(len(a)):  # Elijo trabajar con el index en vez de con los elementos directamente para poder \n",
    "                                 # poner el condicional siguiente. No se me ocurre otra forma para que no salga la    \n",
    "                    if i != len(a)-1:    # coma al final del print\n",
    "                        print(a[i],end=',')\n",
    "                    else:\n",
    "                        print(a[i])\n",
    "        else:\n",
    "            dc.get(i)(df)\n",
    "    except TypeError:                               \n",
    "            print('La opcion {} no existe'.format(i))"
   ]
  }
 ],
 "metadata": {
  "kernelspec": {
   "display_name": "Python 3",
   "language": "python",
   "name": "python3"
  },
  "language_info": {
   "codemirror_mode": {
    "name": "ipython",
    "version": 3
   },
   "file_extension": ".py",
   "mimetype": "text/x-python",
   "name": "python",
   "nbconvert_exporter": "python",
   "pygments_lexer": "ipython3",
   "version": "3.7.6"
  }
 },
 "nbformat": 4,
 "nbformat_minor": 4
}

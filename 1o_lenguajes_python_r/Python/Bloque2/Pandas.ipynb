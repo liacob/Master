{
 "cells": [
  {
   "cell_type": "markdown",
   "metadata": {},
   "source": [
    "<div align=\"center\" style=\"font-size: xx-large; color:#279D9F\">Máster en Big Data y Data Science</div><br>\n",
    "<div align=\"center\" style=\"font-size: x-large; color:#6E6E6E\">Librerías básicas de Python: Pandas</div><br>\n",
    "<div align=\"center\" style=\"font-size: large; color:#279D9F\">Ángela Fernández Pascual - Universidad Autónoma de Madrid</div><br>"
   ]
  },
  {
   "cell_type": "markdown",
   "metadata": {},
   "source": [
    "# Introducción"
   ]
  },
  {
   "cell_type": "markdown",
   "metadata": {},
   "source": [
    "Este Notebook incluye el contenido correspondiente al bloque de funciones de la librería Pandas, tanto los ejemplos mostrados en los distintos vídeos como los ejercicios propuestos."
   ]
  },
  {
   "cell_type": "markdown",
   "metadata": {},
   "source": [
    "# ¿Por qué pandas?\n",
    "\n",
    "**Ejemplo de los estudiantes**: obtener las notas de matemáticas para todos los estudiantes."
   ]
  },
  {
   "cell_type": "code",
   "execution_count": 18,
   "metadata": {},
   "outputs": [
    {
     "name": "stdout",
     "output_type": "stream",
     "text": [
      "Alberto -1.0\n",
      "Alicia -1.0\n",
      "Ana -1.0\n",
      "AndrÃ©s -1.0\n",
      "Carlos -1.0\n",
      "Daniel -1.0\n",
      "Diego -1.0\n",
      "Eva -1.0\n",
      "JesÃºs -1.0\n",
      "Juan -1.0\n",
      "Luis -1.0\n",
      "Maite -1.0\n",
      "Manuel -1.0\n",
      "Marta -1.0\n",
      "Pedro -1.0\n",
      "Pilar -1.0\n",
      "Rosa -1.0\n",
      "Silvia -1.0\n",
      "Sonia -1.0\n",
      "Yago -1.0\n"
     ]
    }
   ],
   "source": [
    "# Solución en NumPy.\n",
    "import numpy as np\n",
    "\n",
    "estudiantes = np.loadtxt(\"./datos/estudiantes.txt\", dtype = str)\n",
    "asignaturas = np.loadtxt(\"./datos/asignaturas.txt\", dtype = str)\n",
    "notas = np.loadtxt(\"./datos/notas.txt\")\n",
    "\n",
    "nombres = np.unique(estudiantes)\n",
    "notas_matematicas = np.zeros_like(nombres,dtype = 'float64')\n",
    "for i, n in enumerate(nombres):\n",
    "    ix = (estudiantes == n) & (asignaturas == \"Matemáticas\")\n",
    "    notas_matematicas[i] = notas[ix][0] if ix.any() else -1.0\n",
    "for n, val in zip(nombres, notas_matematicas):\n",
    "    print(n, val)"
   ]
  },
  {
   "cell_type": "code",
   "execution_count": 19,
   "metadata": {},
   "outputs": [
    {
     "data": {
      "text/plain": [
       "Marta     -1.0\n",
       "Eva       -1.0\n",
       "JesÃºs    -1.0\n",
       "Ana       -1.0\n",
       "Alicia    -1.0\n",
       "Juan      -1.0\n",
       "Daniel    -1.0\n",
       "AndrÃ©s   -1.0\n",
       "Diego     -1.0\n",
       "Yago      -1.0\n",
       "Pilar     -1.0\n",
       "Manuel    -1.0\n",
       "Luis      -1.0\n",
       "Alberto   -1.0\n",
       "Carlos    -1.0\n",
       "Maite     -1.0\n",
       "Rosa      -1.0\n",
       "Pedro     -1.0\n",
       "Sonia     -1.0\n",
       "Silvia    -1.0\n",
       "Name: Nota, dtype: float64"
      ]
     },
     "execution_count": 19,
     "metadata": {},
     "output_type": "execute_result"
    }
   ],
   "source": [
    "# Solución en pandas.\n",
    "from pandas import DataFrame\n",
    "df = DataFrame({'Asignatura': asignaturas, 'Nota': notas}, index = estudiantes)\n",
    "\n",
    "notas_mates = df.loc[df.Asignatura == 'Matemáticas', 'Nota']\n",
    "# Reindexamos con los nombres de todos los estudiantes, introduciendo -1 como fill_value:\n",
    "notas_mates.reindex(df.index.unique(), fill_value = -1)"
   ]
  },
  {
   "cell_type": "markdown",
   "metadata": {},
   "source": [
    "# La clase Series"
   ]
  },
  {
   "cell_type": "code",
   "execution_count": 20,
   "metadata": {},
   "outputs": [
    {
     "data": {
      "text/plain": [
       "0    1\n",
       "1    2\n",
       "2    3\n",
       "3    4\n",
       "4    5\n",
       "dtype: int64"
      ]
     },
     "execution_count": 20,
     "metadata": {},
     "output_type": "execute_result"
    }
   ],
   "source": [
    "# Importamos la clase Series de pandas, y creamos una serie:\n",
    "from pandas import Series\n",
    "serie = Series([1, 2, 3, 4, 5])\n",
    "serie"
   ]
  },
  {
   "cell_type": "markdown",
   "metadata": {},
   "source": [
    "## Acceso"
   ]
  },
  {
   "cell_type": "code",
   "execution_count": 21,
   "metadata": {},
   "outputs": [
    {
     "data": {
      "text/plain": [
       "array([1, 2, 3, 4, 5], dtype=int64)"
      ]
     },
     "execution_count": 21,
     "metadata": {},
     "output_type": "execute_result"
    }
   ],
   "source": [
    "# Accedemos a los valores de la serie:\n",
    "serie.values"
   ]
  },
  {
   "cell_type": "code",
   "execution_count": 22,
   "metadata": {},
   "outputs": [
    {
     "data": {
      "text/plain": [
       "RangeIndex(start=0, stop=5, step=1)"
      ]
     },
     "execution_count": 22,
     "metadata": {},
     "output_type": "execute_result"
    }
   ],
   "source": [
    "# Accedemos a los índices de la serie:\n",
    "serie.index"
   ]
  },
  {
   "cell_type": "code",
   "execution_count": 23,
   "metadata": {},
   "outputs": [
    {
     "data": {
      "text/plain": [
       "uno       1\n",
       "dos       2\n",
       "tres      3\n",
       "cuatro    4\n",
       "cinco     5\n",
       "dtype: int64"
      ]
     },
     "execution_count": 23,
     "metadata": {},
     "output_type": "execute_result"
    }
   ],
   "source": [
    "# Creamos una serie especificando los índices:\n",
    "serie = Series([1, 2, 3, 4, 5], index = ['uno', 'dos', 'tres', 'cuatro', 'cinco'])\n",
    "serie"
   ]
  },
  {
   "cell_type": "code",
   "execution_count": 24,
   "metadata": {},
   "outputs": [
    {
     "data": {
      "text/plain": [
       "Index(['uno', 'dos', 'tres', 'cuatro', 'cinco'], dtype='object')"
      ]
     },
     "execution_count": 24,
     "metadata": {},
     "output_type": "execute_result"
    }
   ],
   "source": [
    "# Accedemos a los índices de la serie:\n",
    "serie.index"
   ]
  },
  {
   "cell_type": "code",
   "execution_count": 25,
   "metadata": {},
   "outputs": [
    {
     "data": {
      "text/plain": [
       "3"
      ]
     },
     "execution_count": 25,
     "metadata": {},
     "output_type": "execute_result"
    }
   ],
   "source": [
    "# Elemento asociado al índice 'tres':\n",
    "serie['tres']"
   ]
  },
  {
   "cell_type": "code",
   "execution_count": 26,
   "metadata": {},
   "outputs": [
    {
     "data": {
      "text/plain": [
       "cuatro    4\n",
       "uno       1\n",
       "dtype: int64"
      ]
     },
     "execution_count": 26,
     "metadata": {},
     "output_type": "execute_result"
    }
   ],
   "source": [
    "# Subserie con los elementos 'cuatro' y 'uno':\n",
    "serie[['cuatro', 'uno']]"
   ]
  },
  {
   "cell_type": "code",
   "execution_count": 27,
   "metadata": {},
   "outputs": [
    {
     "data": {
      "text/plain": [
       "uno       1\n",
       "dos       2\n",
       "tres      3\n",
       "cuatro    4\n",
       "dtype: int64"
      ]
     },
     "execution_count": 27,
     "metadata": {},
     "output_type": "execute_result"
    }
   ],
   "source": [
    "# Subserie con todos los elementos hasta el 'cuatro':\n",
    "serie[:'cuatro']"
   ]
  },
  {
   "cell_type": "markdown",
   "metadata": {},
   "source": [
    "## Asignación"
   ]
  },
  {
   "cell_type": "code",
   "execution_count": 28,
   "metadata": {},
   "outputs": [
    {
     "data": {
      "text/plain": [
       "uno       20\n",
       "dos        2\n",
       "tres       3\n",
       "cuatro     4\n",
       "cinco      5\n",
       "dtype: int64"
      ]
     },
     "execution_count": 28,
     "metadata": {},
     "output_type": "execute_result"
    }
   ],
   "source": [
    "# Cambiamos el valor del elemento 'uno':\n",
    "serie['uno'] = 20\n",
    "serie"
   ]
  },
  {
   "cell_type": "code",
   "execution_count": 29,
   "metadata": {},
   "outputs": [
    {
     "data": {
      "text/plain": [
       "uno        20\n",
       "dos       100\n",
       "tres      100\n",
       "cuatro    100\n",
       "cinco       5\n",
       "dtype: int64"
      ]
     },
     "execution_count": 29,
     "metadata": {},
     "output_type": "execute_result"
    }
   ],
   "source": [
    "# Cambiamos el valor de los elementos 'dos' a 'cuatro' (broadcasting):\n",
    "serie['dos':'cuatro'] = 100\n",
    "serie"
   ]
  },
  {
   "cell_type": "code",
   "execution_count": 30,
   "metadata": {},
   "outputs": [
    {
     "data": {
      "text/plain": [
       "dos     100\n",
       "tres    100\n",
       "dtype: int64"
      ]
     },
     "execution_count": 30,
     "metadata": {},
     "output_type": "execute_result"
    }
   ],
   "source": [
    "# Accedemos mediante índices numéricos enteros:\n",
    "serie[1:3]"
   ]
  },
  {
   "cell_type": "markdown",
   "metadata": {},
   "source": [
    "## Operaciones sobre Series"
   ]
  },
  {
   "cell_type": "code",
   "execution_count": 31,
   "metadata": {},
   "outputs": [
    {
     "data": {
      "text/plain": [
       "uno        20\n",
       "dos       100\n",
       "tres      100\n",
       "cuatro    100\n",
       "cinco       5\n",
       "dtype: int64"
      ]
     },
     "execution_count": 31,
     "metadata": {},
     "output_type": "execute_result"
    }
   ],
   "source": [
    "# La serie original:\n",
    "serie"
   ]
  },
  {
   "cell_type": "code",
   "execution_count": 32,
   "metadata": {},
   "outputs": [
    {
     "data": {
      "text/plain": [
       "uno        40\n",
       "dos       200\n",
       "tres      200\n",
       "cuatro    200\n",
       "cinco      10\n",
       "dtype: int64"
      ]
     },
     "execution_count": 32,
     "metadata": {},
     "output_type": "execute_result"
    }
   ],
   "source": [
    "# Multiplicamos la serie por 2:\n",
    "serie*2"
   ]
  },
  {
   "cell_type": "code",
   "execution_count": 33,
   "metadata": {},
   "outputs": [
    {
     "data": {
      "text/plain": [
       "uno       False\n",
       "dos        True\n",
       "tres       True\n",
       "cuatro     True\n",
       "cinco     False\n",
       "dtype: bool"
      ]
     },
     "execution_count": 33,
     "metadata": {},
     "output_type": "execute_result"
    }
   ],
   "source": [
    "# Elementos mayores que 50:\n",
    "serie > 50"
   ]
  },
  {
   "cell_type": "code",
   "execution_count": 34,
   "metadata": {},
   "outputs": [
    {
     "data": {
      "text/plain": [
       "dos       100\n",
       "tres      100\n",
       "cuatro    100\n",
       "dtype: int64"
      ]
     },
     "execution_count": 34,
     "metadata": {},
     "output_type": "execute_result"
    }
   ],
   "source": [
    "# Acceso mediante índices booleanos:\n",
    "serie[serie > 50]"
   ]
  },
  {
   "cell_type": "markdown",
   "metadata": {},
   "source": [
    "## Creación a partir de diccionarios"
   ]
  },
  {
   "cell_type": "code",
   "execution_count": 35,
   "metadata": {},
   "outputs": [
    {
     "data": {
      "text/plain": [
       "{'Juan': 23, 'Ana': 25, 'Eva': 31, 'Andres': 27}"
      ]
     },
     "execution_count": 35,
     "metadata": {},
     "output_type": "execute_result"
    }
   ],
   "source": [
    "# Creamos un diccionario con nombres y edades:\n",
    "diccionario = {'Juan': 23, 'Ana': 25, 'Eva': 31, 'Andres': 27}\n",
    "diccionario"
   ]
  },
  {
   "cell_type": "code",
   "execution_count": 36,
   "metadata": {},
   "outputs": [
    {
     "data": {
      "text/plain": [
       "Juan      23\n",
       "Ana       25\n",
       "Eva       31\n",
       "Andres    27\n",
       "dtype: int64"
      ]
     },
     "execution_count": 36,
     "metadata": {},
     "output_type": "execute_result"
    }
   ],
   "source": [
    "# Creamos una serie a partir del diccionario. Las claves del diccionario\n",
    "# se convierten en los índices de la serie:\n",
    "serie = Series(diccionario)\n",
    "serie"
   ]
  },
  {
   "cell_type": "markdown",
   "metadata": {},
   "source": [
    "## Creación a partir de otra serie"
   ]
  },
  {
   "cell_type": "code",
   "execution_count": 37,
   "metadata": {},
   "outputs": [
    {
     "data": {
      "text/plain": [
       "Juan      23\n",
       "Ana       25\n",
       "Eva       31\n",
       "Andres    27\n",
       "dtype: int64"
      ]
     },
     "execution_count": 37,
     "metadata": {},
     "output_type": "execute_result"
    }
   ],
   "source": [
    "# Creamos una nueva serie a partir de la anterior:\n",
    "nueva_serie = Series(serie)\n",
    "nueva_serie"
   ]
  },
  {
   "cell_type": "code",
   "execution_count": 38,
   "metadata": {},
   "outputs": [
    {
     "data": {
      "text/plain": [
       "Eva       31\n",
       "Juan      23\n",
       "Andres    27\n",
       "dtype: int64"
      ]
     },
     "execution_count": 38,
     "metadata": {},
     "output_type": "execute_result"
    }
   ],
   "source": [
    "# Creamos una nueva serie a partir de la anterior, especificando un índice \n",
    "# que excluye alguno de los elementos de la serie inicial:\n",
    "nueva_serie = Series(serie, index = ['Eva', 'Juan', 'Andres'])\n",
    "nueva_serie"
   ]
  },
  {
   "cell_type": "code",
   "execution_count": 39,
   "metadata": {},
   "outputs": [
    {
     "data": {
      "text/plain": [
       "Eva       31.0\n",
       "Juan      23.0\n",
       "Andres    27.0\n",
       "Susana     NaN\n",
       "dtype: float64"
      ]
     },
     "execution_count": 39,
     "metadata": {},
     "output_type": "execute_result"
    }
   ],
   "source": [
    "# Creamos una nueva serie a partir de la anterior, especificando un índice \n",
    "# que incluye algún elemento que no está en la serie inicial:\n",
    "nueva_serie = Series(serie, index = ['Eva', 'Juan', 'Andres', 'Susana'])\n",
    "nueva_serie"
   ]
  },
  {
   "cell_type": "markdown",
   "metadata": {},
   "source": [
    "## Cambiar el atributo index"
   ]
  },
  {
   "cell_type": "code",
   "execution_count": 40,
   "metadata": {},
   "outputs": [
    {
     "data": {
      "text/plain": [
       "Juan      23\n",
       "Ana       25\n",
       "Eva       31\n",
       "Andres    27\n",
       "dtype: int64"
      ]
     },
     "execution_count": 40,
     "metadata": {},
     "output_type": "execute_result"
    }
   ],
   "source": [
    "# La serie inicial:\n",
    "serie"
   ]
  },
  {
   "cell_type": "code",
   "execution_count": 41,
   "metadata": {},
   "outputs": [
    {
     "data": {
      "text/plain": [
       "a    23\n",
       "b    25\n",
       "c    31\n",
       "d    27\n",
       "dtype: int64"
      ]
     },
     "execution_count": 41,
     "metadata": {},
     "output_type": "execute_result"
    }
   ],
   "source": [
    "# Cambiamos los índices:\n",
    "serie.index = ['a', 'b', 'c', 'd']\n",
    "serie"
   ]
  },
  {
   "cell_type": "code",
   "execution_count": 42,
   "metadata": {},
   "outputs": [
    {
     "ename": "TypeError",
     "evalue": "Index does not support mutable operations",
     "output_type": "error",
     "traceback": [
      "\u001b[1;31m---------------------------------------------------------------------------\u001b[0m",
      "\u001b[1;31mTypeError\u001b[0m                                 Traceback (most recent call last)",
      "\u001b[1;32m<ipython-input-42-3351051aa5ca>\u001b[0m in \u001b[0;36m<module>\u001b[1;34m\u001b[0m\n\u001b[0;32m      1\u001b[0m \u001b[1;31m# Pero no podemos cambiar el objeto Index\u001b[0m\u001b[1;33m\u001b[0m\u001b[1;33m\u001b[0m\u001b[1;33m\u001b[0m\u001b[0m\n\u001b[1;32m----> 2\u001b[1;33m \u001b[0mserie\u001b[0m\u001b[1;33m.\u001b[0m\u001b[0mindex\u001b[0m\u001b[1;33m[\u001b[0m\u001b[1;36m1\u001b[0m\u001b[1;33m]\u001b[0m \u001b[1;33m=\u001b[0m \u001b[1;34m'e'\u001b[0m\u001b[1;33m\u001b[0m\u001b[1;33m\u001b[0m\u001b[0m\n\u001b[0m",
      "\u001b[1;32m~\\Anaconda3\\lib\\site-packages\\pandas\\core\\indexes\\base.py\u001b[0m in \u001b[0;36m__setitem__\u001b[1;34m(self, key, value)\u001b[0m\n\u001b[0;32m   4258\u001b[0m \u001b[1;33m\u001b[0m\u001b[0m\n\u001b[0;32m   4259\u001b[0m     \u001b[1;32mdef\u001b[0m \u001b[0m__setitem__\u001b[0m\u001b[1;33m(\u001b[0m\u001b[0mself\u001b[0m\u001b[1;33m,\u001b[0m \u001b[0mkey\u001b[0m\u001b[1;33m,\u001b[0m \u001b[0mvalue\u001b[0m\u001b[1;33m)\u001b[0m\u001b[1;33m:\u001b[0m\u001b[1;33m\u001b[0m\u001b[1;33m\u001b[0m\u001b[0m\n\u001b[1;32m-> 4260\u001b[1;33m         \u001b[1;32mraise\u001b[0m \u001b[0mTypeError\u001b[0m\u001b[1;33m(\u001b[0m\u001b[1;34m\"Index does not support mutable operations\"\u001b[0m\u001b[1;33m)\u001b[0m\u001b[1;33m\u001b[0m\u001b[1;33m\u001b[0m\u001b[0m\n\u001b[0m\u001b[0;32m   4261\u001b[0m \u001b[1;33m\u001b[0m\u001b[0m\n\u001b[0;32m   4262\u001b[0m     \u001b[1;32mdef\u001b[0m \u001b[0m__getitem__\u001b[0m\u001b[1;33m(\u001b[0m\u001b[0mself\u001b[0m\u001b[1;33m,\u001b[0m \u001b[0mkey\u001b[0m\u001b[1;33m)\u001b[0m\u001b[1;33m:\u001b[0m\u001b[1;33m\u001b[0m\u001b[1;33m\u001b[0m\u001b[0m\n",
      "\u001b[1;31mTypeError\u001b[0m: Index does not support mutable operations"
     ]
    }
   ],
   "source": [
    "# Pero no podemos cambiar el objeto Index\n",
    "serie.index[1] = 'e'"
   ]
  },
  {
   "cell_type": "markdown",
   "metadata": {},
   "source": [
    "## Ejercicio: La clase Series"
   ]
  },
  {
   "cell_type": "code",
   "execution_count": 43,
   "metadata": {},
   "outputs": [],
   "source": [
    "# Tenemos las siguientes listas de marcas, modelos y precios en euros de \n",
    "# arneses de escalada:\n",
    "marcas = ['Camp', 'Camp', 'Petzl', 'Petzl', 'Edelrid', 'Edelrid', 'Edelrid',\n",
    "          'Black Diamond', 'Black Diamond', 'Mammut']\n",
    "modelos = ['Energy', 'Jasper', 'Simba', 'Adjama New', 'Moe', 'Orion', 'Leaf',\n",
    "           'Xenes', 'Chaos', 'Ophir']\n",
    "precios = [39.90, 56.00, 45.00, 75.00, 49.90, 99.90, 65.00, 119.90, \n",
    "           99.90, 55.00]"
   ]
  },
  {
   "cell_type": "markdown",
   "metadata": {},
   "source": [
    "<font color=\"#279D9F\">1. </font> Construir una serie en la que los modelos sean el índice y los precios el valor."
   ]
  },
  {
   "cell_type": "code",
   "execution_count": 44,
   "metadata": {},
   "outputs": [
    {
     "data": {
      "text/plain": [
       "Energy         39.9\n",
       "Jasper         56.0\n",
       "Simba          45.0\n",
       "Adjama New     75.0\n",
       "Moe            49.9\n",
       "Orion          99.9\n",
       "Leaf           65.0\n",
       "Xenes         119.9\n",
       "Chaos          99.9\n",
       "Ophir          55.0\n",
       "dtype: float64"
      ]
     },
     "execution_count": 44,
     "metadata": {},
     "output_type": "execute_result"
    }
   ],
   "source": [
    "serie = Series(precios,index=modelos)\n",
    "serie"
   ]
  },
  {
   "cell_type": "markdown",
   "metadata": {},
   "source": [
    "<font color=\"#279D9F\">2. </font> Localizar los modelos que tienen un precio menor de 70 euros."
   ]
  },
  {
   "cell_type": "code",
   "execution_count": 45,
   "metadata": {},
   "outputs": [
    {
     "data": {
      "text/plain": [
       "Energy    39.9\n",
       "Jasper    56.0\n",
       "Simba     45.0\n",
       "Moe       49.9\n",
       "Leaf      65.0\n",
       "Ophir     55.0\n",
       "dtype: float64"
      ]
     },
     "execution_count": 45,
     "metadata": {},
     "output_type": "execute_result"
    }
   ],
   "source": [
    "serie[serie < 70]"
   ]
  },
  {
   "cell_type": "markdown",
   "metadata": {},
   "source": [
    "<font color=\"#279D9F\">3. </font> Crear una nueva serie que contenga el precio original para todos los productos salvo los de la marca Edelrid, a los que se aplicará un descuento del 10%."
   ]
  },
  {
   "cell_type": "code",
   "execution_count": 46,
   "metadata": {
    "scrolled": true
   },
   "outputs": [
    {
     "data": {
      "text/plain": [
       "Energy         39.90\n",
       "Jasper         56.00\n",
       "Simba          45.00\n",
       "Adjama New     75.00\n",
       "Moe            44.91\n",
       "Orion          89.91\n",
       "Leaf           58.50\n",
       "Xenes         119.90\n",
       "Chaos          99.90\n",
       "Ophir          55.00\n",
       "dtype: float64"
      ]
     },
     "execution_count": 46,
     "metadata": {},
     "output_type": "execute_result"
    }
   ],
   "source": [
    "serie[np.array(marcas) == 'Edelrid'] = serie[np.array(marcas) == 'Edelrid'] * 0.9\n",
    "serie\n"
   ]
  },
  {
   "cell_type": "markdown",
   "metadata": {},
   "source": [
    "# La clase DataFrame"
   ]
  },
  {
   "cell_type": "code",
   "execution_count": 47,
   "metadata": {},
   "outputs": [
    {
     "data": {
      "text/plain": [
       "{'Nombre': ['Juan', 'Veronica', 'Bruno', 'Pablo', 'Rosa'],\n",
       " 'Edad': [33, 41, 45, 28, 36],\n",
       " 'Telefono': [2289, 1243, 2564, 4448, 3321]}"
      ]
     },
     "execution_count": 47,
     "metadata": {},
     "output_type": "execute_result"
    }
   ],
   "source": [
    "# Creamos un diccionario de listas:\n",
    "diccionario = {'Nombre': ['Juan', 'Veronica', 'Bruno', 'Pablo', 'Rosa'], \n",
    "               'Edad': [33, 41, 45, 28, 36],\n",
    "               'Telefono': [2289, 1243, 2564, 4448, 3321]}\n",
    "diccionario"
   ]
  },
  {
   "cell_type": "code",
   "execution_count": 48,
   "metadata": {},
   "outputs": [
    {
     "data": {
      "text/html": [
       "<div>\n",
       "<style scoped>\n",
       "    .dataframe tbody tr th:only-of-type {\n",
       "        vertical-align: middle;\n",
       "    }\n",
       "\n",
       "    .dataframe tbody tr th {\n",
       "        vertical-align: top;\n",
       "    }\n",
       "\n",
       "    .dataframe thead th {\n",
       "        text-align: right;\n",
       "    }\n",
       "</style>\n",
       "<table border=\"1\" class=\"dataframe\">\n",
       "  <thead>\n",
       "    <tr style=\"text-align: right;\">\n",
       "      <th></th>\n",
       "      <th>Nombre</th>\n",
       "      <th>Edad</th>\n",
       "      <th>Telefono</th>\n",
       "    </tr>\n",
       "  </thead>\n",
       "  <tbody>\n",
       "    <tr>\n",
       "      <td>0</td>\n",
       "      <td>Juan</td>\n",
       "      <td>33</td>\n",
       "      <td>2289</td>\n",
       "    </tr>\n",
       "    <tr>\n",
       "      <td>1</td>\n",
       "      <td>Veronica</td>\n",
       "      <td>41</td>\n",
       "      <td>1243</td>\n",
       "    </tr>\n",
       "    <tr>\n",
       "      <td>2</td>\n",
       "      <td>Bruno</td>\n",
       "      <td>45</td>\n",
       "      <td>2564</td>\n",
       "    </tr>\n",
       "    <tr>\n",
       "      <td>3</td>\n",
       "      <td>Pablo</td>\n",
       "      <td>28</td>\n",
       "      <td>4448</td>\n",
       "    </tr>\n",
       "    <tr>\n",
       "      <td>4</td>\n",
       "      <td>Rosa</td>\n",
       "      <td>36</td>\n",
       "      <td>3321</td>\n",
       "    </tr>\n",
       "  </tbody>\n",
       "</table>\n",
       "</div>"
      ],
      "text/plain": [
       "     Nombre  Edad  Telefono\n",
       "0      Juan    33      2289\n",
       "1  Veronica    41      1243\n",
       "2     Bruno    45      2564\n",
       "3     Pablo    28      4448\n",
       "4      Rosa    36      3321"
      ]
     },
     "execution_count": 48,
     "metadata": {},
     "output_type": "execute_result"
    }
   ],
   "source": [
    "# Importamos la clase DataFrame y creamos el DataFrame a partir del diccionario:\n",
    "from pandas import DataFrame\n",
    "data = DataFrame(diccionario)\n",
    "data"
   ]
  },
  {
   "cell_type": "code",
   "execution_count": 49,
   "metadata": {},
   "outputs": [
    {
     "data": {
      "text/html": [
       "<div>\n",
       "<style scoped>\n",
       "    .dataframe tbody tr th:only-of-type {\n",
       "        vertical-align: middle;\n",
       "    }\n",
       "\n",
       "    .dataframe tbody tr th {\n",
       "        vertical-align: top;\n",
       "    }\n",
       "\n",
       "    .dataframe thead th {\n",
       "        text-align: right;\n",
       "    }\n",
       "</style>\n",
       "<table border=\"1\" class=\"dataframe\">\n",
       "  <thead>\n",
       "    <tr style=\"text-align: right;\">\n",
       "      <th></th>\n",
       "      <th>Edad</th>\n",
       "      <th>Nombre</th>\n",
       "      <th>Telefono</th>\n",
       "    </tr>\n",
       "  </thead>\n",
       "  <tbody>\n",
       "    <tr>\n",
       "      <td>0</td>\n",
       "      <td>33</td>\n",
       "      <td>Juan</td>\n",
       "      <td>2289</td>\n",
       "    </tr>\n",
       "    <tr>\n",
       "      <td>1</td>\n",
       "      <td>41</td>\n",
       "      <td>Veronica</td>\n",
       "      <td>1243</td>\n",
       "    </tr>\n",
       "    <tr>\n",
       "      <td>2</td>\n",
       "      <td>45</td>\n",
       "      <td>Bruno</td>\n",
       "      <td>2564</td>\n",
       "    </tr>\n",
       "    <tr>\n",
       "      <td>3</td>\n",
       "      <td>28</td>\n",
       "      <td>Pablo</td>\n",
       "      <td>4448</td>\n",
       "    </tr>\n",
       "    <tr>\n",
       "      <td>4</td>\n",
       "      <td>36</td>\n",
       "      <td>Rosa</td>\n",
       "      <td>3321</td>\n",
       "    </tr>\n",
       "  </tbody>\n",
       "</table>\n",
       "</div>"
      ],
      "text/plain": [
       "   Edad    Nombre  Telefono\n",
       "0    33      Juan      2289\n",
       "1    41  Veronica      1243\n",
       "2    45     Bruno      2564\n",
       "3    28     Pablo      4448\n",
       "4    36      Rosa      3321"
      ]
     },
     "execution_count": 49,
     "metadata": {},
     "output_type": "execute_result"
    }
   ],
   "source": [
    "# Especificamos el orden de las columnas:\n",
    "data = DataFrame(diccionario, columns = ['Edad', 'Nombre', 'Telefono'])\n",
    "data"
   ]
  },
  {
   "cell_type": "code",
   "execution_count": 50,
   "metadata": {},
   "outputs": [
    {
     "data": {
      "text/html": [
       "<div>\n",
       "<style scoped>\n",
       "    .dataframe tbody tr th:only-of-type {\n",
       "        vertical-align: middle;\n",
       "    }\n",
       "\n",
       "    .dataframe tbody tr th {\n",
       "        vertical-align: top;\n",
       "    }\n",
       "\n",
       "    .dataframe thead th {\n",
       "        text-align: right;\n",
       "    }\n",
       "</style>\n",
       "<table border=\"1\" class=\"dataframe\">\n",
       "  <thead>\n",
       "    <tr style=\"text-align: right;\">\n",
       "      <th></th>\n",
       "      <th>Edad</th>\n",
       "      <th>Nombre</th>\n",
       "      <th>Telefono</th>\n",
       "    </tr>\n",
       "  </thead>\n",
       "  <tbody>\n",
       "    <tr>\n",
       "      <td>j33</td>\n",
       "      <td>33</td>\n",
       "      <td>Juan</td>\n",
       "      <td>2289</td>\n",
       "    </tr>\n",
       "    <tr>\n",
       "      <td>v41</td>\n",
       "      <td>41</td>\n",
       "      <td>Veronica</td>\n",
       "      <td>1243</td>\n",
       "    </tr>\n",
       "    <tr>\n",
       "      <td>b45</td>\n",
       "      <td>45</td>\n",
       "      <td>Bruno</td>\n",
       "      <td>2564</td>\n",
       "    </tr>\n",
       "    <tr>\n",
       "      <td>p28</td>\n",
       "      <td>28</td>\n",
       "      <td>Pablo</td>\n",
       "      <td>4448</td>\n",
       "    </tr>\n",
       "    <tr>\n",
       "      <td>r36</td>\n",
       "      <td>36</td>\n",
       "      <td>Rosa</td>\n",
       "      <td>3321</td>\n",
       "    </tr>\n",
       "  </tbody>\n",
       "</table>\n",
       "</div>"
      ],
      "text/plain": [
       "     Edad    Nombre  Telefono\n",
       "j33    33      Juan      2289\n",
       "v41    41  Veronica      1243\n",
       "b45    45     Bruno      2564\n",
       "p28    28     Pablo      4448\n",
       "r36    36      Rosa      3321"
      ]
     },
     "execution_count": 50,
     "metadata": {},
     "output_type": "execute_result"
    }
   ],
   "source": [
    "# Usamos un índice específico:\n",
    "data = DataFrame(diccionario, columns = ['Edad', 'Nombre', 'Telefono'], \n",
    "                 index = ['j33', 'v41', 'b45', 'p28', 'r36'])\n",
    "data"
   ]
  },
  {
   "cell_type": "code",
   "execution_count": 51,
   "metadata": {},
   "outputs": [
    {
     "data": {
      "text/html": [
       "<div>\n",
       "<style scoped>\n",
       "    .dataframe tbody tr th:only-of-type {\n",
       "        vertical-align: middle;\n",
       "    }\n",
       "\n",
       "    .dataframe tbody tr th {\n",
       "        vertical-align: top;\n",
       "    }\n",
       "\n",
       "    .dataframe thead th {\n",
       "        text-align: right;\n",
       "    }\n",
       "</style>\n",
       "<table border=\"1\" class=\"dataframe\">\n",
       "  <thead>\n",
       "    <tr style=\"text-align: right;\">\n",
       "      <th></th>\n",
       "      <th>Edad</th>\n",
       "      <th>Nombre</th>\n",
       "      <th>Telefono</th>\n",
       "      <th>E-mail</th>\n",
       "    </tr>\n",
       "  </thead>\n",
       "  <tbody>\n",
       "    <tr>\n",
       "      <td>j33</td>\n",
       "      <td>33</td>\n",
       "      <td>Juan</td>\n",
       "      <td>2289</td>\n",
       "      <td>NaN</td>\n",
       "    </tr>\n",
       "    <tr>\n",
       "      <td>v41</td>\n",
       "      <td>41</td>\n",
       "      <td>Veronica</td>\n",
       "      <td>1243</td>\n",
       "      <td>NaN</td>\n",
       "    </tr>\n",
       "    <tr>\n",
       "      <td>b45</td>\n",
       "      <td>45</td>\n",
       "      <td>Bruno</td>\n",
       "      <td>2564</td>\n",
       "      <td>NaN</td>\n",
       "    </tr>\n",
       "    <tr>\n",
       "      <td>p28</td>\n",
       "      <td>28</td>\n",
       "      <td>Pablo</td>\n",
       "      <td>4448</td>\n",
       "      <td>NaN</td>\n",
       "    </tr>\n",
       "    <tr>\n",
       "      <td>r36</td>\n",
       "      <td>36</td>\n",
       "      <td>Rosa</td>\n",
       "      <td>3321</td>\n",
       "      <td>NaN</td>\n",
       "    </tr>\n",
       "  </tbody>\n",
       "</table>\n",
       "</div>"
      ],
      "text/plain": [
       "     Edad    Nombre  Telefono E-mail\n",
       "j33    33      Juan      2289    NaN\n",
       "v41    41  Veronica      1243    NaN\n",
       "b45    45     Bruno      2564    NaN\n",
       "p28    28     Pablo      4448    NaN\n",
       "r36    36      Rosa      3321    NaN"
      ]
     },
     "execution_count": 51,
     "metadata": {},
     "output_type": "execute_result"
    }
   ],
   "source": [
    "# El nombre de columna E-mail no está en el diccionario:\n",
    "data = DataFrame(diccionario, columns = ['Edad', 'Nombre', 'Telefono', 'E-mail'], \n",
    "                 index = ['j33', 'v41', 'b45', 'p28', 'r36'])\n",
    "data"
   ]
  },
  {
   "cell_type": "markdown",
   "metadata": {},
   "source": [
    "## Acceso"
   ]
  },
  {
   "cell_type": "code",
   "execution_count": 52,
   "metadata": {},
   "outputs": [
    {
     "data": {
      "text/plain": [
       "j33        Juan\n",
       "v41    Veronica\n",
       "b45       Bruno\n",
       "p28       Pablo\n",
       "r36        Rosa\n",
       "Name: Nombre, dtype: object"
      ]
     },
     "execution_count": 52,
     "metadata": {},
     "output_type": "execute_result"
    }
   ],
   "source": [
    "# Obtenemos la columna usando el nombre de la misma como atributo del DataFrame:\n",
    "data.Nombre"
   ]
  },
  {
   "cell_type": "code",
   "execution_count": 53,
   "metadata": {},
   "outputs": [
    {
     "data": {
      "text/plain": [
       "j33        Juan\n",
       "v41    Veronica\n",
       "b45       Bruno\n",
       "p28       Pablo\n",
       "r36        Rosa\n",
       "Name: Nombre, dtype: object"
      ]
     },
     "execution_count": 53,
     "metadata": {},
     "output_type": "execute_result"
    }
   ],
   "source": [
    "# Obtenemos la columna indexando el DataFrame con el nombre de la misma:\n",
    "data['Nombre']"
   ]
  },
  {
   "cell_type": "code",
   "execution_count": 54,
   "metadata": {},
   "outputs": [
    {
     "name": "stdout",
     "output_type": "stream",
     "text": [
      "Edad          33\n",
      "Nombre      Juan\n",
      "Telefono    2289\n",
      "E-mail       NaN\n",
      "Name: j33, dtype: object\n",
      "     Edad    Nombre  Telefono E-mail\n",
      "v41    41  Veronica      1243    NaN\n",
      "b45    45     Bruno      2564    NaN\n",
      "p28    28     Pablo      4448    NaN\n",
      "     Edad    Nombre  Telefono E-mail\n",
      "j33    33      Juan      2289    NaN\n",
      "v41    41  Veronica      1243    NaN\n",
      "b45    45     Bruno      2564    NaN\n",
      "p28    28     Pablo      4448    NaN\n"
     ]
    }
   ],
   "source": [
    "# Obtenemos una o varias filas usando el atributo loc y los nombres de los índices:\n",
    "print(data.loc['j33'])\n",
    "print(data.loc['v41':'p28'])\n",
    "print(data.loc[:'p28'])"
   ]
  },
  {
   "cell_type": "code",
   "execution_count": 55,
   "metadata": {},
   "outputs": [
    {
     "name": "stdout",
     "output_type": "stream",
     "text": [
      "Edad          33\n",
      "Nombre      Juan\n",
      "Telefono    2289\n",
      "E-mail       NaN\n",
      "Name: j33, dtype: object\n",
      "     Edad    Nombre  Telefono E-mail\n",
      "v41    41  Veronica      1243    NaN\n",
      "b45    45     Bruno      2564    NaN\n",
      "     Edad    Nombre  Telefono E-mail\n",
      "j33    33      Juan      2289    NaN\n",
      "v41    41  Veronica      1243    NaN\n",
      "b45    45     Bruno      2564    NaN\n"
     ]
    }
   ],
   "source": [
    "# Obtenemos una o varias filas usando el atributo loc y los índices numéricos:\n",
    "print(data.iloc[0])\n",
    "print(data.iloc[1:3])\n",
    "print(data.iloc[:3])"
   ]
  },
  {
   "cell_type": "code",
   "execution_count": 56,
   "metadata": {},
   "outputs": [
    {
     "name": "stdout",
     "output_type": "stream",
     "text": [
      "     Edad    Nombre  Telefono E-mail\n",
      "j33    33      Juan      2289    NaN\n",
      "v41    41  Veronica      1243    NaN\n",
      "b45    45     Bruno      2564    NaN\n",
      "     Edad    Nombre  Telefono E-mail\n",
      "j33    33      Juan      2289    NaN\n",
      "v41    41  Veronica      1243    NaN\n",
      "b45    45     Bruno      2564    NaN\n"
     ]
    }
   ],
   "source": [
    "# Obtenemos un conjunto de filas indexando mediante un slice de índices numéricos o los nombres de los índices\n",
    "print(data[:3])\n",
    "print(data[:'b45'])"
   ]
  },
  {
   "cell_type": "code",
   "execution_count": 57,
   "metadata": {},
   "outputs": [
    {
     "data": {
      "text/plain": [
       "Index(['j33', 'v41', 'b45', 'p28', 'r36'], dtype='object')"
      ]
     },
     "execution_count": 57,
     "metadata": {},
     "output_type": "execute_result"
    }
   ],
   "source": [
    "# Acceso a los índices:\n",
    "data.index"
   ]
  },
  {
   "cell_type": "code",
   "execution_count": 58,
   "metadata": {},
   "outputs": [
    {
     "data": {
      "text/plain": [
       "Index(['Edad', 'Nombre', 'Telefono', 'E-mail'], dtype='object')"
      ]
     },
     "execution_count": 58,
     "metadata": {},
     "output_type": "execute_result"
    }
   ],
   "source": [
    "# Acceso a las columnas:\n",
    "data.columns"
   ]
  },
  {
   "cell_type": "code",
   "execution_count": 59,
   "metadata": {},
   "outputs": [
    {
     "data": {
      "text/plain": [
       "array([[33, 'Juan', 2289, nan],\n",
       "       [41, 'Veronica', 1243, nan],\n",
       "       [45, 'Bruno', 2564, nan],\n",
       "       [28, 'Pablo', 4448, nan],\n",
       "       [36, 'Rosa', 3321, nan]], dtype=object)"
      ]
     },
     "execution_count": 59,
     "metadata": {},
     "output_type": "execute_result"
    }
   ],
   "source": [
    "# Acceso a los valores:\n",
    "data.values"
   ]
  },
  {
   "cell_type": "markdown",
   "metadata": {},
   "source": [
    "## Asignación"
   ]
  },
  {
   "cell_type": "code",
   "execution_count": 60,
   "metadata": {},
   "outputs": [
    {
     "data": {
      "text/html": [
       "<div>\n",
       "<style scoped>\n",
       "    .dataframe tbody tr th:only-of-type {\n",
       "        vertical-align: middle;\n",
       "    }\n",
       "\n",
       "    .dataframe tbody tr th {\n",
       "        vertical-align: top;\n",
       "    }\n",
       "\n",
       "    .dataframe thead th {\n",
       "        text-align: right;\n",
       "    }\n",
       "</style>\n",
       "<table border=\"1\" class=\"dataframe\">\n",
       "  <thead>\n",
       "    <tr style=\"text-align: right;\">\n",
       "      <th></th>\n",
       "      <th>Edad</th>\n",
       "      <th>Nombre</th>\n",
       "      <th>Telefono</th>\n",
       "      <th>E-mail</th>\n",
       "    </tr>\n",
       "  </thead>\n",
       "  <tbody>\n",
       "    <tr>\n",
       "      <td>j33</td>\n",
       "      <td>33</td>\n",
       "      <td>Juan</td>\n",
       "      <td>2289</td>\n",
       "      <td>xxx@gmail.com</td>\n",
       "    </tr>\n",
       "    <tr>\n",
       "      <td>v41</td>\n",
       "      <td>41</td>\n",
       "      <td>Veronica</td>\n",
       "      <td>1243</td>\n",
       "      <td>xxx@gmail.com</td>\n",
       "    </tr>\n",
       "    <tr>\n",
       "      <td>b45</td>\n",
       "      <td>45</td>\n",
       "      <td>Bruno</td>\n",
       "      <td>2564</td>\n",
       "      <td>xxx@gmail.com</td>\n",
       "    </tr>\n",
       "    <tr>\n",
       "      <td>p28</td>\n",
       "      <td>28</td>\n",
       "      <td>Pablo</td>\n",
       "      <td>4448</td>\n",
       "      <td>xxx@gmail.com</td>\n",
       "    </tr>\n",
       "    <tr>\n",
       "      <td>r36</td>\n",
       "      <td>36</td>\n",
       "      <td>Rosa</td>\n",
       "      <td>3321</td>\n",
       "      <td>xxx@gmail.com</td>\n",
       "    </tr>\n",
       "  </tbody>\n",
       "</table>\n",
       "</div>"
      ],
      "text/plain": [
       "     Edad    Nombre  Telefono         E-mail\n",
       "j33    33      Juan      2289  xxx@gmail.com\n",
       "v41    41  Veronica      1243  xxx@gmail.com\n",
       "b45    45     Bruno      2564  xxx@gmail.com\n",
       "p28    28     Pablo      4448  xxx@gmail.com\n",
       "r36    36      Rosa      3321  xxx@gmail.com"
      ]
     },
     "execution_count": 60,
     "metadata": {},
     "output_type": "execute_result"
    }
   ],
   "source": [
    "# Asignamos un único valor a todos los elementos de la columna E-mail:\n",
    "data['E-mail'] = 'xxx@gmail.com'\n",
    "data"
   ]
  },
  {
   "cell_type": "code",
   "execution_count": 61,
   "metadata": {},
   "outputs": [
    {
     "data": {
      "text/html": [
       "<div>\n",
       "<style scoped>\n",
       "    .dataframe tbody tr th:only-of-type {\n",
       "        vertical-align: middle;\n",
       "    }\n",
       "\n",
       "    .dataframe tbody tr th {\n",
       "        vertical-align: top;\n",
       "    }\n",
       "\n",
       "    .dataframe thead th {\n",
       "        text-align: right;\n",
       "    }\n",
       "</style>\n",
       "<table border=\"1\" class=\"dataframe\">\n",
       "  <thead>\n",
       "    <tr style=\"text-align: right;\">\n",
       "      <th></th>\n",
       "      <th>Edad</th>\n",
       "      <th>Nombre</th>\n",
       "      <th>Telefono</th>\n",
       "      <th>E-mail</th>\n",
       "    </tr>\n",
       "  </thead>\n",
       "  <tbody>\n",
       "    <tr>\n",
       "      <td>j33</td>\n",
       "      <td>33</td>\n",
       "      <td>Juan</td>\n",
       "      <td>2289</td>\n",
       "      <td>juan@gmail.com</td>\n",
       "    </tr>\n",
       "    <tr>\n",
       "      <td>v41</td>\n",
       "      <td>41</td>\n",
       "      <td>Veronica</td>\n",
       "      <td>1243</td>\n",
       "      <td>vero@gmail.com</td>\n",
       "    </tr>\n",
       "    <tr>\n",
       "      <td>b45</td>\n",
       "      <td>45</td>\n",
       "      <td>Bruno</td>\n",
       "      <td>2564</td>\n",
       "      <td>bruno@gmail.com</td>\n",
       "    </tr>\n",
       "    <tr>\n",
       "      <td>p28</td>\n",
       "      <td>28</td>\n",
       "      <td>Pablo</td>\n",
       "      <td>4448</td>\n",
       "      <td>pau@gmail.com</td>\n",
       "    </tr>\n",
       "    <tr>\n",
       "      <td>r36</td>\n",
       "      <td>36</td>\n",
       "      <td>Rosa</td>\n",
       "      <td>3321</td>\n",
       "      <td>rosa@gmail.com</td>\n",
       "    </tr>\n",
       "  </tbody>\n",
       "</table>\n",
       "</div>"
      ],
      "text/plain": [
       "     Edad    Nombre  Telefono           E-mail\n",
       "j33    33      Juan      2289   juan@gmail.com\n",
       "v41    41  Veronica      1243   vero@gmail.com\n",
       "b45    45     Bruno      2564  bruno@gmail.com\n",
       "p28    28     Pablo      4448    pau@gmail.com\n",
       "r36    36      Rosa      3321   rosa@gmail.com"
      ]
     },
     "execution_count": 61,
     "metadata": {},
     "output_type": "execute_result"
    }
   ],
   "source": [
    "# Asignamos valores a la columna E-mail usando una lista:\n",
    "data['E-mail'] = ['juan@gmail.com', 'vero@gmail.com', 'bruno@gmail.com', \n",
    "                  'pau@gmail.com', 'rosa@gmail.com']\n",
    "data"
   ]
  },
  {
   "cell_type": "code",
   "execution_count": 62,
   "metadata": {},
   "outputs": [
    {
     "data": {
      "text/html": [
       "<div>\n",
       "<style scoped>\n",
       "    .dataframe tbody tr th:only-of-type {\n",
       "        vertical-align: middle;\n",
       "    }\n",
       "\n",
       "    .dataframe tbody tr th {\n",
       "        vertical-align: top;\n",
       "    }\n",
       "\n",
       "    .dataframe thead th {\n",
       "        text-align: right;\n",
       "    }\n",
       "</style>\n",
       "<table border=\"1\" class=\"dataframe\">\n",
       "  <thead>\n",
       "    <tr style=\"text-align: right;\">\n",
       "      <th></th>\n",
       "      <th>Edad</th>\n",
       "      <th>Nombre</th>\n",
       "      <th>Telefono</th>\n",
       "      <th>E-mail</th>\n",
       "    </tr>\n",
       "  </thead>\n",
       "  <tbody>\n",
       "    <tr>\n",
       "      <td>0</td>\n",
       "      <td>33</td>\n",
       "      <td>Juan</td>\n",
       "      <td>2289</td>\n",
       "      <td>juan@gmail.com</td>\n",
       "    </tr>\n",
       "    <tr>\n",
       "      <td>2</td>\n",
       "      <td>41</td>\n",
       "      <td>Veronica</td>\n",
       "      <td>1243</td>\n",
       "      <td>vero@gmail.com</td>\n",
       "    </tr>\n",
       "    <tr>\n",
       "      <td>4</td>\n",
       "      <td>45</td>\n",
       "      <td>Bruno</td>\n",
       "      <td>2564</td>\n",
       "      <td>bruno@gmail.com</td>\n",
       "    </tr>\n",
       "    <tr>\n",
       "      <td>6</td>\n",
       "      <td>28</td>\n",
       "      <td>Pablo</td>\n",
       "      <td>4448</td>\n",
       "      <td>pau@gmail.com</td>\n",
       "    </tr>\n",
       "    <tr>\n",
       "      <td>8</td>\n",
       "      <td>36</td>\n",
       "      <td>Rosa</td>\n",
       "      <td>3321</td>\n",
       "      <td>rosa@gmail.com</td>\n",
       "    </tr>\n",
       "  </tbody>\n",
       "</table>\n",
       "</div>"
      ],
      "text/plain": [
       "   Edad    Nombre  Telefono           E-mail\n",
       "0    33      Juan      2289   juan@gmail.com\n",
       "2    41  Veronica      1243   vero@gmail.com\n",
       "4    45     Bruno      2564  bruno@gmail.com\n",
       "6    28     Pablo      4448    pau@gmail.com\n",
       "8    36      Rosa      3321   rosa@gmail.com"
      ]
     },
     "execution_count": 62,
     "metadata": {},
     "output_type": "execute_result"
    }
   ],
   "source": [
    "# Cambiamos los índices del dataframe:\n",
    "data.index = range(0, 10, 2)\n",
    "data"
   ]
  },
  {
   "cell_type": "code",
   "execution_count": 63,
   "metadata": {},
   "outputs": [
    {
     "data": {
      "text/html": [
       "<div>\n",
       "<style scoped>\n",
       "    .dataframe tbody tr th:only-of-type {\n",
       "        vertical-align: middle;\n",
       "    }\n",
       "\n",
       "    .dataframe tbody tr th {\n",
       "        vertical-align: top;\n",
       "    }\n",
       "\n",
       "    .dataframe thead th {\n",
       "        text-align: right;\n",
       "    }\n",
       "</style>\n",
       "<table border=\"1\" class=\"dataframe\">\n",
       "  <thead>\n",
       "    <tr style=\"text-align: right;\">\n",
       "      <th></th>\n",
       "      <th>Age</th>\n",
       "      <th>Name</th>\n",
       "      <th>Phone</th>\n",
       "      <th>E-mail</th>\n",
       "    </tr>\n",
       "  </thead>\n",
       "  <tbody>\n",
       "    <tr>\n",
       "      <td>0</td>\n",
       "      <td>33</td>\n",
       "      <td>Juan</td>\n",
       "      <td>2289</td>\n",
       "      <td>juan@gmail.com</td>\n",
       "    </tr>\n",
       "    <tr>\n",
       "      <td>2</td>\n",
       "      <td>41</td>\n",
       "      <td>Veronica</td>\n",
       "      <td>1243</td>\n",
       "      <td>vero@gmail.com</td>\n",
       "    </tr>\n",
       "    <tr>\n",
       "      <td>4</td>\n",
       "      <td>45</td>\n",
       "      <td>Bruno</td>\n",
       "      <td>2564</td>\n",
       "      <td>bruno@gmail.com</td>\n",
       "    </tr>\n",
       "    <tr>\n",
       "      <td>6</td>\n",
       "      <td>28</td>\n",
       "      <td>Pablo</td>\n",
       "      <td>4448</td>\n",
       "      <td>pau@gmail.com</td>\n",
       "    </tr>\n",
       "    <tr>\n",
       "      <td>8</td>\n",
       "      <td>36</td>\n",
       "      <td>Rosa</td>\n",
       "      <td>3321</td>\n",
       "      <td>rosa@gmail.com</td>\n",
       "    </tr>\n",
       "  </tbody>\n",
       "</table>\n",
       "</div>"
      ],
      "text/plain": [
       "   Age      Name  Phone           E-mail\n",
       "0   33      Juan   2289   juan@gmail.com\n",
       "2   41  Veronica   1243   vero@gmail.com\n",
       "4   45     Bruno   2564  bruno@gmail.com\n",
       "6   28     Pablo   4448    pau@gmail.com\n",
       "8   36      Rosa   3321   rosa@gmail.com"
      ]
     },
     "execution_count": 63,
     "metadata": {},
     "output_type": "execute_result"
    }
   ],
   "source": [
    "# Cambiamos los nombres de las columnas:\n",
    "data.columns = ['Age', 'Name', 'Phone', 'E-mail']\n",
    "data"
   ]
  },
  {
   "cell_type": "markdown",
   "metadata": {},
   "source": [
    "## Ejercicio: La clase DataFrame"
   ]
  },
  {
   "cell_type": "code",
   "execution_count": 64,
   "metadata": {},
   "outputs": [],
   "source": [
    "# Tenemos las siguientes listas con los nombres, raza y edad de un conjunto de perros\n",
    "nombre = ['Bobby', 'Tobby', 'Linda', 'Snoopy']\n",
    "raza = ['bulldog', 'caniche', 'labrador', 'chihuahua']\n",
    "edad = [2, 12, 5, 7]\n",
    "pedigree = [True, False, False, True]"
   ]
  },
  {
   "cell_type": "markdown",
   "metadata": {},
   "source": [
    "<font color=\"#279D9F\">1. </font> Construye un DataFrame llamado *perros* con estos datos organizados en cinco columnas: *nombre*, *raza*, *edad* y *pedigree* más una columan vacía llamada *adoptado*. Los índices de las filas se generarán automáticamente."
   ]
  },
  {
   "cell_type": "code",
   "execution_count": 65,
   "metadata": {},
   "outputs": [],
   "source": [
    "diccionario = {'nombre':nombre,'raza':raza,'edad':edad,'pedigree':pedigree}\n",
    "perros = DataFrame(diccionario,columns=['nombre','raza','edad','pedigree','adoptado'])"
   ]
  },
  {
   "cell_type": "code",
   "execution_count": 66,
   "metadata": {},
   "outputs": [
    {
     "data": {
      "text/html": [
       "<div>\n",
       "<style scoped>\n",
       "    .dataframe tbody tr th:only-of-type {\n",
       "        vertical-align: middle;\n",
       "    }\n",
       "\n",
       "    .dataframe tbody tr th {\n",
       "        vertical-align: top;\n",
       "    }\n",
       "\n",
       "    .dataframe thead th {\n",
       "        text-align: right;\n",
       "    }\n",
       "</style>\n",
       "<table border=\"1\" class=\"dataframe\">\n",
       "  <thead>\n",
       "    <tr style=\"text-align: right;\">\n",
       "      <th></th>\n",
       "      <th>nombre</th>\n",
       "      <th>raza</th>\n",
       "      <th>edad</th>\n",
       "      <th>pedigree</th>\n",
       "      <th>adoptado</th>\n",
       "    </tr>\n",
       "  </thead>\n",
       "  <tbody>\n",
       "    <tr>\n",
       "      <td>0</td>\n",
       "      <td>Bobby</td>\n",
       "      <td>bulldog</td>\n",
       "      <td>2</td>\n",
       "      <td>True</td>\n",
       "      <td>NaN</td>\n",
       "    </tr>\n",
       "    <tr>\n",
       "      <td>1</td>\n",
       "      <td>Tobby</td>\n",
       "      <td>caniche</td>\n",
       "      <td>12</td>\n",
       "      <td>False</td>\n",
       "      <td>NaN</td>\n",
       "    </tr>\n",
       "    <tr>\n",
       "      <td>2</td>\n",
       "      <td>Linda</td>\n",
       "      <td>labrador</td>\n",
       "      <td>5</td>\n",
       "      <td>False</td>\n",
       "      <td>NaN</td>\n",
       "    </tr>\n",
       "    <tr>\n",
       "      <td>3</td>\n",
       "      <td>Snoopy</td>\n",
       "      <td>chihuahua</td>\n",
       "      <td>7</td>\n",
       "      <td>True</td>\n",
       "      <td>NaN</td>\n",
       "    </tr>\n",
       "  </tbody>\n",
       "</table>\n",
       "</div>"
      ],
      "text/plain": [
       "   nombre       raza  edad  pedigree adoptado\n",
       "0   Bobby    bulldog     2      True      NaN\n",
       "1   Tobby    caniche    12     False      NaN\n",
       "2   Linda   labrador     5     False      NaN\n",
       "3  Snoopy  chihuahua     7      True      NaN"
      ]
     },
     "execution_count": 66,
     "metadata": {},
     "output_type": "execute_result"
    }
   ],
   "source": [
    "perros\n"
   ]
  },
  {
   "cell_type": "markdown",
   "metadata": {},
   "source": [
    "<font color=\"#279D9F\">2. </font> Modifica los nombres de los índices de las filas para que contengan como identificador un string formado por la primera letra del nombre y la edad del perro."
   ]
  },
  {
   "cell_type": "code",
   "execution_count": 67,
   "metadata": {},
   "outputs": [
    {
     "data": {
      "text/html": [
       "<div>\n",
       "<style scoped>\n",
       "    .dataframe tbody tr th:only-of-type {\n",
       "        vertical-align: middle;\n",
       "    }\n",
       "\n",
       "    .dataframe tbody tr th {\n",
       "        vertical-align: top;\n",
       "    }\n",
       "\n",
       "    .dataframe thead th {\n",
       "        text-align: right;\n",
       "    }\n",
       "</style>\n",
       "<table border=\"1\" class=\"dataframe\">\n",
       "  <thead>\n",
       "    <tr style=\"text-align: right;\">\n",
       "      <th></th>\n",
       "      <th>nombre</th>\n",
       "      <th>raza</th>\n",
       "      <th>edad</th>\n",
       "      <th>pedigree</th>\n",
       "      <th>adoptado</th>\n",
       "    </tr>\n",
       "  </thead>\n",
       "  <tbody>\n",
       "    <tr>\n",
       "      <td>b2</td>\n",
       "      <td>Bobby</td>\n",
       "      <td>bulldog</td>\n",
       "      <td>2</td>\n",
       "      <td>True</td>\n",
       "      <td>NaN</td>\n",
       "    </tr>\n",
       "    <tr>\n",
       "      <td>t12</td>\n",
       "      <td>Tobby</td>\n",
       "      <td>caniche</td>\n",
       "      <td>12</td>\n",
       "      <td>False</td>\n",
       "      <td>NaN</td>\n",
       "    </tr>\n",
       "    <tr>\n",
       "      <td>l5</td>\n",
       "      <td>Linda</td>\n",
       "      <td>labrador</td>\n",
       "      <td>5</td>\n",
       "      <td>False</td>\n",
       "      <td>NaN</td>\n",
       "    </tr>\n",
       "    <tr>\n",
       "      <td>s7</td>\n",
       "      <td>Snoopy</td>\n",
       "      <td>chihuahua</td>\n",
       "      <td>7</td>\n",
       "      <td>True</td>\n",
       "      <td>NaN</td>\n",
       "    </tr>\n",
       "  </tbody>\n",
       "</table>\n",
       "</div>"
      ],
      "text/plain": [
       "     nombre       raza  edad  pedigree adoptado\n",
       "b2    Bobby    bulldog     2      True      NaN\n",
       "t12   Tobby    caniche    12     False      NaN\n",
       "l5    Linda   labrador     5     False      NaN\n",
       "s7   Snoopy  chihuahua     7      True      NaN"
      ]
     },
     "execution_count": 67,
     "metadata": {},
     "output_type": "execute_result"
    }
   ],
   "source": [
    "perros.index=['b2','t12','l5','s7']\n",
    "perros"
   ]
  },
  {
   "cell_type": "markdown",
   "metadata": {},
   "source": [
    "<font color=\"#279D9F\">3. </font> Asigna el valor 'No' a todas las filas de la columna 'Adoptado'."
   ]
  },
  {
   "cell_type": "code",
   "execution_count": 68,
   "metadata": {},
   "outputs": [
    {
     "data": {
      "text/html": [
       "<div>\n",
       "<style scoped>\n",
       "    .dataframe tbody tr th:only-of-type {\n",
       "        vertical-align: middle;\n",
       "    }\n",
       "\n",
       "    .dataframe tbody tr th {\n",
       "        vertical-align: top;\n",
       "    }\n",
       "\n",
       "    .dataframe thead th {\n",
       "        text-align: right;\n",
       "    }\n",
       "</style>\n",
       "<table border=\"1\" class=\"dataframe\">\n",
       "  <thead>\n",
       "    <tr style=\"text-align: right;\">\n",
       "      <th></th>\n",
       "      <th>nombre</th>\n",
       "      <th>raza</th>\n",
       "      <th>edad</th>\n",
       "      <th>pedigree</th>\n",
       "      <th>adoptado</th>\n",
       "    </tr>\n",
       "  </thead>\n",
       "  <tbody>\n",
       "    <tr>\n",
       "      <td>b2</td>\n",
       "      <td>Bobby</td>\n",
       "      <td>bulldog</td>\n",
       "      <td>2</td>\n",
       "      <td>True</td>\n",
       "      <td>No</td>\n",
       "    </tr>\n",
       "    <tr>\n",
       "      <td>t12</td>\n",
       "      <td>Tobby</td>\n",
       "      <td>caniche</td>\n",
       "      <td>12</td>\n",
       "      <td>False</td>\n",
       "      <td>No</td>\n",
       "    </tr>\n",
       "    <tr>\n",
       "      <td>l5</td>\n",
       "      <td>Linda</td>\n",
       "      <td>labrador</td>\n",
       "      <td>5</td>\n",
       "      <td>False</td>\n",
       "      <td>No</td>\n",
       "    </tr>\n",
       "    <tr>\n",
       "      <td>s7</td>\n",
       "      <td>Snoopy</td>\n",
       "      <td>chihuahua</td>\n",
       "      <td>7</td>\n",
       "      <td>True</td>\n",
       "      <td>No</td>\n",
       "    </tr>\n",
       "  </tbody>\n",
       "</table>\n",
       "</div>"
      ],
      "text/plain": [
       "     nombre       raza  edad  pedigree adoptado\n",
       "b2    Bobby    bulldog     2      True       No\n",
       "t12   Tobby    caniche    12     False       No\n",
       "l5    Linda   labrador     5     False       No\n",
       "s7   Snoopy  chihuahua     7      True       No"
      ]
     },
     "execution_count": 68,
     "metadata": {},
     "output_type": "execute_result"
    }
   ],
   "source": [
    "perros['adoptado'] = 'No'\n",
    "perros"
   ]
  },
  {
   "cell_type": "markdown",
   "metadata": {},
   "source": [
    "<font color=\"#279D9F\">4. </font> Crea un DataFrame llamado *tienda* con los datos del ejercicio 1, donde las columnas se llamen *marca*, *modelo* y *precio*, y los índices de las filas se generen automáticamente."
   ]
  },
  {
   "cell_type": "code",
   "execution_count": 120,
   "metadata": {},
   "outputs": [
    {
     "data": {
      "text/html": [
       "<div>\n",
       "<style scoped>\n",
       "    .dataframe tbody tr th:only-of-type {\n",
       "        vertical-align: middle;\n",
       "    }\n",
       "\n",
       "    .dataframe tbody tr th {\n",
       "        vertical-align: top;\n",
       "    }\n",
       "\n",
       "    .dataframe thead th {\n",
       "        text-align: right;\n",
       "    }\n",
       "</style>\n",
       "<table border=\"1\" class=\"dataframe\">\n",
       "  <thead>\n",
       "    <tr style=\"text-align: right;\">\n",
       "      <th></th>\n",
       "      <th>marca</th>\n",
       "      <th>modelo</th>\n",
       "      <th>precio</th>\n",
       "    </tr>\n",
       "  </thead>\n",
       "  <tbody>\n",
       "    <tr>\n",
       "      <td>0</td>\n",
       "      <td>Camp</td>\n",
       "      <td>Energy</td>\n",
       "      <td>39.9</td>\n",
       "    </tr>\n",
       "    <tr>\n",
       "      <td>1</td>\n",
       "      <td>Camp</td>\n",
       "      <td>Jasper</td>\n",
       "      <td>56.0</td>\n",
       "    </tr>\n",
       "    <tr>\n",
       "      <td>2</td>\n",
       "      <td>Petzl</td>\n",
       "      <td>Simba</td>\n",
       "      <td>45.0</td>\n",
       "    </tr>\n",
       "    <tr>\n",
       "      <td>3</td>\n",
       "      <td>Petzl</td>\n",
       "      <td>Adjama New</td>\n",
       "      <td>75.0</td>\n",
       "    </tr>\n",
       "    <tr>\n",
       "      <td>4</td>\n",
       "      <td>Edelrid</td>\n",
       "      <td>Moe</td>\n",
       "      <td>49.9</td>\n",
       "    </tr>\n",
       "    <tr>\n",
       "      <td>5</td>\n",
       "      <td>Edelrid</td>\n",
       "      <td>Orion</td>\n",
       "      <td>99.9</td>\n",
       "    </tr>\n",
       "    <tr>\n",
       "      <td>6</td>\n",
       "      <td>Edelrid</td>\n",
       "      <td>Leaf</td>\n",
       "      <td>65.0</td>\n",
       "    </tr>\n",
       "    <tr>\n",
       "      <td>7</td>\n",
       "      <td>Black Diamond</td>\n",
       "      <td>Xenes</td>\n",
       "      <td>119.9</td>\n",
       "    </tr>\n",
       "    <tr>\n",
       "      <td>8</td>\n",
       "      <td>Black Diamond</td>\n",
       "      <td>Chaos</td>\n",
       "      <td>99.9</td>\n",
       "    </tr>\n",
       "    <tr>\n",
       "      <td>9</td>\n",
       "      <td>Mammut</td>\n",
       "      <td>Ophir</td>\n",
       "      <td>55.0</td>\n",
       "    </tr>\n",
       "  </tbody>\n",
       "</table>\n",
       "</div>"
      ],
      "text/plain": [
       "           marca      modelo  precio\n",
       "0           Camp      Energy    39.9\n",
       "1           Camp      Jasper    56.0\n",
       "2          Petzl       Simba    45.0\n",
       "3          Petzl  Adjama New    75.0\n",
       "4        Edelrid         Moe    49.9\n",
       "5        Edelrid       Orion    99.9\n",
       "6        Edelrid        Leaf    65.0\n",
       "7  Black Diamond       Xenes   119.9\n",
       "8  Black Diamond       Chaos    99.9\n",
       "9         Mammut       Ophir    55.0"
      ]
     },
     "execution_count": 120,
     "metadata": {},
     "output_type": "execute_result"
    }
   ],
   "source": [
    "diccionario = {'marca':marcas,'modelo':modelos,'precio':precios}\n",
    "tienda = DataFrame(diccionario,columns=['marca','modelo','precio'])\n",
    "tienda"
   ]
  },
  {
   "cell_type": "markdown",
   "metadata": {},
   "source": [
    "# Operaciones básicas con *Series* y *DataFrames*\n",
    "\n",
    "## Reindexación"
   ]
  },
  {
   "cell_type": "markdown",
   "metadata": {},
   "source": [
    "### DataFrame"
   ]
  },
  {
   "cell_type": "code",
   "execution_count": 70,
   "metadata": {},
   "outputs": [
    {
     "data": {
      "text/html": [
       "<div>\n",
       "<style scoped>\n",
       "    .dataframe tbody tr th:only-of-type {\n",
       "        vertical-align: middle;\n",
       "    }\n",
       "\n",
       "    .dataframe tbody tr th {\n",
       "        vertical-align: top;\n",
       "    }\n",
       "\n",
       "    .dataframe thead th {\n",
       "        text-align: right;\n",
       "    }\n",
       "</style>\n",
       "<table border=\"1\" class=\"dataframe\">\n",
       "  <thead>\n",
       "    <tr style=\"text-align: right;\">\n",
       "      <th></th>\n",
       "      <th>Age</th>\n",
       "      <th>Name</th>\n",
       "      <th>Phone</th>\n",
       "      <th>E-mail</th>\n",
       "    </tr>\n",
       "  </thead>\n",
       "  <tbody>\n",
       "    <tr>\n",
       "      <td>2</td>\n",
       "      <td>41</td>\n",
       "      <td>Veronica</td>\n",
       "      <td>1243</td>\n",
       "      <td>vero@gmail.com</td>\n",
       "    </tr>\n",
       "    <tr>\n",
       "      <td>6</td>\n",
       "      <td>28</td>\n",
       "      <td>Pablo</td>\n",
       "      <td>4448</td>\n",
       "      <td>pau@gmail.com</td>\n",
       "    </tr>\n",
       "    <tr>\n",
       "      <td>0</td>\n",
       "      <td>33</td>\n",
       "      <td>Juan</td>\n",
       "      <td>2289</td>\n",
       "      <td>juan@gmail.com</td>\n",
       "    </tr>\n",
       "    <tr>\n",
       "      <td>4</td>\n",
       "      <td>45</td>\n",
       "      <td>Bruno</td>\n",
       "      <td>2564</td>\n",
       "      <td>bruno@gmail.com</td>\n",
       "    </tr>\n",
       "    <tr>\n",
       "      <td>8</td>\n",
       "      <td>36</td>\n",
       "      <td>Rosa</td>\n",
       "      <td>3321</td>\n",
       "      <td>rosa@gmail.com</td>\n",
       "    </tr>\n",
       "  </tbody>\n",
       "</table>\n",
       "</div>"
      ],
      "text/plain": [
       "   Age      Name  Phone           E-mail\n",
       "2   41  Veronica   1243   vero@gmail.com\n",
       "6   28     Pablo   4448    pau@gmail.com\n",
       "0   33      Juan   2289   juan@gmail.com\n",
       "4   45     Bruno   2564  bruno@gmail.com\n",
       "8   36      Rosa   3321   rosa@gmail.com"
      ]
     },
     "execution_count": 70,
     "metadata": {},
     "output_type": "execute_result"
    }
   ],
   "source": [
    "# Creamos nuevo DataFrame con los índices reordenados:\n",
    "new_data = data.reindex([2, 6, 0, 4, 8])\n",
    "new_data"
   ]
  },
  {
   "cell_type": "code",
   "execution_count": 71,
   "metadata": {},
   "outputs": [
    {
     "data": {
      "text/html": [
       "<div>\n",
       "<style scoped>\n",
       "    .dataframe tbody tr th:only-of-type {\n",
       "        vertical-align: middle;\n",
       "    }\n",
       "\n",
       "    .dataframe tbody tr th {\n",
       "        vertical-align: top;\n",
       "    }\n",
       "\n",
       "    .dataframe thead th {\n",
       "        text-align: right;\n",
       "    }\n",
       "</style>\n",
       "<table border=\"1\" class=\"dataframe\">\n",
       "  <thead>\n",
       "    <tr style=\"text-align: right;\">\n",
       "      <th></th>\n",
       "      <th>Age</th>\n",
       "      <th>Name</th>\n",
       "      <th>Phone</th>\n",
       "      <th>E-mail</th>\n",
       "    </tr>\n",
       "  </thead>\n",
       "  <tbody>\n",
       "    <tr>\n",
       "      <td>2</td>\n",
       "      <td>41</td>\n",
       "      <td>Veronica</td>\n",
       "      <td>1243</td>\n",
       "      <td>vero@gmail.com</td>\n",
       "    </tr>\n",
       "    <tr>\n",
       "      <td>6</td>\n",
       "      <td>28</td>\n",
       "      <td>Pablo</td>\n",
       "      <td>4448</td>\n",
       "      <td>pau@gmail.com</td>\n",
       "    </tr>\n",
       "    <tr>\n",
       "      <td>0</td>\n",
       "      <td>33</td>\n",
       "      <td>Juan</td>\n",
       "      <td>2289</td>\n",
       "      <td>juan@gmail.com</td>\n",
       "    </tr>\n",
       "  </tbody>\n",
       "</table>\n",
       "</div>"
      ],
      "text/plain": [
       "   Age      Name  Phone          E-mail\n",
       "2   41  Veronica   1243  vero@gmail.com\n",
       "6   28     Pablo   4448   pau@gmail.com\n",
       "0   33      Juan   2289  juan@gmail.com"
      ]
     },
     "execution_count": 71,
     "metadata": {},
     "output_type": "execute_result"
    }
   ],
   "source": [
    "# Omitimos algunos índices:\n",
    "new_data = data.reindex([2, 6, 0])\n",
    "new_data"
   ]
  },
  {
   "cell_type": "code",
   "execution_count": 72,
   "metadata": {},
   "outputs": [
    {
     "data": {
      "text/html": [
       "<div>\n",
       "<style scoped>\n",
       "    .dataframe tbody tr th:only-of-type {\n",
       "        vertical-align: middle;\n",
       "    }\n",
       "\n",
       "    .dataframe tbody tr th {\n",
       "        vertical-align: top;\n",
       "    }\n",
       "\n",
       "    .dataframe thead th {\n",
       "        text-align: right;\n",
       "    }\n",
       "</style>\n",
       "<table border=\"1\" class=\"dataframe\">\n",
       "  <thead>\n",
       "    <tr style=\"text-align: right;\">\n",
       "      <th></th>\n",
       "      <th>Age</th>\n",
       "      <th>Name</th>\n",
       "      <th>Phone</th>\n",
       "      <th>E-mail</th>\n",
       "    </tr>\n",
       "  </thead>\n",
       "  <tbody>\n",
       "    <tr>\n",
       "      <td>0</td>\n",
       "      <td>33.0</td>\n",
       "      <td>Juan</td>\n",
       "      <td>2289.0</td>\n",
       "      <td>juan@gmail.com</td>\n",
       "    </tr>\n",
       "    <tr>\n",
       "      <td>1</td>\n",
       "      <td>NaN</td>\n",
       "      <td>NaN</td>\n",
       "      <td>NaN</td>\n",
       "      <td>NaN</td>\n",
       "    </tr>\n",
       "    <tr>\n",
       "      <td>2</td>\n",
       "      <td>41.0</td>\n",
       "      <td>Veronica</td>\n",
       "      <td>1243.0</td>\n",
       "      <td>vero@gmail.com</td>\n",
       "    </tr>\n",
       "    <tr>\n",
       "      <td>3</td>\n",
       "      <td>NaN</td>\n",
       "      <td>NaN</td>\n",
       "      <td>NaN</td>\n",
       "      <td>NaN</td>\n",
       "    </tr>\n",
       "    <tr>\n",
       "      <td>4</td>\n",
       "      <td>45.0</td>\n",
       "      <td>Bruno</td>\n",
       "      <td>2564.0</td>\n",
       "      <td>bruno@gmail.com</td>\n",
       "    </tr>\n",
       "    <tr>\n",
       "      <td>5</td>\n",
       "      <td>NaN</td>\n",
       "      <td>NaN</td>\n",
       "      <td>NaN</td>\n",
       "      <td>NaN</td>\n",
       "    </tr>\n",
       "    <tr>\n",
       "      <td>6</td>\n",
       "      <td>28.0</td>\n",
       "      <td>Pablo</td>\n",
       "      <td>4448.0</td>\n",
       "      <td>pau@gmail.com</td>\n",
       "    </tr>\n",
       "    <tr>\n",
       "      <td>7</td>\n",
       "      <td>NaN</td>\n",
       "      <td>NaN</td>\n",
       "      <td>NaN</td>\n",
       "      <td>NaN</td>\n",
       "    </tr>\n",
       "    <tr>\n",
       "      <td>8</td>\n",
       "      <td>36.0</td>\n",
       "      <td>Rosa</td>\n",
       "      <td>3321.0</td>\n",
       "      <td>rosa@gmail.com</td>\n",
       "    </tr>\n",
       "    <tr>\n",
       "      <td>9</td>\n",
       "      <td>NaN</td>\n",
       "      <td>NaN</td>\n",
       "      <td>NaN</td>\n",
       "      <td>NaN</td>\n",
       "    </tr>\n",
       "  </tbody>\n",
       "</table>\n",
       "</div>"
      ],
      "text/plain": [
       "    Age      Name   Phone           E-mail\n",
       "0  33.0      Juan  2289.0   juan@gmail.com\n",
       "1   NaN       NaN     NaN              NaN\n",
       "2  41.0  Veronica  1243.0   vero@gmail.com\n",
       "3   NaN       NaN     NaN              NaN\n",
       "4  45.0     Bruno  2564.0  bruno@gmail.com\n",
       "5   NaN       NaN     NaN              NaN\n",
       "6  28.0     Pablo  4448.0    pau@gmail.com\n",
       "7   NaN       NaN     NaN              NaN\n",
       "8  36.0      Rosa  3321.0   rosa@gmail.com\n",
       "9   NaN       NaN     NaN              NaN"
      ]
     },
     "execution_count": 72,
     "metadata": {},
     "output_type": "execute_result"
    }
   ],
   "source": [
    "# Incluimos nuevos índices:\n",
    "new_data = data.reindex([0, 1, 2, 3, 4, 5, 6, 7, 8, 9])\n",
    "new_data"
   ]
  },
  {
   "cell_type": "code",
   "execution_count": 73,
   "metadata": {},
   "outputs": [
    {
     "data": {
      "text/html": [
       "<div>\n",
       "<style scoped>\n",
       "    .dataframe tbody tr th:only-of-type {\n",
       "        vertical-align: middle;\n",
       "    }\n",
       "\n",
       "    .dataframe tbody tr th {\n",
       "        vertical-align: top;\n",
       "    }\n",
       "\n",
       "    .dataframe thead th {\n",
       "        text-align: right;\n",
       "    }\n",
       "</style>\n",
       "<table border=\"1\" class=\"dataframe\">\n",
       "  <thead>\n",
       "    <tr style=\"text-align: right;\">\n",
       "      <th></th>\n",
       "      <th>Age</th>\n",
       "      <th>Name</th>\n",
       "      <th>Phone</th>\n",
       "      <th>E-mail</th>\n",
       "    </tr>\n",
       "  </thead>\n",
       "  <tbody>\n",
       "    <tr>\n",
       "      <td>0</td>\n",
       "      <td>33</td>\n",
       "      <td>Juan</td>\n",
       "      <td>2289</td>\n",
       "      <td>juan@gmail.com</td>\n",
       "    </tr>\n",
       "    <tr>\n",
       "      <td>1</td>\n",
       "      <td>---</td>\n",
       "      <td>---</td>\n",
       "      <td>---</td>\n",
       "      <td>---</td>\n",
       "    </tr>\n",
       "    <tr>\n",
       "      <td>2</td>\n",
       "      <td>41</td>\n",
       "      <td>Veronica</td>\n",
       "      <td>1243</td>\n",
       "      <td>vero@gmail.com</td>\n",
       "    </tr>\n",
       "    <tr>\n",
       "      <td>3</td>\n",
       "      <td>---</td>\n",
       "      <td>---</td>\n",
       "      <td>---</td>\n",
       "      <td>---</td>\n",
       "    </tr>\n",
       "    <tr>\n",
       "      <td>4</td>\n",
       "      <td>45</td>\n",
       "      <td>Bruno</td>\n",
       "      <td>2564</td>\n",
       "      <td>bruno@gmail.com</td>\n",
       "    </tr>\n",
       "    <tr>\n",
       "      <td>5</td>\n",
       "      <td>---</td>\n",
       "      <td>---</td>\n",
       "      <td>---</td>\n",
       "      <td>---</td>\n",
       "    </tr>\n",
       "    <tr>\n",
       "      <td>6</td>\n",
       "      <td>28</td>\n",
       "      <td>Pablo</td>\n",
       "      <td>4448</td>\n",
       "      <td>pau@gmail.com</td>\n",
       "    </tr>\n",
       "    <tr>\n",
       "      <td>7</td>\n",
       "      <td>---</td>\n",
       "      <td>---</td>\n",
       "      <td>---</td>\n",
       "      <td>---</td>\n",
       "    </tr>\n",
       "    <tr>\n",
       "      <td>8</td>\n",
       "      <td>36</td>\n",
       "      <td>Rosa</td>\n",
       "      <td>3321</td>\n",
       "      <td>rosa@gmail.com</td>\n",
       "    </tr>\n",
       "    <tr>\n",
       "      <td>9</td>\n",
       "      <td>---</td>\n",
       "      <td>---</td>\n",
       "      <td>---</td>\n",
       "      <td>---</td>\n",
       "    </tr>\n",
       "  </tbody>\n",
       "</table>\n",
       "</div>"
      ],
      "text/plain": [
       "   Age      Name Phone           E-mail\n",
       "0   33      Juan  2289   juan@gmail.com\n",
       "1  ---       ---   ---              ---\n",
       "2   41  Veronica  1243   vero@gmail.com\n",
       "3  ---       ---   ---              ---\n",
       "4   45     Bruno  2564  bruno@gmail.com\n",
       "5  ---       ---   ---              ---\n",
       "6   28     Pablo  4448    pau@gmail.com\n",
       "7  ---       ---   ---              ---\n",
       "8   36      Rosa  3321   rosa@gmail.com\n",
       "9  ---       ---   ---              ---"
      ]
     },
     "execution_count": 73,
     "metadata": {},
     "output_type": "execute_result"
    }
   ],
   "source": [
    "# Asignamos el valor \"---\" a las casillas nuevas:\n",
    "new_data = data.reindex([0, 1, 2, 3, 4, 5, 6, 7, 8, 9], fill_value = \"---\")\n",
    "new_data"
   ]
  },
  {
   "cell_type": "code",
   "execution_count": 74,
   "metadata": {},
   "outputs": [
    {
     "data": {
      "text/html": [
       "<div>\n",
       "<style scoped>\n",
       "    .dataframe tbody tr th:only-of-type {\n",
       "        vertical-align: middle;\n",
       "    }\n",
       "\n",
       "    .dataframe tbody tr th {\n",
       "        vertical-align: top;\n",
       "    }\n",
       "\n",
       "    .dataframe thead th {\n",
       "        text-align: right;\n",
       "    }\n",
       "</style>\n",
       "<table border=\"1\" class=\"dataframe\">\n",
       "  <thead>\n",
       "    <tr style=\"text-align: right;\">\n",
       "      <th></th>\n",
       "      <th>Age</th>\n",
       "      <th>Name</th>\n",
       "      <th>Phone</th>\n",
       "      <th>E-mail</th>\n",
       "    </tr>\n",
       "  </thead>\n",
       "  <tbody>\n",
       "    <tr>\n",
       "      <td>0</td>\n",
       "      <td>33</td>\n",
       "      <td>Juan</td>\n",
       "      <td>2289</td>\n",
       "      <td>juan@gmail.com</td>\n",
       "    </tr>\n",
       "    <tr>\n",
       "      <td>1</td>\n",
       "      <td>33</td>\n",
       "      <td>Juan</td>\n",
       "      <td>2289</td>\n",
       "      <td>juan@gmail.com</td>\n",
       "    </tr>\n",
       "    <tr>\n",
       "      <td>2</td>\n",
       "      <td>41</td>\n",
       "      <td>Veronica</td>\n",
       "      <td>1243</td>\n",
       "      <td>vero@gmail.com</td>\n",
       "    </tr>\n",
       "    <tr>\n",
       "      <td>3</td>\n",
       "      <td>41</td>\n",
       "      <td>Veronica</td>\n",
       "      <td>1243</td>\n",
       "      <td>vero@gmail.com</td>\n",
       "    </tr>\n",
       "    <tr>\n",
       "      <td>4</td>\n",
       "      <td>45</td>\n",
       "      <td>Bruno</td>\n",
       "      <td>2564</td>\n",
       "      <td>bruno@gmail.com</td>\n",
       "    </tr>\n",
       "    <tr>\n",
       "      <td>5</td>\n",
       "      <td>45</td>\n",
       "      <td>Bruno</td>\n",
       "      <td>2564</td>\n",
       "      <td>bruno@gmail.com</td>\n",
       "    </tr>\n",
       "    <tr>\n",
       "      <td>6</td>\n",
       "      <td>28</td>\n",
       "      <td>Pablo</td>\n",
       "      <td>4448</td>\n",
       "      <td>pau@gmail.com</td>\n",
       "    </tr>\n",
       "    <tr>\n",
       "      <td>7</td>\n",
       "      <td>28</td>\n",
       "      <td>Pablo</td>\n",
       "      <td>4448</td>\n",
       "      <td>pau@gmail.com</td>\n",
       "    </tr>\n",
       "    <tr>\n",
       "      <td>8</td>\n",
       "      <td>36</td>\n",
       "      <td>Rosa</td>\n",
       "      <td>3321</td>\n",
       "      <td>rosa@gmail.com</td>\n",
       "    </tr>\n",
       "    <tr>\n",
       "      <td>9</td>\n",
       "      <td>36</td>\n",
       "      <td>Rosa</td>\n",
       "      <td>3321</td>\n",
       "      <td>rosa@gmail.com</td>\n",
       "    </tr>\n",
       "  </tbody>\n",
       "</table>\n",
       "</div>"
      ],
      "text/plain": [
       "   Age      Name  Phone           E-mail\n",
       "0   33      Juan   2289   juan@gmail.com\n",
       "1   33      Juan   2289   juan@gmail.com\n",
       "2   41  Veronica   1243   vero@gmail.com\n",
       "3   41  Veronica   1243   vero@gmail.com\n",
       "4   45     Bruno   2564  bruno@gmail.com\n",
       "5   45     Bruno   2564  bruno@gmail.com\n",
       "6   28     Pablo   4448    pau@gmail.com\n",
       "7   28     Pablo   4448    pau@gmail.com\n",
       "8   36      Rosa   3321   rosa@gmail.com\n",
       "9   36      Rosa   3321   rosa@gmail.com"
      ]
     },
     "execution_count": 74,
     "metadata": {},
     "output_type": "execute_result"
    }
   ],
   "source": [
    "# Rellenamos las casillas nuevas con el último valor:\n",
    "new_data = data.reindex([0, 1, 2, 3, 4, 5, 6, 7, 8, 9], method = 'ffill')\n",
    "new_data"
   ]
  },
  {
   "cell_type": "code",
   "execution_count": 75,
   "metadata": {},
   "outputs": [
    {
     "data": {
      "text/html": [
       "<div>\n",
       "<style scoped>\n",
       "    .dataframe tbody tr th:only-of-type {\n",
       "        vertical-align: middle;\n",
       "    }\n",
       "\n",
       "    .dataframe tbody tr th {\n",
       "        vertical-align: top;\n",
       "    }\n",
       "\n",
       "    .dataframe thead th {\n",
       "        text-align: right;\n",
       "    }\n",
       "</style>\n",
       "<table border=\"1\" class=\"dataframe\">\n",
       "  <thead>\n",
       "    <tr style=\"text-align: right;\">\n",
       "      <th></th>\n",
       "      <th>Name</th>\n",
       "      <th>Phone</th>\n",
       "    </tr>\n",
       "  </thead>\n",
       "  <tbody>\n",
       "    <tr>\n",
       "      <td>0</td>\n",
       "      <td>Juan</td>\n",
       "      <td>2289</td>\n",
       "    </tr>\n",
       "    <tr>\n",
       "      <td>2</td>\n",
       "      <td>Veronica</td>\n",
       "      <td>1243</td>\n",
       "    </tr>\n",
       "    <tr>\n",
       "      <td>4</td>\n",
       "      <td>Bruno</td>\n",
       "      <td>2564</td>\n",
       "    </tr>\n",
       "    <tr>\n",
       "      <td>6</td>\n",
       "      <td>Pablo</td>\n",
       "      <td>4448</td>\n",
       "    </tr>\n",
       "    <tr>\n",
       "      <td>8</td>\n",
       "      <td>Rosa</td>\n",
       "      <td>3321</td>\n",
       "    </tr>\n",
       "  </tbody>\n",
       "</table>\n",
       "</div>"
      ],
      "text/plain": [
       "       Name  Phone\n",
       "0      Juan   2289\n",
       "2  Veronica   1243\n",
       "4     Bruno   2564\n",
       "6     Pablo   4448\n",
       "8      Rosa   3321"
      ]
     },
     "execution_count": 75,
     "metadata": {},
     "output_type": "execute_result"
    }
   ],
   "source": [
    "# Nuevo DataFrame reindexando las columnas:\n",
    "new_data = data.reindex(columns = ['Name', 'Phone'])\n",
    "new_data"
   ]
  },
  {
   "cell_type": "markdown",
   "metadata": {},
   "source": [
    "### Series"
   ]
  },
  {
   "cell_type": "code",
   "execution_count": 76,
   "metadata": {},
   "outputs": [
    {
     "data": {
      "text/plain": [
       "uno       1\n",
       "dos       2\n",
       "tres      3\n",
       "cuatro    4\n",
       "cinco     5\n",
       "dtype: int64"
      ]
     },
     "execution_count": 76,
     "metadata": {},
     "output_type": "execute_result"
    }
   ],
   "source": [
    "serie = Series([1, 2, 3, 4, 5], index = ['uno', 'dos', 'tres', 'cuatro', 'cinco'])\n",
    "serie"
   ]
  },
  {
   "cell_type": "code",
   "execution_count": 77,
   "metadata": {},
   "outputs": [
    {
     "data": {
      "text/plain": [
       "uno    1\n",
       "dos    2\n",
       "dtype: int64"
      ]
     },
     "execution_count": 77,
     "metadata": {},
     "output_type": "execute_result"
    }
   ],
   "source": [
    "new_Serie = serie.reindex(['uno','dos'])\n",
    "new_Serie"
   ]
  },
  {
   "cell_type": "code",
   "execution_count": 78,
   "metadata": {},
   "outputs": [
    {
     "data": {
      "text/plain": [
       "cuatro    4\n",
       "cinco     5\n",
       "uno       1\n",
       "dos       2\n",
       "tres      3\n",
       "dtype: int64"
      ]
     },
     "execution_count": 78,
     "metadata": {},
     "output_type": "execute_result"
    }
   ],
   "source": [
    "new_Serie = serie.reindex(['cuatro', 'cinco','uno','dos', 'tres'])\n",
    "new_Serie"
   ]
  },
  {
   "cell_type": "code",
   "execution_count": 79,
   "metadata": {},
   "outputs": [
    {
     "data": {
      "text/plain": [
       "uno      1\n",
       "dos      2\n",
       "siete    X\n",
       "ocho     X\n",
       "dtype: object"
      ]
     },
     "execution_count": 79,
     "metadata": {},
     "output_type": "execute_result"
    }
   ],
   "source": [
    "new_Serie = serie.reindex(['uno','dos', 'siete', 'ocho'], fill_value = 'X')\n",
    "new_Serie"
   ]
  },
  {
   "cell_type": "markdown",
   "metadata": {},
   "source": [
    "### Ejercicio: Reindexación"
   ]
  },
  {
   "cell_type": "markdown",
   "metadata": {},
   "source": [
    "<font color=\"#279D9F\">1. </font> A partir del DataFrame **perros** del ejercicio anterior, crea un nuevo DataFrame que elimine la columna con nombre 'Pedigree'."
   ]
  },
  {
   "cell_type": "code",
   "execution_count": 80,
   "metadata": {},
   "outputs": [
    {
     "data": {
      "text/html": [
       "<div>\n",
       "<style scoped>\n",
       "    .dataframe tbody tr th:only-of-type {\n",
       "        vertical-align: middle;\n",
       "    }\n",
       "\n",
       "    .dataframe tbody tr th {\n",
       "        vertical-align: top;\n",
       "    }\n",
       "\n",
       "    .dataframe thead th {\n",
       "        text-align: right;\n",
       "    }\n",
       "</style>\n",
       "<table border=\"1\" class=\"dataframe\">\n",
       "  <thead>\n",
       "    <tr style=\"text-align: right;\">\n",
       "      <th></th>\n",
       "      <th>nombre</th>\n",
       "      <th>raza</th>\n",
       "      <th>edad</th>\n",
       "      <th>adoptado</th>\n",
       "    </tr>\n",
       "  </thead>\n",
       "  <tbody>\n",
       "    <tr>\n",
       "      <td>b2</td>\n",
       "      <td>Bobby</td>\n",
       "      <td>bulldog</td>\n",
       "      <td>2</td>\n",
       "      <td>No</td>\n",
       "    </tr>\n",
       "    <tr>\n",
       "      <td>t12</td>\n",
       "      <td>Tobby</td>\n",
       "      <td>caniche</td>\n",
       "      <td>12</td>\n",
       "      <td>No</td>\n",
       "    </tr>\n",
       "    <tr>\n",
       "      <td>l5</td>\n",
       "      <td>Linda</td>\n",
       "      <td>labrador</td>\n",
       "      <td>5</td>\n",
       "      <td>No</td>\n",
       "    </tr>\n",
       "    <tr>\n",
       "      <td>s7</td>\n",
       "      <td>Snoopy</td>\n",
       "      <td>chihuahua</td>\n",
       "      <td>7</td>\n",
       "      <td>No</td>\n",
       "    </tr>\n",
       "  </tbody>\n",
       "</table>\n",
       "</div>"
      ],
      "text/plain": [
       "     nombre       raza  edad adoptado\n",
       "b2    Bobby    bulldog     2       No\n",
       "t12   Tobby    caniche    12       No\n",
       "l5    Linda   labrador     5       No\n",
       "s7   Snoopy  chihuahua     7       No"
      ]
     },
     "execution_count": 80,
     "metadata": {},
     "output_type": "execute_result"
    }
   ],
   "source": [
    "new_perros = perros.reindex(columns=['nombre','raza','edad','adoptado'])\n",
    "new_perros"
   ]
  },
  {
   "cell_type": "markdown",
   "metadata": {},
   "source": [
    "<font color=\"#279D9F\">2. </font> A partir del DataFrame **tienda** del ejercicio anterior, crea un nuevo DataFrame que incorpore dos nuevas columnas con los nombres 'Ventas' y 'Total'."
   ]
  },
  {
   "cell_type": "code",
   "execution_count": 122,
   "metadata": {},
   "outputs": [],
   "source": [
    "new_tienda = tienda.reindex(columns=['marca','modelo','precio','ventas','total'])"
   ]
  },
  {
   "cell_type": "code",
   "execution_count": 123,
   "metadata": {},
   "outputs": [
    {
     "data": {
      "text/html": [
       "<div>\n",
       "<style scoped>\n",
       "    .dataframe tbody tr th:only-of-type {\n",
       "        vertical-align: middle;\n",
       "    }\n",
       "\n",
       "    .dataframe tbody tr th {\n",
       "        vertical-align: top;\n",
       "    }\n",
       "\n",
       "    .dataframe thead th {\n",
       "        text-align: right;\n",
       "    }\n",
       "</style>\n",
       "<table border=\"1\" class=\"dataframe\">\n",
       "  <thead>\n",
       "    <tr style=\"text-align: right;\">\n",
       "      <th></th>\n",
       "      <th>marca</th>\n",
       "      <th>modelo</th>\n",
       "      <th>precio</th>\n",
       "      <th>ventas</th>\n",
       "      <th>total</th>\n",
       "    </tr>\n",
       "  </thead>\n",
       "  <tbody>\n",
       "    <tr>\n",
       "      <td>0</td>\n",
       "      <td>Camp</td>\n",
       "      <td>Energy</td>\n",
       "      <td>39.9</td>\n",
       "      <td>NaN</td>\n",
       "      <td>NaN</td>\n",
       "    </tr>\n",
       "    <tr>\n",
       "      <td>1</td>\n",
       "      <td>Camp</td>\n",
       "      <td>Jasper</td>\n",
       "      <td>56.0</td>\n",
       "      <td>NaN</td>\n",
       "      <td>NaN</td>\n",
       "    </tr>\n",
       "    <tr>\n",
       "      <td>2</td>\n",
       "      <td>Petzl</td>\n",
       "      <td>Simba</td>\n",
       "      <td>45.0</td>\n",
       "      <td>NaN</td>\n",
       "      <td>NaN</td>\n",
       "    </tr>\n",
       "    <tr>\n",
       "      <td>3</td>\n",
       "      <td>Petzl</td>\n",
       "      <td>Adjama New</td>\n",
       "      <td>75.0</td>\n",
       "      <td>NaN</td>\n",
       "      <td>NaN</td>\n",
       "    </tr>\n",
       "    <tr>\n",
       "      <td>4</td>\n",
       "      <td>Edelrid</td>\n",
       "      <td>Moe</td>\n",
       "      <td>49.9</td>\n",
       "      <td>NaN</td>\n",
       "      <td>NaN</td>\n",
       "    </tr>\n",
       "    <tr>\n",
       "      <td>5</td>\n",
       "      <td>Edelrid</td>\n",
       "      <td>Orion</td>\n",
       "      <td>99.9</td>\n",
       "      <td>NaN</td>\n",
       "      <td>NaN</td>\n",
       "    </tr>\n",
       "    <tr>\n",
       "      <td>6</td>\n",
       "      <td>Edelrid</td>\n",
       "      <td>Leaf</td>\n",
       "      <td>65.0</td>\n",
       "      <td>NaN</td>\n",
       "      <td>NaN</td>\n",
       "    </tr>\n",
       "    <tr>\n",
       "      <td>7</td>\n",
       "      <td>Black Diamond</td>\n",
       "      <td>Xenes</td>\n",
       "      <td>119.9</td>\n",
       "      <td>NaN</td>\n",
       "      <td>NaN</td>\n",
       "    </tr>\n",
       "    <tr>\n",
       "      <td>8</td>\n",
       "      <td>Black Diamond</td>\n",
       "      <td>Chaos</td>\n",
       "      <td>99.9</td>\n",
       "      <td>NaN</td>\n",
       "      <td>NaN</td>\n",
       "    </tr>\n",
       "    <tr>\n",
       "      <td>9</td>\n",
       "      <td>Mammut</td>\n",
       "      <td>Ophir</td>\n",
       "      <td>55.0</td>\n",
       "      <td>NaN</td>\n",
       "      <td>NaN</td>\n",
       "    </tr>\n",
       "  </tbody>\n",
       "</table>\n",
       "</div>"
      ],
      "text/plain": [
       "           marca      modelo  precio  ventas  total\n",
       "0           Camp      Energy    39.9     NaN    NaN\n",
       "1           Camp      Jasper    56.0     NaN    NaN\n",
       "2          Petzl       Simba    45.0     NaN    NaN\n",
       "3          Petzl  Adjama New    75.0     NaN    NaN\n",
       "4        Edelrid         Moe    49.9     NaN    NaN\n",
       "5        Edelrid       Orion    99.9     NaN    NaN\n",
       "6        Edelrid        Leaf    65.0     NaN    NaN\n",
       "7  Black Diamond       Xenes   119.9     NaN    NaN\n",
       "8  Black Diamond       Chaos    99.9     NaN    NaN\n",
       "9         Mammut       Ophir    55.0     NaN    NaN"
      ]
     },
     "execution_count": 123,
     "metadata": {},
     "output_type": "execute_result"
    }
   ],
   "source": [
    "new_tienda"
   ]
  },
  {
   "cell_type": "markdown",
   "metadata": {},
   "source": [
    "##  Eliminar filas o columnas"
   ]
  },
  {
   "cell_type": "markdown",
   "metadata": {},
   "source": [
    "### DataFrame"
   ]
  },
  {
   "cell_type": "code",
   "execution_count": 83,
   "metadata": {},
   "outputs": [
    {
     "data": {
      "text/html": [
       "<div>\n",
       "<style scoped>\n",
       "    .dataframe tbody tr th:only-of-type {\n",
       "        vertical-align: middle;\n",
       "    }\n",
       "\n",
       "    .dataframe tbody tr th {\n",
       "        vertical-align: top;\n",
       "    }\n",
       "\n",
       "    .dataframe thead th {\n",
       "        text-align: right;\n",
       "    }\n",
       "</style>\n",
       "<table border=\"1\" class=\"dataframe\">\n",
       "  <thead>\n",
       "    <tr style=\"text-align: right;\">\n",
       "      <th></th>\n",
       "      <th>Age</th>\n",
       "      <th>Name</th>\n",
       "      <th>Phone</th>\n",
       "      <th>E-mail</th>\n",
       "    </tr>\n",
       "  </thead>\n",
       "  <tbody>\n",
       "    <tr>\n",
       "      <td>0</td>\n",
       "      <td>33</td>\n",
       "      <td>Juan</td>\n",
       "      <td>2289</td>\n",
       "      <td>juan@gmail.com</td>\n",
       "    </tr>\n",
       "    <tr>\n",
       "      <td>2</td>\n",
       "      <td>41</td>\n",
       "      <td>Veronica</td>\n",
       "      <td>1243</td>\n",
       "      <td>vero@gmail.com</td>\n",
       "    </tr>\n",
       "    <tr>\n",
       "      <td>4</td>\n",
       "      <td>45</td>\n",
       "      <td>Bruno</td>\n",
       "      <td>2564</td>\n",
       "      <td>bruno@gmail.com</td>\n",
       "    </tr>\n",
       "    <tr>\n",
       "      <td>6</td>\n",
       "      <td>28</td>\n",
       "      <td>Pablo</td>\n",
       "      <td>4448</td>\n",
       "      <td>pau@gmail.com</td>\n",
       "    </tr>\n",
       "    <tr>\n",
       "      <td>8</td>\n",
       "      <td>36</td>\n",
       "      <td>Rosa</td>\n",
       "      <td>3321</td>\n",
       "      <td>rosa@gmail.com</td>\n",
       "    </tr>\n",
       "  </tbody>\n",
       "</table>\n",
       "</div>"
      ],
      "text/plain": [
       "   Age      Name  Phone           E-mail\n",
       "0   33      Juan   2289   juan@gmail.com\n",
       "2   41  Veronica   1243   vero@gmail.com\n",
       "4   45     Bruno   2564  bruno@gmail.com\n",
       "6   28     Pablo   4448    pau@gmail.com\n",
       "8   36      Rosa   3321   rosa@gmail.com"
      ]
     },
     "execution_count": 83,
     "metadata": {},
     "output_type": "execute_result"
    }
   ],
   "source": [
    "# El DataFrame original:\n",
    "data"
   ]
  },
  {
   "cell_type": "code",
   "execution_count": 84,
   "metadata": {},
   "outputs": [
    {
     "data": {
      "text/html": [
       "<div>\n",
       "<style scoped>\n",
       "    .dataframe tbody tr th:only-of-type {\n",
       "        vertical-align: middle;\n",
       "    }\n",
       "\n",
       "    .dataframe tbody tr th {\n",
       "        vertical-align: top;\n",
       "    }\n",
       "\n",
       "    .dataframe thead th {\n",
       "        text-align: right;\n",
       "    }\n",
       "</style>\n",
       "<table border=\"1\" class=\"dataframe\">\n",
       "  <thead>\n",
       "    <tr style=\"text-align: right;\">\n",
       "      <th></th>\n",
       "      <th>Age</th>\n",
       "      <th>Name</th>\n",
       "      <th>Phone</th>\n",
       "      <th>E-mail</th>\n",
       "    </tr>\n",
       "  </thead>\n",
       "  <tbody>\n",
       "    <tr>\n",
       "      <td>0</td>\n",
       "      <td>33</td>\n",
       "      <td>Juan</td>\n",
       "      <td>2289</td>\n",
       "      <td>juan@gmail.com</td>\n",
       "    </tr>\n",
       "    <tr>\n",
       "      <td>4</td>\n",
       "      <td>45</td>\n",
       "      <td>Bruno</td>\n",
       "      <td>2564</td>\n",
       "      <td>bruno@gmail.com</td>\n",
       "    </tr>\n",
       "    <tr>\n",
       "      <td>8</td>\n",
       "      <td>36</td>\n",
       "      <td>Rosa</td>\n",
       "      <td>3321</td>\n",
       "      <td>rosa@gmail.com</td>\n",
       "    </tr>\n",
       "  </tbody>\n",
       "</table>\n",
       "</div>"
      ],
      "text/plain": [
       "   Age   Name  Phone           E-mail\n",
       "0   33   Juan   2289   juan@gmail.com\n",
       "4   45  Bruno   2564  bruno@gmail.com\n",
       "8   36   Rosa   3321   rosa@gmail.com"
      ]
     },
     "execution_count": 84,
     "metadata": {},
     "output_type": "execute_result"
    }
   ],
   "source": [
    "# Eliminamos las filas 2 y 6:\n",
    "new_data = data.drop([2, 6])\n",
    "new_data"
   ]
  },
  {
   "cell_type": "code",
   "execution_count": 85,
   "metadata": {},
   "outputs": [
    {
     "data": {
      "text/html": [
       "<div>\n",
       "<style scoped>\n",
       "    .dataframe tbody tr th:only-of-type {\n",
       "        vertical-align: middle;\n",
       "    }\n",
       "\n",
       "    .dataframe tbody tr th {\n",
       "        vertical-align: top;\n",
       "    }\n",
       "\n",
       "    .dataframe thead th {\n",
       "        text-align: right;\n",
       "    }\n",
       "</style>\n",
       "<table border=\"1\" class=\"dataframe\">\n",
       "  <thead>\n",
       "    <tr style=\"text-align: right;\">\n",
       "      <th></th>\n",
       "      <th>Age</th>\n",
       "      <th>Name</th>\n",
       "      <th>E-mail</th>\n",
       "    </tr>\n",
       "  </thead>\n",
       "  <tbody>\n",
       "    <tr>\n",
       "      <td>0</td>\n",
       "      <td>33</td>\n",
       "      <td>Juan</td>\n",
       "      <td>juan@gmail.com</td>\n",
       "    </tr>\n",
       "    <tr>\n",
       "      <td>2</td>\n",
       "      <td>41</td>\n",
       "      <td>Veronica</td>\n",
       "      <td>vero@gmail.com</td>\n",
       "    </tr>\n",
       "    <tr>\n",
       "      <td>4</td>\n",
       "      <td>45</td>\n",
       "      <td>Bruno</td>\n",
       "      <td>bruno@gmail.com</td>\n",
       "    </tr>\n",
       "    <tr>\n",
       "      <td>6</td>\n",
       "      <td>28</td>\n",
       "      <td>Pablo</td>\n",
       "      <td>pau@gmail.com</td>\n",
       "    </tr>\n",
       "    <tr>\n",
       "      <td>8</td>\n",
       "      <td>36</td>\n",
       "      <td>Rosa</td>\n",
       "      <td>rosa@gmail.com</td>\n",
       "    </tr>\n",
       "  </tbody>\n",
       "</table>\n",
       "</div>"
      ],
      "text/plain": [
       "   Age      Name           E-mail\n",
       "0   33      Juan   juan@gmail.com\n",
       "2   41  Veronica   vero@gmail.com\n",
       "4   45     Bruno  bruno@gmail.com\n",
       "6   28     Pablo    pau@gmail.com\n",
       "8   36      Rosa   rosa@gmail.com"
      ]
     },
     "execution_count": 85,
     "metadata": {},
     "output_type": "execute_result"
    }
   ],
   "source": [
    "# Eliminamos la columna Phone:\n",
    "new_data = data.drop(['Phone'], axis = 1)\n",
    "new_data"
   ]
  },
  {
   "cell_type": "markdown",
   "metadata": {},
   "source": [
    "### Series"
   ]
  },
  {
   "cell_type": "code",
   "execution_count": 86,
   "metadata": {},
   "outputs": [
    {
     "data": {
      "text/plain": [
       "uno       1\n",
       "dos       2\n",
       "tres      3\n",
       "cuatro    4\n",
       "cinco     5\n",
       "dtype: int64"
      ]
     },
     "execution_count": 86,
     "metadata": {},
     "output_type": "execute_result"
    }
   ],
   "source": [
    "# La Serie original\n",
    "serie"
   ]
  },
  {
   "cell_type": "code",
   "execution_count": 87,
   "metadata": {},
   "outputs": [
    {
     "data": {
      "text/plain": [
       "uno       1\n",
       "dos       2\n",
       "cuatro    4\n",
       "dtype: int64"
      ]
     },
     "execution_count": 87,
     "metadata": {},
     "output_type": "execute_result"
    }
   ],
   "source": [
    "# Eliminamos las filas tres y cinco\n",
    "serie.drop(['tres', 'cinco'])"
   ]
  },
  {
   "cell_type": "markdown",
   "metadata": {},
   "source": [
    "### Ejercicio: Eliminar filas o columnas"
   ]
  },
  {
   "cell_type": "markdown",
   "metadata": {},
   "source": [
    "<font color=\"#279D9F\">1. </font> A partir del DataFrame **perros** de los ejercicios anteriores, crea un nuevo DataFrame que elimine las columnas con nombre 'Pedigree' y 'Adoptado' usando drop."
   ]
  },
  {
   "cell_type": "code",
   "execution_count": 88,
   "metadata": {},
   "outputs": [
    {
     "data": {
      "text/html": [
       "<div>\n",
       "<style scoped>\n",
       "    .dataframe tbody tr th:only-of-type {\n",
       "        vertical-align: middle;\n",
       "    }\n",
       "\n",
       "    .dataframe tbody tr th {\n",
       "        vertical-align: top;\n",
       "    }\n",
       "\n",
       "    .dataframe thead th {\n",
       "        text-align: right;\n",
       "    }\n",
       "</style>\n",
       "<table border=\"1\" class=\"dataframe\">\n",
       "  <thead>\n",
       "    <tr style=\"text-align: right;\">\n",
       "      <th></th>\n",
       "      <th>nombre</th>\n",
       "      <th>raza</th>\n",
       "      <th>edad</th>\n",
       "    </tr>\n",
       "  </thead>\n",
       "  <tbody>\n",
       "    <tr>\n",
       "      <td>b2</td>\n",
       "      <td>Bobby</td>\n",
       "      <td>bulldog</td>\n",
       "      <td>2</td>\n",
       "    </tr>\n",
       "    <tr>\n",
       "      <td>t12</td>\n",
       "      <td>Tobby</td>\n",
       "      <td>caniche</td>\n",
       "      <td>12</td>\n",
       "    </tr>\n",
       "    <tr>\n",
       "      <td>l5</td>\n",
       "      <td>Linda</td>\n",
       "      <td>labrador</td>\n",
       "      <td>5</td>\n",
       "    </tr>\n",
       "    <tr>\n",
       "      <td>s7</td>\n",
       "      <td>Snoopy</td>\n",
       "      <td>chihuahua</td>\n",
       "      <td>7</td>\n",
       "    </tr>\n",
       "  </tbody>\n",
       "</table>\n",
       "</div>"
      ],
      "text/plain": [
       "     nombre       raza  edad\n",
       "b2    Bobby    bulldog     2\n",
       "t12   Tobby    caniche    12\n",
       "l5    Linda   labrador     5\n",
       "s7   Snoopy  chihuahua     7"
      ]
     },
     "execution_count": 88,
     "metadata": {},
     "output_type": "execute_result"
    }
   ],
   "source": [
    "new_perros = perros.drop(['pedigree','adoptado'],axis=1)\n",
    "new_perros"
   ]
  },
  {
   "cell_type": "markdown",
   "metadata": {},
   "source": [
    "<font color=\"#279D9F\">2. </font> A partir del DataFrame **tienda** de los ejercicios anteriores, crea un nuevo DataFrame que elimine el arnés Black Diamond Chaos."
   ]
  },
  {
   "cell_type": "code",
   "execution_count": 89,
   "metadata": {},
   "outputs": [
    {
     "data": {
      "text/html": [
       "<div>\n",
       "<style scoped>\n",
       "    .dataframe tbody tr th:only-of-type {\n",
       "        vertical-align: middle;\n",
       "    }\n",
       "\n",
       "    .dataframe tbody tr th {\n",
       "        vertical-align: top;\n",
       "    }\n",
       "\n",
       "    .dataframe thead th {\n",
       "        text-align: right;\n",
       "    }\n",
       "</style>\n",
       "<table border=\"1\" class=\"dataframe\">\n",
       "  <thead>\n",
       "    <tr style=\"text-align: right;\">\n",
       "      <th></th>\n",
       "      <th>marca</th>\n",
       "      <th>modelo</th>\n",
       "      <th>precio</th>\n",
       "    </tr>\n",
       "  </thead>\n",
       "  <tbody>\n",
       "    <tr>\n",
       "      <td>0</td>\n",
       "      <td>Camp</td>\n",
       "      <td>Energy</td>\n",
       "      <td>39.9</td>\n",
       "    </tr>\n",
       "    <tr>\n",
       "      <td>1</td>\n",
       "      <td>Camp</td>\n",
       "      <td>Jasper</td>\n",
       "      <td>56.0</td>\n",
       "    </tr>\n",
       "    <tr>\n",
       "      <td>2</td>\n",
       "      <td>Petzl</td>\n",
       "      <td>Simba</td>\n",
       "      <td>45.0</td>\n",
       "    </tr>\n",
       "    <tr>\n",
       "      <td>3</td>\n",
       "      <td>Petzl</td>\n",
       "      <td>Adjama New</td>\n",
       "      <td>75.0</td>\n",
       "    </tr>\n",
       "    <tr>\n",
       "      <td>4</td>\n",
       "      <td>Edelrid</td>\n",
       "      <td>Moe</td>\n",
       "      <td>49.9</td>\n",
       "    </tr>\n",
       "    <tr>\n",
       "      <td>5</td>\n",
       "      <td>Edelrid</td>\n",
       "      <td>Orion</td>\n",
       "      <td>99.9</td>\n",
       "    </tr>\n",
       "    <tr>\n",
       "      <td>6</td>\n",
       "      <td>Edelrid</td>\n",
       "      <td>Leaf</td>\n",
       "      <td>65.0</td>\n",
       "    </tr>\n",
       "    <tr>\n",
       "      <td>7</td>\n",
       "      <td>Black Diamond</td>\n",
       "      <td>Xenes</td>\n",
       "      <td>119.9</td>\n",
       "    </tr>\n",
       "    <tr>\n",
       "      <td>9</td>\n",
       "      <td>Mammut</td>\n",
       "      <td>Ophir</td>\n",
       "      <td>55.0</td>\n",
       "    </tr>\n",
       "  </tbody>\n",
       "</table>\n",
       "</div>"
      ],
      "text/plain": [
       "           marca      modelo  precio\n",
       "0           Camp      Energy    39.9\n",
       "1           Camp      Jasper    56.0\n",
       "2          Petzl       Simba    45.0\n",
       "3          Petzl  Adjama New    75.0\n",
       "4        Edelrid         Moe    49.9\n",
       "5        Edelrid       Orion    99.9\n",
       "6        Edelrid        Leaf    65.0\n",
       "7  Black Diamond       Xenes   119.9\n",
       "9         Mammut       Ophir    55.0"
      ]
     },
     "execution_count": 89,
     "metadata": {},
     "output_type": "execute_result"
    }
   ],
   "source": [
    "new_tienda = tienda.drop(tienda[tienda['modelo'] == 'Chaos'].index)\n",
    "new_tienda"
   ]
  },
  {
   "cell_type": "markdown",
   "metadata": {},
   "source": [
    "## Indexación, selección y filtrado"
   ]
  },
  {
   "cell_type": "markdown",
   "metadata": {},
   "source": [
    "### Series"
   ]
  },
  {
   "cell_type": "code",
   "execution_count": 90,
   "metadata": {},
   "outputs": [
    {
     "data": {
      "text/plain": [
       "uno       1\n",
       "dos       2\n",
       "tres      3\n",
       "cuatro    4\n",
       "cinco     5\n",
       "dtype: int64"
      ]
     },
     "execution_count": 90,
     "metadata": {},
     "output_type": "execute_result"
    }
   ],
   "source": [
    "# Creamos una serie especificando los índices:\n",
    "serie = Series([1, 2, 3, 4, 5], index = ['uno', 'dos', 'tres', 'cuatro', 'cinco'])\n",
    "serie"
   ]
  },
  {
   "cell_type": "code",
   "execution_count": 91,
   "metadata": {},
   "outputs": [
    {
     "data": {
      "text/plain": [
       "dos       2\n",
       "tres      3\n",
       "cuatro    4\n",
       "dtype: int64"
      ]
     },
     "execution_count": 91,
     "metadata": {},
     "output_type": "execute_result"
    }
   ],
   "source": [
    "# Seleccionamos un slice:\n",
    "subserie = serie['dos':'cuatro']\n",
    "subserie"
   ]
  },
  {
   "cell_type": "code",
   "execution_count": 92,
   "metadata": {},
   "outputs": [
    {
     "data": {
      "text/plain": [
       "dos      -10\n",
       "tres     -10\n",
       "cuatro   -10\n",
       "dtype: int64"
      ]
     },
     "execution_count": 92,
     "metadata": {},
     "output_type": "execute_result"
    }
   ],
   "source": [
    "# Modificamos la subserie:\n",
    "subserie[:] = -10\n",
    "subserie"
   ]
  },
  {
   "cell_type": "code",
   "execution_count": 93,
   "metadata": {},
   "outputs": [
    {
     "data": {
      "text/plain": [
       "uno        1\n",
       "dos      -10\n",
       "tres     -10\n",
       "cuatro   -10\n",
       "cinco      5\n",
       "dtype: int64"
      ]
     },
     "execution_count": 93,
     "metadata": {},
     "output_type": "execute_result"
    }
   ],
   "source": [
    "# La serie original también ha cambiado:\n",
    "serie"
   ]
  },
  {
   "cell_type": "markdown",
   "metadata": {},
   "source": [
    "### DataFrame"
   ]
  },
  {
   "cell_type": "code",
   "execution_count": 94,
   "metadata": {},
   "outputs": [
    {
     "data": {
      "text/html": [
       "<div>\n",
       "<style scoped>\n",
       "    .dataframe tbody tr th:only-of-type {\n",
       "        vertical-align: middle;\n",
       "    }\n",
       "\n",
       "    .dataframe tbody tr th {\n",
       "        vertical-align: top;\n",
       "    }\n",
       "\n",
       "    .dataframe thead th {\n",
       "        text-align: right;\n",
       "    }\n",
       "</style>\n",
       "<table border=\"1\" class=\"dataframe\">\n",
       "  <thead>\n",
       "    <tr style=\"text-align: right;\">\n",
       "      <th></th>\n",
       "      <th>Age</th>\n",
       "      <th>Name</th>\n",
       "      <th>Phone</th>\n",
       "      <th>E-mail</th>\n",
       "    </tr>\n",
       "  </thead>\n",
       "  <tbody>\n",
       "    <tr>\n",
       "      <td>0</td>\n",
       "      <td>33</td>\n",
       "      <td>Juan</td>\n",
       "      <td>2289</td>\n",
       "      <td>juan@gmail.com</td>\n",
       "    </tr>\n",
       "    <tr>\n",
       "      <td>2</td>\n",
       "      <td>41</td>\n",
       "      <td>Veronica</td>\n",
       "      <td>1243</td>\n",
       "      <td>vero@gmail.com</td>\n",
       "    </tr>\n",
       "    <tr>\n",
       "      <td>4</td>\n",
       "      <td>45</td>\n",
       "      <td>Bruno</td>\n",
       "      <td>2564</td>\n",
       "      <td>bruno@gmail.com</td>\n",
       "    </tr>\n",
       "  </tbody>\n",
       "</table>\n",
       "</div>"
      ],
      "text/plain": [
       "   Age      Name  Phone           E-mail\n",
       "0   33      Juan   2289   juan@gmail.com\n",
       "2   41  Veronica   1243   vero@gmail.com\n",
       "4   45     Bruno   2564  bruno@gmail.com"
      ]
     },
     "execution_count": 94,
     "metadata": {},
     "output_type": "execute_result"
    }
   ],
   "source": [
    "# Enteros seleccionan filas:\n",
    "data[:3]"
   ]
  },
  {
   "cell_type": "code",
   "execution_count": 95,
   "metadata": {},
   "outputs": [
    {
     "data": {
      "text/html": [
       "<div>\n",
       "<style scoped>\n",
       "    .dataframe tbody tr th:only-of-type {\n",
       "        vertical-align: middle;\n",
       "    }\n",
       "\n",
       "    .dataframe tbody tr th {\n",
       "        vertical-align: top;\n",
       "    }\n",
       "\n",
       "    .dataframe thead th {\n",
       "        text-align: right;\n",
       "    }\n",
       "</style>\n",
       "<table border=\"1\" class=\"dataframe\">\n",
       "  <thead>\n",
       "    <tr style=\"text-align: right;\">\n",
       "      <th></th>\n",
       "      <th>Name</th>\n",
       "      <th>Phone</th>\n",
       "    </tr>\n",
       "  </thead>\n",
       "  <tbody>\n",
       "    <tr>\n",
       "      <td>0</td>\n",
       "      <td>Juan</td>\n",
       "      <td>2289</td>\n",
       "    </tr>\n",
       "    <tr>\n",
       "      <td>2</td>\n",
       "      <td>Veronica</td>\n",
       "      <td>1243</td>\n",
       "    </tr>\n",
       "    <tr>\n",
       "      <td>4</td>\n",
       "      <td>Bruno</td>\n",
       "      <td>2564</td>\n",
       "    </tr>\n",
       "    <tr>\n",
       "      <td>6</td>\n",
       "      <td>Pablo</td>\n",
       "      <td>4448</td>\n",
       "    </tr>\n",
       "    <tr>\n",
       "      <td>8</td>\n",
       "      <td>Rosa</td>\n",
       "      <td>3321</td>\n",
       "    </tr>\n",
       "  </tbody>\n",
       "</table>\n",
       "</div>"
      ],
      "text/plain": [
       "       Name  Phone\n",
       "0      Juan   2289\n",
       "2  Veronica   1243\n",
       "4     Bruno   2564\n",
       "6     Pablo   4448\n",
       "8      Rosa   3321"
      ]
     },
     "execution_count": 95,
     "metadata": {},
     "output_type": "execute_result"
    }
   ],
   "source": [
    "# Índices seleccionan columnas:\n",
    "data[['Name', 'Phone']]"
   ]
  },
  {
   "cell_type": "code",
   "execution_count": 96,
   "metadata": {},
   "outputs": [
    {
     "data": {
      "text/html": [
       "<div>\n",
       "<style scoped>\n",
       "    .dataframe tbody tr th:only-of-type {\n",
       "        vertical-align: middle;\n",
       "    }\n",
       "\n",
       "    .dataframe tbody tr th {\n",
       "        vertical-align: top;\n",
       "    }\n",
       "\n",
       "    .dataframe thead th {\n",
       "        text-align: right;\n",
       "    }\n",
       "</style>\n",
       "<table border=\"1\" class=\"dataframe\">\n",
       "  <thead>\n",
       "    <tr style=\"text-align: right;\">\n",
       "      <th></th>\n",
       "      <th>Age</th>\n",
       "      <th>Name</th>\n",
       "      <th>Phone</th>\n",
       "      <th>E-mail</th>\n",
       "    </tr>\n",
       "  </thead>\n",
       "  <tbody>\n",
       "    <tr>\n",
       "      <td>0</td>\n",
       "      <td>33</td>\n",
       "      <td>Juan</td>\n",
       "      <td>2289</td>\n",
       "      <td>juan@gmail.com</td>\n",
       "    </tr>\n",
       "    <tr>\n",
       "      <td>2</td>\n",
       "      <td>41</td>\n",
       "      <td>Veronica</td>\n",
       "      <td>1243</td>\n",
       "      <td>vero@gmail.com</td>\n",
       "    </tr>\n",
       "    <tr>\n",
       "      <td>4</td>\n",
       "      <td>45</td>\n",
       "      <td>Bruno</td>\n",
       "      <td>2564</td>\n",
       "      <td>bruno@gmail.com</td>\n",
       "    </tr>\n",
       "  </tbody>\n",
       "</table>\n",
       "</div>"
      ],
      "text/plain": [
       "   Age      Name  Phone           E-mail\n",
       "0   33      Juan   2289   juan@gmail.com\n",
       "2   41  Veronica   1243   vero@gmail.com\n",
       "4   45     Bruno   2564  bruno@gmail.com"
      ]
     },
     "execution_count": 96,
     "metadata": {},
     "output_type": "execute_result"
    }
   ],
   "source": [
    "# Uso del atributo loc para seleccionar filas con el índice:\n",
    "data.loc[:4]"
   ]
  },
  {
   "cell_type": "code",
   "execution_count": 97,
   "metadata": {},
   "outputs": [
    {
     "data": {
      "text/html": [
       "<div>\n",
       "<style scoped>\n",
       "    .dataframe tbody tr th:only-of-type {\n",
       "        vertical-align: middle;\n",
       "    }\n",
       "\n",
       "    .dataframe tbody tr th {\n",
       "        vertical-align: top;\n",
       "    }\n",
       "\n",
       "    .dataframe thead th {\n",
       "        text-align: right;\n",
       "    }\n",
       "</style>\n",
       "<table border=\"1\" class=\"dataframe\">\n",
       "  <thead>\n",
       "    <tr style=\"text-align: right;\">\n",
       "      <th></th>\n",
       "      <th>Name</th>\n",
       "      <th>Phone</th>\n",
       "    </tr>\n",
       "  </thead>\n",
       "  <tbody>\n",
       "    <tr>\n",
       "      <td>0</td>\n",
       "      <td>Juan</td>\n",
       "      <td>2289</td>\n",
       "    </tr>\n",
       "    <tr>\n",
       "      <td>2</td>\n",
       "      <td>Veronica</td>\n",
       "      <td>1243</td>\n",
       "    </tr>\n",
       "    <tr>\n",
       "      <td>4</td>\n",
       "      <td>Bruno</td>\n",
       "      <td>2564</td>\n",
       "    </tr>\n",
       "    <tr>\n",
       "      <td>6</td>\n",
       "      <td>Pablo</td>\n",
       "      <td>4448</td>\n",
       "    </tr>\n",
       "    <tr>\n",
       "      <td>8</td>\n",
       "      <td>Rosa</td>\n",
       "      <td>3321</td>\n",
       "    </tr>\n",
       "  </tbody>\n",
       "</table>\n",
       "</div>"
      ],
      "text/plain": [
       "       Name  Phone\n",
       "0      Juan   2289\n",
       "2  Veronica   1243\n",
       "4     Bruno   2564\n",
       "6     Pablo   4448\n",
       "8      Rosa   3321"
      ]
     },
     "execution_count": 97,
     "metadata": {},
     "output_type": "execute_result"
    }
   ],
   "source": [
    "# Uso del atributo loc para seleccionar un slice de columnas:\n",
    "data.loc[:,'Name':'Phone']"
   ]
  },
  {
   "cell_type": "code",
   "execution_count": 98,
   "metadata": {},
   "outputs": [
    {
     "data": {
      "text/html": [
       "<div>\n",
       "<style scoped>\n",
       "    .dataframe tbody tr th:only-of-type {\n",
       "        vertical-align: middle;\n",
       "    }\n",
       "\n",
       "    .dataframe tbody tr th {\n",
       "        vertical-align: top;\n",
       "    }\n",
       "\n",
       "    .dataframe thead th {\n",
       "        text-align: right;\n",
       "    }\n",
       "</style>\n",
       "<table border=\"1\" class=\"dataframe\">\n",
       "  <thead>\n",
       "    <tr style=\"text-align: right;\">\n",
       "      <th></th>\n",
       "      <th>Age</th>\n",
       "      <th>Name</th>\n",
       "      <th>Phone</th>\n",
       "      <th>E-mail</th>\n",
       "    </tr>\n",
       "  </thead>\n",
       "  <tbody>\n",
       "    <tr>\n",
       "      <td>0</td>\n",
       "      <td>33</td>\n",
       "      <td>Juan</td>\n",
       "      <td>2289</td>\n",
       "      <td>juan@gmail.com</td>\n",
       "    </tr>\n",
       "    <tr>\n",
       "      <td>6</td>\n",
       "      <td>28</td>\n",
       "      <td>Pablo</td>\n",
       "      <td>4448</td>\n",
       "      <td>pau@gmail.com</td>\n",
       "    </tr>\n",
       "    <tr>\n",
       "      <td>8</td>\n",
       "      <td>36</td>\n",
       "      <td>Rosa</td>\n",
       "      <td>3321</td>\n",
       "      <td>rosa@gmail.com</td>\n",
       "    </tr>\n",
       "  </tbody>\n",
       "</table>\n",
       "</div>"
      ],
      "text/plain": [
       "   Age   Name  Phone          E-mail\n",
       "0   33   Juan   2289  juan@gmail.com\n",
       "6   28  Pablo   4448   pau@gmail.com\n",
       "8   36   Rosa   3321  rosa@gmail.com"
      ]
     },
     "execution_count": 98,
     "metadata": {},
     "output_type": "execute_result"
    }
   ],
   "source": [
    "# Seleccionamos los menores de 40:\n",
    "data[data.Age < 40]"
   ]
  },
  {
   "cell_type": "code",
   "execution_count": 99,
   "metadata": {},
   "outputs": [
    {
     "data": {
      "text/plain": [
       "uno        1\n",
       "dos      -10\n",
       "tres     -10\n",
       "cuatro   -10\n",
       "dtype: int64"
      ]
     },
     "execution_count": 99,
     "metadata": {},
     "output_type": "execute_result"
    }
   ],
   "source": [
    "serie[serie<3]"
   ]
  },
  {
   "cell_type": "markdown",
   "metadata": {},
   "source": [
    "### Ejercicio: Indexación, selección y filtrado"
   ]
  },
  {
   "cell_type": "markdown",
   "metadata": {},
   "source": [
    "<font color=\"#279D9F\">1. </font> A partir del DataFrame **tienda** de los ejercicios anteriores, muestra todos los arneses de la marca Edelrid."
   ]
  },
  {
   "cell_type": "code",
   "execution_count": 100,
   "metadata": {},
   "outputs": [
    {
     "data": {
      "text/html": [
       "<div>\n",
       "<style scoped>\n",
       "    .dataframe tbody tr th:only-of-type {\n",
       "        vertical-align: middle;\n",
       "    }\n",
       "\n",
       "    .dataframe tbody tr th {\n",
       "        vertical-align: top;\n",
       "    }\n",
       "\n",
       "    .dataframe thead th {\n",
       "        text-align: right;\n",
       "    }\n",
       "</style>\n",
       "<table border=\"1\" class=\"dataframe\">\n",
       "  <thead>\n",
       "    <tr style=\"text-align: right;\">\n",
       "      <th></th>\n",
       "      <th>marca</th>\n",
       "      <th>modelo</th>\n",
       "      <th>precio</th>\n",
       "    </tr>\n",
       "  </thead>\n",
       "  <tbody>\n",
       "    <tr>\n",
       "      <td>4</td>\n",
       "      <td>Edelrid</td>\n",
       "      <td>Moe</td>\n",
       "      <td>49.9</td>\n",
       "    </tr>\n",
       "    <tr>\n",
       "      <td>5</td>\n",
       "      <td>Edelrid</td>\n",
       "      <td>Orion</td>\n",
       "      <td>99.9</td>\n",
       "    </tr>\n",
       "    <tr>\n",
       "      <td>6</td>\n",
       "      <td>Edelrid</td>\n",
       "      <td>Leaf</td>\n",
       "      <td>65.0</td>\n",
       "    </tr>\n",
       "  </tbody>\n",
       "</table>\n",
       "</div>"
      ],
      "text/plain": [
       "     marca modelo  precio\n",
       "4  Edelrid    Moe    49.9\n",
       "5  Edelrid  Orion    99.9\n",
       "6  Edelrid   Leaf    65.0"
      ]
     },
     "execution_count": 100,
     "metadata": {},
     "output_type": "execute_result"
    }
   ],
   "source": [
    "tienda[tienda.marca=='Edelrid']"
   ]
  },
  {
   "cell_type": "markdown",
   "metadata": {},
   "source": [
    "<font color=\"#279D9F\">2. </font> A partir del DataFrame **tienda** de los ejercicios anteriores, muestra todos los arneses con precio mayor de 70."
   ]
  },
  {
   "cell_type": "code",
   "execution_count": 101,
   "metadata": {},
   "outputs": [
    {
     "data": {
      "text/html": [
       "<div>\n",
       "<style scoped>\n",
       "    .dataframe tbody tr th:only-of-type {\n",
       "        vertical-align: middle;\n",
       "    }\n",
       "\n",
       "    .dataframe tbody tr th {\n",
       "        vertical-align: top;\n",
       "    }\n",
       "\n",
       "    .dataframe thead th {\n",
       "        text-align: right;\n",
       "    }\n",
       "</style>\n",
       "<table border=\"1\" class=\"dataframe\">\n",
       "  <thead>\n",
       "    <tr style=\"text-align: right;\">\n",
       "      <th></th>\n",
       "      <th>marca</th>\n",
       "      <th>modelo</th>\n",
       "      <th>precio</th>\n",
       "    </tr>\n",
       "  </thead>\n",
       "  <tbody>\n",
       "    <tr>\n",
       "      <td>3</td>\n",
       "      <td>Petzl</td>\n",
       "      <td>Adjama New</td>\n",
       "      <td>75.0</td>\n",
       "    </tr>\n",
       "    <tr>\n",
       "      <td>5</td>\n",
       "      <td>Edelrid</td>\n",
       "      <td>Orion</td>\n",
       "      <td>99.9</td>\n",
       "    </tr>\n",
       "    <tr>\n",
       "      <td>7</td>\n",
       "      <td>Black Diamond</td>\n",
       "      <td>Xenes</td>\n",
       "      <td>119.9</td>\n",
       "    </tr>\n",
       "    <tr>\n",
       "      <td>8</td>\n",
       "      <td>Black Diamond</td>\n",
       "      <td>Chaos</td>\n",
       "      <td>99.9</td>\n",
       "    </tr>\n",
       "  </tbody>\n",
       "</table>\n",
       "</div>"
      ],
      "text/plain": [
       "           marca      modelo  precio\n",
       "3          Petzl  Adjama New    75.0\n",
       "5        Edelrid       Orion    99.9\n",
       "7  Black Diamond       Xenes   119.9\n",
       "8  Black Diamond       Chaos    99.9"
      ]
     },
     "execution_count": 101,
     "metadata": {},
     "output_type": "execute_result"
    }
   ],
   "source": [
    "tienda[tienda.precio>70]"
   ]
  },
  {
   "cell_type": "markdown",
   "metadata": {},
   "source": [
    "<font color=\"#279D9F\">3. </font> A partir del DataFrame **tienda** de los ejercicios anteriores, muestra el slice de columnas de Marca a Modelo."
   ]
  },
  {
   "cell_type": "code",
   "execution_count": 102,
   "metadata": {},
   "outputs": [
    {
     "data": {
      "text/html": [
       "<div>\n",
       "<style scoped>\n",
       "    .dataframe tbody tr th:only-of-type {\n",
       "        vertical-align: middle;\n",
       "    }\n",
       "\n",
       "    .dataframe tbody tr th {\n",
       "        vertical-align: top;\n",
       "    }\n",
       "\n",
       "    .dataframe thead th {\n",
       "        text-align: right;\n",
       "    }\n",
       "</style>\n",
       "<table border=\"1\" class=\"dataframe\">\n",
       "  <thead>\n",
       "    <tr style=\"text-align: right;\">\n",
       "      <th></th>\n",
       "      <th>marca</th>\n",
       "      <th>modelo</th>\n",
       "    </tr>\n",
       "  </thead>\n",
       "  <tbody>\n",
       "    <tr>\n",
       "      <td>0</td>\n",
       "      <td>Camp</td>\n",
       "      <td>Energy</td>\n",
       "    </tr>\n",
       "    <tr>\n",
       "      <td>1</td>\n",
       "      <td>Camp</td>\n",
       "      <td>Jasper</td>\n",
       "    </tr>\n",
       "    <tr>\n",
       "      <td>2</td>\n",
       "      <td>Petzl</td>\n",
       "      <td>Simba</td>\n",
       "    </tr>\n",
       "    <tr>\n",
       "      <td>3</td>\n",
       "      <td>Petzl</td>\n",
       "      <td>Adjama New</td>\n",
       "    </tr>\n",
       "    <tr>\n",
       "      <td>4</td>\n",
       "      <td>Edelrid</td>\n",
       "      <td>Moe</td>\n",
       "    </tr>\n",
       "    <tr>\n",
       "      <td>5</td>\n",
       "      <td>Edelrid</td>\n",
       "      <td>Orion</td>\n",
       "    </tr>\n",
       "    <tr>\n",
       "      <td>6</td>\n",
       "      <td>Edelrid</td>\n",
       "      <td>Leaf</td>\n",
       "    </tr>\n",
       "    <tr>\n",
       "      <td>7</td>\n",
       "      <td>Black Diamond</td>\n",
       "      <td>Xenes</td>\n",
       "    </tr>\n",
       "    <tr>\n",
       "      <td>8</td>\n",
       "      <td>Black Diamond</td>\n",
       "      <td>Chaos</td>\n",
       "    </tr>\n",
       "    <tr>\n",
       "      <td>9</td>\n",
       "      <td>Mammut</td>\n",
       "      <td>Ophir</td>\n",
       "    </tr>\n",
       "  </tbody>\n",
       "</table>\n",
       "</div>"
      ],
      "text/plain": [
       "           marca      modelo\n",
       "0           Camp      Energy\n",
       "1           Camp      Jasper\n",
       "2          Petzl       Simba\n",
       "3          Petzl  Adjama New\n",
       "4        Edelrid         Moe\n",
       "5        Edelrid       Orion\n",
       "6        Edelrid        Leaf\n",
       "7  Black Diamond       Xenes\n",
       "8  Black Diamond       Chaos\n",
       "9         Mammut       Ophir"
      ]
     },
     "execution_count": 102,
     "metadata": {},
     "output_type": "execute_result"
    }
   ],
   "source": [
    "tienda.loc[:,'marca':'modelo']"
   ]
  },
  {
   "cell_type": "code",
   "execution_count": 103,
   "metadata": {},
   "outputs": [
    {
     "data": {
      "text/plain": [
       "perros        40\n",
       "gatos         37\n",
       "vacas          2\n",
       "iguanas       10\n",
       "tortugas       7\n",
       "camaleones     8\n",
       "dtype: int64"
      ]
     },
     "execution_count": 103,
     "metadata": {},
     "output_type": "execute_result"
    }
   ],
   "source": [
    "# Definimos la siguiente serie\n",
    "veterinario = Series([40, 37, 2, 10, 7, 8], index = ['perros', 'gatos', 'vacas', 'iguanas', 'tortugas', 'camaleones'])\n",
    "veterinario"
   ]
  },
  {
   "cell_type": "markdown",
   "metadata": {},
   "source": [
    "<font color=\"#279D9F\">4. </font> A partir de la serie definida en la celda anterior, muestra el número de 'perros' y 'gatos' que sigue el veterinario y súmales uno a cada uno de manera que se modifique también la serie original."
   ]
  },
  {
   "cell_type": "code",
   "execution_count": 104,
   "metadata": {},
   "outputs": [
    {
     "data": {
      "text/plain": [
       "perros        41\n",
       "gatos         38\n",
       "vacas          2\n",
       "iguanas       10\n",
       "tortugas       7\n",
       "camaleones     8\n",
       "dtype: int64"
      ]
     },
     "execution_count": 104,
     "metadata": {},
     "output_type": "execute_result"
    }
   ],
   "source": [
    "veterinario[['perros','gatos']] += 1\n",
    "veterinario"
   ]
  },
  {
   "cell_type": "markdown",
   "metadata": {},
   "source": [
    "## Aritmética entre objetos con índices distintos"
   ]
  },
  {
   "cell_type": "markdown",
   "metadata": {},
   "source": [
    "### Series"
   ]
  },
  {
   "cell_type": "code",
   "execution_count": 105,
   "metadata": {},
   "outputs": [
    {
     "data": {
      "text/plain": [
       "0    3\n",
       "1    4\n",
       "2    1\n",
       "3    1\n",
       "4    1\n",
       "5    1\n",
       "dtype: int32"
      ]
     },
     "execution_count": 105,
     "metadata": {},
     "output_type": "execute_result"
    }
   ],
   "source": [
    "# Creamos una serie:\n",
    "import numpy as np\n",
    "serie1 = Series(np.random.randint(0, 5, 6), index = range(6))\n",
    "serie1"
   ]
  },
  {
   "cell_type": "code",
   "execution_count": 106,
   "metadata": {},
   "outputs": [
    {
     "data": {
      "text/plain": [
       "2    1\n",
       "3    3\n",
       "4    3\n",
       "5    4\n",
       "6    4\n",
       "7    4\n",
       "dtype: int32"
      ]
     },
     "execution_count": 106,
     "metadata": {},
     "output_type": "execute_result"
    }
   ],
   "source": [
    "# Creamos otra serie:\n",
    "serie2 = Series(np.random.randint(0, 5, 6), index = range(2, 8))\n",
    "serie2"
   ]
  },
  {
   "cell_type": "code",
   "execution_count": 107,
   "metadata": {},
   "outputs": [
    {
     "data": {
      "text/plain": [
       "0    NaN\n",
       "1    NaN\n",
       "2    2.0\n",
       "3    4.0\n",
       "4    4.0\n",
       "5    5.0\n",
       "6    NaN\n",
       "7    NaN\n",
       "dtype: float64"
      ]
     },
     "execution_count": 107,
     "metadata": {},
     "output_type": "execute_result"
    }
   ],
   "source": [
    "# Sumamos ambas series:\n",
    "serie1 + serie2"
   ]
  },
  {
   "cell_type": "markdown",
   "metadata": {},
   "source": [
    "### DataFrame"
   ]
  },
  {
   "cell_type": "code",
   "execution_count": 108,
   "metadata": {},
   "outputs": [
    {
     "data": {
      "text/html": [
       "<div>\n",
       "<style scoped>\n",
       "    .dataframe tbody tr th:only-of-type {\n",
       "        vertical-align: middle;\n",
       "    }\n",
       "\n",
       "    .dataframe tbody tr th {\n",
       "        vertical-align: top;\n",
       "    }\n",
       "\n",
       "    .dataframe thead th {\n",
       "        text-align: right;\n",
       "    }\n",
       "</style>\n",
       "<table border=\"1\" class=\"dataframe\">\n",
       "  <thead>\n",
       "    <tr style=\"text-align: right;\">\n",
       "      <th></th>\n",
       "      <th>A</th>\n",
       "      <th>B</th>\n",
       "      <th>C</th>\n",
       "    </tr>\n",
       "  </thead>\n",
       "  <tbody>\n",
       "    <tr>\n",
       "      <td>0</td>\n",
       "      <td>1</td>\n",
       "      <td>4</td>\n",
       "      <td>4</td>\n",
       "    </tr>\n",
       "    <tr>\n",
       "      <td>1</td>\n",
       "      <td>3</td>\n",
       "      <td>1</td>\n",
       "      <td>1</td>\n",
       "    </tr>\n",
       "    <tr>\n",
       "      <td>2</td>\n",
       "      <td>1</td>\n",
       "      <td>1</td>\n",
       "      <td>0</td>\n",
       "    </tr>\n",
       "    <tr>\n",
       "      <td>3</td>\n",
       "      <td>2</td>\n",
       "      <td>2</td>\n",
       "      <td>0</td>\n",
       "    </tr>\n",
       "    <tr>\n",
       "      <td>4</td>\n",
       "      <td>3</td>\n",
       "      <td>0</td>\n",
       "      <td>4</td>\n",
       "    </tr>\n",
       "    <tr>\n",
       "      <td>5</td>\n",
       "      <td>0</td>\n",
       "      <td>3</td>\n",
       "      <td>3</td>\n",
       "    </tr>\n",
       "  </tbody>\n",
       "</table>\n",
       "</div>"
      ],
      "text/plain": [
       "   A  B  C\n",
       "0  1  4  4\n",
       "1  3  1  1\n",
       "2  1  1  0\n",
       "3  2  2  0\n",
       "4  3  0  4\n",
       "5  0  3  3"
      ]
     },
     "execution_count": 108,
     "metadata": {},
     "output_type": "execute_result"
    }
   ],
   "source": [
    "# Creamos un DataFrame:\n",
    "data1 = DataFrame(np.random.randint(0, 5, (6, 3)), index = range(6), columns = ['A', 'B', 'C'])\n",
    "data1"
   ]
  },
  {
   "cell_type": "code",
   "execution_count": 109,
   "metadata": {},
   "outputs": [
    {
     "data": {
      "text/html": [
       "<div>\n",
       "<style scoped>\n",
       "    .dataframe tbody tr th:only-of-type {\n",
       "        vertical-align: middle;\n",
       "    }\n",
       "\n",
       "    .dataframe tbody tr th {\n",
       "        vertical-align: top;\n",
       "    }\n",
       "\n",
       "    .dataframe thead th {\n",
       "        text-align: right;\n",
       "    }\n",
       "</style>\n",
       "<table border=\"1\" class=\"dataframe\">\n",
       "  <thead>\n",
       "    <tr style=\"text-align: right;\">\n",
       "      <th></th>\n",
       "      <th>B</th>\n",
       "      <th>A</th>\n",
       "      <th>D</th>\n",
       "    </tr>\n",
       "  </thead>\n",
       "  <tbody>\n",
       "    <tr>\n",
       "      <td>2</td>\n",
       "      <td>3</td>\n",
       "      <td>2</td>\n",
       "      <td>0</td>\n",
       "    </tr>\n",
       "    <tr>\n",
       "      <td>3</td>\n",
       "      <td>1</td>\n",
       "      <td>0</td>\n",
       "      <td>2</td>\n",
       "    </tr>\n",
       "    <tr>\n",
       "      <td>4</td>\n",
       "      <td>4</td>\n",
       "      <td>4</td>\n",
       "      <td>3</td>\n",
       "    </tr>\n",
       "    <tr>\n",
       "      <td>5</td>\n",
       "      <td>2</td>\n",
       "      <td>0</td>\n",
       "      <td>2</td>\n",
       "    </tr>\n",
       "    <tr>\n",
       "      <td>6</td>\n",
       "      <td>0</td>\n",
       "      <td>2</td>\n",
       "      <td>4</td>\n",
       "    </tr>\n",
       "    <tr>\n",
       "      <td>7</td>\n",
       "      <td>0</td>\n",
       "      <td>2</td>\n",
       "      <td>0</td>\n",
       "    </tr>\n",
       "  </tbody>\n",
       "</table>\n",
       "</div>"
      ],
      "text/plain": [
       "   B  A  D\n",
       "2  3  2  0\n",
       "3  1  0  2\n",
       "4  4  4  3\n",
       "5  2  0  2\n",
       "6  0  2  4\n",
       "7  0  2  0"
      ]
     },
     "execution_count": 109,
     "metadata": {},
     "output_type": "execute_result"
    }
   ],
   "source": [
    "# Creamos otro DataFrame:\n",
    "data2 = DataFrame(np.random.randint(0, 5, (6, 3)), index = range(2, 8), columns = ['B', 'A', 'D'])\n",
    "data2"
   ]
  },
  {
   "cell_type": "code",
   "execution_count": 110,
   "metadata": {},
   "outputs": [
    {
     "data": {
      "text/html": [
       "<div>\n",
       "<style scoped>\n",
       "    .dataframe tbody tr th:only-of-type {\n",
       "        vertical-align: middle;\n",
       "    }\n",
       "\n",
       "    .dataframe tbody tr th {\n",
       "        vertical-align: top;\n",
       "    }\n",
       "\n",
       "    .dataframe thead th {\n",
       "        text-align: right;\n",
       "    }\n",
       "</style>\n",
       "<table border=\"1\" class=\"dataframe\">\n",
       "  <thead>\n",
       "    <tr style=\"text-align: right;\">\n",
       "      <th></th>\n",
       "      <th>A</th>\n",
       "      <th>B</th>\n",
       "      <th>C</th>\n",
       "      <th>D</th>\n",
       "    </tr>\n",
       "  </thead>\n",
       "  <tbody>\n",
       "    <tr>\n",
       "      <td>0</td>\n",
       "      <td>NaN</td>\n",
       "      <td>NaN</td>\n",
       "      <td>NaN</td>\n",
       "      <td>NaN</td>\n",
       "    </tr>\n",
       "    <tr>\n",
       "      <td>1</td>\n",
       "      <td>NaN</td>\n",
       "      <td>NaN</td>\n",
       "      <td>NaN</td>\n",
       "      <td>NaN</td>\n",
       "    </tr>\n",
       "    <tr>\n",
       "      <td>2</td>\n",
       "      <td>3.0</td>\n",
       "      <td>4.0</td>\n",
       "      <td>NaN</td>\n",
       "      <td>NaN</td>\n",
       "    </tr>\n",
       "    <tr>\n",
       "      <td>3</td>\n",
       "      <td>2.0</td>\n",
       "      <td>3.0</td>\n",
       "      <td>NaN</td>\n",
       "      <td>NaN</td>\n",
       "    </tr>\n",
       "    <tr>\n",
       "      <td>4</td>\n",
       "      <td>7.0</td>\n",
       "      <td>4.0</td>\n",
       "      <td>NaN</td>\n",
       "      <td>NaN</td>\n",
       "    </tr>\n",
       "    <tr>\n",
       "      <td>5</td>\n",
       "      <td>0.0</td>\n",
       "      <td>5.0</td>\n",
       "      <td>NaN</td>\n",
       "      <td>NaN</td>\n",
       "    </tr>\n",
       "    <tr>\n",
       "      <td>6</td>\n",
       "      <td>NaN</td>\n",
       "      <td>NaN</td>\n",
       "      <td>NaN</td>\n",
       "      <td>NaN</td>\n",
       "    </tr>\n",
       "    <tr>\n",
       "      <td>7</td>\n",
       "      <td>NaN</td>\n",
       "      <td>NaN</td>\n",
       "      <td>NaN</td>\n",
       "      <td>NaN</td>\n",
       "    </tr>\n",
       "  </tbody>\n",
       "</table>\n",
       "</div>"
      ],
      "text/plain": [
       "     A    B   C   D\n",
       "0  NaN  NaN NaN NaN\n",
       "1  NaN  NaN NaN NaN\n",
       "2  3.0  4.0 NaN NaN\n",
       "3  2.0  3.0 NaN NaN\n",
       "4  7.0  4.0 NaN NaN\n",
       "5  0.0  5.0 NaN NaN\n",
       "6  NaN  NaN NaN NaN\n",
       "7  NaN  NaN NaN NaN"
      ]
     },
     "execution_count": 110,
     "metadata": {},
     "output_type": "execute_result"
    }
   ],
   "source": [
    "# Sumamos ambos DataFrames:\n",
    "data1 + data2"
   ]
  },
  {
   "cell_type": "code",
   "execution_count": 111,
   "metadata": {},
   "outputs": [
    {
     "data": {
      "text/html": [
       "<div>\n",
       "<style scoped>\n",
       "    .dataframe tbody tr th:only-of-type {\n",
       "        vertical-align: middle;\n",
       "    }\n",
       "\n",
       "    .dataframe tbody tr th {\n",
       "        vertical-align: top;\n",
       "    }\n",
       "\n",
       "    .dataframe thead th {\n",
       "        text-align: right;\n",
       "    }\n",
       "</style>\n",
       "<table border=\"1\" class=\"dataframe\">\n",
       "  <thead>\n",
       "    <tr style=\"text-align: right;\">\n",
       "      <th></th>\n",
       "      <th>A</th>\n",
       "      <th>B</th>\n",
       "      <th>C</th>\n",
       "      <th>D</th>\n",
       "    </tr>\n",
       "  </thead>\n",
       "  <tbody>\n",
       "    <tr>\n",
       "      <td>0</td>\n",
       "      <td>1.0</td>\n",
       "      <td>4.0</td>\n",
       "      <td>4.0</td>\n",
       "      <td>NaN</td>\n",
       "    </tr>\n",
       "    <tr>\n",
       "      <td>1</td>\n",
       "      <td>3.0</td>\n",
       "      <td>1.0</td>\n",
       "      <td>1.0</td>\n",
       "      <td>NaN</td>\n",
       "    </tr>\n",
       "    <tr>\n",
       "      <td>2</td>\n",
       "      <td>3.0</td>\n",
       "      <td>4.0</td>\n",
       "      <td>0.0</td>\n",
       "      <td>0.0</td>\n",
       "    </tr>\n",
       "    <tr>\n",
       "      <td>3</td>\n",
       "      <td>2.0</td>\n",
       "      <td>3.0</td>\n",
       "      <td>0.0</td>\n",
       "      <td>2.0</td>\n",
       "    </tr>\n",
       "    <tr>\n",
       "      <td>4</td>\n",
       "      <td>7.0</td>\n",
       "      <td>4.0</td>\n",
       "      <td>4.0</td>\n",
       "      <td>3.0</td>\n",
       "    </tr>\n",
       "    <tr>\n",
       "      <td>5</td>\n",
       "      <td>0.0</td>\n",
       "      <td>5.0</td>\n",
       "      <td>3.0</td>\n",
       "      <td>2.0</td>\n",
       "    </tr>\n",
       "    <tr>\n",
       "      <td>6</td>\n",
       "      <td>2.0</td>\n",
       "      <td>0.0</td>\n",
       "      <td>NaN</td>\n",
       "      <td>4.0</td>\n",
       "    </tr>\n",
       "    <tr>\n",
       "      <td>7</td>\n",
       "      <td>2.0</td>\n",
       "      <td>0.0</td>\n",
       "      <td>NaN</td>\n",
       "      <td>0.0</td>\n",
       "    </tr>\n",
       "  </tbody>\n",
       "</table>\n",
       "</div>"
      ],
      "text/plain": [
       "     A    B    C    D\n",
       "0  1.0  4.0  4.0  NaN\n",
       "1  3.0  1.0  1.0  NaN\n",
       "2  3.0  4.0  0.0  0.0\n",
       "3  2.0  3.0  0.0  2.0\n",
       "4  7.0  4.0  4.0  3.0\n",
       "5  0.0  5.0  3.0  2.0\n",
       "6  2.0  0.0  NaN  4.0\n",
       "7  2.0  0.0  NaN  0.0"
      ]
     },
     "execution_count": 111,
     "metadata": {},
     "output_type": "execute_result"
    }
   ],
   "source": [
    "# Sumamos con add y fill_value:\n",
    "data1.add(data2, fill_value = 0)"
   ]
  },
  {
   "cell_type": "markdown",
   "metadata": {},
   "source": [
    "## Aritmética entre *Series* y *DataFrames*"
   ]
  },
  {
   "cell_type": "markdown",
   "metadata": {},
   "source": [
    "### Broadcasting por columnas"
   ]
  },
  {
   "cell_type": "code",
   "execution_count": 112,
   "metadata": {},
   "outputs": [
    {
     "data": {
      "text/html": [
       "<div>\n",
       "<style scoped>\n",
       "    .dataframe tbody tr th:only-of-type {\n",
       "        vertical-align: middle;\n",
       "    }\n",
       "\n",
       "    .dataframe tbody tr th {\n",
       "        vertical-align: top;\n",
       "    }\n",
       "\n",
       "    .dataframe thead th {\n",
       "        text-align: right;\n",
       "    }\n",
       "</style>\n",
       "<table border=\"1\" class=\"dataframe\">\n",
       "  <thead>\n",
       "    <tr style=\"text-align: right;\">\n",
       "      <th></th>\n",
       "      <th>var_1</th>\n",
       "      <th>var_2</th>\n",
       "      <th>var_3</th>\n",
       "      <th>var_4</th>\n",
       "    </tr>\n",
       "  </thead>\n",
       "  <tbody>\n",
       "    <tr>\n",
       "      <td>0</td>\n",
       "      <td>1.0</td>\n",
       "      <td>1.0</td>\n",
       "      <td>1.0</td>\n",
       "      <td>1.0</td>\n",
       "    </tr>\n",
       "    <tr>\n",
       "      <td>1</td>\n",
       "      <td>1.0</td>\n",
       "      <td>1.0</td>\n",
       "      <td>1.0</td>\n",
       "      <td>1.0</td>\n",
       "    </tr>\n",
       "    <tr>\n",
       "      <td>2</td>\n",
       "      <td>1.0</td>\n",
       "      <td>1.0</td>\n",
       "      <td>1.0</td>\n",
       "      <td>1.0</td>\n",
       "    </tr>\n",
       "    <tr>\n",
       "      <td>3</td>\n",
       "      <td>1.0</td>\n",
       "      <td>1.0</td>\n",
       "      <td>1.0</td>\n",
       "      <td>1.0</td>\n",
       "    </tr>\n",
       "    <tr>\n",
       "      <td>4</td>\n",
       "      <td>1.0</td>\n",
       "      <td>1.0</td>\n",
       "      <td>1.0</td>\n",
       "      <td>1.0</td>\n",
       "    </tr>\n",
       "  </tbody>\n",
       "</table>\n",
       "</div>"
      ],
      "text/plain": [
       "   var_1  var_2  var_3  var_4\n",
       "0    1.0    1.0    1.0    1.0\n",
       "1    1.0    1.0    1.0    1.0\n",
       "2    1.0    1.0    1.0    1.0\n",
       "3    1.0    1.0    1.0    1.0\n",
       "4    1.0    1.0    1.0    1.0"
      ]
     },
     "execution_count": 112,
     "metadata": {},
     "output_type": "execute_result"
    }
   ],
   "source": [
    "# Creamos un DataFrame con unos:\n",
    "df = DataFrame(np.ones((5, 4)), columns = ['var_1', 'var_2', 'var_3', 'var_4'])\n",
    "df"
   ]
  },
  {
   "cell_type": "code",
   "execution_count": 113,
   "metadata": {},
   "outputs": [
    {
     "data": {
      "text/plain": [
       "var_1    0\n",
       "var_2    1\n",
       "var_3    2\n",
       "var_4    3\n",
       "dtype: int64"
      ]
     },
     "execution_count": 113,
     "metadata": {},
     "output_type": "execute_result"
    }
   ],
   "source": [
    "# Creamos una serie cuyos índices son las columnas del DataFrame:\n",
    "serie = Series([0, 1, 2, 3], df.columns)\n",
    "serie"
   ]
  },
  {
   "cell_type": "code",
   "execution_count": 114,
   "metadata": {},
   "outputs": [
    {
     "data": {
      "text/html": [
       "<div>\n",
       "<style scoped>\n",
       "    .dataframe tbody tr th:only-of-type {\n",
       "        vertical-align: middle;\n",
       "    }\n",
       "\n",
       "    .dataframe tbody tr th {\n",
       "        vertical-align: top;\n",
       "    }\n",
       "\n",
       "    .dataframe thead th {\n",
       "        text-align: right;\n",
       "    }\n",
       "</style>\n",
       "<table border=\"1\" class=\"dataframe\">\n",
       "  <thead>\n",
       "    <tr style=\"text-align: right;\">\n",
       "      <th></th>\n",
       "      <th>var_1</th>\n",
       "      <th>var_2</th>\n",
       "      <th>var_3</th>\n",
       "      <th>var_4</th>\n",
       "    </tr>\n",
       "  </thead>\n",
       "  <tbody>\n",
       "    <tr>\n",
       "      <td>0</td>\n",
       "      <td>1.0</td>\n",
       "      <td>2.0</td>\n",
       "      <td>3.0</td>\n",
       "      <td>4.0</td>\n",
       "    </tr>\n",
       "    <tr>\n",
       "      <td>1</td>\n",
       "      <td>1.0</td>\n",
       "      <td>2.0</td>\n",
       "      <td>3.0</td>\n",
       "      <td>4.0</td>\n",
       "    </tr>\n",
       "    <tr>\n",
       "      <td>2</td>\n",
       "      <td>1.0</td>\n",
       "      <td>2.0</td>\n",
       "      <td>3.0</td>\n",
       "      <td>4.0</td>\n",
       "    </tr>\n",
       "    <tr>\n",
       "      <td>3</td>\n",
       "      <td>1.0</td>\n",
       "      <td>2.0</td>\n",
       "      <td>3.0</td>\n",
       "      <td>4.0</td>\n",
       "    </tr>\n",
       "    <tr>\n",
       "      <td>4</td>\n",
       "      <td>1.0</td>\n",
       "      <td>2.0</td>\n",
       "      <td>3.0</td>\n",
       "      <td>4.0</td>\n",
       "    </tr>\n",
       "  </tbody>\n",
       "</table>\n",
       "</div>"
      ],
      "text/plain": [
       "   var_1  var_2  var_3  var_4\n",
       "0    1.0    2.0    3.0    4.0\n",
       "1    1.0    2.0    3.0    4.0\n",
       "2    1.0    2.0    3.0    4.0\n",
       "3    1.0    2.0    3.0    4.0\n",
       "4    1.0    2.0    3.0    4.0"
      ]
     },
     "execution_count": 114,
     "metadata": {},
     "output_type": "execute_result"
    }
   ],
   "source": [
    "# Sumamos la serie y el DataFrame:\n",
    "df + serie"
   ]
  },
  {
   "cell_type": "markdown",
   "metadata": {},
   "source": [
    "### Broadcasting por filas"
   ]
  },
  {
   "cell_type": "code",
   "execution_count": 115,
   "metadata": {},
   "outputs": [
    {
     "data": {
      "text/plain": [
       "0    0\n",
       "1    1\n",
       "2    2\n",
       "3    3\n",
       "4    4\n",
       "dtype: int64"
      ]
     },
     "execution_count": 115,
     "metadata": {},
     "output_type": "execute_result"
    }
   ],
   "source": [
    "# Creamos una serie con los índices del DataFrame:\n",
    "serie = Series([0, 1, 2, 3, 4], df.index)\n",
    "serie"
   ]
  },
  {
   "cell_type": "code",
   "execution_count": 116,
   "metadata": {},
   "outputs": [
    {
     "data": {
      "text/html": [
       "<div>\n",
       "<style scoped>\n",
       "    .dataframe tbody tr th:only-of-type {\n",
       "        vertical-align: middle;\n",
       "    }\n",
       "\n",
       "    .dataframe tbody tr th {\n",
       "        vertical-align: top;\n",
       "    }\n",
       "\n",
       "    .dataframe thead th {\n",
       "        text-align: right;\n",
       "    }\n",
       "</style>\n",
       "<table border=\"1\" class=\"dataframe\">\n",
       "  <thead>\n",
       "    <tr style=\"text-align: right;\">\n",
       "      <th></th>\n",
       "      <th>var_1</th>\n",
       "      <th>var_2</th>\n",
       "      <th>var_3</th>\n",
       "      <th>var_4</th>\n",
       "    </tr>\n",
       "  </thead>\n",
       "  <tbody>\n",
       "    <tr>\n",
       "      <td>0</td>\n",
       "      <td>1.0</td>\n",
       "      <td>1.0</td>\n",
       "      <td>1.0</td>\n",
       "      <td>1.0</td>\n",
       "    </tr>\n",
       "    <tr>\n",
       "      <td>1</td>\n",
       "      <td>2.0</td>\n",
       "      <td>2.0</td>\n",
       "      <td>2.0</td>\n",
       "      <td>2.0</td>\n",
       "    </tr>\n",
       "    <tr>\n",
       "      <td>2</td>\n",
       "      <td>3.0</td>\n",
       "      <td>3.0</td>\n",
       "      <td>3.0</td>\n",
       "      <td>3.0</td>\n",
       "    </tr>\n",
       "    <tr>\n",
       "      <td>3</td>\n",
       "      <td>4.0</td>\n",
       "      <td>4.0</td>\n",
       "      <td>4.0</td>\n",
       "      <td>4.0</td>\n",
       "    </tr>\n",
       "    <tr>\n",
       "      <td>4</td>\n",
       "      <td>5.0</td>\n",
       "      <td>5.0</td>\n",
       "      <td>5.0</td>\n",
       "      <td>5.0</td>\n",
       "    </tr>\n",
       "  </tbody>\n",
       "</table>\n",
       "</div>"
      ],
      "text/plain": [
       "   var_1  var_2  var_3  var_4\n",
       "0    1.0    1.0    1.0    1.0\n",
       "1    2.0    2.0    2.0    2.0\n",
       "2    3.0    3.0    3.0    3.0\n",
       "3    4.0    4.0    4.0    4.0\n",
       "4    5.0    5.0    5.0    5.0"
      ]
     },
     "execution_count": 116,
     "metadata": {},
     "output_type": "execute_result"
    }
   ],
   "source": [
    "# Sumamos la serie y el DataFrame:\n",
    "df.add(serie, axis = 0)"
   ]
  },
  {
   "cell_type": "markdown",
   "metadata": {},
   "source": [
    "### Ejercicio: Aritmética en Pandas"
   ]
  },
  {
   "cell_type": "markdown",
   "metadata": {},
   "source": [
    "<font color=\"#279D9F\">1. </font> Crea una lista de 10 números aleatorios entre 0 y 50 y añádela al DataFrame **tienda** en la columna 'Ventas'."
   ]
  },
  {
   "cell_type": "code",
   "execution_count": 124,
   "metadata": {
    "scrolled": true
   },
   "outputs": [
    {
     "data": {
      "text/html": [
       "<div>\n",
       "<style scoped>\n",
       "    .dataframe tbody tr th:only-of-type {\n",
       "        vertical-align: middle;\n",
       "    }\n",
       "\n",
       "    .dataframe tbody tr th {\n",
       "        vertical-align: top;\n",
       "    }\n",
       "\n",
       "    .dataframe thead th {\n",
       "        text-align: right;\n",
       "    }\n",
       "</style>\n",
       "<table border=\"1\" class=\"dataframe\">\n",
       "  <thead>\n",
       "    <tr style=\"text-align: right;\">\n",
       "      <th></th>\n",
       "      <th>marca</th>\n",
       "      <th>modelo</th>\n",
       "      <th>precio</th>\n",
       "      <th>ventas</th>\n",
       "      <th>total</th>\n",
       "    </tr>\n",
       "  </thead>\n",
       "  <tbody>\n",
       "    <tr>\n",
       "      <td>0</td>\n",
       "      <td>Camp</td>\n",
       "      <td>Energy</td>\n",
       "      <td>39.9</td>\n",
       "      <td>41</td>\n",
       "      <td>NaN</td>\n",
       "    </tr>\n",
       "    <tr>\n",
       "      <td>1</td>\n",
       "      <td>Camp</td>\n",
       "      <td>Jasper</td>\n",
       "      <td>56.0</td>\n",
       "      <td>17</td>\n",
       "      <td>NaN</td>\n",
       "    </tr>\n",
       "    <tr>\n",
       "      <td>2</td>\n",
       "      <td>Petzl</td>\n",
       "      <td>Simba</td>\n",
       "      <td>45.0</td>\n",
       "      <td>23</td>\n",
       "      <td>NaN</td>\n",
       "    </tr>\n",
       "    <tr>\n",
       "      <td>3</td>\n",
       "      <td>Petzl</td>\n",
       "      <td>Adjama New</td>\n",
       "      <td>75.0</td>\n",
       "      <td>23</td>\n",
       "      <td>NaN</td>\n",
       "    </tr>\n",
       "    <tr>\n",
       "      <td>4</td>\n",
       "      <td>Edelrid</td>\n",
       "      <td>Moe</td>\n",
       "      <td>49.9</td>\n",
       "      <td>19</td>\n",
       "      <td>NaN</td>\n",
       "    </tr>\n",
       "    <tr>\n",
       "      <td>5</td>\n",
       "      <td>Edelrid</td>\n",
       "      <td>Orion</td>\n",
       "      <td>99.9</td>\n",
       "      <td>4</td>\n",
       "      <td>NaN</td>\n",
       "    </tr>\n",
       "    <tr>\n",
       "      <td>6</td>\n",
       "      <td>Edelrid</td>\n",
       "      <td>Leaf</td>\n",
       "      <td>65.0</td>\n",
       "      <td>21</td>\n",
       "      <td>NaN</td>\n",
       "    </tr>\n",
       "    <tr>\n",
       "      <td>7</td>\n",
       "      <td>Black Diamond</td>\n",
       "      <td>Xenes</td>\n",
       "      <td>119.9</td>\n",
       "      <td>3</td>\n",
       "      <td>NaN</td>\n",
       "    </tr>\n",
       "    <tr>\n",
       "      <td>8</td>\n",
       "      <td>Black Diamond</td>\n",
       "      <td>Chaos</td>\n",
       "      <td>99.9</td>\n",
       "      <td>28</td>\n",
       "      <td>NaN</td>\n",
       "    </tr>\n",
       "    <tr>\n",
       "      <td>9</td>\n",
       "      <td>Mammut</td>\n",
       "      <td>Ophir</td>\n",
       "      <td>55.0</td>\n",
       "      <td>21</td>\n",
       "      <td>NaN</td>\n",
       "    </tr>\n",
       "  </tbody>\n",
       "</table>\n",
       "</div>"
      ],
      "text/plain": [
       "           marca      modelo  precio  ventas  total\n",
       "0           Camp      Energy    39.9      41    NaN\n",
       "1           Camp      Jasper    56.0      17    NaN\n",
       "2          Petzl       Simba    45.0      23    NaN\n",
       "3          Petzl  Adjama New    75.0      23    NaN\n",
       "4        Edelrid         Moe    49.9      19    NaN\n",
       "5        Edelrid       Orion    99.9       4    NaN\n",
       "6        Edelrid        Leaf    65.0      21    NaN\n",
       "7  Black Diamond       Xenes   119.9       3    NaN\n",
       "8  Black Diamond       Chaos    99.9      28    NaN\n",
       "9         Mammut       Ophir    55.0      21    NaN"
      ]
     },
     "execution_count": 124,
     "metadata": {},
     "output_type": "execute_result"
    }
   ],
   "source": [
    "venta = np.random.randint(0,50,10)\n",
    "new_tienda.ventas = venta\n",
    "new_tienda"
   ]
  },
  {
   "cell_type": "markdown",
   "metadata": {},
   "source": [
    "<font color=\"#279D9F\">2. </font> Añade en la columna 'Total' el producto del precio de cada arnés por el número de unidades vendidas ('Ventas')."
   ]
  },
  {
   "cell_type": "code",
   "execution_count": 125,
   "metadata": {},
   "outputs": [
    {
     "data": {
      "text/html": [
       "<div>\n",
       "<style scoped>\n",
       "    .dataframe tbody tr th:only-of-type {\n",
       "        vertical-align: middle;\n",
       "    }\n",
       "\n",
       "    .dataframe tbody tr th {\n",
       "        vertical-align: top;\n",
       "    }\n",
       "\n",
       "    .dataframe thead th {\n",
       "        text-align: right;\n",
       "    }\n",
       "</style>\n",
       "<table border=\"1\" class=\"dataframe\">\n",
       "  <thead>\n",
       "    <tr style=\"text-align: right;\">\n",
       "      <th></th>\n",
       "      <th>marca</th>\n",
       "      <th>modelo</th>\n",
       "      <th>precio</th>\n",
       "      <th>ventas</th>\n",
       "      <th>total</th>\n",
       "    </tr>\n",
       "  </thead>\n",
       "  <tbody>\n",
       "    <tr>\n",
       "      <td>0</td>\n",
       "      <td>Camp</td>\n",
       "      <td>Energy</td>\n",
       "      <td>39.9</td>\n",
       "      <td>41</td>\n",
       "      <td>1635.9</td>\n",
       "    </tr>\n",
       "    <tr>\n",
       "      <td>1</td>\n",
       "      <td>Camp</td>\n",
       "      <td>Jasper</td>\n",
       "      <td>56.0</td>\n",
       "      <td>17</td>\n",
       "      <td>952.0</td>\n",
       "    </tr>\n",
       "    <tr>\n",
       "      <td>2</td>\n",
       "      <td>Petzl</td>\n",
       "      <td>Simba</td>\n",
       "      <td>45.0</td>\n",
       "      <td>23</td>\n",
       "      <td>1035.0</td>\n",
       "    </tr>\n",
       "    <tr>\n",
       "      <td>3</td>\n",
       "      <td>Petzl</td>\n",
       "      <td>Adjama New</td>\n",
       "      <td>75.0</td>\n",
       "      <td>23</td>\n",
       "      <td>1725.0</td>\n",
       "    </tr>\n",
       "    <tr>\n",
       "      <td>4</td>\n",
       "      <td>Edelrid</td>\n",
       "      <td>Moe</td>\n",
       "      <td>49.9</td>\n",
       "      <td>19</td>\n",
       "      <td>948.1</td>\n",
       "    </tr>\n",
       "    <tr>\n",
       "      <td>5</td>\n",
       "      <td>Edelrid</td>\n",
       "      <td>Orion</td>\n",
       "      <td>99.9</td>\n",
       "      <td>4</td>\n",
       "      <td>399.6</td>\n",
       "    </tr>\n",
       "    <tr>\n",
       "      <td>6</td>\n",
       "      <td>Edelrid</td>\n",
       "      <td>Leaf</td>\n",
       "      <td>65.0</td>\n",
       "      <td>21</td>\n",
       "      <td>1365.0</td>\n",
       "    </tr>\n",
       "    <tr>\n",
       "      <td>7</td>\n",
       "      <td>Black Diamond</td>\n",
       "      <td>Xenes</td>\n",
       "      <td>119.9</td>\n",
       "      <td>3</td>\n",
       "      <td>359.7</td>\n",
       "    </tr>\n",
       "    <tr>\n",
       "      <td>8</td>\n",
       "      <td>Black Diamond</td>\n",
       "      <td>Chaos</td>\n",
       "      <td>99.9</td>\n",
       "      <td>28</td>\n",
       "      <td>2797.2</td>\n",
       "    </tr>\n",
       "    <tr>\n",
       "      <td>9</td>\n",
       "      <td>Mammut</td>\n",
       "      <td>Ophir</td>\n",
       "      <td>55.0</td>\n",
       "      <td>21</td>\n",
       "      <td>1155.0</td>\n",
       "    </tr>\n",
       "  </tbody>\n",
       "</table>\n",
       "</div>"
      ],
      "text/plain": [
       "           marca      modelo  precio  ventas   total\n",
       "0           Camp      Energy    39.9      41  1635.9\n",
       "1           Camp      Jasper    56.0      17   952.0\n",
       "2          Petzl       Simba    45.0      23  1035.0\n",
       "3          Petzl  Adjama New    75.0      23  1725.0\n",
       "4        Edelrid         Moe    49.9      19   948.1\n",
       "5        Edelrid       Orion    99.9       4   399.6\n",
       "6        Edelrid        Leaf    65.0      21  1365.0\n",
       "7  Black Diamond       Xenes   119.9       3   359.7\n",
       "8  Black Diamond       Chaos    99.9      28  2797.2\n",
       "9         Mammut       Ophir    55.0      21  1155.0"
      ]
     },
     "execution_count": 125,
     "metadata": {},
     "output_type": "execute_result"
    }
   ],
   "source": [
    "new_tienda.total = new_tienda.ventas * new_tienda.precio\n",
    "new_tienda"
   ]
  },
  {
   "cell_type": "markdown",
   "metadata": {},
   "source": [
    "## Ordenación"
   ]
  },
  {
   "cell_type": "code",
   "execution_count": 126,
   "metadata": {},
   "outputs": [
    {
     "data": {
      "text/html": [
       "<div>\n",
       "<style scoped>\n",
       "    .dataframe tbody tr th:only-of-type {\n",
       "        vertical-align: middle;\n",
       "    }\n",
       "\n",
       "    .dataframe tbody tr th {\n",
       "        vertical-align: top;\n",
       "    }\n",
       "\n",
       "    .dataframe thead th {\n",
       "        text-align: right;\n",
       "    }\n",
       "</style>\n",
       "<table border=\"1\" class=\"dataframe\">\n",
       "  <thead>\n",
       "    <tr style=\"text-align: right;\">\n",
       "      <th></th>\n",
       "      <th>var_1</th>\n",
       "      <th>var_2</th>\n",
       "      <th>var_4</th>\n",
       "      <th>var_3</th>\n",
       "    </tr>\n",
       "  </thead>\n",
       "  <tbody>\n",
       "    <tr>\n",
       "      <td>0</td>\n",
       "      <td>3</td>\n",
       "      <td>0</td>\n",
       "      <td>1</td>\n",
       "      <td>1</td>\n",
       "    </tr>\n",
       "    <tr>\n",
       "      <td>1</td>\n",
       "      <td>4</td>\n",
       "      <td>3</td>\n",
       "      <td>1</td>\n",
       "      <td>3</td>\n",
       "    </tr>\n",
       "    <tr>\n",
       "      <td>3</td>\n",
       "      <td>1</td>\n",
       "      <td>0</td>\n",
       "      <td>1</td>\n",
       "      <td>3</td>\n",
       "    </tr>\n",
       "    <tr>\n",
       "      <td>4</td>\n",
       "      <td>0</td>\n",
       "      <td>2</td>\n",
       "      <td>4</td>\n",
       "      <td>3</td>\n",
       "    </tr>\n",
       "    <tr>\n",
       "      <td>2</td>\n",
       "      <td>3</td>\n",
       "      <td>4</td>\n",
       "      <td>0</td>\n",
       "      <td>4</td>\n",
       "    </tr>\n",
       "  </tbody>\n",
       "</table>\n",
       "</div>"
      ],
      "text/plain": [
       "   var_1  var_2  var_4  var_3\n",
       "0      3      0      1      1\n",
       "1      4      3      1      3\n",
       "3      1      0      1      3\n",
       "4      0      2      4      3\n",
       "2      3      4      0      4"
      ]
     },
     "execution_count": 126,
     "metadata": {},
     "output_type": "execute_result"
    }
   ],
   "source": [
    "# Creamos DataFrame con números enteros al azar:\n",
    "df = DataFrame(np.random.randint(0, 5, (5, 4)), \n",
    "               columns = np.random.permutation(['var_1', 'var_2', 'var_3', 'var_4']), \n",
    "               index = np.random.permutation(5))\n",
    "df"
   ]
  },
  {
   "cell_type": "code",
   "execution_count": 127,
   "metadata": {},
   "outputs": [
    {
     "data": {
      "text/html": [
       "<div>\n",
       "<style scoped>\n",
       "    .dataframe tbody tr th:only-of-type {\n",
       "        vertical-align: middle;\n",
       "    }\n",
       "\n",
       "    .dataframe tbody tr th {\n",
       "        vertical-align: top;\n",
       "    }\n",
       "\n",
       "    .dataframe thead th {\n",
       "        text-align: right;\n",
       "    }\n",
       "</style>\n",
       "<table border=\"1\" class=\"dataframe\">\n",
       "  <thead>\n",
       "    <tr style=\"text-align: right;\">\n",
       "      <th></th>\n",
       "      <th>var_1</th>\n",
       "      <th>var_2</th>\n",
       "      <th>var_4</th>\n",
       "      <th>var_3</th>\n",
       "    </tr>\n",
       "  </thead>\n",
       "  <tbody>\n",
       "    <tr>\n",
       "      <td>0</td>\n",
       "      <td>3</td>\n",
       "      <td>0</td>\n",
       "      <td>1</td>\n",
       "      <td>1</td>\n",
       "    </tr>\n",
       "    <tr>\n",
       "      <td>1</td>\n",
       "      <td>4</td>\n",
       "      <td>3</td>\n",
       "      <td>1</td>\n",
       "      <td>3</td>\n",
       "    </tr>\n",
       "    <tr>\n",
       "      <td>2</td>\n",
       "      <td>3</td>\n",
       "      <td>4</td>\n",
       "      <td>0</td>\n",
       "      <td>4</td>\n",
       "    </tr>\n",
       "    <tr>\n",
       "      <td>3</td>\n",
       "      <td>1</td>\n",
       "      <td>0</td>\n",
       "      <td>1</td>\n",
       "      <td>3</td>\n",
       "    </tr>\n",
       "    <tr>\n",
       "      <td>4</td>\n",
       "      <td>0</td>\n",
       "      <td>2</td>\n",
       "      <td>4</td>\n",
       "      <td>3</td>\n",
       "    </tr>\n",
       "  </tbody>\n",
       "</table>\n",
       "</div>"
      ],
      "text/plain": [
       "   var_1  var_2  var_4  var_3\n",
       "0      3      0      1      1\n",
       "1      4      3      1      3\n",
       "2      3      4      0      4\n",
       "3      1      0      1      3\n",
       "4      0      2      4      3"
      ]
     },
     "execution_count": 127,
     "metadata": {},
     "output_type": "execute_result"
    }
   ],
   "source": [
    "# Ordenamos las filas según su índice:\n",
    "df.sort_index()"
   ]
  },
  {
   "cell_type": "code",
   "execution_count": null,
   "metadata": {},
   "outputs": [],
   "source": [
    "# Ordenamos las columnas según su indice:\n",
    "df.sort_index(axis = 1)"
   ]
  },
  {
   "cell_type": "code",
   "execution_count": null,
   "metadata": {},
   "outputs": [],
   "source": [
    "# Ordenamos las filas según el valor de la columna var_1:\n",
    "df.sort_values(by = 'var_1')"
   ]
  },
  {
   "cell_type": "code",
   "execution_count": null,
   "metadata": {},
   "outputs": [],
   "source": [
    "# Ordenamos las filas según el valor de la columna var_1, \n",
    "# y en caso de empate según el valor de la columna var_2:\n",
    "df.sort_values(by = ['var_1', 'var_2'])"
   ]
  },
  {
   "cell_type": "markdown",
   "metadata": {},
   "source": [
    "### Ejercicio: Ordenación"
   ]
  },
  {
   "cell_type": "markdown",
   "metadata": {},
   "source": [
    "<font color=\"#279D9F\">1. </font> Muestra el DataFrame **tienda** del ejercicio anterior con los datos ordenados por precio."
   ]
  },
  {
   "cell_type": "code",
   "execution_count": null,
   "metadata": {},
   "outputs": [],
   "source": [
    "new_tienda.sort_values(by='precio')"
   ]
  },
  {
   "cell_type": "markdown",
   "metadata": {},
   "source": [
    "<font color=\"#279D9F\">2. </font> Muestra el DataFrame **tienda** del ejercicio anterior con los datos ordenados por venta."
   ]
  },
  {
   "cell_type": "code",
   "execution_count": null,
   "metadata": {},
   "outputs": [],
   "source": [
    "new_tienda.sort_values(by='ventas')"
   ]
  },
  {
   "cell_type": "markdown",
   "metadata": {},
   "source": [
    "<font color=\"#279D9F\">3. </font> Muestra el DataFrame **tienda** del ejercicio anterior con las columnas ordenadas según su índice."
   ]
  },
  {
   "cell_type": "code",
   "execution_count": null,
   "metadata": {},
   "outputs": [],
   "source": [
    "new_tienda.sort_index()"
   ]
  },
  {
   "cell_type": "markdown",
   "metadata": {},
   "source": [
    "# Otras operaciones con *DataFrames*\n",
    "\n",
    "## Aplicación de funciones a un *DataFrame*"
   ]
  },
  {
   "cell_type": "markdown",
   "metadata": {},
   "source": [
    "### applymap"
   ]
  },
  {
   "cell_type": "code",
   "execution_count": 141,
   "metadata": {},
   "outputs": [
    {
     "data": {
      "text/html": [
       "<div>\n",
       "<style scoped>\n",
       "    .dataframe tbody tr th:only-of-type {\n",
       "        vertical-align: middle;\n",
       "    }\n",
       "\n",
       "    .dataframe tbody tr th {\n",
       "        vertical-align: top;\n",
       "    }\n",
       "\n",
       "    .dataframe thead th {\n",
       "        text-align: right;\n",
       "    }\n",
       "</style>\n",
       "<table border=\"1\" class=\"dataframe\">\n",
       "  <thead>\n",
       "    <tr style=\"text-align: right;\">\n",
       "      <th></th>\n",
       "      <th>var_1</th>\n",
       "      <th>var_2</th>\n",
       "      <th>var_3</th>\n",
       "      <th>var_4</th>\n",
       "    </tr>\n",
       "  </thead>\n",
       "  <tbody>\n",
       "    <tr>\n",
       "      <td>0</td>\n",
       "      <td>-1.015388</td>\n",
       "      <td>-0.013858</td>\n",
       "      <td>2.254462</td>\n",
       "      <td>0.067891</td>\n",
       "    </tr>\n",
       "    <tr>\n",
       "      <td>1</td>\n",
       "      <td>-0.446633</td>\n",
       "      <td>-0.383664</td>\n",
       "      <td>2.119360</td>\n",
       "      <td>0.190841</td>\n",
       "    </tr>\n",
       "    <tr>\n",
       "      <td>2</td>\n",
       "      <td>0.574296</td>\n",
       "      <td>0.312354</td>\n",
       "      <td>0.682973</td>\n",
       "      <td>-1.498091</td>\n",
       "    </tr>\n",
       "    <tr>\n",
       "      <td>3</td>\n",
       "      <td>-0.483051</td>\n",
       "      <td>-1.871814</td>\n",
       "      <td>0.031925</td>\n",
       "      <td>-0.169111</td>\n",
       "    </tr>\n",
       "    <tr>\n",
       "      <td>4</td>\n",
       "      <td>0.232698</td>\n",
       "      <td>0.153860</td>\n",
       "      <td>-0.752618</td>\n",
       "      <td>0.762931</td>\n",
       "    </tr>\n",
       "  </tbody>\n",
       "</table>\n",
       "</div>"
      ],
      "text/plain": [
       "      var_1     var_2     var_3     var_4\n",
       "0 -1.015388 -0.013858  2.254462  0.067891\n",
       "1 -0.446633 -0.383664  2.119360  0.190841\n",
       "2  0.574296  0.312354  0.682973 -1.498091\n",
       "3 -0.483051 -1.871814  0.031925 -0.169111\n",
       "4  0.232698  0.153860 -0.752618  0.762931"
      ]
     },
     "execution_count": 141,
     "metadata": {},
     "output_type": "execute_result"
    }
   ],
   "source": [
    "# Creamos un DataFrame con números aleatorios:\n",
    "df = DataFrame(np.random.randn(5, 4), \n",
    "               columns = ['var_1', 'var_2', 'var_3', 'var_4'])\n",
    "df"
   ]
  },
  {
   "cell_type": "code",
   "execution_count": null,
   "metadata": {},
   "outputs": [],
   "source": [
    "# Aplicamos la función np.abs a los datos usando applymap:\n",
    "df.applymap(np.abs)"
   ]
  },
  {
   "cell_type": "code",
   "execution_count": null,
   "metadata": {},
   "outputs": [],
   "source": [
    "# Aplicamos la función np.abs a los datos directamente:\n",
    "np.abs(df)"
   ]
  },
  {
   "cell_type": "code",
   "execution_count": null,
   "metadata": {},
   "outputs": [],
   "source": [
    "# Mi propia función abs:\n",
    "my_abs = lambda x: x if x > 0 else -x"
   ]
  },
  {
   "cell_type": "code",
   "execution_count": null,
   "metadata": {},
   "outputs": [],
   "source": [
    "# Y la aplico a los datos:\n",
    "df.applymap(my_abs)"
   ]
  },
  {
   "cell_type": "code",
   "execution_count": 142,
   "metadata": {},
   "outputs": [],
   "source": [
    "# Defino una función para formatear los datos:\n",
    "format = lambda x: '%5.2f' % x"
   ]
  },
  {
   "cell_type": "code",
   "execution_count": 143,
   "metadata": {},
   "outputs": [
    {
     "data": {
      "text/html": [
       "<div>\n",
       "<style scoped>\n",
       "    .dataframe tbody tr th:only-of-type {\n",
       "        vertical-align: middle;\n",
       "    }\n",
       "\n",
       "    .dataframe tbody tr th {\n",
       "        vertical-align: top;\n",
       "    }\n",
       "\n",
       "    .dataframe thead th {\n",
       "        text-align: right;\n",
       "    }\n",
       "</style>\n",
       "<table border=\"1\" class=\"dataframe\">\n",
       "  <thead>\n",
       "    <tr style=\"text-align: right;\">\n",
       "      <th></th>\n",
       "      <th>var_1</th>\n",
       "      <th>var_2</th>\n",
       "      <th>var_3</th>\n",
       "      <th>var_4</th>\n",
       "    </tr>\n",
       "  </thead>\n",
       "  <tbody>\n",
       "    <tr>\n",
       "      <td>0</td>\n",
       "      <td>-1.02</td>\n",
       "      <td>-0.01</td>\n",
       "      <td>2.25</td>\n",
       "      <td>0.07</td>\n",
       "    </tr>\n",
       "    <tr>\n",
       "      <td>1</td>\n",
       "      <td>-0.45</td>\n",
       "      <td>-0.38</td>\n",
       "      <td>2.12</td>\n",
       "      <td>0.19</td>\n",
       "    </tr>\n",
       "    <tr>\n",
       "      <td>2</td>\n",
       "      <td>0.57</td>\n",
       "      <td>0.31</td>\n",
       "      <td>0.68</td>\n",
       "      <td>-1.50</td>\n",
       "    </tr>\n",
       "    <tr>\n",
       "      <td>3</td>\n",
       "      <td>-0.48</td>\n",
       "      <td>-1.87</td>\n",
       "      <td>0.03</td>\n",
       "      <td>-0.17</td>\n",
       "    </tr>\n",
       "    <tr>\n",
       "      <td>4</td>\n",
       "      <td>0.23</td>\n",
       "      <td>0.15</td>\n",
       "      <td>-0.75</td>\n",
       "      <td>0.76</td>\n",
       "    </tr>\n",
       "  </tbody>\n",
       "</table>\n",
       "</div>"
      ],
      "text/plain": [
       "   var_1  var_2  var_3  var_4\n",
       "0  -1.02  -0.01   2.25   0.07\n",
       "1  -0.45  -0.38   2.12   0.19\n",
       "2   0.57   0.31   0.68  -1.50\n",
       "3  -0.48  -1.87   0.03  -0.17\n",
       "4   0.23   0.15  -0.75   0.76"
      ]
     },
     "execution_count": 143,
     "metadata": {},
     "output_type": "execute_result"
    }
   ],
   "source": [
    "# Y la aplico a los datos:\n",
    "df.applymap(format)"
   ]
  },
  {
   "cell_type": "markdown",
   "metadata": {},
   "source": [
    "### apply"
   ]
  },
  {
   "cell_type": "code",
   "execution_count": null,
   "metadata": {},
   "outputs": [],
   "source": [
    "# Calculamos la media de cada columna con el método apply:\n",
    "df.apply(np.mean)"
   ]
  },
  {
   "cell_type": "code",
   "execution_count": null,
   "metadata": {},
   "outputs": [],
   "source": [
    "# Defino mi propia función para calcular la media:\n",
    "my_mean = lambda x: np.mean(x)"
   ]
  },
  {
   "cell_type": "code",
   "execution_count": null,
   "metadata": {},
   "outputs": [],
   "source": [
    "# Y la aplico a cada columna con el método apply:\n",
    "df.apply(my_mean)"
   ]
  },
  {
   "cell_type": "code",
   "execution_count": null,
   "metadata": {},
   "outputs": [],
   "source": [
    "# Defino función para calcular estadísticas:\n",
    "my_stats = lambda x: Series([np.mean(x), np.std(x), np.min(x), np.max(x)], \n",
    "                            index = ['mean', 'std', 'min', 'max'])"
   ]
  },
  {
   "cell_type": "code",
   "execution_count": null,
   "metadata": {},
   "outputs": [],
   "source": [
    "# Y la aplico a cada columna con el método apply:\n",
    "df.apply(my_stats)"
   ]
  },
  {
   "cell_type": "markdown",
   "metadata": {},
   "source": [
    "### Ejercicio: Aplicación de funciones a un DataFrame"
   ]
  },
  {
   "cell_type": "markdown",
   "metadata": {},
   "source": [
    "<font color=\"#279D9F\">1. </font> Crea una copia del DataFrame **tienda**."
   ]
  },
  {
   "cell_type": "code",
   "execution_count": 128,
   "metadata": {},
   "outputs": [
    {
     "data": {
      "text/html": [
       "<div>\n",
       "<style scoped>\n",
       "    .dataframe tbody tr th:only-of-type {\n",
       "        vertical-align: middle;\n",
       "    }\n",
       "\n",
       "    .dataframe tbody tr th {\n",
       "        vertical-align: top;\n",
       "    }\n",
       "\n",
       "    .dataframe thead th {\n",
       "        text-align: right;\n",
       "    }\n",
       "</style>\n",
       "<table border=\"1\" class=\"dataframe\">\n",
       "  <thead>\n",
       "    <tr style=\"text-align: right;\">\n",
       "      <th></th>\n",
       "      <th>marca</th>\n",
       "      <th>modelo</th>\n",
       "      <th>precio</th>\n",
       "      <th>ventas</th>\n",
       "      <th>total</th>\n",
       "    </tr>\n",
       "  </thead>\n",
       "  <tbody>\n",
       "    <tr>\n",
       "      <td>0</td>\n",
       "      <td>Camp</td>\n",
       "      <td>Energy</td>\n",
       "      <td>39.9</td>\n",
       "      <td>41</td>\n",
       "      <td>1635.9</td>\n",
       "    </tr>\n",
       "    <tr>\n",
       "      <td>1</td>\n",
       "      <td>Camp</td>\n",
       "      <td>Jasper</td>\n",
       "      <td>56.0</td>\n",
       "      <td>17</td>\n",
       "      <td>952.0</td>\n",
       "    </tr>\n",
       "    <tr>\n",
       "      <td>2</td>\n",
       "      <td>Petzl</td>\n",
       "      <td>Simba</td>\n",
       "      <td>45.0</td>\n",
       "      <td>23</td>\n",
       "      <td>1035.0</td>\n",
       "    </tr>\n",
       "    <tr>\n",
       "      <td>3</td>\n",
       "      <td>Petzl</td>\n",
       "      <td>Adjama New</td>\n",
       "      <td>75.0</td>\n",
       "      <td>23</td>\n",
       "      <td>1725.0</td>\n",
       "    </tr>\n",
       "    <tr>\n",
       "      <td>4</td>\n",
       "      <td>Edelrid</td>\n",
       "      <td>Moe</td>\n",
       "      <td>49.9</td>\n",
       "      <td>19</td>\n",
       "      <td>948.1</td>\n",
       "    </tr>\n",
       "    <tr>\n",
       "      <td>5</td>\n",
       "      <td>Edelrid</td>\n",
       "      <td>Orion</td>\n",
       "      <td>99.9</td>\n",
       "      <td>4</td>\n",
       "      <td>399.6</td>\n",
       "    </tr>\n",
       "    <tr>\n",
       "      <td>6</td>\n",
       "      <td>Edelrid</td>\n",
       "      <td>Leaf</td>\n",
       "      <td>65.0</td>\n",
       "      <td>21</td>\n",
       "      <td>1365.0</td>\n",
       "    </tr>\n",
       "    <tr>\n",
       "      <td>7</td>\n",
       "      <td>Black Diamond</td>\n",
       "      <td>Xenes</td>\n",
       "      <td>119.9</td>\n",
       "      <td>3</td>\n",
       "      <td>359.7</td>\n",
       "    </tr>\n",
       "    <tr>\n",
       "      <td>8</td>\n",
       "      <td>Black Diamond</td>\n",
       "      <td>Chaos</td>\n",
       "      <td>99.9</td>\n",
       "      <td>28</td>\n",
       "      <td>2797.2</td>\n",
       "    </tr>\n",
       "    <tr>\n",
       "      <td>9</td>\n",
       "      <td>Mammut</td>\n",
       "      <td>Ophir</td>\n",
       "      <td>55.0</td>\n",
       "      <td>21</td>\n",
       "      <td>1155.0</td>\n",
       "    </tr>\n",
       "  </tbody>\n",
       "</table>\n",
       "</div>"
      ],
      "text/plain": [
       "           marca      modelo  precio  ventas   total\n",
       "0           Camp      Energy    39.9      41  1635.9\n",
       "1           Camp      Jasper    56.0      17   952.0\n",
       "2          Petzl       Simba    45.0      23  1035.0\n",
       "3          Petzl  Adjama New    75.0      23  1725.0\n",
       "4        Edelrid         Moe    49.9      19   948.1\n",
       "5        Edelrid       Orion    99.9       4   399.6\n",
       "6        Edelrid        Leaf    65.0      21  1365.0\n",
       "7  Black Diamond       Xenes   119.9       3   359.7\n",
       "8  Black Diamond       Chaos    99.9      28  2797.2\n",
       "9         Mammut       Ophir    55.0      21  1155.0"
      ]
     },
     "execution_count": 128,
     "metadata": {},
     "output_type": "execute_result"
    }
   ],
   "source": [
    "tienda_copia = new_tienda.copy()"
   ]
  },
  {
   "cell_type": "markdown",
   "metadata": {},
   "source": [
    "<font color=\"#279D9F\">2. </font> Crea una función que formatee números para que se muestren con dos decimales y después del número salga el símbolo euro ('€').\n",
    "Sobre la copia de tienda, aplica la función anterior para cambiar el formato de las celdas 'Precio' y 'Total'."
   ]
  },
  {
   "cell_type": "code",
   "execution_count": 148,
   "metadata": {},
   "outputs": [
    {
     "data": {
      "text/html": [
       "<div>\n",
       "<style scoped>\n",
       "    .dataframe tbody tr th:only-of-type {\n",
       "        vertical-align: middle;\n",
       "    }\n",
       "\n",
       "    .dataframe tbody tr th {\n",
       "        vertical-align: top;\n",
       "    }\n",
       "\n",
       "    .dataframe thead th {\n",
       "        text-align: right;\n",
       "    }\n",
       "</style>\n",
       "<table border=\"1\" class=\"dataframe\">\n",
       "  <thead>\n",
       "    <tr style=\"text-align: right;\">\n",
       "      <th></th>\n",
       "      <th>precio</th>\n",
       "      <th>total</th>\n",
       "    </tr>\n",
       "  </thead>\n",
       "  <tbody>\n",
       "    <tr>\n",
       "      <td>0</td>\n",
       "      <td>39.90 $</td>\n",
       "      <td>1635.90 $</td>\n",
       "    </tr>\n",
       "    <tr>\n",
       "      <td>1</td>\n",
       "      <td>56.00 $</td>\n",
       "      <td>952.00 $</td>\n",
       "    </tr>\n",
       "    <tr>\n",
       "      <td>2</td>\n",
       "      <td>45.00 $</td>\n",
       "      <td>1035.00 $</td>\n",
       "    </tr>\n",
       "    <tr>\n",
       "      <td>3</td>\n",
       "      <td>75.00 $</td>\n",
       "      <td>1725.00 $</td>\n",
       "    </tr>\n",
       "    <tr>\n",
       "      <td>4</td>\n",
       "      <td>49.90 $</td>\n",
       "      <td>948.10 $</td>\n",
       "    </tr>\n",
       "    <tr>\n",
       "      <td>5</td>\n",
       "      <td>99.90 $</td>\n",
       "      <td>399.60 $</td>\n",
       "    </tr>\n",
       "    <tr>\n",
       "      <td>6</td>\n",
       "      <td>65.00 $</td>\n",
       "      <td>1365.00 $</td>\n",
       "    </tr>\n",
       "    <tr>\n",
       "      <td>7</td>\n",
       "      <td>119.90 $</td>\n",
       "      <td>359.70 $</td>\n",
       "    </tr>\n",
       "    <tr>\n",
       "      <td>8</td>\n",
       "      <td>99.90 $</td>\n",
       "      <td>2797.20 $</td>\n",
       "    </tr>\n",
       "    <tr>\n",
       "      <td>9</td>\n",
       "      <td>55.00 $</td>\n",
       "      <td>1155.00 $</td>\n",
       "    </tr>\n",
       "  </tbody>\n",
       "</table>\n",
       "</div>"
      ],
      "text/plain": [
       "     precio      total\n",
       "0   39.90 $  1635.90 $\n",
       "1   56.00 $   952.00 $\n",
       "2   45.00 $  1035.00 $\n",
       "3   75.00 $  1725.00 $\n",
       "4   49.90 $   948.10 $\n",
       "5   99.90 $   399.60 $\n",
       "6   65.00 $  1365.00 $\n",
       "7  119.90 $   359.70 $\n",
       "8   99.90 $  2797.20 $\n",
       "9   55.00 $  1155.00 $"
      ]
     },
     "execution_count": 148,
     "metadata": {},
     "output_type": "execute_result"
    }
   ],
   "source": [
    "format = lambda x: '%5.2f $' % x\n",
    "tienda_copia[['precio','total']].applymap(format)"
   ]
  },
  {
   "cell_type": "markdown",
   "metadata": {},
   "source": [
    "<font color=\"#279D9F\">3. </font> Sobre el DataFrame tienda, calcula las ventas y las ganancias totales."
   ]
  },
  {
   "cell_type": "code",
   "execution_count": 153,
   "metadata": {},
   "outputs": [
    {
     "name": "stdout",
     "output_type": "stream",
     "text": [
      "           marca      modelo  precio  ventas   total\n",
      "0           Camp      Energy    39.9      41  1635.9\n",
      "1           Camp      Jasper    56.0      17   952.0\n",
      "2          Petzl       Simba    45.0      23  1035.0\n",
      "3          Petzl  Adjama New    75.0      23  1725.0\n",
      "4        Edelrid         Moe    49.9      19   948.1\n",
      "5        Edelrid       Orion    99.9       4   399.6\n",
      "6        Edelrid        Leaf    65.0      21  1365.0\n",
      "7  Black Diamond       Xenes   119.9       3   359.7\n",
      "8  Black Diamond       Chaos    99.9      28  2797.2\n",
      "9         Mammut       Ophir    55.0      21  1155.0\n"
     ]
    },
    {
     "data": {
      "text/plain": [
       "ventas      200.0\n",
       "total     12372.5\n",
       "dtype: float64"
      ]
     },
     "execution_count": 153,
     "metadata": {},
     "output_type": "execute_result"
    }
   ],
   "source": [
    "funcion = lambda x: sum(x)\n",
    "print(new_tienda)\n",
    "new_tienda[['ventas','total']].apply(funcion)"
   ]
  },
  {
   "cell_type": "markdown",
   "metadata": {},
   "source": [
    "<font color=\"#279D9F\">4. </font> Calcula las ventas y las ganancias totales para cada marca."
   ]
  },
  {
   "cell_type": "code",
   "execution_count": 156,
   "metadata": {},
   "outputs": [
    {
     "data": {
      "text/html": [
       "<div>\n",
       "<style scoped>\n",
       "    .dataframe tbody tr th:only-of-type {\n",
       "        vertical-align: middle;\n",
       "    }\n",
       "\n",
       "    .dataframe tbody tr th {\n",
       "        vertical-align: top;\n",
       "    }\n",
       "\n",
       "    .dataframe thead th {\n",
       "        text-align: right;\n",
       "    }\n",
       "</style>\n",
       "<table border=\"1\" class=\"dataframe\">\n",
       "  <thead>\n",
       "    <tr style=\"text-align: right;\">\n",
       "      <th></th>\n",
       "      <th>ventas</th>\n",
       "      <th>total</th>\n",
       "    </tr>\n",
       "    <tr>\n",
       "      <th>marca</th>\n",
       "      <th></th>\n",
       "      <th></th>\n",
       "    </tr>\n",
       "  </thead>\n",
       "  <tbody>\n",
       "    <tr>\n",
       "      <td>Black Diamond</td>\n",
       "      <td>31</td>\n",
       "      <td>3156.9</td>\n",
       "    </tr>\n",
       "    <tr>\n",
       "      <td>Camp</td>\n",
       "      <td>58</td>\n",
       "      <td>2587.9</td>\n",
       "    </tr>\n",
       "    <tr>\n",
       "      <td>Edelrid</td>\n",
       "      <td>44</td>\n",
       "      <td>2712.7</td>\n",
       "    </tr>\n",
       "    <tr>\n",
       "      <td>Mammut</td>\n",
       "      <td>21</td>\n",
       "      <td>1155.0</td>\n",
       "    </tr>\n",
       "    <tr>\n",
       "      <td>Petzl</td>\n",
       "      <td>46</td>\n",
       "      <td>2760.0</td>\n",
       "    </tr>\n",
       "  </tbody>\n",
       "</table>\n",
       "</div>"
      ],
      "text/plain": [
       "               ventas   total\n",
       "marca                        \n",
       "Black Diamond      31  3156.9\n",
       "Camp               58  2587.9\n",
       "Edelrid            44  2712.7\n",
       "Mammut             21  1155.0\n",
       "Petzl              46  2760.0"
      ]
     },
     "execution_count": 156,
     "metadata": {},
     "output_type": "execute_result"
    }
   ],
   "source": [
    "new_tienda[['ventas','total']].groupby(new_tienda['marca']).sum()"
   ]
  },
  {
   "cell_type": "markdown",
   "metadata": {},
   "source": [
    "## Cálculo de estadísticas descriptivas sobre los datos\n",
    "\n",
    "Puedes consultar una lista completa en <a href=\"http://pandas.pydata.org/pandas-docs/version/0.18.1/api.html#api-dataframe-stats\">este enlace</a>."
   ]
  },
  {
   "cell_type": "code",
   "execution_count": 157,
   "metadata": {},
   "outputs": [
    {
     "data": {
      "text/html": [
       "<div>\n",
       "<style scoped>\n",
       "    .dataframe tbody tr th:only-of-type {\n",
       "        vertical-align: middle;\n",
       "    }\n",
       "\n",
       "    .dataframe tbody tr th {\n",
       "        vertical-align: top;\n",
       "    }\n",
       "\n",
       "    .dataframe thead th {\n",
       "        text-align: right;\n",
       "    }\n",
       "</style>\n",
       "<table border=\"1\" class=\"dataframe\">\n",
       "  <thead>\n",
       "    <tr style=\"text-align: right;\">\n",
       "      <th></th>\n",
       "      <th>var_1</th>\n",
       "      <th>var_2</th>\n",
       "      <th>var_3</th>\n",
       "      <th>var_4</th>\n",
       "    </tr>\n",
       "  </thead>\n",
       "  <tbody>\n",
       "    <tr>\n",
       "      <td>0</td>\n",
       "      <td>-1.015388</td>\n",
       "      <td>-0.013858</td>\n",
       "      <td>2.254462</td>\n",
       "      <td>0.067891</td>\n",
       "    </tr>\n",
       "    <tr>\n",
       "      <td>1</td>\n",
       "      <td>-0.446633</td>\n",
       "      <td>-0.383664</td>\n",
       "      <td>2.119360</td>\n",
       "      <td>0.190841</td>\n",
       "    </tr>\n",
       "    <tr>\n",
       "      <td>2</td>\n",
       "      <td>0.574296</td>\n",
       "      <td>0.312354</td>\n",
       "      <td>0.682973</td>\n",
       "      <td>-1.498091</td>\n",
       "    </tr>\n",
       "    <tr>\n",
       "      <td>3</td>\n",
       "      <td>-0.483051</td>\n",
       "      <td>-1.871814</td>\n",
       "      <td>0.031925</td>\n",
       "      <td>-0.169111</td>\n",
       "    </tr>\n",
       "    <tr>\n",
       "      <td>4</td>\n",
       "      <td>0.232698</td>\n",
       "      <td>0.153860</td>\n",
       "      <td>-0.752618</td>\n",
       "      <td>0.762931</td>\n",
       "    </tr>\n",
       "  </tbody>\n",
       "</table>\n",
       "</div>"
      ],
      "text/plain": [
       "      var_1     var_2     var_3     var_4\n",
       "0 -1.015388 -0.013858  2.254462  0.067891\n",
       "1 -0.446633 -0.383664  2.119360  0.190841\n",
       "2  0.574296  0.312354  0.682973 -1.498091\n",
       "3 -0.483051 -1.871814  0.031925 -0.169111\n",
       "4  0.232698  0.153860 -0.752618  0.762931"
      ]
     },
     "execution_count": 157,
     "metadata": {},
     "output_type": "execute_result"
    }
   ],
   "source": [
    "# DataFrame anterior:\n",
    "df"
   ]
  },
  {
   "cell_type": "code",
   "execution_count": 158,
   "metadata": {},
   "outputs": [
    {
     "data": {
      "text/plain": [
       "var_1   -0.227615\n",
       "var_2   -0.360624\n",
       "var_3    0.867220\n",
       "var_4   -0.129108\n",
       "dtype: float64"
      ]
     },
     "execution_count": 158,
     "metadata": {},
     "output_type": "execute_result"
    }
   ],
   "source": [
    "# Calculamos la media de cada columna:\n",
    "df.mean()"
   ]
  },
  {
   "cell_type": "code",
   "execution_count": 159,
   "metadata": {},
   "outputs": [
    {
     "data": {
      "text/html": [
       "<div>\n",
       "<style scoped>\n",
       "    .dataframe tbody tr th:only-of-type {\n",
       "        vertical-align: middle;\n",
       "    }\n",
       "\n",
       "    .dataframe tbody tr th {\n",
       "        vertical-align: top;\n",
       "    }\n",
       "\n",
       "    .dataframe thead th {\n",
       "        text-align: right;\n",
       "    }\n",
       "</style>\n",
       "<table border=\"1\" class=\"dataframe\">\n",
       "  <thead>\n",
       "    <tr style=\"text-align: right;\">\n",
       "      <th></th>\n",
       "      <th>var_1</th>\n",
       "      <th>var_2</th>\n",
       "      <th>var_3</th>\n",
       "      <th>var_4</th>\n",
       "    </tr>\n",
       "  </thead>\n",
       "  <tbody>\n",
       "    <tr>\n",
       "      <td>mean</td>\n",
       "      <td>-0.227615</td>\n",
       "      <td>-0.360624</td>\n",
       "      <td>0.867220</td>\n",
       "      <td>-0.129108</td>\n",
       "    </tr>\n",
       "    <tr>\n",
       "      <td>std</td>\n",
       "      <td>0.630229</td>\n",
       "      <td>0.883468</td>\n",
       "      <td>1.308418</td>\n",
       "      <td>0.838544</td>\n",
       "    </tr>\n",
       "    <tr>\n",
       "      <td>min</td>\n",
       "      <td>-1.015388</td>\n",
       "      <td>-1.871814</td>\n",
       "      <td>-0.752618</td>\n",
       "      <td>-1.498091</td>\n",
       "    </tr>\n",
       "    <tr>\n",
       "      <td>max</td>\n",
       "      <td>0.574296</td>\n",
       "      <td>0.312354</td>\n",
       "      <td>2.254462</td>\n",
       "      <td>0.762931</td>\n",
       "    </tr>\n",
       "  </tbody>\n",
       "</table>\n",
       "</div>"
      ],
      "text/plain": [
       "         var_1     var_2     var_3     var_4\n",
       "mean -0.227615 -0.360624  0.867220 -0.129108\n",
       "std   0.630229  0.883468  1.308418  0.838544\n",
       "min  -1.015388 -1.871814 -0.752618 -1.498091\n",
       "max   0.574296  0.312354  2.254462  0.762931"
      ]
     },
     "execution_count": 159,
     "metadata": {},
     "output_type": "execute_result"
    }
   ],
   "source": [
    "# Calculamos la media, la desviación estándar, el mínimo y el máximo\n",
    "# de cada columna, y los guardamos en un DataFrame:\n",
    "DataFrame([df.mean(), df.std(), df.min(), df.max()], index = ['mean', 'std', 'min', 'max'])"
   ]
  },
  {
   "cell_type": "code",
   "execution_count": 160,
   "metadata": {},
   "outputs": [
    {
     "data": {
      "text/html": [
       "<div>\n",
       "<style scoped>\n",
       "    .dataframe tbody tr th:only-of-type {\n",
       "        vertical-align: middle;\n",
       "    }\n",
       "\n",
       "    .dataframe tbody tr th {\n",
       "        vertical-align: top;\n",
       "    }\n",
       "\n",
       "    .dataframe thead th {\n",
       "        text-align: right;\n",
       "    }\n",
       "</style>\n",
       "<table border=\"1\" class=\"dataframe\">\n",
       "  <thead>\n",
       "    <tr style=\"text-align: right;\">\n",
       "      <th></th>\n",
       "      <th>var_1</th>\n",
       "      <th>var_2</th>\n",
       "      <th>var_3</th>\n",
       "      <th>var_4</th>\n",
       "    </tr>\n",
       "  </thead>\n",
       "  <tbody>\n",
       "    <tr>\n",
       "      <td>count</td>\n",
       "      <td>5.000000</td>\n",
       "      <td>5.000000</td>\n",
       "      <td>5.000000</td>\n",
       "      <td>5.000000</td>\n",
       "    </tr>\n",
       "    <tr>\n",
       "      <td>mean</td>\n",
       "      <td>-0.227615</td>\n",
       "      <td>-0.360624</td>\n",
       "      <td>0.867220</td>\n",
       "      <td>-0.129108</td>\n",
       "    </tr>\n",
       "    <tr>\n",
       "      <td>std</td>\n",
       "      <td>0.630229</td>\n",
       "      <td>0.883468</td>\n",
       "      <td>1.308418</td>\n",
       "      <td>0.838544</td>\n",
       "    </tr>\n",
       "    <tr>\n",
       "      <td>min</td>\n",
       "      <td>-1.015388</td>\n",
       "      <td>-1.871814</td>\n",
       "      <td>-0.752618</td>\n",
       "      <td>-1.498091</td>\n",
       "    </tr>\n",
       "    <tr>\n",
       "      <td>25%</td>\n",
       "      <td>-0.483051</td>\n",
       "      <td>-0.383664</td>\n",
       "      <td>0.031925</td>\n",
       "      <td>-0.169111</td>\n",
       "    </tr>\n",
       "    <tr>\n",
       "      <td>50%</td>\n",
       "      <td>-0.446633</td>\n",
       "      <td>-0.013858</td>\n",
       "      <td>0.682973</td>\n",
       "      <td>0.067891</td>\n",
       "    </tr>\n",
       "    <tr>\n",
       "      <td>75%</td>\n",
       "      <td>0.232698</td>\n",
       "      <td>0.153860</td>\n",
       "      <td>2.119360</td>\n",
       "      <td>0.190841</td>\n",
       "    </tr>\n",
       "    <tr>\n",
       "      <td>max</td>\n",
       "      <td>0.574296</td>\n",
       "      <td>0.312354</td>\n",
       "      <td>2.254462</td>\n",
       "      <td>0.762931</td>\n",
       "    </tr>\n",
       "  </tbody>\n",
       "</table>\n",
       "</div>"
      ],
      "text/plain": [
       "          var_1     var_2     var_3     var_4\n",
       "count  5.000000  5.000000  5.000000  5.000000\n",
       "mean  -0.227615 -0.360624  0.867220 -0.129108\n",
       "std    0.630229  0.883468  1.308418  0.838544\n",
       "min   -1.015388 -1.871814 -0.752618 -1.498091\n",
       "25%   -0.483051 -0.383664  0.031925 -0.169111\n",
       "50%   -0.446633 -0.013858  0.682973  0.067891\n",
       "75%    0.232698  0.153860  2.119360  0.190841\n",
       "max    0.574296  0.312354  2.254462  0.762931"
      ]
     },
     "execution_count": 160,
     "metadata": {},
     "output_type": "execute_result"
    }
   ],
   "source": [
    "# Generamos estadísticas con el método describe (datos numéricos):\n",
    "df.describe()"
   ]
  },
  {
   "cell_type": "markdown",
   "metadata": {},
   "source": [
    "### Resumen de estadística"
   ]
  },
  {
   "cell_type": "code",
   "execution_count": 161,
   "metadata": {},
   "outputs": [
    {
     "data": {
      "text/html": [
       "<div>\n",
       "<style scoped>\n",
       "    .dataframe tbody tr th:only-of-type {\n",
       "        vertical-align: middle;\n",
       "    }\n",
       "\n",
       "    .dataframe tbody tr th {\n",
       "        vertical-align: top;\n",
       "    }\n",
       "\n",
       "    .dataframe thead th {\n",
       "        text-align: right;\n",
       "    }\n",
       "</style>\n",
       "<table border=\"1\" class=\"dataframe\">\n",
       "  <thead>\n",
       "    <tr style=\"text-align: right;\">\n",
       "      <th></th>\n",
       "      <th>Nombre</th>\n",
       "      <th>Edad</th>\n",
       "      <th>Telefono</th>\n",
       "      <th>E-mail</th>\n",
       "    </tr>\n",
       "  </thead>\n",
       "  <tbody>\n",
       "    <tr>\n",
       "      <td>0</td>\n",
       "      <td>Juan</td>\n",
       "      <td>33</td>\n",
       "      <td>2289</td>\n",
       "      <td>juan@gmail.com</td>\n",
       "    </tr>\n",
       "    <tr>\n",
       "      <td>1</td>\n",
       "      <td>Veronica</td>\n",
       "      <td>41</td>\n",
       "      <td>1243</td>\n",
       "      <td>vero@gmail.com</td>\n",
       "    </tr>\n",
       "    <tr>\n",
       "      <td>2</td>\n",
       "      <td>Bruno</td>\n",
       "      <td>33</td>\n",
       "      <td>2564</td>\n",
       "      <td>bruno@gmail.com</td>\n",
       "    </tr>\n",
       "    <tr>\n",
       "      <td>3</td>\n",
       "      <td>Pablo</td>\n",
       "      <td>28</td>\n",
       "      <td>4448</td>\n",
       "      <td>pau@gmail.com</td>\n",
       "    </tr>\n",
       "    <tr>\n",
       "      <td>4</td>\n",
       "      <td>Rosa</td>\n",
       "      <td>36</td>\n",
       "      <td>3321</td>\n",
       "      <td>rosa@gmail.com</td>\n",
       "    </tr>\n",
       "  </tbody>\n",
       "</table>\n",
       "</div>"
      ],
      "text/plain": [
       "     Nombre  Edad  Telefono           E-mail\n",
       "0      Juan    33      2289   juan@gmail.com\n",
       "1  Veronica    41      1243   vero@gmail.com\n",
       "2     Bruno    33      2564  bruno@gmail.com\n",
       "3     Pablo    28      4448    pau@gmail.com\n",
       "4      Rosa    36      3321   rosa@gmail.com"
      ]
     },
     "execution_count": 161,
     "metadata": {},
     "output_type": "execute_result"
    }
   ],
   "source": [
    "# Creamos un DataFrame con datos que no son numéricos:\n",
    "diccionario = {'Nombre': ['Juan', 'Veronica', 'Bruno', 'Pablo', 'Rosa'], \n",
    "               'Edad': [33, 41, 33, 28, 36],\n",
    "               'Telefono': [2289, 1243, 2564, 4448, 3321], \n",
    "               'E-mail': ['juan@gmail.com', 'vero@gmail.com', 'bruno@gmail.com', \n",
    "                          'pau@gmail.com', 'rosa@gmail.com']}\n",
    "data = DataFrame(diccionario)\n",
    "data"
   ]
  },
  {
   "cell_type": "code",
   "execution_count": 162,
   "metadata": {},
   "outputs": [
    {
     "data": {
      "text/html": [
       "<div>\n",
       "<style scoped>\n",
       "    .dataframe tbody tr th:only-of-type {\n",
       "        vertical-align: middle;\n",
       "    }\n",
       "\n",
       "    .dataframe tbody tr th {\n",
       "        vertical-align: top;\n",
       "    }\n",
       "\n",
       "    .dataframe thead th {\n",
       "        text-align: right;\n",
       "    }\n",
       "</style>\n",
       "<table border=\"1\" class=\"dataframe\">\n",
       "  <thead>\n",
       "    <tr style=\"text-align: right;\">\n",
       "      <th></th>\n",
       "      <th>Nombre</th>\n",
       "      <th>Edad</th>\n",
       "      <th>Telefono</th>\n",
       "      <th>E-mail</th>\n",
       "    </tr>\n",
       "  </thead>\n",
       "  <tbody>\n",
       "    <tr>\n",
       "      <td>count</td>\n",
       "      <td>5</td>\n",
       "      <td>5.000000</td>\n",
       "      <td>5.000000</td>\n",
       "      <td>5</td>\n",
       "    </tr>\n",
       "    <tr>\n",
       "      <td>unique</td>\n",
       "      <td>5</td>\n",
       "      <td>NaN</td>\n",
       "      <td>NaN</td>\n",
       "      <td>5</td>\n",
       "    </tr>\n",
       "    <tr>\n",
       "      <td>top</td>\n",
       "      <td>Rosa</td>\n",
       "      <td>NaN</td>\n",
       "      <td>NaN</td>\n",
       "      <td>vero@gmail.com</td>\n",
       "    </tr>\n",
       "    <tr>\n",
       "      <td>freq</td>\n",
       "      <td>1</td>\n",
       "      <td>NaN</td>\n",
       "      <td>NaN</td>\n",
       "      <td>1</td>\n",
       "    </tr>\n",
       "    <tr>\n",
       "      <td>mean</td>\n",
       "      <td>NaN</td>\n",
       "      <td>34.200000</td>\n",
       "      <td>2773.000000</td>\n",
       "      <td>NaN</td>\n",
       "    </tr>\n",
       "    <tr>\n",
       "      <td>std</td>\n",
       "      <td>NaN</td>\n",
       "      <td>4.764452</td>\n",
       "      <td>1196.324162</td>\n",
       "      <td>NaN</td>\n",
       "    </tr>\n",
       "    <tr>\n",
       "      <td>min</td>\n",
       "      <td>NaN</td>\n",
       "      <td>28.000000</td>\n",
       "      <td>1243.000000</td>\n",
       "      <td>NaN</td>\n",
       "    </tr>\n",
       "    <tr>\n",
       "      <td>25%</td>\n",
       "      <td>NaN</td>\n",
       "      <td>33.000000</td>\n",
       "      <td>2289.000000</td>\n",
       "      <td>NaN</td>\n",
       "    </tr>\n",
       "    <tr>\n",
       "      <td>50%</td>\n",
       "      <td>NaN</td>\n",
       "      <td>33.000000</td>\n",
       "      <td>2564.000000</td>\n",
       "      <td>NaN</td>\n",
       "    </tr>\n",
       "    <tr>\n",
       "      <td>75%</td>\n",
       "      <td>NaN</td>\n",
       "      <td>36.000000</td>\n",
       "      <td>3321.000000</td>\n",
       "      <td>NaN</td>\n",
       "    </tr>\n",
       "    <tr>\n",
       "      <td>max</td>\n",
       "      <td>NaN</td>\n",
       "      <td>41.000000</td>\n",
       "      <td>4448.000000</td>\n",
       "      <td>NaN</td>\n",
       "    </tr>\n",
       "  </tbody>\n",
       "</table>\n",
       "</div>"
      ],
      "text/plain": [
       "       Nombre       Edad     Telefono          E-mail\n",
       "count       5   5.000000     5.000000               5\n",
       "unique      5        NaN          NaN               5\n",
       "top      Rosa        NaN          NaN  vero@gmail.com\n",
       "freq        1        NaN          NaN               1\n",
       "mean      NaN  34.200000  2773.000000             NaN\n",
       "std       NaN   4.764452  1196.324162             NaN\n",
       "min       NaN  28.000000  1243.000000             NaN\n",
       "25%       NaN  33.000000  2289.000000             NaN\n",
       "50%       NaN  33.000000  2564.000000             NaN\n",
       "75%       NaN  36.000000  3321.000000             NaN\n",
       "max       NaN  41.000000  4448.000000             NaN"
      ]
     },
     "execution_count": 162,
     "metadata": {},
     "output_type": "execute_result"
    }
   ],
   "source": [
    "# Generamos estadísticas con el método describe (datos numéricos y no numéricos):\n",
    "data.describe(include = 'all')"
   ]
  },
  {
   "cell_type": "markdown",
   "metadata": {},
   "source": [
    "### Valores únicos"
   ]
  },
  {
   "cell_type": "code",
   "execution_count": 163,
   "metadata": {},
   "outputs": [
    {
     "data": {
      "text/plain": [
       "Nombre      5\n",
       "Edad        4\n",
       "Telefono    5\n",
       "E-mail      5\n",
       "dtype: int64"
      ]
     },
     "execution_count": 163,
     "metadata": {},
     "output_type": "execute_result"
    }
   ],
   "source": [
    "# Obtenemos el número de valores únicos de cada columna:\n",
    "data.apply(Series.nunique)"
   ]
  },
  {
   "cell_type": "markdown",
   "metadata": {},
   "source": [
    "### Missing values"
   ]
  },
  {
   "cell_type": "code",
   "execution_count": 164,
   "metadata": {},
   "outputs": [
    {
     "data": {
      "text/html": [
       "<div>\n",
       "<style scoped>\n",
       "    .dataframe tbody tr th:only-of-type {\n",
       "        vertical-align: middle;\n",
       "    }\n",
       "\n",
       "    .dataframe tbody tr th {\n",
       "        vertical-align: top;\n",
       "    }\n",
       "\n",
       "    .dataframe thead th {\n",
       "        text-align: right;\n",
       "    }\n",
       "</style>\n",
       "<table border=\"1\" class=\"dataframe\">\n",
       "  <thead>\n",
       "    <tr style=\"text-align: right;\">\n",
       "      <th></th>\n",
       "      <th>Nombre</th>\n",
       "      <th>Edad</th>\n",
       "      <th>Telefono</th>\n",
       "      <th>E-mail</th>\n",
       "    </tr>\n",
       "  </thead>\n",
       "  <tbody>\n",
       "    <tr>\n",
       "      <td>0</td>\n",
       "      <td>Juan</td>\n",
       "      <td>33</td>\n",
       "      <td>2289.0</td>\n",
       "      <td>NaN</td>\n",
       "    </tr>\n",
       "    <tr>\n",
       "      <td>1</td>\n",
       "      <td>Veronica</td>\n",
       "      <td>41</td>\n",
       "      <td>1243.0</td>\n",
       "      <td>vero@gmail.com</td>\n",
       "    </tr>\n",
       "    <tr>\n",
       "      <td>2</td>\n",
       "      <td>Bruno</td>\n",
       "      <td>33</td>\n",
       "      <td>NaN</td>\n",
       "      <td>NaN</td>\n",
       "    </tr>\n",
       "    <tr>\n",
       "      <td>3</td>\n",
       "      <td>Pablo</td>\n",
       "      <td>28</td>\n",
       "      <td>4448.0</td>\n",
       "      <td>pau@gmail.com</td>\n",
       "    </tr>\n",
       "    <tr>\n",
       "      <td>4</td>\n",
       "      <td>Rosa</td>\n",
       "      <td>36</td>\n",
       "      <td>3321.0</td>\n",
       "      <td>rosa@gmail.com</td>\n",
       "    </tr>\n",
       "  </tbody>\n",
       "</table>\n",
       "</div>"
      ],
      "text/plain": [
       "     Nombre  Edad  Telefono          E-mail\n",
       "0      Juan    33    2289.0             NaN\n",
       "1  Veronica    41    1243.0  vero@gmail.com\n",
       "2     Bruno    33       NaN             NaN\n",
       "3     Pablo    28    4448.0   pau@gmail.com\n",
       "4      Rosa    36    3321.0  rosa@gmail.com"
      ]
     },
     "execution_count": 164,
     "metadata": {},
     "output_type": "execute_result"
    }
   ],
   "source": [
    "# DataFrame con datos que no son numéricos y algunos NaN:\n",
    "diccionario = {'Nombre': ['Juan', 'Veronica', 'Bruno', 'Pablo', 'Rosa'], \n",
    "               'Edad': [33, 41, 33, 28, 36],\n",
    "               'Telefono': [2289, 1243, np.nan, 4448, 3321], \n",
    "               'E-mail': [np.nan, 'vero@gmail.com', np.nan, \n",
    "                          'pau@gmail.com', 'rosa@gmail.com']}\n",
    "data = DataFrame(diccionario)\n",
    "data"
   ]
  },
  {
   "cell_type": "code",
   "execution_count": 165,
   "metadata": {},
   "outputs": [
    {
     "data": {
      "text/html": [
       "<div>\n",
       "<style scoped>\n",
       "    .dataframe tbody tr th:only-of-type {\n",
       "        vertical-align: middle;\n",
       "    }\n",
       "\n",
       "    .dataframe tbody tr th {\n",
       "        vertical-align: top;\n",
       "    }\n",
       "\n",
       "    .dataframe thead th {\n",
       "        text-align: right;\n",
       "    }\n",
       "</style>\n",
       "<table border=\"1\" class=\"dataframe\">\n",
       "  <thead>\n",
       "    <tr style=\"text-align: right;\">\n",
       "      <th></th>\n",
       "      <th>Nombre</th>\n",
       "      <th>Edad</th>\n",
       "      <th>Telefono</th>\n",
       "      <th>E-mail</th>\n",
       "    </tr>\n",
       "  </thead>\n",
       "  <tbody>\n",
       "    <tr>\n",
       "      <td>0</td>\n",
       "      <td>False</td>\n",
       "      <td>False</td>\n",
       "      <td>False</td>\n",
       "      <td>True</td>\n",
       "    </tr>\n",
       "    <tr>\n",
       "      <td>1</td>\n",
       "      <td>False</td>\n",
       "      <td>False</td>\n",
       "      <td>False</td>\n",
       "      <td>False</td>\n",
       "    </tr>\n",
       "    <tr>\n",
       "      <td>2</td>\n",
       "      <td>False</td>\n",
       "      <td>False</td>\n",
       "      <td>True</td>\n",
       "      <td>True</td>\n",
       "    </tr>\n",
       "    <tr>\n",
       "      <td>3</td>\n",
       "      <td>False</td>\n",
       "      <td>False</td>\n",
       "      <td>False</td>\n",
       "      <td>False</td>\n",
       "    </tr>\n",
       "    <tr>\n",
       "      <td>4</td>\n",
       "      <td>False</td>\n",
       "      <td>False</td>\n",
       "      <td>False</td>\n",
       "      <td>False</td>\n",
       "    </tr>\n",
       "  </tbody>\n",
       "</table>\n",
       "</div>"
      ],
      "text/plain": [
       "   Nombre   Edad  Telefono  E-mail\n",
       "0   False  False     False    True\n",
       "1   False  False     False   False\n",
       "2   False  False      True    True\n",
       "3   False  False     False   False\n",
       "4   False  False     False   False"
      ]
     },
     "execution_count": 165,
     "metadata": {},
     "output_type": "execute_result"
    }
   ],
   "source": [
    "# Buscamos los NaN con isnull:\n",
    "data.isnull()"
   ]
  },
  {
   "cell_type": "code",
   "execution_count": 166,
   "metadata": {},
   "outputs": [
    {
     "data": {
      "text/html": [
       "<div>\n",
       "<style scoped>\n",
       "    .dataframe tbody tr th:only-of-type {\n",
       "        vertical-align: middle;\n",
       "    }\n",
       "\n",
       "    .dataframe tbody tr th {\n",
       "        vertical-align: top;\n",
       "    }\n",
       "\n",
       "    .dataframe thead th {\n",
       "        text-align: right;\n",
       "    }\n",
       "</style>\n",
       "<table border=\"1\" class=\"dataframe\">\n",
       "  <thead>\n",
       "    <tr style=\"text-align: right;\">\n",
       "      <th></th>\n",
       "      <th>Nombre</th>\n",
       "      <th>Edad</th>\n",
       "      <th>Telefono</th>\n",
       "      <th>E-mail</th>\n",
       "    </tr>\n",
       "  </thead>\n",
       "  <tbody>\n",
       "    <tr>\n",
       "      <td>1</td>\n",
       "      <td>Veronica</td>\n",
       "      <td>41</td>\n",
       "      <td>1243.0</td>\n",
       "      <td>vero@gmail.com</td>\n",
       "    </tr>\n",
       "    <tr>\n",
       "      <td>3</td>\n",
       "      <td>Pablo</td>\n",
       "      <td>28</td>\n",
       "      <td>4448.0</td>\n",
       "      <td>pau@gmail.com</td>\n",
       "    </tr>\n",
       "    <tr>\n",
       "      <td>4</td>\n",
       "      <td>Rosa</td>\n",
       "      <td>36</td>\n",
       "      <td>3321.0</td>\n",
       "      <td>rosa@gmail.com</td>\n",
       "    </tr>\n",
       "  </tbody>\n",
       "</table>\n",
       "</div>"
      ],
      "text/plain": [
       "     Nombre  Edad  Telefono          E-mail\n",
       "1  Veronica    41    1243.0  vero@gmail.com\n",
       "3     Pablo    28    4448.0   pau@gmail.com\n",
       "4      Rosa    36    3321.0  rosa@gmail.com"
      ]
     },
     "execution_count": 166,
     "metadata": {},
     "output_type": "execute_result"
    }
   ],
   "source": [
    "# Eliminamos todas las filas que contengan NaN:\n",
    "data_without_nan = data.dropna()\n",
    "data_without_nan"
   ]
  },
  {
   "cell_type": "code",
   "execution_count": 167,
   "metadata": {},
   "outputs": [
    {
     "data": {
      "text/html": [
       "<div>\n",
       "<style scoped>\n",
       "    .dataframe tbody tr th:only-of-type {\n",
       "        vertical-align: middle;\n",
       "    }\n",
       "\n",
       "    .dataframe tbody tr th {\n",
       "        vertical-align: top;\n",
       "    }\n",
       "\n",
       "    .dataframe thead th {\n",
       "        text-align: right;\n",
       "    }\n",
       "</style>\n",
       "<table border=\"1\" class=\"dataframe\">\n",
       "  <thead>\n",
       "    <tr style=\"text-align: right;\">\n",
       "      <th></th>\n",
       "      <th>Nombre</th>\n",
       "      <th>Edad</th>\n",
       "      <th>Telefono</th>\n",
       "      <th>E-mail</th>\n",
       "    </tr>\n",
       "  </thead>\n",
       "  <tbody>\n",
       "    <tr>\n",
       "      <td>0</td>\n",
       "      <td>Juan</td>\n",
       "      <td>33</td>\n",
       "      <td>2289.0</td>\n",
       "      <td>---</td>\n",
       "    </tr>\n",
       "    <tr>\n",
       "      <td>1</td>\n",
       "      <td>Veronica</td>\n",
       "      <td>41</td>\n",
       "      <td>1243.0</td>\n",
       "      <td>vero@gmail.com</td>\n",
       "    </tr>\n",
       "    <tr>\n",
       "      <td>2</td>\n",
       "      <td>Bruno</td>\n",
       "      <td>33</td>\n",
       "      <td>NaN</td>\n",
       "      <td>---</td>\n",
       "    </tr>\n",
       "    <tr>\n",
       "      <td>3</td>\n",
       "      <td>Pablo</td>\n",
       "      <td>28</td>\n",
       "      <td>4448.0</td>\n",
       "      <td>pau@gmail.com</td>\n",
       "    </tr>\n",
       "    <tr>\n",
       "      <td>4</td>\n",
       "      <td>Rosa</td>\n",
       "      <td>36</td>\n",
       "      <td>3321.0</td>\n",
       "      <td>rosa@gmail.com</td>\n",
       "    </tr>\n",
       "  </tbody>\n",
       "</table>\n",
       "</div>"
      ],
      "text/plain": [
       "     Nombre  Edad  Telefono          E-mail\n",
       "0      Juan    33    2289.0             ---\n",
       "1  Veronica    41    1243.0  vero@gmail.com\n",
       "2     Bruno    33       NaN             ---\n",
       "3     Pablo    28    4448.0   pau@gmail.com\n",
       "4      Rosa    36    3321.0  rosa@gmail.com"
      ]
     },
     "execution_count": 167,
     "metadata": {},
     "output_type": "execute_result"
    }
   ],
   "source": [
    "# Sustituimos los NaN del e-mail por la cadena \"---\":\n",
    "data['E-mail'].fillna('---', inplace = True)\n",
    "data"
   ]
  },
  {
   "cell_type": "code",
   "execution_count": 168,
   "metadata": {},
   "outputs": [
    {
     "data": {
      "text/html": [
       "<div>\n",
       "<style scoped>\n",
       "    .dataframe tbody tr th:only-of-type {\n",
       "        vertical-align: middle;\n",
       "    }\n",
       "\n",
       "    .dataframe tbody tr th {\n",
       "        vertical-align: top;\n",
       "    }\n",
       "\n",
       "    .dataframe thead th {\n",
       "        text-align: right;\n",
       "    }\n",
       "</style>\n",
       "<table border=\"1\" class=\"dataframe\">\n",
       "  <thead>\n",
       "    <tr style=\"text-align: right;\">\n",
       "      <th></th>\n",
       "      <th>Nombre</th>\n",
       "      <th>Edad</th>\n",
       "      <th>Telefono</th>\n",
       "      <th>E-mail</th>\n",
       "    </tr>\n",
       "  </thead>\n",
       "  <tbody>\n",
       "    <tr>\n",
       "      <td>0</td>\n",
       "      <td>Juan</td>\n",
       "      <td>33</td>\n",
       "      <td>2289</td>\n",
       "      <td>---</td>\n",
       "    </tr>\n",
       "    <tr>\n",
       "      <td>1</td>\n",
       "      <td>Veronica</td>\n",
       "      <td>41</td>\n",
       "      <td>1243</td>\n",
       "      <td>vero@gmail.com</td>\n",
       "    </tr>\n",
       "    <tr>\n",
       "      <td>2</td>\n",
       "      <td>Bruno</td>\n",
       "      <td>33</td>\n",
       "      <td>0</td>\n",
       "      <td>---</td>\n",
       "    </tr>\n",
       "    <tr>\n",
       "      <td>3</td>\n",
       "      <td>Pablo</td>\n",
       "      <td>28</td>\n",
       "      <td>4448</td>\n",
       "      <td>pau@gmail.com</td>\n",
       "    </tr>\n",
       "    <tr>\n",
       "      <td>4</td>\n",
       "      <td>Rosa</td>\n",
       "      <td>36</td>\n",
       "      <td>3321</td>\n",
       "      <td>rosa@gmail.com</td>\n",
       "    </tr>\n",
       "  </tbody>\n",
       "</table>\n",
       "</div>"
      ],
      "text/plain": [
       "     Nombre  Edad Telefono          E-mail\n",
       "0      Juan    33     2289             ---\n",
       "1  Veronica    41     1243  vero@gmail.com\n",
       "2     Bruno    33        0             ---\n",
       "3     Pablo    28     4448   pau@gmail.com\n",
       "4      Rosa    36     3321  rosa@gmail.com"
      ]
     },
     "execution_count": 168,
     "metadata": {},
     "output_type": "execute_result"
    }
   ],
   "source": [
    "# Sustituimos los NaN del teléfono por 0:\n",
    "data['Telefono'].fillna('0', inplace = True)\n",
    "data"
   ]
  },
  {
   "cell_type": "markdown",
   "metadata": {},
   "source": [
    "### Matrices de correlación y covarianza"
   ]
  },
  {
   "cell_type": "code",
   "execution_count": 169,
   "metadata": {},
   "outputs": [
    {
     "data": {
      "text/html": [
       "<div>\n",
       "<style scoped>\n",
       "    .dataframe tbody tr th:only-of-type {\n",
       "        vertical-align: middle;\n",
       "    }\n",
       "\n",
       "    .dataframe tbody tr th {\n",
       "        vertical-align: top;\n",
       "    }\n",
       "\n",
       "    .dataframe thead th {\n",
       "        text-align: right;\n",
       "    }\n",
       "</style>\n",
       "<table border=\"1\" class=\"dataframe\">\n",
       "  <thead>\n",
       "    <tr style=\"text-align: right;\">\n",
       "      <th></th>\n",
       "      <th>var_1</th>\n",
       "      <th>var_2</th>\n",
       "      <th>var_3</th>\n",
       "      <th>var_4</th>\n",
       "    </tr>\n",
       "  </thead>\n",
       "  <tbody>\n",
       "    <tr>\n",
       "      <td>0</td>\n",
       "      <td>1.489365</td>\n",
       "      <td>-0.820521</td>\n",
       "      <td>-1.550030</td>\n",
       "      <td>-0.353963</td>\n",
       "    </tr>\n",
       "    <tr>\n",
       "      <td>1</td>\n",
       "      <td>-0.709249</td>\n",
       "      <td>1.797422</td>\n",
       "      <td>0.279999</td>\n",
       "      <td>-0.187455</td>\n",
       "    </tr>\n",
       "    <tr>\n",
       "      <td>2</td>\n",
       "      <td>1.487569</td>\n",
       "      <td>-0.452505</td>\n",
       "      <td>-0.910200</td>\n",
       "      <td>-0.121867</td>\n",
       "    </tr>\n",
       "    <tr>\n",
       "      <td>3</td>\n",
       "      <td>-0.282933</td>\n",
       "      <td>-0.447387</td>\n",
       "      <td>-1.593701</td>\n",
       "      <td>-0.867397</td>\n",
       "    </tr>\n",
       "    <tr>\n",
       "      <td>4</td>\n",
       "      <td>-0.143722</td>\n",
       "      <td>0.642284</td>\n",
       "      <td>0.123634</td>\n",
       "      <td>-0.220092</td>\n",
       "    </tr>\n",
       "  </tbody>\n",
       "</table>\n",
       "</div>"
      ],
      "text/plain": [
       "      var_1     var_2     var_3     var_4\n",
       "0  1.489365 -0.820521 -1.550030 -0.353963\n",
       "1 -0.709249  1.797422  0.279999 -0.187455\n",
       "2  1.487569 -0.452505 -0.910200 -0.121867\n",
       "3 -0.282933 -0.447387 -1.593701 -0.867397\n",
       "4 -0.143722  0.642284  0.123634 -0.220092"
      ]
     },
     "execution_count": 169,
     "metadata": {},
     "output_type": "execute_result"
    }
   ],
   "source": [
    "# Creamos DataFrame con números aleatorios:\n",
    "df = DataFrame(np.random.randn(5, 4), \n",
    "               columns = ['var_1', 'var_2', 'var_3', 'var_4'])\n",
    "df"
   ]
  },
  {
   "cell_type": "code",
   "execution_count": 170,
   "metadata": {},
   "outputs": [
    {
     "data": {
      "text/html": [
       "<div>\n",
       "<style scoped>\n",
       "    .dataframe tbody tr th:only-of-type {\n",
       "        vertical-align: middle;\n",
       "    }\n",
       "\n",
       "    .dataframe tbody tr th {\n",
       "        vertical-align: top;\n",
       "    }\n",
       "\n",
       "    .dataframe thead th {\n",
       "        text-align: right;\n",
       "    }\n",
       "</style>\n",
       "<table border=\"1\" class=\"dataframe\">\n",
       "  <thead>\n",
       "    <tr style=\"text-align: right;\">\n",
       "      <th></th>\n",
       "      <th>var_1</th>\n",
       "      <th>var_2</th>\n",
       "      <th>var_3</th>\n",
       "      <th>var_4</th>\n",
       "    </tr>\n",
       "  </thead>\n",
       "  <tbody>\n",
       "    <tr>\n",
       "      <td>var_1</td>\n",
       "      <td>1.000000</td>\n",
       "      <td>-0.758121</td>\n",
       "      <td>-0.558135</td>\n",
       "      <td>0.275248</td>\n",
       "    </tr>\n",
       "    <tr>\n",
       "      <td>var_2</td>\n",
       "      <td>-0.758121</td>\n",
       "      <td>1.000000</td>\n",
       "      <td>0.911695</td>\n",
       "      <td>0.391719</td>\n",
       "    </tr>\n",
       "    <tr>\n",
       "      <td>var_3</td>\n",
       "      <td>-0.558135</td>\n",
       "      <td>0.911695</td>\n",
       "      <td>1.000000</td>\n",
       "      <td>0.634696</td>\n",
       "    </tr>\n",
       "    <tr>\n",
       "      <td>var_4</td>\n",
       "      <td>0.275248</td>\n",
       "      <td>0.391719</td>\n",
       "      <td>0.634696</td>\n",
       "      <td>1.000000</td>\n",
       "    </tr>\n",
       "  </tbody>\n",
       "</table>\n",
       "</div>"
      ],
      "text/plain": [
       "          var_1     var_2     var_3     var_4\n",
       "var_1  1.000000 -0.758121 -0.558135  0.275248\n",
       "var_2 -0.758121  1.000000  0.911695  0.391719\n",
       "var_3 -0.558135  0.911695  1.000000  0.634696\n",
       "var_4  0.275248  0.391719  0.634696  1.000000"
      ]
     },
     "execution_count": 170,
     "metadata": {},
     "output_type": "execute_result"
    }
   ],
   "source": [
    "# Matriz de correlaciones:\n",
    "df.corr()"
   ]
  },
  {
   "cell_type": "code",
   "execution_count": 171,
   "metadata": {},
   "outputs": [
    {
     "data": {
      "text/html": [
       "<div>\n",
       "<style scoped>\n",
       "    .dataframe tbody tr th:only-of-type {\n",
       "        vertical-align: middle;\n",
       "    }\n",
       "\n",
       "    .dataframe tbody tr th {\n",
       "        vertical-align: top;\n",
       "    }\n",
       "\n",
       "    .dataframe thead th {\n",
       "        text-align: right;\n",
       "    }\n",
       "</style>\n",
       "<table border=\"1\" class=\"dataframe\">\n",
       "  <thead>\n",
       "    <tr style=\"text-align: right;\">\n",
       "      <th></th>\n",
       "      <th>var_1</th>\n",
       "      <th>var_2</th>\n",
       "      <th>var_3</th>\n",
       "      <th>var_4</th>\n",
       "    </tr>\n",
       "  </thead>\n",
       "  <tbody>\n",
       "    <tr>\n",
       "      <td>var_1</td>\n",
       "      <td>1.089233</td>\n",
       "      <td>-0.850146</td>\n",
       "      <td>-0.520983</td>\n",
       "      <td>0.086545</td>\n",
       "    </tr>\n",
       "    <tr>\n",
       "      <td>var_2</td>\n",
       "      <td>-0.850146</td>\n",
       "      <td>1.154488</td>\n",
       "      <td>0.876129</td>\n",
       "      <td>0.126802</td>\n",
       "    </tr>\n",
       "    <tr>\n",
       "      <td>var_3</td>\n",
       "      <td>-0.520983</td>\n",
       "      <td>0.876129</td>\n",
       "      <td>0.799922</td>\n",
       "      <td>0.171020</td>\n",
       "    </tr>\n",
       "    <tr>\n",
       "      <td>var_4</td>\n",
       "      <td>0.086545</td>\n",
       "      <td>0.126802</td>\n",
       "      <td>0.171020</td>\n",
       "      <td>0.090764</td>\n",
       "    </tr>\n",
       "  </tbody>\n",
       "</table>\n",
       "</div>"
      ],
      "text/plain": [
       "          var_1     var_2     var_3     var_4\n",
       "var_1  1.089233 -0.850146 -0.520983  0.086545\n",
       "var_2 -0.850146  1.154488  0.876129  0.126802\n",
       "var_3 -0.520983  0.876129  0.799922  0.171020\n",
       "var_4  0.086545  0.126802  0.171020  0.090764"
      ]
     },
     "execution_count": 171,
     "metadata": {},
     "output_type": "execute_result"
    }
   ],
   "source": [
    "# Matriz de covarianzas:\n",
    "df.cov()"
   ]
  },
  {
   "cell_type": "markdown",
   "metadata": {},
   "source": [
    "### Ejercicio: Cálculo de estadísticas descriptivas sobre los datos"
   ]
  },
  {
   "cell_type": "markdown",
   "metadata": {},
   "source": [
    "<font color=\"#279D9F\">1. </font> Saca un resumen de estadísticas de los datos del DataFrame **tienda**."
   ]
  },
  {
   "cell_type": "code",
   "execution_count": 173,
   "metadata": {},
   "outputs": [
    {
     "data": {
      "text/html": [
       "<div>\n",
       "<style scoped>\n",
       "    .dataframe tbody tr th:only-of-type {\n",
       "        vertical-align: middle;\n",
       "    }\n",
       "\n",
       "    .dataframe tbody tr th {\n",
       "        vertical-align: top;\n",
       "    }\n",
       "\n",
       "    .dataframe thead th {\n",
       "        text-align: right;\n",
       "    }\n",
       "</style>\n",
       "<table border=\"1\" class=\"dataframe\">\n",
       "  <thead>\n",
       "    <tr style=\"text-align: right;\">\n",
       "      <th></th>\n",
       "      <th>precio</th>\n",
       "      <th>ventas</th>\n",
       "      <th>total</th>\n",
       "    </tr>\n",
       "  </thead>\n",
       "  <tbody>\n",
       "    <tr>\n",
       "      <td>count</td>\n",
       "      <td>10.000000</td>\n",
       "      <td>10.000000</td>\n",
       "      <td>10.000000</td>\n",
       "    </tr>\n",
       "    <tr>\n",
       "      <td>mean</td>\n",
       "      <td>70.550000</td>\n",
       "      <td>20.000000</td>\n",
       "      <td>1237.250000</td>\n",
       "    </tr>\n",
       "    <tr>\n",
       "      <td>std</td>\n",
       "      <td>27.245846</td>\n",
       "      <td>10.954451</td>\n",
       "      <td>709.536851</td>\n",
       "    </tr>\n",
       "    <tr>\n",
       "      <td>min</td>\n",
       "      <td>39.900000</td>\n",
       "      <td>3.000000</td>\n",
       "      <td>359.700000</td>\n",
       "    </tr>\n",
       "    <tr>\n",
       "      <td>25%</td>\n",
       "      <td>51.175000</td>\n",
       "      <td>17.500000</td>\n",
       "      <td>949.075000</td>\n",
       "    </tr>\n",
       "    <tr>\n",
       "      <td>50%</td>\n",
       "      <td>60.500000</td>\n",
       "      <td>21.000000</td>\n",
       "      <td>1095.000000</td>\n",
       "    </tr>\n",
       "    <tr>\n",
       "      <td>75%</td>\n",
       "      <td>93.675000</td>\n",
       "      <td>23.000000</td>\n",
       "      <td>1568.175000</td>\n",
       "    </tr>\n",
       "    <tr>\n",
       "      <td>max</td>\n",
       "      <td>119.900000</td>\n",
       "      <td>41.000000</td>\n",
       "      <td>2797.200000</td>\n",
       "    </tr>\n",
       "  </tbody>\n",
       "</table>\n",
       "</div>"
      ],
      "text/plain": [
       "           precio     ventas        total\n",
       "count   10.000000  10.000000    10.000000\n",
       "mean    70.550000  20.000000  1237.250000\n",
       "std     27.245846  10.954451   709.536851\n",
       "min     39.900000   3.000000   359.700000\n",
       "25%     51.175000  17.500000   949.075000\n",
       "50%     60.500000  21.000000  1095.000000\n",
       "75%     93.675000  23.000000  1568.175000\n",
       "max    119.900000  41.000000  2797.200000"
      ]
     },
     "execution_count": 173,
     "metadata": {},
     "output_type": "execute_result"
    }
   ],
   "source": [
    "new_tienda.describe()"
   ]
  },
  {
   "cell_type": "markdown",
   "metadata": {},
   "source": [
    "<font color=\"#279D9F\">2. </font> Calcula el número de productos de cada marca."
   ]
  },
  {
   "cell_type": "code",
   "execution_count": 179,
   "metadata": {},
   "outputs": [
    {
     "data": {
      "text/html": [
       "<div>\n",
       "<style scoped>\n",
       "    .dataframe tbody tr th:only-of-type {\n",
       "        vertical-align: middle;\n",
       "    }\n",
       "\n",
       "    .dataframe tbody tr th {\n",
       "        vertical-align: top;\n",
       "    }\n",
       "\n",
       "    .dataframe thead th {\n",
       "        text-align: right;\n",
       "    }\n",
       "</style>\n",
       "<table border=\"1\" class=\"dataframe\">\n",
       "  <thead>\n",
       "    <tr style=\"text-align: right;\">\n",
       "      <th></th>\n",
       "      <th>modelo</th>\n",
       "      <th>precio</th>\n",
       "      <th>ventas</th>\n",
       "      <th>total</th>\n",
       "    </tr>\n",
       "    <tr>\n",
       "      <th>marca</th>\n",
       "      <th></th>\n",
       "      <th></th>\n",
       "      <th></th>\n",
       "      <th></th>\n",
       "    </tr>\n",
       "  </thead>\n",
       "  <tbody>\n",
       "    <tr>\n",
       "      <td>Black Diamond</td>\n",
       "      <td>2</td>\n",
       "      <td>2</td>\n",
       "      <td>2</td>\n",
       "      <td>2</td>\n",
       "    </tr>\n",
       "    <tr>\n",
       "      <td>Camp</td>\n",
       "      <td>2</td>\n",
       "      <td>2</td>\n",
       "      <td>2</td>\n",
       "      <td>2</td>\n",
       "    </tr>\n",
       "    <tr>\n",
       "      <td>Edelrid</td>\n",
       "      <td>3</td>\n",
       "      <td>3</td>\n",
       "      <td>3</td>\n",
       "      <td>3</td>\n",
       "    </tr>\n",
       "    <tr>\n",
       "      <td>Mammut</td>\n",
       "      <td>1</td>\n",
       "      <td>1</td>\n",
       "      <td>1</td>\n",
       "      <td>1</td>\n",
       "    </tr>\n",
       "    <tr>\n",
       "      <td>Petzl</td>\n",
       "      <td>2</td>\n",
       "      <td>2</td>\n",
       "      <td>2</td>\n",
       "      <td>2</td>\n",
       "    </tr>\n",
       "  </tbody>\n",
       "</table>\n",
       "</div>"
      ],
      "text/plain": [
       "               modelo  precio  ventas  total\n",
       "marca                                       \n",
       "Black Diamond       2       2       2      2\n",
       "Camp                2       2       2      2\n",
       "Edelrid             3       3       3      3\n",
       "Mammut              1       1       1      1\n",
       "Petzl               2       2       2      2"
      ]
     },
     "execution_count": 179,
     "metadata": {},
     "output_type": "execute_result"
    }
   ],
   "source": [
    "new_tienda.groupby('marca').count()"
   ]
  },
  {
   "cell_type": "markdown",
   "metadata": {},
   "source": [
    "## Lectura y escritura en ficheros"
   ]
  },
  {
   "cell_type": "code",
   "execution_count": 180,
   "metadata": {},
   "outputs": [
    {
     "data": {
      "text/html": [
       "<div>\n",
       "<style scoped>\n",
       "    .dataframe tbody tr th:only-of-type {\n",
       "        vertical-align: middle;\n",
       "    }\n",
       "\n",
       "    .dataframe tbody tr th {\n",
       "        vertical-align: top;\n",
       "    }\n",
       "\n",
       "    .dataframe thead th {\n",
       "        text-align: right;\n",
       "    }\n",
       "</style>\n",
       "<table border=\"1\" class=\"dataframe\">\n",
       "  <thead>\n",
       "    <tr style=\"text-align: right;\">\n",
       "      <th></th>\n",
       "      <th>Nombre</th>\n",
       "      <th>Edad</th>\n",
       "      <th>Telefono</th>\n",
       "      <th>E-mail</th>\n",
       "    </tr>\n",
       "  </thead>\n",
       "  <tbody>\n",
       "    <tr>\n",
       "      <td>0</td>\n",
       "      <td>Juan</td>\n",
       "      <td>33</td>\n",
       "      <td>2289</td>\n",
       "      <td>juan@gmail.com</td>\n",
       "    </tr>\n",
       "    <tr>\n",
       "      <td>1</td>\n",
       "      <td>Veronica</td>\n",
       "      <td>41</td>\n",
       "      <td>1243</td>\n",
       "      <td>vero@gmail.com</td>\n",
       "    </tr>\n",
       "    <tr>\n",
       "      <td>2</td>\n",
       "      <td>Bruno</td>\n",
       "      <td>33</td>\n",
       "      <td>2234</td>\n",
       "      <td>bruno@gmail.com</td>\n",
       "    </tr>\n",
       "    <tr>\n",
       "      <td>3</td>\n",
       "      <td>Pablo</td>\n",
       "      <td>28</td>\n",
       "      <td>4448</td>\n",
       "      <td>pau@gmail.com</td>\n",
       "    </tr>\n",
       "    <tr>\n",
       "      <td>4</td>\n",
       "      <td>Rosa</td>\n",
       "      <td>36</td>\n",
       "      <td>3321</td>\n",
       "      <td>rosa@gmail.com</td>\n",
       "    </tr>\n",
       "  </tbody>\n",
       "</table>\n",
       "</div>"
      ],
      "text/plain": [
       "     Nombre  Edad  Telefono           E-mail\n",
       "0      Juan    33      2289   juan@gmail.com\n",
       "1  Veronica    41      1243   vero@gmail.com\n",
       "2     Bruno    33      2234  bruno@gmail.com\n",
       "3     Pablo    28      4448    pau@gmail.com\n",
       "4      Rosa    36      3321   rosa@gmail.com"
      ]
     },
     "execution_count": 180,
     "metadata": {},
     "output_type": "execute_result"
    }
   ],
   "source": [
    "# DataFrame con los datos:\n",
    "diccionario = {'Nombre': ['Juan', 'Veronica', 'Bruno', 'Pablo', 'Rosa'], \n",
    "               'Edad': [33, 41, 33, 28, 36],\n",
    "               'Telefono': [2289, 1243, 2234, 4448, 3321], \n",
    "               'E-mail': ['juan@gmail.com', 'vero@gmail.com', 'bruno@gmail.com', \n",
    "                          'pau@gmail.com', 'rosa@gmail.com']}\n",
    "data = DataFrame(diccionario)\n",
    "data"
   ]
  },
  {
   "cell_type": "code",
   "execution_count": 181,
   "metadata": {},
   "outputs": [
    {
     "name": "stderr",
     "output_type": "stream",
     "text": [
      "\"cat\" no se reconoce como un comando interno o externo,\n",
      "programa o archivo por lotes ejecutable.\n"
     ]
    }
   ],
   "source": [
    "# Guardamos en fichero:\n",
    "data.to_csv(\"personas.csv\")\n",
    "!cat \"personas.csv\""
   ]
  },
  {
   "cell_type": "code",
   "execution_count": null,
   "metadata": {},
   "outputs": [],
   "source": [
    "# Leemos de fichero:\n",
    "import pandas as pd\n",
    "nuevos_datos = pd.read_csv(\"personas.csv\")\n",
    "nuevos_datos"
   ]
  }
 ],
 "metadata": {
  "kernelspec": {
   "display_name": "Python 3",
   "language": "python",
   "name": "python3"
  },
  "language_info": {
   "codemirror_mode": {
    "name": "ipython",
    "version": 3
   },
   "file_extension": ".py",
   "mimetype": "text/x-python",
   "name": "python",
   "nbconvert_exporter": "python",
   "pygments_lexer": "ipython3",
   "version": "3.6.9"
  },
  "toc": {
   "base_numbering": 1,
   "nav_menu": {},
   "number_sections": true,
   "sideBar": true,
   "skip_h1_title": false,
   "title_cell": "Table of Contents",
   "title_sidebar": "Contents",
   "toc_cell": false,
   "toc_position": {},
   "toc_section_display": true,
   "toc_window_display": false
  }
 },
 "nbformat": 4,
 "nbformat_minor": 1
}

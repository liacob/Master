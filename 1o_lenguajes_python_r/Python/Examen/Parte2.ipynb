{
 "cells": [
  {
   "cell_type": "markdown",
   "metadata": {},
   "source": [
    "# Parte 2 / Lucian Iacob"
   ]
  },
  {
   "cell_type": "code",
   "execution_count": 30,
   "metadata": {},
   "outputs": [],
   "source": [
    "import numpy as np\n",
    "import pandas as pd\n",
    "import matplotlib.pyplot as plt\n",
    "%matplotlib inline\n",
    "\n",
    "# Primero importamos los módulos necesarios para trabajar en esta parte"
   ]
  },
  {
   "cell_type": "markdown",
   "metadata": {},
   "source": [
    "### Ejercicio 1"
   ]
  },
  {
   "cell_type": "code",
   "execution_count": 2,
   "metadata": {},
   "outputs": [],
   "source": [
    "x = np.loadtxt('data.txt',delimiter=';') \n",
    "\n",
    "#  Gracias a la funcion de numpy esto resulta muy sencillo, solo hay que tener cuidado de usar el delimitador correcto"
   ]
  },
  {
   "cell_type": "code",
   "execution_count": 3,
   "metadata": {
    "scrolled": true
   },
   "outputs": [
    {
     "data": {
      "text/plain": [
       "array([[-7.093000e-02,  1.040000e-03,  1.394000e-01],\n",
       "       [-3.240000e-01, -7.739000e-01,  3.535600e+00],\n",
       "       [-4.471000e-01,  3.444140e+00, -4.515000e-01],\n",
       "       [ 1.889600e+00,  1.345100e+00,  1.389802e+00],\n",
       "       [-3.456400e-01,  5.157900e-01,  2.045000e-01],\n",
       "       [ 1.216000e+00,  9.360000e-02, -5.563000e-01],\n",
       "       [ 9.484000e-01, -2.010200e+00,  1.952573e+00],\n",
       "       [-2.736000e-01,  4.971000e-01,  4.560000e-01]])"
      ]
     },
     "execution_count": 3,
     "metadata": {},
     "output_type": "execute_result"
    }
   ],
   "source": [
    "x"
   ]
  },
  {
   "cell_type": "markdown",
   "metadata": {},
   "source": [
    "### Ejercicio 2"
   ]
  },
  {
   "cell_type": "code",
   "execution_count": 7,
   "metadata": {},
   "outputs": [],
   "source": [
    "std_x, std_y, std_z = np.std(x[:,0]), np.std(x[:,1]), np.std(x[:,2])"
   ]
  },
  {
   "cell_type": "code",
   "execution_count": 8,
   "metadata": {},
   "outputs": [
    {
     "data": {
      "text/plain": [
       "(0.8376048485031217, 1.4841681196543866, 1.297393120180323)"
      ]
     },
     "execution_count": 8,
     "metadata": {},
     "output_type": "execute_result"
    }
   ],
   "source": [
    "std_x, std_y, std_z"
   ]
  },
  {
   "cell_type": "markdown",
   "metadata": {},
   "source": [
    "### Ejercicio 3"
   ]
  },
  {
   "cell_type": "code",
   "execution_count": 12,
   "metadata": {},
   "outputs": [
    {
     "data": {
      "text/plain": [
       "array([[-0.07093,  0.00104,  0.1394 ],\n",
       "       [-0.34564,  0.51579,  0.2045 ],\n",
       "       [-0.2736 ,  0.4971 ,  0.456  ]])"
      ]
     },
     "execution_count": 12,
     "metadata": {},
     "output_type": "execute_result"
    }
   ],
   "source": [
    "x[(x[:,0]<0) & (x[:,1] > 0) & (x[:,2] > 0)]\n",
    "\n",
    "# Aplicamos la máscara de condiciones directamente al array x y listo"
   ]
  },
  {
   "cell_type": "markdown",
   "metadata": {},
   "source": [
    "### Ejercicio 4"
   ]
  },
  {
   "cell_type": "code",
   "execution_count": 23,
   "metadata": {},
   "outputs": [],
   "source": [
    "modulo = np.sqrt(x[:,0]**2 + x[:,1]**2 + x[:,2]**2)\n",
    "\n",
    "# Numpy nos permite realizar las cuentas por columnas muy fácilmente para calcular el módulo"
   ]
  },
  {
   "cell_type": "code",
   "execution_count": 24,
   "metadata": {},
   "outputs": [
    {
     "data": {
      "text/plain": [
       "array([0.15641134, 3.63378103, 3.5022637 , 2.70396593, 0.65370221,\n",
       "       1.34048001, 2.95853138, 0.72794325])"
      ]
     },
     "execution_count": 24,
     "metadata": {},
     "output_type": "execute_result"
    }
   ],
   "source": [
    "modulo "
   ]
  },
  {
   "cell_type": "markdown",
   "metadata": {},
   "source": [
    "### Ejercicio 5"
   ]
  },
  {
   "cell_type": "code",
   "execution_count": 21,
   "metadata": {},
   "outputs": [
    {
     "data": {
      "text/html": [
       "<div>\n",
       "<style scoped>\n",
       "    .dataframe tbody tr th:only-of-type {\n",
       "        vertical-align: middle;\n",
       "    }\n",
       "\n",
       "    .dataframe tbody tr th {\n",
       "        vertical-align: top;\n",
       "    }\n",
       "\n",
       "    .dataframe thead th {\n",
       "        text-align: right;\n",
       "    }\n",
       "</style>\n",
       "<table border=\"1\" class=\"dataframe\">\n",
       "  <thead>\n",
       "    <tr style=\"text-align: right;\">\n",
       "      <th></th>\n",
       "      <th>x</th>\n",
       "      <th>y</th>\n",
       "      <th>z</th>\n",
       "    </tr>\n",
       "  </thead>\n",
       "  <tbody>\n",
       "    <tr>\n",
       "      <th>0</th>\n",
       "      <td>-0.07093</td>\n",
       "      <td>0.00104</td>\n",
       "      <td>0.139400</td>\n",
       "    </tr>\n",
       "    <tr>\n",
       "      <th>1</th>\n",
       "      <td>-0.32400</td>\n",
       "      <td>-0.77390</td>\n",
       "      <td>3.535600</td>\n",
       "    </tr>\n",
       "    <tr>\n",
       "      <th>2</th>\n",
       "      <td>-0.44710</td>\n",
       "      <td>3.44414</td>\n",
       "      <td>-0.451500</td>\n",
       "    </tr>\n",
       "    <tr>\n",
       "      <th>3</th>\n",
       "      <td>1.88960</td>\n",
       "      <td>1.34510</td>\n",
       "      <td>1.389802</td>\n",
       "    </tr>\n",
       "    <tr>\n",
       "      <th>4</th>\n",
       "      <td>-0.34564</td>\n",
       "      <td>0.51579</td>\n",
       "      <td>0.204500</td>\n",
       "    </tr>\n",
       "    <tr>\n",
       "      <th>5</th>\n",
       "      <td>1.21600</td>\n",
       "      <td>0.09360</td>\n",
       "      <td>-0.556300</td>\n",
       "    </tr>\n",
       "    <tr>\n",
       "      <th>6</th>\n",
       "      <td>0.94840</td>\n",
       "      <td>-2.01020</td>\n",
       "      <td>1.952573</td>\n",
       "    </tr>\n",
       "    <tr>\n",
       "      <th>7</th>\n",
       "      <td>-0.27360</td>\n",
       "      <td>0.49710</td>\n",
       "      <td>0.456000</td>\n",
       "    </tr>\n",
       "  </tbody>\n",
       "</table>\n",
       "</div>"
      ],
      "text/plain": [
       "         x        y         z\n",
       "0 -0.07093  0.00104  0.139400\n",
       "1 -0.32400 -0.77390  3.535600\n",
       "2 -0.44710  3.44414 -0.451500\n",
       "3  1.88960  1.34510  1.389802\n",
       "4 -0.34564  0.51579  0.204500\n",
       "5  1.21600  0.09360 -0.556300\n",
       "6  0.94840 -2.01020  1.952573\n",
       "7 -0.27360  0.49710  0.456000"
      ]
     },
     "execution_count": 21,
     "metadata": {},
     "output_type": "execute_result"
    }
   ],
   "source": [
    "d = pd.DataFrame(data=x, columns=['x', 'y', 'z'])\n",
    "d"
   ]
  },
  {
   "cell_type": "markdown",
   "metadata": {},
   "source": [
    "### Ejercicio 6"
   ]
  },
  {
   "cell_type": "code",
   "execution_count": 25,
   "metadata": {},
   "outputs": [
    {
     "data": {
      "text/html": [
       "<div>\n",
       "<style scoped>\n",
       "    .dataframe tbody tr th:only-of-type {\n",
       "        vertical-align: middle;\n",
       "    }\n",
       "\n",
       "    .dataframe tbody tr th {\n",
       "        vertical-align: top;\n",
       "    }\n",
       "\n",
       "    .dataframe thead th {\n",
       "        text-align: right;\n",
       "    }\n",
       "</style>\n",
       "<table border=\"1\" class=\"dataframe\">\n",
       "  <thead>\n",
       "    <tr style=\"text-align: right;\">\n",
       "      <th></th>\n",
       "      <th>x</th>\n",
       "      <th>y</th>\n",
       "      <th>z</th>\n",
       "      <th>modulo</th>\n",
       "    </tr>\n",
       "  </thead>\n",
       "  <tbody>\n",
       "    <tr>\n",
       "      <th>0</th>\n",
       "      <td>-0.07093</td>\n",
       "      <td>0.00104</td>\n",
       "      <td>0.139400</td>\n",
       "      <td>0.156411</td>\n",
       "    </tr>\n",
       "    <tr>\n",
       "      <th>1</th>\n",
       "      <td>-0.32400</td>\n",
       "      <td>-0.77390</td>\n",
       "      <td>3.535600</td>\n",
       "      <td>3.633781</td>\n",
       "    </tr>\n",
       "    <tr>\n",
       "      <th>2</th>\n",
       "      <td>-0.44710</td>\n",
       "      <td>3.44414</td>\n",
       "      <td>-0.451500</td>\n",
       "      <td>3.502264</td>\n",
       "    </tr>\n",
       "    <tr>\n",
       "      <th>3</th>\n",
       "      <td>1.88960</td>\n",
       "      <td>1.34510</td>\n",
       "      <td>1.389802</td>\n",
       "      <td>2.703966</td>\n",
       "    </tr>\n",
       "    <tr>\n",
       "      <th>4</th>\n",
       "      <td>-0.34564</td>\n",
       "      <td>0.51579</td>\n",
       "      <td>0.204500</td>\n",
       "      <td>0.653702</td>\n",
       "    </tr>\n",
       "    <tr>\n",
       "      <th>5</th>\n",
       "      <td>1.21600</td>\n",
       "      <td>0.09360</td>\n",
       "      <td>-0.556300</td>\n",
       "      <td>1.340480</td>\n",
       "    </tr>\n",
       "    <tr>\n",
       "      <th>6</th>\n",
       "      <td>0.94840</td>\n",
       "      <td>-2.01020</td>\n",
       "      <td>1.952573</td>\n",
       "      <td>2.958531</td>\n",
       "    </tr>\n",
       "    <tr>\n",
       "      <th>7</th>\n",
       "      <td>-0.27360</td>\n",
       "      <td>0.49710</td>\n",
       "      <td>0.456000</td>\n",
       "      <td>0.727943</td>\n",
       "    </tr>\n",
       "  </tbody>\n",
       "</table>\n",
       "</div>"
      ],
      "text/plain": [
       "         x        y         z    modulo\n",
       "0 -0.07093  0.00104  0.139400  0.156411\n",
       "1 -0.32400 -0.77390  3.535600  3.633781\n",
       "2 -0.44710  3.44414 -0.451500  3.502264\n",
       "3  1.88960  1.34510  1.389802  2.703966\n",
       "4 -0.34564  0.51579  0.204500  0.653702\n",
       "5  1.21600  0.09360 -0.556300  1.340480\n",
       "6  0.94840 -2.01020  1.952573  2.958531\n",
       "7 -0.27360  0.49710  0.456000  0.727943"
      ]
     },
     "execution_count": 25,
     "metadata": {},
     "output_type": "execute_result"
    }
   ],
   "source": [
    "d['modulo'] = modulo\n",
    "d"
   ]
  },
  {
   "cell_type": "markdown",
   "metadata": {},
   "source": [
    "### Ejercicio 7"
   ]
  },
  {
   "cell_type": "code",
   "execution_count": 26,
   "metadata": {},
   "outputs": [
    {
     "data": {
      "text/html": [
       "<div>\n",
       "<style scoped>\n",
       "    .dataframe tbody tr th:only-of-type {\n",
       "        vertical-align: middle;\n",
       "    }\n",
       "\n",
       "    .dataframe tbody tr th {\n",
       "        vertical-align: top;\n",
       "    }\n",
       "\n",
       "    .dataframe thead th {\n",
       "        text-align: right;\n",
       "    }\n",
       "</style>\n",
       "<table border=\"1\" class=\"dataframe\">\n",
       "  <thead>\n",
       "    <tr style=\"text-align: right;\">\n",
       "      <th></th>\n",
       "      <th>x</th>\n",
       "      <th>y</th>\n",
       "      <th>z</th>\n",
       "      <th>modulo</th>\n",
       "    </tr>\n",
       "  </thead>\n",
       "  <tbody>\n",
       "    <tr>\n",
       "      <th>0</th>\n",
       "      <td>-0.07093</td>\n",
       "      <td>0.00104</td>\n",
       "      <td>0.139400</td>\n",
       "      <td>0.156411</td>\n",
       "    </tr>\n",
       "    <tr>\n",
       "      <th>4</th>\n",
       "      <td>-0.34564</td>\n",
       "      <td>0.51579</td>\n",
       "      <td>0.204500</td>\n",
       "      <td>0.653702</td>\n",
       "    </tr>\n",
       "    <tr>\n",
       "      <th>7</th>\n",
       "      <td>-0.27360</td>\n",
       "      <td>0.49710</td>\n",
       "      <td>0.456000</td>\n",
       "      <td>0.727943</td>\n",
       "    </tr>\n",
       "    <tr>\n",
       "      <th>5</th>\n",
       "      <td>1.21600</td>\n",
       "      <td>0.09360</td>\n",
       "      <td>-0.556300</td>\n",
       "      <td>1.340480</td>\n",
       "    </tr>\n",
       "    <tr>\n",
       "      <th>3</th>\n",
       "      <td>1.88960</td>\n",
       "      <td>1.34510</td>\n",
       "      <td>1.389802</td>\n",
       "      <td>2.703966</td>\n",
       "    </tr>\n",
       "    <tr>\n",
       "      <th>6</th>\n",
       "      <td>0.94840</td>\n",
       "      <td>-2.01020</td>\n",
       "      <td>1.952573</td>\n",
       "      <td>2.958531</td>\n",
       "    </tr>\n",
       "    <tr>\n",
       "      <th>2</th>\n",
       "      <td>-0.44710</td>\n",
       "      <td>3.44414</td>\n",
       "      <td>-0.451500</td>\n",
       "      <td>3.502264</td>\n",
       "    </tr>\n",
       "    <tr>\n",
       "      <th>1</th>\n",
       "      <td>-0.32400</td>\n",
       "      <td>-0.77390</td>\n",
       "      <td>3.535600</td>\n",
       "      <td>3.633781</td>\n",
       "    </tr>\n",
       "  </tbody>\n",
       "</table>\n",
       "</div>"
      ],
      "text/plain": [
       "         x        y         z    modulo\n",
       "0 -0.07093  0.00104  0.139400  0.156411\n",
       "4 -0.34564  0.51579  0.204500  0.653702\n",
       "7 -0.27360  0.49710  0.456000  0.727943\n",
       "5  1.21600  0.09360 -0.556300  1.340480\n",
       "3  1.88960  1.34510  1.389802  2.703966\n",
       "6  0.94840 -2.01020  1.952573  2.958531\n",
       "2 -0.44710  3.44414 -0.451500  3.502264\n",
       "1 -0.32400 -0.77390  3.535600  3.633781"
      ]
     },
     "execution_count": 26,
     "metadata": {},
     "output_type": "execute_result"
    }
   ],
   "source": [
    "d.sort_values(by='modulo')\n",
    "\n",
    "#  No sé si queremos que el original cambie a la versión ordenada o queremos una copia así que muestro la copia y ya por si acaso"
   ]
  },
  {
   "cell_type": "markdown",
   "metadata": {},
   "source": [
    "### Ejercicio 8"
   ]
  },
  {
   "cell_type": "code",
   "execution_count": 27,
   "metadata": {},
   "outputs": [
    {
     "data": {
      "text/html": [
       "<div>\n",
       "<style scoped>\n",
       "    .dataframe tbody tr th:only-of-type {\n",
       "        vertical-align: middle;\n",
       "    }\n",
       "\n",
       "    .dataframe tbody tr th {\n",
       "        vertical-align: top;\n",
       "    }\n",
       "\n",
       "    .dataframe thead th {\n",
       "        text-align: right;\n",
       "    }\n",
       "</style>\n",
       "<table border=\"1\" class=\"dataframe\">\n",
       "  <thead>\n",
       "    <tr style=\"text-align: right;\">\n",
       "      <th></th>\n",
       "      <th>x</th>\n",
       "      <th>y</th>\n",
       "      <th>z</th>\n",
       "      <th>modulo</th>\n",
       "    </tr>\n",
       "  </thead>\n",
       "  <tbody>\n",
       "    <tr>\n",
       "      <th>count</th>\n",
       "      <td>8.000000</td>\n",
       "      <td>8.000000</td>\n",
       "      <td>8.000000</td>\n",
       "      <td>8.000000</td>\n",
       "    </tr>\n",
       "    <tr>\n",
       "      <th>mean</th>\n",
       "      <td>0.324091</td>\n",
       "      <td>0.389084</td>\n",
       "      <td>0.833759</td>\n",
       "      <td>1.959635</td>\n",
       "    </tr>\n",
       "    <tr>\n",
       "      <th>std</th>\n",
       "      <td>0.895437</td>\n",
       "      <td>1.586642</td>\n",
       "      <td>1.386972</td>\n",
       "      <td>1.393443</td>\n",
       "    </tr>\n",
       "    <tr>\n",
       "      <th>min</th>\n",
       "      <td>-0.447100</td>\n",
       "      <td>-2.010200</td>\n",
       "      <td>-0.556300</td>\n",
       "      <td>0.156411</td>\n",
       "    </tr>\n",
       "    <tr>\n",
       "      <th>25%</th>\n",
       "      <td>-0.329410</td>\n",
       "      <td>-0.192695</td>\n",
       "      <td>-0.008325</td>\n",
       "      <td>0.709383</td>\n",
       "    </tr>\n",
       "    <tr>\n",
       "      <th>50%</th>\n",
       "      <td>-0.172265</td>\n",
       "      <td>0.295350</td>\n",
       "      <td>0.330250</td>\n",
       "      <td>2.022223</td>\n",
       "    </tr>\n",
       "    <tr>\n",
       "      <th>75%</th>\n",
       "      <td>1.015300</td>\n",
       "      <td>0.723117</td>\n",
       "      <td>1.530495</td>\n",
       "      <td>3.094464</td>\n",
       "    </tr>\n",
       "    <tr>\n",
       "      <th>max</th>\n",
       "      <td>1.889600</td>\n",
       "      <td>3.444140</td>\n",
       "      <td>3.535600</td>\n",
       "      <td>3.633781</td>\n",
       "    </tr>\n",
       "  </tbody>\n",
       "</table>\n",
       "</div>"
      ],
      "text/plain": [
       "              x         y         z    modulo\n",
       "count  8.000000  8.000000  8.000000  8.000000\n",
       "mean   0.324091  0.389084  0.833759  1.959635\n",
       "std    0.895437  1.586642  1.386972  1.393443\n",
       "min   -0.447100 -2.010200 -0.556300  0.156411\n",
       "25%   -0.329410 -0.192695 -0.008325  0.709383\n",
       "50%   -0.172265  0.295350  0.330250  2.022223\n",
       "75%    1.015300  0.723117  1.530495  3.094464\n",
       "max    1.889600  3.444140  3.535600  3.633781"
      ]
     },
     "execution_count": 27,
     "metadata": {},
     "output_type": "execute_result"
    }
   ],
   "source": [
    "d.describe()\n",
    "\n",
    "# El método describe nos da la descripción más completa del DataFrame y nos permite ver en un momento la información importante"
   ]
  },
  {
   "cell_type": "markdown",
   "metadata": {},
   "source": [
    "### Ejercicio 9"
   ]
  },
  {
   "cell_type": "code",
   "execution_count": 33,
   "metadata": {},
   "outputs": [
    {
     "data": {
      "image/png": "[encoded data removed]",
      "text/plain": [
       "<Figure size 432x288 with 1 Axes>"
      ]
     },
     "metadata": {
      "needs_background": "light"
     },
     "output_type": "display_data"
    }
   ],
   "source": [
    "plt.scatter(x[:,0],x[:,1])\n",
    "plt.xlabel('Componente X')\n",
    "plt.ylabel('Componente y')\n",
    "plt.title('Ejercicio 9')\n",
    "plt.grid()"
   ]
  },
  {
   "cell_type": "markdown",
   "metadata": {},
   "source": [
    "### Ejercicio 10"
   ]
  },
  {
   "cell_type": "code",
   "execution_count": 37,
   "metadata": {},
   "outputs": [
    {
     "data": {
      "image/png": "[encoded data removed]",
      "text/plain": [
       "<Figure size 432x288 with 1 Axes>"
      ]
     },
     "metadata": {
      "needs_background": "light"
     },
     "output_type": "display_data"
    }
   ],
   "source": [
    "plt.hist(x[:,2],bins=20)\n",
    "plt.xlabel('Componente Z')\n",
    "plt.ylabel('Frecuencia')\n",
    "plt.title('Ejercicio 10')\n",
    "plt.grid()"
   ]
  }
 ],
 "metadata": {
  "kernelspec": {
   "display_name": "Python 3",
   "language": "python",
   "name": "python3"
  },
  "language_info": {
   "codemirror_mode": {
    "name": "ipython",
    "version": 3
   },
   "file_extension": ".py",
   "mimetype": "text/x-python",
   "name": "python",
   "nbconvert_exporter": "python",
   "pygments_lexer": "ipython3",
   "version": "3.7.6"
  }
 },
 "nbformat": 4,
 "nbformat_minor": 4
}

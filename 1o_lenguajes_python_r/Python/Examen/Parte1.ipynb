{
 "cells": [
  {
   "cell_type": "markdown",
   "metadata": {},
   "source": [
    "# Parte 1 / Lucian Iacob"
   ]
  },
  {
   "cell_type": "code",
   "execution_count": null,
   "metadata": {},
   "outputs": [],
   "source": [
    "import sys # Módulo utilizado para poder trabajar con el prompt"
   ]
  },
  {
   "cell_type": "code",
   "execution_count": 8,
   "metadata": {},
   "outputs": [],
   "source": [
    "def num(s):\n",
    "    \n",
    "    \"\"\" Funcion creada para cambiar los tipos de los distintos elementos del documento a int o float o mantenerlos\n",
    "        como str segun lo que sean\"\"\"\n",
    "    \n",
    "    if s.isnumeric():\n",
    "        return int(s)\n",
    "    else:\n",
    "        try:\n",
    "            return float(s)\n",
    "        except ValueError:\n",
    "            print('A este archivo solo se le pueden pasar ficheros que contengan valores numéricos')"
   ]
  },
  {
   "cell_type": "code",
   "execution_count": 9,
   "metadata": {},
   "outputs": [],
   "source": [
    "f = open(sys.argv[1],'r')\n",
    "\n",
    "lines = f.readlines() # Lista con las líneas del archivo sin modificar\n",
    "lines2 = [line.replace('\\n','').split(',') for line in lines]  # Lista separado la str de cada fila en sus elementos\n",
    "lines3 = [list(map(num,lista)) for lista in lines2]  # Lo mismo que lines2 pero transformando a número\n",
    "\n",
    "f.close()"
   ]
  },
  {
   "cell_type": "code",
   "execution_count": 33,
   "metadata": {
    "scrolled": true
   },
   "outputs": [],
   "source": [
    "lista_min = []\n",
    "def minimo(lista):\n",
    "    \"\"\" Funcion que nos printea el mínimo de cada fila\"\"\"\n",
    "    for fila in lista:\n",
    "        lista_min.append(min(set(fila))) # Hacemos un set de la fila para no contar posibles elementos repetidos como me aconsejaste en los comentarios\n",
    "    return(lista_min)"
   ]
  },
  {
   "cell_type": "code",
   "execution_count": 38,
   "metadata": {},
   "outputs": [],
   "source": [
    "lista_max = []\n",
    "def maximo(lista):\n",
    "    for fila in lista:\n",
    "        lista_max.append(max(set(fila)))\n",
    "    return(lista_max)"
   ]
  },
  {
   "cell_type": "code",
   "execution_count": null,
   "metadata": {},
   "outputs": [],
   "source": [
    "dic = {'min':minimo,'max':maximo}\n",
    "\n",
    "arg = sys.argv[2]\n",
    "\n",
    "try:\n",
    "    a = dic.get(arg)(lines3)\n",
    "    for element in a:\n",
    "        print(element)\n",
    "except TypeError:\n",
    "    print('Este archivo solo puede recibir como argumento min o max')"
   ]
  }
 ],
 "metadata": {
  "kernelspec": {
   "display_name": "Python 3",
   "language": "python",
   "name": "python3"
  },
  "language_info": {
   "codemirror_mode": {
    "name": "ipython",
    "version": 3
   },
   "file_extension": ".py",
   "mimetype": "text/x-python",
   "name": "python",
   "nbconvert_exporter": "python",
   "pygments_lexer": "ipython3",
   "version": "3.7.6"
  }
 },
 "nbformat": 4,
 "nbformat_minor": 4
}

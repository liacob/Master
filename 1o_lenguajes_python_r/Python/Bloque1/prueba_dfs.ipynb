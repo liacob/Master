{
 "cells": [
  {
   "cell_type": "code",
   "execution_count": 2,
   "metadata": {},
   "outputs": [],
   "source": [
    "import pandas as pd"
   ]
  },
  {
   "cell_type": "code",
   "execution_count": 1,
   "metadata": {},
   "outputs": [],
   "source": [
    "def num(s):\n",
    "    \n",
    "    \"\"\" Funcion creada para cambiar los tipos de los distintos elementos del documento a int o float o mantenerlos\n",
    "        como str segun lo que sean\"\"\"\n",
    "    \n",
    "    if s.isnumeric():\n",
    "        return int(s)\n",
    "    else:\n",
    "        try:\n",
    "            return float(s)\n",
    "        except ValueError:\n",
    "            return(s)"
   ]
  }
 ],
 "metadata": {
  "kernelspec": {
   "display_name": "Python 3",
   "language": "python",
   "name": "python3"
  },
  "language_info": {
   "codemirror_mode": {
    "name": "ipython",
    "version": 3
   },
   "file_extension": ".py",
   "mimetype": "text/x-python",
   "name": "python",
   "nbconvert_exporter": "python",
   "pygments_lexer": "ipython3",
   "version": "3.7.6"
  }
 },
 "nbformat": 4,
 "nbformat_minor": 4
}

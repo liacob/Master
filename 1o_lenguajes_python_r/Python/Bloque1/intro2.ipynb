{
 "cells": [
  {
   "cell_type": "markdown",
   "metadata": {},
   "source": [
    "# Bucles while"
   ]
  },
  {
   "cell_type": "markdown",
   "metadata": {},
   "source": [
    "### Tabla del 6"
   ]
  },
  {
   "cell_type": "code",
   "execution_count": 1,
   "metadata": {},
   "outputs": [
    {
     "name": "stdout",
     "output_type": "stream",
     "text": [
      "6 12 18 24 30 36 42 48 54 60 "
     ]
    }
   ],
   "source": [
    "i = 1 \n",
    "while i < 11:     \n",
    "    print(6*i, end=' ')    \n",
    "    i = i+1"
   ]
  },
  {
   "cell_type": "markdown",
   "metadata": {},
   "source": [
    "### Tablas del 1 al 10"
   ]
  },
  {
   "cell_type": "code",
   "execution_count": 2,
   "metadata": {},
   "outputs": [
    {
     "name": "stdout",
     "output_type": "stream",
     "text": [
      "1 2 3 4 5 6 7 8 9 10 \n",
      "\n",
      "2 4 6 8 10 12 14 16 18 20 \n",
      "\n",
      "3 6 9 12 15 18 21 24 27 30 \n",
      "\n",
      "4 8 12 16 20 24 28 32 36 40 \n",
      "\n",
      "5 10 15 20 25 30 35 40 45 50 \n",
      "\n",
      "6 12 18 24 30 36 42 48 54 60 \n",
      "\n",
      "7 14 21 28 35 42 49 56 63 70 \n",
      "\n",
      "8 16 24 32 40 48 56 64 72 80 \n",
      "\n",
      "9 18 27 36 45 54 63 72 81 90 \n",
      "\n",
      "10 20 30 40 50 60 70 80 90 100 \n",
      "\n"
     ]
    }
   ],
   "source": [
    "i,j = 1,1\n",
    "while i < 11:\n",
    "    while j < 11:\n",
    "        print(i*j,end= ' ')\n",
    "        j+=1\n",
    "    print('\\n')\n",
    "    j=1\n",
    "    i+=1\n",
    "        "
   ]
  },
  {
   "cell_type": "markdown",
   "metadata": {},
   "source": [
    "### Depurar cadenas"
   ]
  },
  {
   "cell_type": "code",
   "execution_count": 3,
   "metadata": {},
   "outputs": [
    {
     "name": "stdout",
     "output_type": "stream",
     "text": [
      "esta cadena acaba aqui"
     ]
    }
   ],
   "source": [
    "c = 'eessttaa ccaaddeennaa aaccabbaa aquuiii esto no se imprime'\n",
    "\n",
    "count = 0\n",
    "a = 0\n",
    "\n",
    "for i in c:\n",
    "    if a == i: \n",
    "        count +=1\n",
    "        continue\n",
    "    if count ==2:\n",
    "        break\n",
    "    count = 0\n",
    "    print(i, end='')\n",
    "    a = i"
   ]
  },
  {
   "cell_type": "markdown",
   "metadata": {},
   "source": [
    "# Bucles for "
   ]
  },
  {
   "cell_type": "markdown",
   "metadata": {},
   "source": [
    "### Tabla del 6"
   ]
  },
  {
   "cell_type": "code",
   "execution_count": 38,
   "metadata": {},
   "outputs": [
    {
     "name": "stdout",
     "output_type": "stream",
     "text": [
      "6 12 18 24 30 36 42 48 54 60 "
     ]
    }
   ],
   "source": [
    "for i in range(1,11):\n",
    "    print(6*i,end=' ')"
   ]
  },
  {
   "cell_type": "markdown",
   "metadata": {},
   "source": [
    "### Tablas de multiplicar"
   ]
  },
  {
   "cell_type": "code",
   "execution_count": 40,
   "metadata": {},
   "outputs": [
    {
     "name": "stdout",
     "output_type": "stream",
     "text": [
      "1 2 3 4 5 6 7 8 9 10 \n",
      "\n",
      "2 4 6 8 10 12 14 16 18 20 \n",
      "\n",
      "3 6 9 12 15 18 21 24 27 30 \n",
      "\n",
      "4 8 12 16 20 24 28 32 36 40 \n",
      "\n",
      "5 10 15 20 25 30 35 40 45 50 \n",
      "\n",
      "6 12 18 24 30 36 42 48 54 60 \n",
      "\n",
      "7 14 21 28 35 42 49 56 63 70 \n",
      "\n",
      "8 16 24 32 40 48 56 64 72 80 \n",
      "\n",
      "9 18 27 36 45 54 63 72 81 90 \n",
      "\n",
      "10 20 30 40 50 60 70 80 90 100 \n",
      "\n"
     ]
    }
   ],
   "source": [
    "for i in range(1,11):\n",
    "    for j in range(1,11):\n",
    "        print(i*j,end=' ')\n",
    "    print('\\n')"
   ]
  },
  {
   "cell_type": "markdown",
   "metadata": {},
   "source": [
    "### Imprimir cadena en cuadrado (sin enumerate)"
   ]
  },
  {
   "cell_type": "code",
   "execution_count": 47,
   "metadata": {},
   "outputs": [
    {
     "name": "stdout",
     "output_type": "stream",
     "text": [
      "Este es\n",
      "\n",
      " un men\n",
      "\n",
      "saje la\n",
      "\n",
      "rgo par\n",
      "\n",
      "a forma\n",
      "\n",
      "tear en\n",
      "\n",
      " una ca\n",
      "\n",
      "ja"
     ]
    }
   ],
   "source": [
    "c = 'Este es un mensaje largo para formatear en una caja' \n",
    "\n",
    "tam = 7\n",
    "a = 0\n",
    "\n",
    "for i in c:\n",
    "    print(i,end='')\n",
    "    a+=1\n",
    "    if a == tam:\n",
    "        print('\\n')\n",
    "        a = 0\n",
    "    "
   ]
  },
  {
   "cell_type": "markdown",
   "metadata": {},
   "source": [
    "### Imprimir cadena en cuadrado (con enumerate)"
   ]
  },
  {
   "cell_type": "code",
   "execution_count": 5,
   "metadata": {},
   "outputs": [
    {
     "name": "stdout",
     "output_type": "stream",
     "text": [
      "Este es \n",
      "\n",
      "un mens\n",
      "\n",
      "aje lar\n",
      "\n",
      "go para\n",
      "\n",
      " format\n",
      "\n",
      "ear en \n",
      "\n",
      "una caj\n",
      "\n",
      "a"
     ]
    }
   ],
   "source": [
    "c = 'Este es un mensaje largo para formatear en una caja' \n",
    "tam = 7\n",
    "\n",
    "for i,j in enumerate(c):\n",
    "    print(j,end='')\n",
    "    if (i % tam < 1) and (i > 1):\n",
    "        print('\\n')\n",
    "    "
   ]
  },
  {
   "cell_type": "markdown",
   "metadata": {},
   "source": [
    "### Depuración de cadenas"
   ]
  },
  {
   "cell_type": "code",
   "execution_count": 6,
   "metadata": {},
   "outputs": [
    {
     "name": "stdout",
     "output_type": "stream",
     "text": [
      "esta cadena acaba aqui"
     ]
    }
   ],
   "source": [
    "c = 'eessttaa ccaaddeennaa aaccabbaa aquuiii esto no se imprime'\n",
    "count = 0\n",
    "a = 0\n",
    "\n",
    "for i,j in enumerate(c):\n",
    "    if j == a:\n",
    "        count+=1\n",
    "        continue\n",
    "    if count == 2:\n",
    "        break\n",
    "    count = 0\n",
    "    a = j\n",
    "    print(a,end='')"
   ]
  },
  {
   "cell_type": "markdown",
   "metadata": {},
   "source": [
    "### Comprobación matches en strings"
   ]
  },
  {
   "cell_type": "code",
   "execution_count": 61,
   "metadata": {},
   "outputs": [
    {
     "name": "stdout",
     "output_type": "stream",
     "text": [
      "4\n"
     ]
    }
   ],
   "source": [
    "c1='camina'\n",
    "c2='sabina'\n",
    "a = 0\n",
    "\n",
    "for i,j in enumerate(c1):\n",
    "    for k,l in enumerate(c2):\n",
    "        if j==l and i==k:\n",
    "            a +=1\n",
    "print(a)"
   ]
  }
 ],
 "metadata": {
  "kernelspec": {
   "display_name": "Python 3",
   "language": "python",
   "name": "python3"
  },
  "language_info": {
   "codemirror_mode": {
    "name": "ipython",
    "version": 3
   },
   "file_extension": ".py",
   "mimetype": "text/x-python",
   "name": "python",
   "nbconvert_exporter": "python",
   "pygments_lexer": "ipython3",
   "version": "3.7.6"
  }
 },
 "nbformat": 4,
 "nbformat_minor": 2
}

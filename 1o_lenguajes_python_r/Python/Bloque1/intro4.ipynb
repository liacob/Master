{
 "cells": [
  {
   "cell_type": "markdown",
   "metadata": {},
   "source": [
    "# Funciones"
   ]
  },
  {
   "cell_type": "markdown",
   "metadata": {},
   "source": [
    "### Máximo"
   ]
  },
  {
   "cell_type": "code",
   "execution_count": 4,
   "metadata": {},
   "outputs": [
    {
     "name": "stdout",
     "output_type": "stream",
     "text": [
      "8\n"
     ]
    }
   ],
   "source": [
    "def max3(a,b,c):\n",
    "    maximo = a\n",
    "    if a < b or a < c:\n",
    "        if b < c:\n",
    "            maximo = c\n",
    "        else:\n",
    "            maximo = b\n",
    "    return maximo\n",
    "\n",
    "m = max3(5,8,5)\n",
    "\n",
    "print(m)\n"
   ]
  },
  {
   "cell_type": "markdown",
   "metadata": {},
   "source": [
    "# Módulos"
   ]
  },
  {
   "cell_type": "markdown",
   "metadata": {},
   "source": [
    "### OS"
   ]
  },
  {
   "cell_type": "code",
   "execution_count": 25,
   "metadata": {},
   "outputs": [
    {
     "data": {
      "text/plain": [
       "0"
      ]
     },
     "execution_count": 25,
     "metadata": {},
     "output_type": "execute_result"
    }
   ],
   "source": [
    "# Módulo útil para trabajar con el sistema operativo\n",
    "\n",
    "import os\n",
    "\n",
    "# os.getcwd()  # Ver el directorio actual\n",
    "\n",
    "# os.system('dir') # Ejecuta cosas como si estuvieramos en un terminal\n",
    "\n",
    "# os.path.exists('tmp/') # Comprueba si existe el path indicado\n",
    "\n",
    "# os.system('rmdir tmp/') # Con esto lo borramos \n",
    "\n",
    "# os.chdir('Bloque1') # Nos cambia el directorio de trabajo\n",
    "\n"
   ]
  }
 ],
 "metadata": {
  "kernelspec": {
   "display_name": "Python 3",
   "language": "python",
   "name": "python3"
  },
  "language_info": {
   "codemirror_mode": {
    "name": "ipython",
    "version": 3
   },
   "file_extension": ".py",
   "mimetype": "text/x-python",
   "name": "python",
   "nbconvert_exporter": "python",
   "pygments_lexer": "ipython3",
   "version": "3.7.6"
  }
 },
 "nbformat": 4,
 "nbformat_minor": 2
}

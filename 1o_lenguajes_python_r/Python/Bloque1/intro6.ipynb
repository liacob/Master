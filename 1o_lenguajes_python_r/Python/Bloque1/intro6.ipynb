{
 "cells": [
  {
   "cell_type": "markdown",
   "metadata": {},
   "source": [
    "# Programación funcional"
   ]
  },
  {
   "cell_type": "markdown",
   "metadata": {},
   "source": [
    "### Ejemplo uso map"
   ]
  },
  {
   "cell_type": "code",
   "execution_count": 3,
   "metadata": {},
   "outputs": [
    {
     "name": "stdout",
     "output_type": "stream",
     "text": [
      "1 4 9 16 "
     ]
    },
    {
     "data": {
      "text/plain": [
       "[1, 4, 9, 16]"
      ]
     },
     "execution_count": 3,
     "metadata": {},
     "output_type": "execute_result"
    }
   ],
   "source": [
    "\"\"\"La funcion map recibe una funcion y un iterable, aplica la funcion a cada elemento del iterable \"\"\"\n",
    "\n",
    "nums = [1,2,3,4]\n",
    "\n",
    "for i in map(lambda x: x**2,nums):\n",
    "    print(i,end=' ')\n",
    "    \n",
    "# Si lo queremos hacer una lista\n",
    "\n",
    "list(map(lambda x:x**2,nums))"
   ]
  },
  {
   "cell_type": "markdown",
   "metadata": {},
   "source": [
    "### Ejemplo uso filter"
   ]
  },
  {
   "cell_type": "code",
   "execution_count": 6,
   "metadata": {},
   "outputs": [
    {
     "data": {
      "text/plain": [
       "[1, 3, 5, 7]"
      ]
     },
     "execution_count": 6,
     "metadata": {},
     "output_type": "execute_result"
    }
   ],
   "source": [
    "\"\"\"\"La funcion filter aplica una funcion filtro a un iterable tambien pero esta vez se nos devuelve otro iterable que nos \n",
    "devuelve true si se cumple el filtro\"\"\"\n",
    "\n",
    "nums = [1,2,3,4,5,6,7]\n",
    "\n",
    "list(filter(lambda x:x%2 == 1,nums)) # Chequear si es impar, mucho mejor que hacer un bucle for\n"
   ]
  },
  {
   "cell_type": "markdown",
   "metadata": {},
   "source": [
    "### Ejemplo usando max/min"
   ]
  },
  {
   "cell_type": "code",
   "execution_count": 8,
   "metadata": {},
   "outputs": [
    {
     "data": {
      "text/plain": [
       "'comprobacion'"
      ]
     },
     "execution_count": 8,
     "metadata": {},
     "output_type": "execute_result"
    }
   ],
   "source": [
    "c = ['Esta','es','una','cadena','de','comprobacion']\n",
    "\n",
    "max(c,key=lambda p: len(p)) # Para ver que palabra es la mas larga de la cadena"
   ]
  },
  {
   "cell_type": "markdown",
   "metadata": {},
   "source": [
    "### Ejemplo usando sorted"
   ]
  },
  {
   "cell_type": "code",
   "execution_count": 3,
   "metadata": {},
   "outputs": [
    {
     "data": {
      "text/plain": [
       "[1, 3, 5, 7, 9, 0, 2, 4, 6, 8]"
      ]
     },
     "execution_count": 3,
     "metadata": {},
     "output_type": "execute_result"
    }
   ],
   "source": [
    "c = ['Esta','es','una','cadena','de','comprobacion']\n",
    "\n",
    "sorted(c,key = lambda p: len(p),reverse=True)\n",
    "\n",
    "nums = [3,9,8,2,7,4,1,5,6,0]  # Es estable, si coinciden en el criterio utilizado se mantiene el orden original entre esos dos\n",
    "\n",
    "sorted(sorted(nums), key = lambda x: -(x%2))\n"
   ]
  },
  {
   "cell_type": "markdown",
   "metadata": {},
   "source": [
    "### Ordenar lista de palabras independiente de mayusculas "
   ]
  },
  {
   "cell_type": "code",
   "execution_count": 14,
   "metadata": {},
   "outputs": [
    {
     "data": {
      "text/plain": [
       "['AA', 'aa', 'Barro', 'bb']"
      ]
     },
     "execution_count": 14,
     "metadata": {},
     "output_type": "execute_result"
    }
   ],
   "source": [
    "lt = ['AA','aa','bb','Barro']\n",
    "\n",
    "sorted(lt,key = lambda x: x.lower())"
   ]
  },
  {
   "cell_type": "markdown",
   "metadata": {},
   "source": [
    "### Ordenar tuplas 1 "
   ]
  },
  {
   "cell_type": "code",
   "execution_count": 24,
   "metadata": {},
   "outputs": [
    {
     "name": "stdout",
     "output_type": "stream",
     "text": [
      "Lista ordenada por edad: [('pedro', 9, 25), ('david', 8, 35), ('juan', 10, 50), ('david', 9, 55)]\n",
      "Lista ordenada por nota: [('david', 8, 35), ('pedro', 9, 25), ('david', 9, 55), ('juan', 10, 50)]\n",
      "Lista ordenada por nombre: [('david', 9, 55), ('david', 8, 35), ('juan', 10, 50), ('pedro', 9, 25)]\n"
     ]
    }
   ],
   "source": [
    "estudiantes = [('juan', 10, 50), ('pedro', 9, 25), ('david', 9, 55), ('david', 8, 35)]\n",
    "\n",
    "def orden_edad(lista):\n",
    "    \n",
    "    return(sorted(lista,key = lambda x: x[:][2]))\n",
    "print('Lista ordenada por edad:', orden_edad(estudiantes))\n",
    "\n",
    "def orden_nota(lista):\n",
    "    \n",
    "    return(sorted(lista,key = lambda x: x[:][1]))\n",
    "print('Lista ordenada por nota:',orden_nota(estudiantes))\n",
    "\n",
    "def orden_nombre(lista):\n",
    "    \n",
    "    return(sorted(lista,key = lambda x: x[:][0]))\n",
    "print('Lista ordenada por nombre:',orden_nombre(estudiantes))\n"
   ]
  },
  {
   "cell_type": "markdown",
   "metadata": {},
   "source": [
    "### Ordenar tuplas 2"
   ]
  },
  {
   "cell_type": "code",
   "execution_count": 4,
   "metadata": {},
   "outputs": [
    {
     "name": "stdout",
     "output_type": "stream",
     "text": [
      "[('david', 8, 35), ('david', 9, 55), ('pedro', 9, 25), ('juan', 10, 50)]\n"
     ]
    }
   ],
   "source": [
    "estudiantes = [('juan', 10, 50), ('pedro', 9, 25), ('david', 9, 55), ('david', 8, 35)]\n",
    "\n",
    "def orden_nota_nombre(lista):\n",
    "    \n",
    "    return(sorted(sorted(lista,key= lambda x: x[:][0]),key=lambda x: x[:][1]))\n",
    "\n",
    "print(orden_nota_nombre(estudiantes))\n"
   ]
  },
  {
   "cell_type": "markdown",
   "metadata": {},
   "source": [
    "### Diccionario 1"
   ]
  },
  {
   "cell_type": "code",
   "execution_count": 39,
   "metadata": {},
   "outputs": [
    {
     "name": "stdout",
     "output_type": "stream",
     "text": [
      "fulano: 321\n",
      "mengano: 231\n",
      "zutano: 123\n"
     ]
    }
   ],
   "source": [
    "diccionario = {'zutano':123, 'mengano':231, 'fulano':321}\n",
    "\n",
    "for key in sorted(diccionario):\n",
    "    print(key+':',diccionario.get(key))"
   ]
  },
  {
   "cell_type": "markdown",
   "metadata": {},
   "source": [
    "### Diccionario 2"
   ]
  },
  {
   "cell_type": "code",
   "execution_count": 18,
   "metadata": {},
   "outputs": [
    {
     "data": {
      "text/plain": [
       "'fulano'"
      ]
     },
     "execution_count": 18,
     "metadata": {},
     "output_type": "execute_result"
    }
   ],
   "source": [
    "diccionario = {'zutano':123, 'mengano':231, 'fulano':321}\n",
    "\n",
    "max(diccionario,key = lambda x: diccionario.get(x))\n"
   ]
  },
  {
   "cell_type": "markdown",
   "metadata": {},
   "source": [
    "# List comprehensions"
   ]
  },
  {
   "cell_type": "markdown",
   "metadata": {},
   "source": [
    "### Ejemplo recorriendo dos listas"
   ]
  },
  {
   "cell_type": "code",
   "execution_count": 73,
   "metadata": {},
   "outputs": [
    {
     "name": "stdout",
     "output_type": "stream",
     "text": [
      "['a1', 'a2', 'a3', 'b1', 'b2', 'b3', 'c1', 'c2', 'c3']\n",
      "{'b1': 28, 'b2': 22, 'b3': 31, 'c1': 55, 'c2': 59, 'c3': 11}\n"
     ]
    }
   ],
   "source": [
    "seq1 = 'abc'\n",
    "seq2 = '123'\n",
    "\n",
    "lista = [s1+s2 for s1 in seq1 for s2 in seq2]\n",
    "\n",
    "print(lista)\n",
    "\n",
    "# También sirve para hacer diccionarios y conjuntos, en ambos se usan corchetes pero en lo segundo solo es la clave\n",
    "\n",
    "import random\n",
    "\n",
    "dict = {s1+s2:random.randint(0,100) for s1 in seq1 if s1 !='a' for s2 in seq2}\n",
    "\n",
    "print(dict)\n",
    "\n",
    "# Si tenemos listas grandes esto genera cosas muy grandes que pueden dar problemas por eso tambien existen los \n",
    "# generadores, que es lo mismo pero solo genera el numero de elementos pedidos y se hace con parentesis\n",
    "\n",
    "gen = (s1+s2 for s1 in seq1 for s2 in seq2)"
   ]
  },
  {
   "cell_type": "markdown",
   "metadata": {},
   "source": [
    "### Clases y programación orientada a objetos"
   ]
  },
  {
   "cell_type": "code",
   "execution_count": null,
   "metadata": {},
   "outputs": [],
   "source": [
    "\"\"\"\"\n",
    "class MiClase:\n",
    "\n",
    "# Aquí se explica un poco todo jeje\n",
    "\n",
    "def __init__(self,...):\n",
    "    # Esta funcion especial nos inicializa los valores internos de la case\n",
    "    self.dato_interno1 = valor1\n",
    "    self.dato_interno2 = valor2\n",
    "\n",
    "def metodo1(self,param1,..):\n",
    "    self.dato_internoX... # Hace algo con el dato_internoX y el parametro 1\n",
    "\"\"\"\""
   ]
  },
  {
   "cell_type": "code",
   "execution_count": 76,
   "metadata": {},
   "outputs": [
    {
     "data": {
      "text/plain": [
       "(0.0, 0.0)"
      ]
     },
     "execution_count": 76,
     "metadata": {},
     "output_type": "execute_result"
    }
   ],
   "source": [
    "class Figura:\n",
    "    \n",
    "    \"\"\"\" Clase base para crear figuras\"\"\"\n",
    "    \n",
    "    def __init__(self):\n",
    "        self._pos = (0.0,0.0)  # El guion delante se usa por convencion para indicar que esos no deberían tocarse \n",
    "        self._dim = (0.0,0.0)  # desde fuera\n",
    "        \n",
    "    def area(self):\n",
    "        return(self.dim[0]*self.dim[1])\n",
    "    \n",
    "f = Figura()\n",
    "f._pos"
   ]
  },
  {
   "cell_type": "code",
   "execution_count": 82,
   "metadata": {},
   "outputs": [
    {
     "data": {
      "text/plain": [
       "25.0"
      ]
     },
     "execution_count": 82,
     "metadata": {},
     "output_type": "execute_result"
    }
   ],
   "source": [
    "# Python permite la herencia, además esta es múltiple\n",
    "\n",
    "\"\"\"\n",
    "class ClaseDerivada(ClasePadre1,ClasePadre2,ClasePadre3):\n",
    "    sentencias \"\"\"\n",
    "\n",
    "class Cuadrado(Figura):\n",
    "    \"\"\" Clase Cuadrado \"\"\"\n",
    "    \n",
    "    def __init__(self,lado):\n",
    "        super().__init__()\n",
    "        self._dim = (lado,lado)\n",
    "\n",
    "c = Cuadrado(5)\n",
    "c._dim\n",
    "\n",
    "class Triangulo(Figura):\n",
    "    \"\"\" Clase Triangulo \"\"\"\n",
    "    \n",
    "    def __init__(self,base,altura):\n",
    "        super().__init__()\n",
    "        self._dim = (base,altura)\n",
    "        \n",
    "    def area(self):\n",
    "        return self._dim[0]*self._dim[1]*0.5\n",
    "    \n",
    "t = Triangulo(10,5)\n",
    "t.area()  "
   ]
  }
 ],
 "metadata": {
  "kernelspec": {
   "display_name": "Python 3",
   "language": "python",
   "name": "python3"
  },
  "language_info": {
   "codemirror_mode": {
    "name": "ipython",
    "version": 3
   },
   "file_extension": ".py",
   "mimetype": "text/x-python",
   "name": "python",
   "nbconvert_exporter": "python",
   "pygments_lexer": "ipython3",
   "version": "3.7.6"
  }
 },
 "nbformat": 4,
 "nbformat_minor": 2
}

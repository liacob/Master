{
 "cells": [
  {
   "cell_type": "code",
   "execution_count": 6,
   "metadata": {},
   "outputs": [
    {
     "name": "stdout",
     "output_type": "stream",
     "text": [
      "hl\n",
      "oa\n",
      "aloh\n"
     ]
    }
   ],
   "source": [
    "c = 'hola'\n",
    "print(c[::2])\n",
    "print(c[1::2])\n",
    "print(c[::-1])\n"
   ]
  },
  {
   "cell_type": "code",
   "execution_count": 7,
   "metadata": {
    "scrolled": true
   },
   "outputs": [
    {
     "name": "stdout",
     "output_type": "stream",
     "text": [
      "56789\n",
      "579\n"
     ]
    }
   ],
   "source": [
    "c='0123456789'\n",
    "print(c[-5:])\n",
    "print(c[-5::2])"
   ]
  },
  {
   "cell_type": "code",
   "execution_count": 9,
   "metadata": {},
   "outputs": [
    {
     "data": {
      "text/plain": [
       "'ola'"
      ]
     },
     "execution_count": 9,
     "metadata": {},
     "output_type": "execute_result"
    }
   ],
   "source": [
    "c = 'hOla'\n",
    "'H'+c.lower().strip('h')"
   ]
  },
  {
   "cell_type": "code",
   "execution_count": 11,
   "metadata": {
    "scrolled": true
   },
   "outputs": [
    {
     "data": {
      "text/plain": [
       "'ACE-BDF'"
      ]
     },
     "execution_count": 11,
     "metadata": {},
     "output_type": "execute_result"
    }
   ],
   "source": [
    "c=\"ABCDEF\"\n",
    "c[::2]+'-'+c[1::2]"
   ]
  },
  {
   "cell_type": "code",
   "execution_count": 15,
   "metadata": {},
   "outputs": [
    {
     "data": {
      "text/plain": [
       "'un_nombre_fichero.jpg'"
      ]
     },
     "execution_count": 15,
     "metadata": {},
     "output_type": "execute_result"
    }
   ],
   "source": [
    "c=\"Un Nombre Fichero.JPG\" \n",
    "c.lower().replace(' ','_')"
   ]
  },
  {
   "cell_type": "code",
   "execution_count": 21,
   "metadata": {},
   "outputs": [
    {
     "data": {
      "text/plain": [
       "'es.una.cadena.separado.por.puntos'"
      ]
     },
     "execution_count": 21,
     "metadata": {},
     "output_type": "execute_result"
    }
   ],
   "source": [
    "c=\"es.una.cadena.separado.por.puntos\" \n",
    "'.'.join(c.split('.'))"
   ]
  },
  {
   "cell_type": "code",
   "execution_count": 28,
   "metadata": {},
   "outputs": [
    {
     "data": {
      "text/plain": [
       "'>>>>>abcdefghi<<<<<'"
      ]
     },
     "execution_count": 28,
     "metadata": {},
     "output_type": "execute_result"
    }
   ],
   "source": [
    "c='abcdefghi' \n",
    "'>'*5 + c + '<'*5"
   ]
  },
  {
   "cell_type": "code",
   "execution_count": 42,
   "metadata": {},
   "outputs": [
    {
     "name": "stdout",
     "output_type": "stream",
     "text": [
      "111000\n",
      "HOLA****************\n",
      "-------mundo--------\n",
      "..........formateado\n",
      "CASA****************\n",
      "-------ARBOL--------\n",
      "__________________SI\n",
      "HOLA------\t------MAMA\n"
     ]
    }
   ],
   "source": [
    "print('{:b}'.format(56))\n",
    "print('{:*<20}\\n{:-^20}\\n{:.>20}'.format('HOLA', 'mundo','formateado'))\n",
    "print('{:*<20}\\n{:-^20}\\n{:_>20}'.format('CASA','ARBOL','SI'))\n",
    "print('{:-<10}\\t{:->10}'.format('HOLA','MAMA'))"
   ]
  },
  {
   "cell_type": "code",
   "execution_count": 52,
   "metadata": {},
   "outputs": [
    {
     "name": "stdout",
     "output_type": "stream",
     "text": [
      "1*2*hola\n",
      "\n",
      "********1.24********\n",
      "\n",
      "\n",
      "11111111  |     10000\n",
      "11111111  |     10000\n",
      "\n",
      "\n",
      "HOLA __________MUNDO\n",
      "HOLA __________MUNDO\n",
      "HOLA __________MUNDO\n"
     ]
    }
   ],
   "source": [
    "a=1\n",
    "b=2\n",
    "c='hola'\n",
    "print(a,b,c,sep='*',end='')\n",
    "\n",
    "a = 1.239\n",
    "print('\\n')\n",
    "print(\"{:*^20.2f}\".format(a))\n",
    "\n",
    "a,b = 255,16\n",
    "print('\\n')\n",
    "print('{:<10b}'.format(a)+'|'+'{:>10b}'.format(b))\n",
    "print('{:<10b}|{:>10b}'.format(a,b))\n",
    "\n",
    "c='HMOULNAD O'\n",
    "print('\\n')\n",
    "print(c[::2]+(20-len(c))*'_'+c[1::2])\n",
    "print('{:_<10}'.format(c[::2])+'{:_>10}'.format(c[1::2]))\n",
    "print('{:_<10}{:_>10}'.format(c[::2],c[1::2]))"
   ]
  }
 ],
 "metadata": {
  "kernelspec": {
   "display_name": "Python 3",
   "language": "python",
   "name": "python3"
  },
  "language_info": {
   "codemirror_mode": {
    "name": "ipython",
    "version": 3
   },
   "file_extension": ".py",
   "mimetype": "text/x-python",
   "name": "python",
   "nbconvert_exporter": "python",
   "pygments_lexer": "ipython3",
   "version": "3.7.6"
  }
 },
 "nbformat": 4,
 "nbformat_minor": 2
}

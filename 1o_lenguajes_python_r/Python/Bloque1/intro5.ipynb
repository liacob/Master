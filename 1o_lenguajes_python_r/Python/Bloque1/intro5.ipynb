{
 "cells": [
  {
   "cell_type": "markdown",
   "metadata": {},
   "source": [
    "# Ficheros"
   ]
  },
  {
   "cell_type": "code",
   "execution_count": 16,
   "metadata": {},
   "outputs": [],
   "source": [
    "f = open('fichero.txt','r') # Abre un fichero de la carpeta solo para lectura\n",
    "\n",
    "# Si ponemos 'w' es modo escritura, si ya existe un fichero con ese nombre se sobreescribe, cuidado\n",
    "\n",
    "# Ponemos 'a' para escribir al final del archivo que elijamos\n",
    "\n",
    "# Podemos poner 'rb' ,'wb','ab' si queremos abrir en modo binario\n",
    "\n",
    "# f.close() Para cerrar el manejo del fichero en cuestión\n",
    "\n",
    "# Cuando abrimos tenemos un monton de metodos que podemos usar, read(size), readline, write..\n",
    "\n",
    "# f.write('Esta línea ha sido añadida desde Jupyter Notebook')\n",
    "\n",
    "f.close()"
   ]
  },
  {
   "cell_type": "code",
   "execution_count": 27,
   "metadata": {},
   "outputs": [],
   "source": [
    "# Una buena práctica es usar with open ... as ... ya que con esto al final no debemos escribir close. Recordamos que\n",
    "# como casi todo en python se puede iterar sobre ello, así podemos printear varias lineas una tras otra\n",
    "\n",
    "with open('fichero2.txt','w') as f:\n",
    "    for i in range(10):\n",
    "        f.write('Esta es la línea' + str(i) + '\\n' )"
   ]
  },
  {
   "cell_type": "code",
   "execution_count": 30,
   "metadata": {},
   "outputs": [
    {
     "name": "stdout",
     "output_type": "stream",
     "text": [
      "Esta es la línea0\n",
      "Esta es la línea1\n",
      "Esta es la línea2\n",
      "Esta es la línea3\n",
      "Esta es la línea4\n",
      "Esta es la línea5\n",
      "Esta es la línea6\n",
      "Esta es la línea7\n",
      "Esta es la línea8\n",
      "Esta es la línea9\n"
     ]
    }
   ],
   "source": [
    "with open('fichero2.txt','r') as f:\n",
    "    for line in f:\n",
    "        print(line, end='')"
   ]
  }
 ],
 "metadata": {
  "kernelspec": {
   "display_name": "Python 3",
   "language": "python",
   "name": "python3"
  },
  "language_info": {
   "codemirror_mode": {
    "name": "ipython",
    "version": 3
   },
   "file_extension": ".py",
   "mimetype": "text/x-python",
   "name": "python",
   "nbconvert_exporter": "python",
   "pygments_lexer": "ipython3",
   "version": "3.7.6"
  }
 },
 "nbformat": 4,
 "nbformat_minor": 2
}

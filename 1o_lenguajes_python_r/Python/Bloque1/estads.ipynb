{
 "cells": [
  {
   "cell_type": "code",
   "execution_count": null,
   "metadata": {},
   "outputs": [],
   "source": [
    "import sys # Módulo utilizado para poder trabajar con el prompt"
   ]
  },
  {
   "cell_type": "markdown",
   "metadata": {},
   "source": [
    "### Funcion para cambiar tipo de variable"
   ]
  },
  {
   "cell_type": "code",
   "execution_count": null,
   "metadata": {},
   "outputs": [],
   "source": [
    "def num(s):\n",
    "    \n",
    "    \"\"\" Funcion creada para cambiar los tipos de los distintos elementos del documento a int o float o mantenerlos\n",
    "        como str segun lo que sean\"\"\"\n",
    "    \n",
    "    if s.isnumeric():\n",
    "        return int(s)\n",
    "    else:\n",
    "        try:\n",
    "            return float(s)\n",
    "        except ValueError:\n",
    "            return(s)"
   ]
  },
  {
   "cell_type": "markdown",
   "metadata": {},
   "source": [
    "### Script donde calculamos las listas"
   ]
  },
  {
   "cell_type": "code",
   "execution_count": null,
   "metadata": {},
   "outputs": [],
   "source": [
    "f = open(sys.argv[1],'r')  # Abrimos el archivo que indiquemos en el prompt\n",
    "\n",
    "l1 = [line for line in f.readlines()]  # Lista con las líneas del archivo sin modificar\n",
    "l2 = [l1[:][i].replace('\\n','').split(',') for i in range(len(l1))]  # Lista separado la str de cada fila en sus elementos\n",
    "l3 = [list(map(num,lista)) for lista in l2] # Lo mismo que l2 pero transformando cada elemento en su tipo correspondiente\n",
    "l4 = [[l3[i][j] for i in range(len(l3))] for j in range(len(l3[0]))] # Lista con las columnas del archivo en vez de las filas\n",
    "\n",
    "f.close()"
   ]
  },
  {
   "cell_type": "markdown",
   "metadata": {},
   "source": [
    "### Chequeo tipo variable"
   ]
  },
  {
   "cell_type": "code",
   "execution_count": null,
   "metadata": {},
   "outputs": [],
   "source": [
    "\"\"\" Funcion creada para comprobar si una lista contiene números o strings \"\"\"\n",
    "def check(ls): \n",
    "    try:\n",
    "        return(isinstance(ls[0], int) or isinstance(ls[0], float))\n",
    "    except IndexError: # Por si la lista pasada está vacía\n",
    "        return(False)"
   ]
  },
  {
   "cell_type": "markdown",
   "metadata": {},
   "source": [
    "### Función p  (media y moda) final"
   ]
  },
  {
   "cell_type": "code",
   "execution_count": null,
   "metadata": {},
   "outputs": [],
   "source": [
    "\n",
    "def my_mean(ls):\n",
    "    \"\"\" Función que nos calcula la media de una lista ya depurada de valores no numéricos y nos las muestra con 2 decimales\"\"\"\n",
    "    media = sum(ls)/len(ls)\n",
    "    media_bien = \"{:.2f}\".format(media)\n",
    "    return(float(media_bien))\n",
    "\n",
    "def my_mode(ls):\n",
    "    \"\"\" Función que nos calcula la moda de una lista\"\"\"\n",
    "    n = 0 \n",
    "    for i in ls:\n",
    "        if n < ls.count(i):\n",
    "            n = ls.count(i)\n",
    "            moda = i\n",
    "    return(moda)\n",
    "\n",
    "def media_moda(ls):\n",
    "    \"\"\" Juntamos las dos funciones anteriores según nos encontremos ante una columna numérica o una de strings mediante la función check\"\"\"\n",
    "    ls2 = [i for i in ls if i!='?'] # Primero depuramos la lista de posibles valores desconocidos '?'\n",
    "    \n",
    "    if check(ls2):\n",
    "        return(my_mean(ls2))\n",
    "    # Si la lista es de strings tenemos dos opciones, o son todos desconocidos '?' o son valores normales, de ahí\n",
    "    # condicional siguiente para ver si han quedado elementos en la lista o no y así devolver la moda o devolver '?'\n",
    "    else:\n",
    "        if len(ls2) > 0:        \n",
    "            return(my_mode(ls2))\n",
    "\n",
    "        else:\n",
    "            moda='?'\n",
    "            return(moda)\n",
    "    \n",
    "    "
   ]
  },
  {
   "cell_type": "markdown",
   "metadata": {},
   "source": [
    "### Funcion s (std y valores unicos) final"
   ]
  },
  {
   "cell_type": "code",
   "execution_count": null,
   "metadata": {},
   "outputs": [],
   "source": [
    "def my_std(ls):\n",
    "    \"\"\" Función que nos calcula la desviación de una lista ya depurada de valores no numéricos y nos las muestra con 2 decimales\"\"\"\n",
    "    varianza = sum(pow(x-my_mean(ls),2) for x in ls) / len(ls)\n",
    "    standar = (varianza)**(1/2)\n",
    "    standar_bien = '{:.2f}'.format(standar)\n",
    "    return(float(standar_bien))\n",
    "\n",
    "def unique(ls): \n",
    "    \"\"\" Simplemente hacer un set con la lista tras haber sido depurada y ver todos los valores distintos\"\"\"\n",
    "    s = set(ls)\n",
    "    return(len(s))\n",
    "    \n",
    "def std_uniq(ls):\n",
    "    \"\"\" Volvemos a juntar las dos funciones inmediatamente anteriores para aplicarlas según el caso en el que estemos\"\"\"\n",
    "    ls2 = [i for i in ls if i!='?']\n",
    "    \n",
    "    if check(ls2):\n",
    "        return(my_std(ls2))\n",
    "    \n",
    "    else:\n",
    "        if len(ls2) > 0:\n",
    "            return(unique(ls2))\n",
    "\n",
    "        else:\n",
    "            uniq='?' # Otra opción es asignarlo a 0, al ser desconocido no sé si poner cero o ?\n",
    "            return(uniq)"
   ]
  },
  {
   "cell_type": "markdown",
   "metadata": {},
   "source": [
    "### Funcion n (contar validos) final"
   ]
  },
  {
   "cell_type": "code",
   "execution_count": null,
   "metadata": {},
   "outputs": [],
   "source": [
    "def valid(ls):\n",
    "    \"\"\" Función bastante sencilla pues es lo que llevamos haciendo hasta ahora para eliminar los valores desconocidos\"\"\"\n",
    "    ls2 = [i for i in ls if i!='?']\n",
    "    return(len(ls2))"
   ]
  },
  {
   "cell_type": "markdown",
   "metadata": {},
   "source": [
    "### Funcion m (minimo/menos entries) final"
   ]
  },
  {
   "cell_type": "code",
   "execution_count": null,
   "metadata": {},
   "outputs": [],
   "source": [
    "def minim(ls):\n",
    "    \"\"\" Calculamos el mínimo de una lista numérica o el elemento str que menos sale mediante la función min y el\n",
    "    argumento key que nos facilita mucho la escritura de código\"\"\"\n",
    "    ls2 = [i for i in ls if i!='?']\n",
    "    \n",
    "    if check(ls2):\n",
    "        return(min(ls2))\n",
    "    else:\n",
    "        if len(ls2) > 0:\n",
    "            return(min(ls2,key=lambda x: ls2.count(x)))\n",
    "        else:\n",
    "            entry='?'\n",
    "            return(entry)"
   ]
  },
  {
   "cell_type": "markdown",
   "metadata": {},
   "source": [
    "### Funcion M (maximo/mas entries) final"
   ]
  },
  {
   "cell_type": "code",
   "execution_count": null,
   "metadata": {},
   "outputs": [],
   "source": [
    "def maxim(ls):\n",
    "    \"\"\" Exactamente lo mismo que la anterior pero usando max en vez de min\"\"\"\n",
    "    ls2 = [i for i in ls if i!='?']\n",
    "    \n",
    "    if check(ls2):\n",
    "        return(max(ls2))\n",
    "    else:\n",
    "        if len(ls2) > 0:\n",
    "            return(max(ls2,key=lambda x: ls2.count(x)))\n",
    "        else:\n",
    "            entry='?'\n",
    "            return(entry)"
   ]
  },
  {
   "cell_type": "code",
   "execution_count": null,
   "metadata": {
    "scrolled": false
   },
   "outputs": [],
   "source": [
    "dc = {'p':media_moda,'s':std_uniq,'n':valid,'m':minim,'M':maxim}\n",
    "cd = sys.argv[2]\n",
    "\n",
    "for i in cd:\n",
    "    try:\n",
    "        a = list(map(dc.get(i),(l4[:]))) # Ensucia un poco (más aún) el código el bucle siguiente pero si el output \n",
    "                                         # pedido fuera en formato lista nos lo ahorraríamos\n",
    "            \n",
    "        for i in range(len(a)):  # Elijo trabajar con el index en vez de con los elementos directamente para poder \n",
    "                                 # poner el condicional siguiente. No se me ocurre otra forma para que no salga la    \n",
    "            if i != len(a)-1:    # coma al final del print\n",
    "                print(a[i],end=',')\n",
    "            else:\n",
    "                print(a[i])\n",
    "    # Nos evitamos el error de recibir un argumento que no corresponda con ninguna de las funciones\n",
    "    except TypeError:                               \n",
    "        print('La opcion {} no existe'.format(i))\n"
   ]
  }
 ],
 "metadata": {
  "kernelspec": {
   "display_name": "Python 3",
   "language": "python",
   "name": "python3"
  },
  "language_info": {
   "codemirror_mode": {
    "name": "ipython",
    "version": 3
   },
   "file_extension": ".py",
   "mimetype": "text/x-python",
   "name": "python",
   "nbconvert_exporter": "python",
   "pygments_lexer": "ipython3",
   "version": "3.7.6"
  }
 },
 "nbformat": 4,
 "nbformat_minor": 2
}

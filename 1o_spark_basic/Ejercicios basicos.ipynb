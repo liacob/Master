{
 "cells": [
  {
   "cell_type": "code",
   "execution_count": 1,
   "metadata": {},
   "outputs": [],
   "source": [
    "from pyspark import SparkContext\n",
    "import numpy as np\n",
    "import math\n",
    "\n",
    "sc = SparkContext()"
   ]
  },
  {
   "cell_type": "markdown",
   "metadata": {},
   "source": [
    "# Ejercicio1 "
   ]
  },
  {
   "cell_type": "code",
   "execution_count": 2,
   "metadata": {
    "scrolled": true
   },
   "outputs": [
    {
     "name": "stdout",
     "output_type": "stream",
     "text": [
      "Media: 168.938 , Desviación típica 7.834\n"
     ]
    }
   ],
   "source": [
    "rdd_alt = sc.textFile('alturas_v0.csv')\n",
    "\n",
    "alturas = (rdd_alt\n",
    "          .map(lambda x: float(x)) # Transformamos de string a float\n",
    "          .filter(lambda x: x > 0) # Eliminamos los negativos que ponen -100\n",
    "          .map(lambda x: x*100 if x < 3 else x) # Si el valor es menor que 3 lo multiplicamos por 100 (Uso 3 por si hay gente que mida 2 metros en la lista)\n",
    "          .map(lambda x: np.array([x, x*x, 1])) # Guardamos el valor normal, su cuadrado y el valor 1 que usaremos para contar cuántos valores tenemos\n",
    "          .reduce(lambda x,y: x + y))    # Como es array podemos hacer esto que numpy hace que se sume correctamente\n",
    "\n",
    "# Para calcular la media simplemente dividimos el primer valor que contiene la suma de todos y divimos entre el último que tiene el número total de datos\n",
    "media = alturas[0] / alturas [2]\n",
    "\n",
    "# Para la desviación típica cogemos la suma de cuadrados dividida por el número de datos, le restamos la media al cuadrado y hacemos la raiz de todo\n",
    "std = math.sqrt((alturas[1]/alturas[2]) - media**2)\n",
    "\n",
    "print('Media: {:.3f}'.format(media),', Desviación típica {:.3f}'.format(std))"
   ]
  },
  {
   "cell_type": "markdown",
   "metadata": {},
   "source": [
    "# Ejercicio 2"
   ]
  },
  {
   "cell_type": "code",
   "execution_count": 3,
   "metadata": {},
   "outputs": [
    {
     "name": "stdout",
     "output_type": "stream",
     "text": [
      "Media hombres: 173.461 , Desviación típica hombres: 7.531\n",
      "Media mujeres: 164.168 , Desviación típica mujeres: 4.685\n"
     ]
    }
   ],
   "source": [
    "rdd_alt = sc.textFile('alturas.csv')\n",
    "\n",
    "# Hacemos primero una trasnformación igual a la anterior pero teniendo en cuenta que ahora cada línea tiene dos elementos uno para el género y otro para la altura\n",
    "alturas = (rdd_alt\n",
    "          .map(lambda x: x.split(','))\n",
    "          .map(lambda x: [x[0],float(x[1])])\n",
    "          .filter(lambda x: x[1]>0)\n",
    "          .map(lambda x: [x[0], x[1]*100 if x[1] < 3 else x[1]]))\n",
    "\n",
    "# Definimos mejor una función para el procesado que aplicaremos 2 veces. Hacemos la misma transformación del ejercicio anterior solo que ahora primero filtramos por género\n",
    "def media_std(rdd,genero):\n",
    "    rdd_gen = (rdd.filter(lambda x: x[0]==genero)\n",
    "               .map(lambda x: np.array([x[1],x[1]*x[1],1]))\n",
    "               .reduce(lambda x,y: x+y))\n",
    "    \n",
    "    media = rdd_gen[0] / rdd_gen[2]\n",
    "    std = math.sqrt((rdd_gen[1]/rdd_gen[2]) - media**2)\n",
    "    \n",
    "    return media, std\n",
    "\n",
    "media_hombres, std_hombres = media_std(alturas, 'H')\n",
    "media_mujeres, std_mujeres = media_std(alturas, 'M')\n",
    "\n",
    "print('Media hombres: {:.3f}'.format(media_hombres),', Desviación típica hombres: {:.3f}'.format(std_hombres))\n",
    "print('Media mujeres: {:.3f}'.format(media_mujeres),', Desviación típica mujeres: {:.3f}'.format(std_mujeres))"
   ]
  }
 ],
 "metadata": {
  "kernelspec": {
   "display_name": "Python 3",
   "language": "python",
   "name": "python3"
  },
  "language_info": {
   "codemirror_mode": {
    "name": "ipython",
    "version": 3
   },
   "file_extension": ".py",
   "mimetype": "text/x-python",
   "name": "python",
   "nbconvert_exporter": "python",
   "pygments_lexer": "ipython3",
   "version": "3.8.5"
  },
  "toc": {
   "base_numbering": 1,
   "nav_menu": {},
   "number_sections": true,
   "sideBar": true,
   "skip_h1_title": false,
   "title_cell": "Table of Contents",
   "title_sidebar": "Contents",
   "toc_cell": false,
   "toc_position": {},
   "toc_section_display": true,
   "toc_window_display": false
  }
 },
 "nbformat": 4,
 "nbformat_minor": 4
}
